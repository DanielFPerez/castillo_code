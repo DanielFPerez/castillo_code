{
 "cells": [
  {
   "cell_type": "markdown",
   "id": "3eceb776-1cac-4af8-9d7e-88273e84a6c9",
   "metadata": {},
   "source": [
    "# DS-1000 Dataset\n",
    "\n",
    "https://github.com/xlang-ai/DS-1000 "
   ]
  },
  {
   "cell_type": "code",
   "execution_count": 1,
   "id": "39001390-aa23-494d-b6c9-597deeec0ecb",
   "metadata": {},
   "outputs": [],
   "source": [
    "import json\n",
    "import numpy as np\n",
    "import torch\n",
    "from transformers import AutoTokenizer\n",
    "from sklearn.model_selection import train_test_split\n",
    "\n",
    "import os \n",
    "import sys\n",
    "\n",
    "sys.path.append(os.path.join(os.getcwd(), \"../../\"))\n",
    "\n",
    "import src.visualization.plot_rawdata as plotutils"
   ]
  },
  {
   "cell_type": "code",
   "execution_count": 2,
   "id": "751fb2e9-403b-47a2-929b-01aebf592a56",
   "metadata": {},
   "outputs": [
    {
     "data": {
      "text/plain": [
       "1000"
      ]
     },
     "execution_count": 2,
     "metadata": {},
     "output_type": "execute_result"
    }
   ],
   "source": [
    "from datasets import load_dataset\n",
    "\n",
    "dataset = load_dataset(\"xlangai/DS-1000\")\n",
    "sum([len(dataset[elem]) for elem in dataset.keys()])"
   ]
  },
  {
   "cell_type": "code",
   "execution_count": 3,
   "id": "d4a64357-c086-442f-9f9d-c5accb18c977",
   "metadata": {},
   "outputs": [
    {
     "data": {
      "text/plain": [
       "dict_keys(['test'])"
      ]
     },
     "execution_count": 3,
     "metadata": {},
     "output_type": "execute_result"
    }
   ],
   "source": [
    "dataset.keys()"
   ]
  },
  {
   "cell_type": "code",
   "execution_count": 4,
   "id": "d3a890e7-fd3f-421f-9779-7224cc34abf4",
   "metadata": {},
   "outputs": [
    {
     "data": {
      "text/plain": [
       "datasets.arrow_dataset.Dataset"
      ]
     },
     "execution_count": 4,
     "metadata": {},
     "output_type": "execute_result"
    }
   ],
   "source": [
    "type(dataset['test'])"
   ]
  },
  {
   "cell_type": "code",
   "execution_count": 5,
   "id": "fbac8227-92f8-4a01-9497-ca734243cf96",
   "metadata": {},
   "outputs": [
    {
     "data": {
      "text/plain": [
       "{'prompt': \"Problem:\\nIn pandas, how do I replace &AMP; with '&' from all columns where &AMP could be in any position in a string?\\nFor example, in column Title if there is a value 'Good &AMP; bad', how do I replace it with 'Good & bad'?\\n\\n\\nA:\\n<code>\\nimport pandas as pd\\n\\n\\ndf = pd.DataFrame({'A': ['Good &AMP; bad', 'BB', 'CC', 'DD', 'Good &AMP; bad'], 'B': range(5), 'C': ['Good &AMP; bad'] * 5})\\n</code>\\ndf = ... # put solution in this variable\\nBEGIN SOLUTION\\n<code>\\n\",\n",
       " 'reference_code': \"def g(df):\\n    return df.replace('&AMP;','&', regex=True)\\n\\ndf = g(df.copy())\\n\",\n",
       " 'metadata': {'problem_id': 100,\n",
       "  'library_problem_id': 100,\n",
       "  'library': 'Pandas',\n",
       "  'test_case_cnt': 1,\n",
       "  'perturbation_type': 'Origin',\n",
       "  'perturbation_origin_id': 100},\n",
       " 'code_context': 'import pandas as pd\\nimport numpy as np\\nimport copy\\n\\n\\ndef generate_test_case(test_case_id):\\n    def generate_ans(data):\\n        df = data\\n        return df.replace(\"&AMP;\", \"&\", regex=True)\\n\\n    def define_test_input(test_case_id):\\n        if test_case_id == 1:\\n            df = pd.DataFrame(\\n                {\\n                    \"A\": [\"Good &AMP; bad\", \"BB\", \"CC\", \"DD\", \"Good &AMP; bad\"],\\n                    \"B\": range(5),\\n                    \"C\": [\"Good &AMP; bad\"] * 5,\\n                }\\n            )\\n        return df\\n\\n    test_input = define_test_input(test_case_id)\\n    expected_result = generate_ans(copy.deepcopy(test_input))\\n    return test_input, expected_result\\n\\n\\ndef exec_test(result, ans):\\n    try:\\n        pd.testing.assert_frame_equal(result, ans, check_dtype=False)\\n        return 1\\n    except:\\n        return 0\\n\\n\\nexec_context = r\"\"\"\\nimport pandas as pd\\nimport numpy as np\\ndf = test_input\\n[insert]\\nresult = df\\n\"\"\"\\n\\n\\ndef test_execution(solution: str):\\n    code = exec_context.replace(\"[insert]\", solution)\\n    for i in range(1):\\n        test_input, expected_result = generate_test_case(i + 1)\\n        test_env = {\"test_input\": test_input}\\n        exec(code, test_env)\\n        assert exec_test(test_env[\"result\"], expected_result)\\n'}"
      ]
     },
     "execution_count": 5,
     "metadata": {},
     "output_type": "execute_result"
    }
   ],
   "source": [
    "idx = 100\n",
    "dataset['test'][idx]"
   ]
  },
  {
   "cell_type": "code",
   "execution_count": 6,
   "id": "d26e4609-e40e-4ff0-8897-6df0ea81fe8a",
   "metadata": {},
   "outputs": [
    {
     "data": {
      "text/plain": [
       "dict_keys(['prompt', 'reference_code', 'metadata', 'code_context'])"
      ]
     },
     "execution_count": 6,
     "metadata": {},
     "output_type": "execute_result"
    }
   ],
   "source": [
    "dataset['test'][idx].keys()"
   ]
  },
  {
   "cell_type": "code",
   "execution_count": 7,
   "id": "d29f6c16-5be6-44c6-8068-4a512f1cea86",
   "metadata": {},
   "outputs": [
    {
     "name": "stdout",
     "output_type": "stream",
     "text": [
      "The 'test' subset has 1000 samples\n"
     ]
    }
   ],
   "source": [
    "print(f\"The 'test' subset has {len(dataset['test'])} samples\")"
   ]
  },
  {
   "cell_type": "code",
   "execution_count": 8,
   "id": "d9be66ea-1061-4769-8492-3848f53fc263",
   "metadata": {},
   "outputs": [],
   "source": [
    "data = dataset['test']"
   ]
  },
  {
   "cell_type": "code",
   "execution_count": 9,
   "id": "3971a1da-dbe2-40f1-bc19-6ddd472b44ba",
   "metadata": {},
   "outputs": [
    {
     "data": {
      "text/plain": [
       "datasets.arrow_dataset.Dataset"
      ]
     },
     "execution_count": 9,
     "metadata": {},
     "output_type": "execute_result"
    }
   ],
   "source": [
    "type(data)"
   ]
  },
  {
   "cell_type": "code",
   "execution_count": 10,
   "id": "2925c8b9-7b27-4d2d-babf-42c3ffa81023",
   "metadata": {},
   "outputs": [
    {
     "data": {
      "text/plain": [
       "datasets.arrow_dataset.Dataset"
      ]
     },
     "execution_count": 10,
     "metadata": {},
     "output_type": "execute_result"
    }
   ],
   "source": [
    "type(data)"
   ]
  },
  {
   "cell_type": "code",
   "execution_count": 11,
   "id": "24d1131f-d531-4284-aca7-a1a7518d2b51",
   "metadata": {},
   "outputs": [
    {
     "data": {
      "text/plain": [
       "1000"
      ]
     },
     "execution_count": 11,
     "metadata": {},
     "output_type": "execute_result"
    }
   ],
   "source": [
    "len(data)"
   ]
  },
  {
   "cell_type": "markdown",
   "id": "d7f9b3f7-2e46-480b-89d9-644280cc3a96",
   "metadata": {},
   "source": [
    "#### Check if all elements in data are of type dict and if just one input prompt per data sample (no conversation)"
   ]
  },
  {
   "cell_type": "code",
   "execution_count": 12,
   "id": "5b4a744d-d791-43cf-807d-5081095c2ee3",
   "metadata": {},
   "outputs": [],
   "source": [
    "verbose= False\n",
    "\n",
    "keys = ['prompt', 'reference_code', 'metadata', 'code_context']\n",
    "\n",
    "for i, elem in enumerate(data):\n",
    "    if not isinstance(elem, dict):\n",
    "        print(f\"Elem is not a dict! {elem}\")\n",
    "    elif sorted(list(elem.keys())) != sorted(keys):\n",
    "        print(f\"Elem has different keys in dict! {elem.keys()}\\n{elem}\\n\")"
   ]
  },
  {
   "cell_type": "markdown",
   "id": "aba12ceb-fc77-4044-9c5a-1c4ce97d2f8c",
   "metadata": {},
   "source": [
    "### No data"
   ]
  },
  {
   "cell_type": "code",
   "execution_count": 13,
   "id": "7109da6f-ce73-4d10-9cf6-a01555d9ceea",
   "metadata": {},
   "outputs": [
    {
     "name": "stdout",
     "output_type": "stream",
     "text": [
      "There are 0 elements in the dataset with no prompts!\n"
     ]
    }
   ],
   "source": [
    "no_conver_data = []\n",
    "\n",
    "prompt_key = \"prompt\"\n",
    "\n",
    "for elem in data: \n",
    "    if not elem[prompt_key]:\n",
    "        no_conver_data.append(elem)\n",
    "print(f\"There are {len(no_conver_data)} elements in the dataset with no prompts!\")"
   ]
  },
  {
   "cell_type": "markdown",
   "id": "1fff4df3-5222-4fbe-8c75-893d57b65c9b",
   "metadata": {},
   "source": [
    "So all of the elements in this dataset have an instruction!"
   ]
  },
  {
   "cell_type": "markdown",
   "id": "93366e63-bbfb-4f68-bee8-b836c6a0c187",
   "metadata": {},
   "source": [
    "#### Plot conversations lengths (number of tokens of first human input)"
   ]
  },
  {
   "cell_type": "code",
   "execution_count": 14,
   "id": "b5b02be6-2356-4ffb-82bb-70416d1f1e36",
   "metadata": {},
   "outputs": [],
   "source": [
    "access_tk = os.getenv(\"HF_API_TOKEN\")\n",
    "device_str = \"cuda:0\"\n",
    "model_name = \"meta-llama/Llama-3.2-3B-Instruct\"\n",
    "padding_side='left'\n",
    "\n",
    "tokenizer = AutoTokenizer.from_pretrained(model_name, token=access_tk, device_map=device_str, torch_dtype=torch.float16, padding_side=padding_side)\n",
    "\n"
   ]
  },
  {
   "cell_type": "markdown",
   "id": "9dde97c9-a342-4834-8be9-0eda42cc3682",
   "metadata": {},
   "source": [
    "## Input handling\n",
    "Each sample in the dataset is of type `dict`.\n",
    "The keys of that `dict` are `['prompt', 'reference_code', 'metadata', 'code_context']`. \n",
    "\n",
    "However, the tokenizers' `chat_templates` do not recognize those keyas, so we need to append it to the user's `content`.  "
   ]
  },
  {
   "cell_type": "code",
   "execution_count": 15,
   "id": "788ca5ec-7d88-4f98-92eb-a241abb2e62e",
   "metadata": {},
   "outputs": [],
   "source": [
    "def get_tokens(sentence, tokenizer):\n",
    "    return tokenizer.apply_chat_template(sentence, return_tensors=\"pt\", add_generation_prompt=True)   "
   ]
  },
  {
   "cell_type": "code",
   "execution_count": 16,
   "id": "9d0da709-57c7-46e3-a2c6-d50c7fe015d3",
   "metadata": {},
   "outputs": [],
   "source": [
    "from src.data.rawdata_processor import ds1000_generate_rawprompt_text, build_rawprompt_text_chat, build_rawprompt_text_batch"
   ]
  },
  {
   "cell_type": "code",
   "execution_count": 17,
   "id": "be92bce8-dd7a-42d0-968d-8faa2972e7a3",
   "metadata": {},
   "outputs": [
    {
     "name": "stdout",
     "output_type": "stream",
     "text": [
      "Problem:\n",
      "I have the following dataframe:\n",
      "  text\n",
      "1 \"abc\" \n",
      "2 \"def\" \n",
      "3 \"ghi\"\n",
      "4 \"jkl\" \n",
      "\n",
      "\n",
      "How can I merge these rows into a dataframe with a single row like the following one?\n",
      "  text \n",
      "1 \"abc-def-ghi-jkl\"\n",
      "\n",
      "A:\n",
      "<code>\n",
      "import pandas as pd\n",
      "\n",
      "\n",
      "df = pd.DataFrame({'text': ['abc', 'def', 'ghi', 'jkl']})\n",
      "</code>\n",
      "result = ... # put solution in this variable\n",
      "BEGIN SOLUTION\n",
      "<code>\n",
      "\n"
     ]
    }
   ],
   "source": [
    "mystring = ds1000_generate_rawprompt_text(data[233], tokenizer, truncate=False)\n",
    "print(mystring)"
   ]
  },
  {
   "cell_type": "code",
   "execution_count": 18,
   "id": "da3e4427-e3d7-4199-92ec-97d78c2eb700",
   "metadata": {},
   "outputs": [
    {
     "data": {
      "text/plain": [
       "[{'role': 'user',\n",
       "  'content': 'Problem:\\nI have the following dataframe:\\n  text\\n1 \"abc\" \\n2 \"def\" \\n3 \"ghi\"\\n4 \"jkl\" \\n\\n\\nHow can I merge these rows into a dataframe with a single row like the following one?\\n  text \\n1 \"abc-def-ghi-jkl\"\\n\\nA:\\n<code>\\nimport pandas as pd\\n\\n\\ndf = pd.DataFrame({\\'text\\': [\\'abc\\', \\'def\\', \\'ghi\\', \\'jkl\\']})\\n</code>\\nresult = ... # put solution in this variable\\nBEGIN SOLUTION\\n<code>\\n'}]"
      ]
     },
     "execution_count": 18,
     "metadata": {},
     "output_type": "execute_result"
    }
   ],
   "source": [
    "build_rawprompt_text_chat(mystring)"
   ]
  },
  {
   "cell_type": "code",
   "execution_count": 19,
   "id": "ffe5f4eb-e2b8-4151-8fc7-113c2b078635",
   "metadata": {},
   "outputs": [
    {
     "data": {
      "text/plain": [
       "torch.Size([1, 146])"
      ]
     },
     "execution_count": 19,
     "metadata": {},
     "output_type": "execute_result"
    }
   ],
   "source": [
    "get_tokens(build_rawprompt_text_chat(mystring), tokenizer).shape"
   ]
  },
  {
   "cell_type": "code",
   "execution_count": 20,
   "id": "fd9962bd-13c3-4265-8aa7-2051b84a75cc",
   "metadata": {},
   "outputs": [
    {
     "name": "stdout",
     "output_type": "stream",
     "text": [
      "<|begin_of_text|><|start_header_id|>system<|end_header_id|>\n",
      "\n",
      "Cutting Knowledge Date: December 2023\n",
      "Today Date: 10 May 2025\n",
      "\n",
      "<|eot_id|><|start_header_id|>user<|end_header_id|>\n",
      "\n",
      "Problem:\n",
      "I have the following dataframe:\n",
      "  text\n",
      "1 \"abc\" \n",
      "2 \"def\" \n",
      "3 \"ghi\"\n",
      "4 \"jkl\" \n",
      "\n",
      "\n",
      "How can I merge these rows into a dataframe with a single row like the following one?\n",
      "  text \n",
      "1 \"abc-def-ghi-jkl\"\n",
      "\n",
      "A:\n",
      "<code>\n",
      "import pandas as pd\n",
      "\n",
      "\n",
      "df = pd.DataFrame({'text': ['abc', 'def', 'ghi', 'jkl']})\n",
      "</code>\n",
      "result =... # put solution in this variable\n",
      "BEGIN SOLUTION\n",
      "<code><|eot_id|><|start_header_id|>assistant<|end_header_id|>\n",
      "\n",
      "\n"
     ]
    }
   ],
   "source": [
    "print(tokenizer.decode(get_tokens(build_rawprompt_text_batch(mystring, 5), tokenizer)[0]))"
   ]
  },
  {
   "cell_type": "markdown",
   "id": "2c280782-8f6b-46ab-aad4-8657d7e25431",
   "metadata": {},
   "source": [
    "### Analyze lenght of prompts in terms of number of tokens"
   ]
  },
  {
   "cell_type": "code",
   "execution_count": 21,
   "id": "4fe04bb6-e7ff-4abe-a10d-6c633d4d048b",
   "metadata": {
    "scrolled": true
   },
   "outputs": [],
   "source": [
    "conv_len_tokens = [get_tokens(build_rawprompt_text_chat(ds1000_generate_rawprompt_text(elem, tokenizer, truncate=False)), \n",
    "                              tokenizer).shape[1] for elem in data]"
   ]
  },
  {
   "cell_type": "code",
   "execution_count": 22,
   "id": "3e463fde-219b-4851-80d0-76c6401de414",
   "metadata": {},
   "outputs": [
    {
     "data": {
      "text/plain": [
       "1000"
      ]
     },
     "execution_count": 22,
     "metadata": {},
     "output_type": "execute_result"
    }
   ],
   "source": [
    "len(conv_len_tokens)"
   ]
  },
  {
   "cell_type": "code",
   "execution_count": 23,
   "id": "9c9a1c49-c858-47e9-91cc-436b1e736c33",
   "metadata": {
    "scrolled": true
   },
   "outputs": [
    {
     "data": {
      "text/plain": [
       "np.int64(2109)"
      ]
     },
     "execution_count": 23,
     "metadata": {},
     "output_type": "execute_result"
    }
   ],
   "source": [
    "np.max(conv_len_tokens)"
   ]
  },
  {
   "cell_type": "code",
   "execution_count": 27,
   "id": "a3c403f7-2b87-44bd-964d-186fe4f360ab",
   "metadata": {},
   "outputs": [
    {
     "name": "stdout",
     "output_type": "stream",
     "text": [
      "MEAN: 317.241\n",
      "MIN: 67,\n",
      "MAX: 2109\n",
      "P25: 170.50 P50: 283.00 P75: 395.00 P99: 1018.29\n"
     ]
    }
   ],
   "source": [
    "print(f\"MEAN: {np.mean(conv_len_tokens)}\\nMIN: {np.min(conv_len_tokens)},\\nMAX: {np.max(conv_len_tokens)}\")\n",
    "print(*[f\"P{p}: {v:.2f}\" for p, v in zip([25, 50, 75, 99], np.percentile(conv_len_tokens, [25, 50, 75, 99]))])"
   ]
  },
  {
   "cell_type": "code",
   "execution_count": 28,
   "id": "9296adba-2167-4e27-808b-52b02441ce4b",
   "metadata": {},
   "outputs": [
    {
     "data": {
      "image/png": "[encoded data removed]",
      "text/plain": [
       "<Figure size 1200x280 with 2 Axes>"
      ]
     },
     "metadata": {},
     "output_type": "display_data"
    }
   ],
   "source": [
    "fig = plotutils.plot_histogram_and_cdf(conv_len_tokens, in_size=(12, 2.8), \n",
    "                             in_title=\"# Input Tokens DS-1000\", x_forcdf=0, \n",
    "                                       cdf_forx=[0.25, 0.5, 0.75, 0.95, 0.99],\n",
    "                                      n_bins=80)"
   ]
  },
  {
   "cell_type": "code",
   "execution_count": 29,
   "id": "b43a548e-3201-4321-9da1-4a386cddfeab",
   "metadata": {},
   "outputs": [],
   "source": [
    "fig.savefig(\"../../outputs/images/raw_data_DS1000_ntokens_hist.pdf\", bbox_inches=\"tight\")"
   ]
  },
  {
   "cell_type": "code",
   "execution_count": null,
   "id": "dc126123-fb14-4907-bed5-e3db476a25ec",
   "metadata": {},
   "outputs": [],
   "source": []
  },
  {
   "cell_type": "markdown",
   "id": "c4367284-ebc5-42fd-aa20-18ba40c1ae70",
   "metadata": {},
   "source": [
    "# Split the datasets"
   ]
  },
  {
   "cell_type": "code",
   "execution_count": 29,
   "id": "1895ca59-f6bf-46d3-8635-81c9a1437b67",
   "metadata": {},
   "outputs": [],
   "source": [
    "SEED = 42\n",
    "MAXIMUM = 2000"
   ]
  },
  {
   "cell_type": "code",
   "execution_count": 30,
   "id": "953b1192-e8e3-407e-b3e5-3409e2d973ba",
   "metadata": {},
   "outputs": [],
   "source": [
    "np.random.seed(SEED)"
   ]
  },
  {
   "cell_type": "code",
   "execution_count": 31,
   "id": "d3038856-a342-4d04-bb58-ac9e9fa1e0a2",
   "metadata": {},
   "outputs": [],
   "source": [
    "tmp = np.arange(len(data))\n",
    "np.random.shuffle(tmp)"
   ]
  },
  {
   "cell_type": "code",
   "execution_count": 32,
   "id": "fa82cc37-ce0d-40e3-8896-2c8485b1f6cb",
   "metadata": {},
   "outputs": [
    {
     "name": "stdout",
     "output_type": "stream",
     "text": [
      "SELECTING 1000 samples randomly from dataset\n"
     ]
    }
   ],
   "source": [
    "idx_subset = min(MAXIMUM, len(data))\n",
    "tmp = tmp[0:idx_subset]\n",
    "print(f\"SELECTING {len(tmp)} samples randomly from dataset\")"
   ]
  },
  {
   "cell_type": "code",
   "execution_count": 33,
   "id": "94b22e64-ad3f-4488-98f7-7aa82b1c157e",
   "metadata": {},
   "outputs": [],
   "source": [
    "train_indxs, val_indxs, test_indxs = np.split(tmp, [int(0.7*len(tmp)), int(0.9*len(tmp))])"
   ]
  },
  {
   "cell_type": "code",
   "execution_count": 34,
   "id": "5b7796d9-0783-4394-a961-2235447c8ea2",
   "metadata": {},
   "outputs": [
    {
     "name": "stdout",
     "output_type": "stream",
     "text": [
      "Selecting 700 training, 200 validation, and 100 test samples\n"
     ]
    }
   ],
   "source": [
    "print(f\"Selecting {len(train_indxs)} training, {len(val_indxs)} validation, and {len(test_indxs)} test samples\")"
   ]
  },
  {
   "cell_type": "code",
   "execution_count": 35,
   "id": "e8c2f6b8-6e1b-4291-b7ec-cafbf2fa7e2b",
   "metadata": {},
   "outputs": [],
   "source": [
    "data_train = [data[int(i)] for i in train_indxs]\n",
    "data_val = [data[int(i)] for i in val_indxs]\n",
    "data_test = [data[int(i)] for i in test_indxs]"
   ]
  },
  {
   "cell_type": "code",
   "execution_count": 36,
   "id": "02a3f700-5034-4b58-a01e-60898124c82d",
   "metadata": {},
   "outputs": [
    {
     "name": "stdout",
     "output_type": "stream",
     "text": [
      "Percentage of training data: 0.7\n",
      "Percentage of validation data: 0.2\n",
      "Percentage of test data: 0.1\n"
     ]
    }
   ],
   "source": [
    "# Check if the lengths agree\n",
    "print(f\"Percentage of training data: {round(len(data_train)/len(data), 4)}\")\n",
    "print(f\"Percentage of validation data: {round(len(data_val)/len(data), 4)}\")\n",
    "print(f\"Percentage of test data: {round(len(data_test)/len(data), 4)}\")"
   ]
  },
  {
   "cell_type": "code",
   "execution_count": null,
   "id": "379b3b04-40a2-426e-91eb-f2c26a47e77d",
   "metadata": {},
   "outputs": [],
   "source": []
  },
  {
   "cell_type": "markdown",
   "id": "e987bc01-ad9a-4b75-bceb-f8061e657ef7",
   "metadata": {},
   "source": [
    "## Save Datasets"
   ]
  },
  {
   "cell_type": "code",
   "execution_count": 37,
   "id": "7a640398-fed1-4bb0-b4cc-1993be605f48",
   "metadata": {},
   "outputs": [],
   "source": [
    "def save_data(dataset, path):\n",
    "    with open(path, 'w') as f:\n",
    "        json.dump(dataset, f)\n",
    "    print(f\"Dataset saved to path {path}\")"
   ]
  },
  {
   "cell_type": "code",
   "execution_count": 38,
   "id": "9a0688b0-4cb7-480f-b099-a25982bec695",
   "metadata": {},
   "outputs": [],
   "source": [
    "save_path_src = \"../raw_instruct/DS1000/raw_DS1000\""
   ]
  },
  {
   "cell_type": "code",
   "execution_count": 39,
   "id": "2085cec1-22dc-4f9f-9ed2-1af71ef6385a",
   "metadata": {},
   "outputs": [
    {
     "name": "stdout",
     "output_type": "stream",
     "text": [
      "Dataset saved to path ../raw_instruct/DS1000/raw_DS1000_train.json\n"
     ]
    }
   ],
   "source": [
    "save_data(data_train, save_path_src + \"_train.json\")"
   ]
  },
  {
   "cell_type": "code",
   "execution_count": 40,
   "id": "8f25e300-f691-4d69-a42a-bb9058d504e5",
   "metadata": {},
   "outputs": [
    {
     "name": "stdout",
     "output_type": "stream",
     "text": [
      "Dataset saved to path ../raw_instruct/DS1000/raw_DS1000_validate.json\n"
     ]
    }
   ],
   "source": [
    "save_data(data_val, save_path_src + \"_validate.json\")"
   ]
  },
  {
   "cell_type": "code",
   "execution_count": 41,
   "id": "30fbf2ed-f6ba-4f5b-a1c8-a93da801bba4",
   "metadata": {},
   "outputs": [
    {
     "name": "stdout",
     "output_type": "stream",
     "text": [
      "Dataset saved to path ../raw_instruct/DS1000/raw_DS1000_test.json\n"
     ]
    }
   ],
   "source": [
    "save_data(data_test, save_path_src + \"_test.json\")"
   ]
  },
  {
   "cell_type": "code",
   "execution_count": null,
   "id": "b9169ae3-fd43-4d5a-a013-35269d3ed49c",
   "metadata": {},
   "outputs": [],
   "source": []
  },
  {
   "cell_type": "code",
   "execution_count": null,
   "id": "ffe14e26-a1e5-40c9-a642-82cd75171e7d",
   "metadata": {},
   "outputs": [],
   "source": []
  },
  {
   "cell_type": "code",
   "execution_count": null,
   "id": "a0b8b99b-b5e9-4879-8a0c-cbc1e8a4758b",
   "metadata": {},
   "outputs": [],
   "source": []
  },
  {
   "cell_type": "code",
   "execution_count": null,
   "id": "2074a115-4852-4863-8275-4d6b29d9f376",
   "metadata": {},
   "outputs": [],
   "source": []
  },
  {
   "cell_type": "code",
   "execution_count": null,
   "id": "2741c1c2-6fdd-4a4a-a0a1-418fa0b88aa3",
   "metadata": {},
   "outputs": [],
   "source": []
  },
  {
   "cell_type": "code",
   "execution_count": null,
   "id": "b0071034-45a6-4c2b-955a-caf49ad73be0",
   "metadata": {},
   "outputs": [],
   "source": []
  },
  {
   "cell_type": "code",
   "execution_count": null,
   "id": "85b0d142-1efc-43fe-bdec-903c3a88201f",
   "metadata": {},
   "outputs": [],
   "source": []
  },
  {
   "cell_type": "code",
   "execution_count": null,
   "id": "74e40e0f-8577-4784-a284-ca80545c91dc",
   "metadata": {},
   "outputs": [],
   "source": []
  },
  {
   "cell_type": "code",
   "execution_count": null,
   "id": "57571b37-2d60-4c0d-a8ff-68567920f34c",
   "metadata": {},
   "outputs": [],
   "source": []
  }
 ],
 "metadata": {
  "kernelspec": {
   "display_name": "Python 3 (ipykernel)",
   "language": "python",
   "name": "python3"
  },
  "language_info": {
   "codemirror_mode": {
    "name": "ipython",
    "version": 3
   },
   "file_extension": ".py",
   "mimetype": "text/x-python",
   "name": "python",
   "nbconvert_exporter": "python",
   "pygments_lexer": "ipython3",
   "version": "3.12.9"
  }
 },
 "nbformat": 4,
 "nbformat_minor": 5
}
