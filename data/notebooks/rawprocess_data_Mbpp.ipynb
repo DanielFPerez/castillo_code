{
 "cells": [
  {
   "cell_type": "markdown",
   "id": "3eceb776-1cac-4af8-9d7e-88273e84a6c9",
   "metadata": {},
   "source": [
    "# Mbpp Dataset\n",
    "\n",
    "https://github.com/google-research/google-research/tree/master/mbpp"
   ]
  },
  {
   "cell_type": "code",
   "execution_count": 1,
   "id": "39001390-aa23-494d-b6c9-597deeec0ecb",
   "metadata": {},
   "outputs": [],
   "source": [
    "import json\n",
    "import numpy as np\n",
    "import torch\n",
    "from transformers import AutoTokenizer\n",
    "\n",
    "import os \n",
    "import sys\n",
    "\n",
    "sys.path.append(os.path.join(os.getcwd(), \"../../\"))\n",
    "\n",
    "import src.visualization.plot_rawdata as plotutils"
   ]
  },
  {
   "cell_type": "code",
   "execution_count": 2,
   "id": "a27cd9fd-361b-4fa6-a1c5-20e69fa05dfe",
   "metadata": {},
   "outputs": [],
   "source": [
    "# DATASET_PATH = \"../raw_instruct/sanitized-mbpp.json\"\n",
    "DATASET_PATH = \"../raw_instruct/mbpp.jsonl\"\n",
    "\n",
    "# Open the JSON file\n",
    "with open(DATASET_PATH, 'r') as file: \n",
    "    if \"jsonl\" in DATASET_PATH: \n",
    "        data = [json.loads(line) for line in file]\n",
    "    else:\n",
    "        data = json.load(file)"
   ]
  },
  {
   "cell_type": "code",
   "execution_count": 3,
   "id": "64a12847-4843-46f3-96f4-1652c307cb41",
   "metadata": {},
   "outputs": [
    {
     "name": "stdout",
     "output_type": "stream",
     "text": [
      "Type of data: <class 'list'>\n",
      "Number of entries: 974\n"
     ]
    }
   ],
   "source": [
    "print(f\"Type of data: {type(data)}\\nNumber of entries: {len(data)}\")"
   ]
  },
  {
   "cell_type": "code",
   "execution_count": 4,
   "id": "28df4465-b3b1-433f-b678-8532e8b383c7",
   "metadata": {},
   "outputs": [],
   "source": [
    "# from datasets import load_dataset\n",
    "# dataset_sanitized = load_dataset(\"mbpp\", \"sanitized\")\n",
    "# sum([len(dataset_sanitized[elem]) for elem in dataset_sanitized.keys()])"
   ]
  },
  {
   "cell_type": "code",
   "execution_count": 5,
   "id": "8d5a7f2a-5c83-4d2f-8920-2c499f0351e0",
   "metadata": {},
   "outputs": [],
   "source": [
    "idx = 1"
   ]
  },
  {
   "cell_type": "code",
   "execution_count": 6,
   "id": "ff17dfcf-4884-42e5-9a3f-3fc6b769d067",
   "metadata": {},
   "outputs": [
    {
     "data": {
      "text/plain": [
       "dict"
      ]
     },
     "execution_count": 6,
     "metadata": {},
     "output_type": "execute_result"
    }
   ],
   "source": [
    "type(data[idx])"
   ]
  },
  {
   "cell_type": "code",
   "execution_count": 7,
   "id": "18d22f8b-055f-4d00-9815-33351c8d63dd",
   "metadata": {},
   "outputs": [
    {
     "data": {
      "text/plain": [
       "{'text': 'Write a function to find the similar elements from the given two tuple lists.',\n",
       " 'code': 'def similar_elements(test_tup1, test_tup2):\\r\\n  res = tuple(set(test_tup1) & set(test_tup2))\\r\\n  return (res) ',\n",
       " 'task_id': 2,\n",
       " 'test_setup_code': '',\n",
       " 'test_list': ['assert similar_elements((3, 4, 5, 6),(5, 7, 4, 10)) == (4, 5)',\n",
       "  'assert similar_elements((1, 2, 3, 4),(5, 4, 3, 7)) == (3, 4)',\n",
       "  'assert similar_elements((11, 12, 14, 13),(17, 15, 14, 13)) == (13, 14)'],\n",
       " 'challenge_test_list': []}"
      ]
     },
     "execution_count": 7,
     "metadata": {},
     "output_type": "execute_result"
    }
   ],
   "source": [
    "data[idx]"
   ]
  },
  {
   "cell_type": "code",
   "execution_count": 8,
   "id": "7354b257-06d3-4e7f-8b9a-8cc62ce7da21",
   "metadata": {},
   "outputs": [
    {
     "data": {
      "text/plain": [
       "dict_keys(['text', 'code', 'task_id', 'test_setup_code', 'test_list', 'challenge_test_list'])"
      ]
     },
     "execution_count": 8,
     "metadata": {},
     "output_type": "execute_result"
    }
   ],
   "source": [
    "data[idx].keys()"
   ]
  },
  {
   "cell_type": "code",
   "execution_count": 9,
   "id": "729589df-6ba6-4153-88de-bb3e6a442887",
   "metadata": {},
   "outputs": [
    {
     "data": {
      "text/plain": [
       "['assert similar_elements((3, 4, 5, 6),(5, 7, 4, 10)) == (4, 5)',\n",
       " 'assert similar_elements((1, 2, 3, 4),(5, 4, 3, 7)) == (3, 4)',\n",
       " 'assert similar_elements((11, 12, 14, 13),(17, 15, 14, 13)) == (13, 14)']"
      ]
     },
     "execution_count": 9,
     "metadata": {},
     "output_type": "execute_result"
    }
   ],
   "source": [
    "data[idx]['test_list']"
   ]
  },
  {
   "cell_type": "markdown",
   "id": "d7f9b3f7-2e46-480b-89d9-644280cc3a96",
   "metadata": {},
   "source": [
    "#### Check if all elements in data are of type dict and if just one input prompt per data sample (no conversation)"
   ]
  },
  {
   "cell_type": "code",
   "execution_count": 10,
   "id": "5b4a744d-d791-43cf-807d-5081095c2ee3",
   "metadata": {},
   "outputs": [],
   "source": [
    "verbose= False\n",
    "\n",
    "if \"jsonl\" in DATASET_PATH:\n",
    "    keys = ['text', 'code', 'task_id', 'test_setup_code', 'test_list', 'challenge_test_list']\n",
    "else:\n",
    "    keys = ['source_file', 'task_id', 'prompt', 'code', 'test_imports', 'test_list']\n",
    "\n",
    "for i, elem in enumerate(data):\n",
    "    if not isinstance(elem, dict):\n",
    "        print(f\"Elem is not a dict! {elem}\")\n",
    "    elif sorted(list(elem.keys())) != sorted(keys):\n",
    "        print(f\"Elem has different keys in dict! {elem.keys()}\\n{elem}\\n\")\n",
    "    if verbose and len(elem['test_imports']):\n",
    "        print(f\"Test imports from sample {i}:\\n{elem['test_imports']}\")"
   ]
  },
  {
   "cell_type": "code",
   "execution_count": null,
   "id": "c6950bb2-a3e7-4e9d-893e-c6d96f13b4eb",
   "metadata": {},
   "outputs": [],
   "source": []
  },
  {
   "cell_type": "markdown",
   "id": "aba12ceb-fc77-4044-9c5a-1c4ce97d2f8c",
   "metadata": {},
   "source": [
    "### No data"
   ]
  },
  {
   "cell_type": "code",
   "execution_count": 11,
   "id": "7109da6f-ce73-4d10-9cf6-a01555d9ceea",
   "metadata": {},
   "outputs": [
    {
     "name": "stdout",
     "output_type": "stream",
     "text": [
      "There are 0 elements in the dataset with no prompts!\n"
     ]
    }
   ],
   "source": [
    "no_conver_data = []\n",
    "\n",
    "if \"jsonl\" in DATASET_PATH:\n",
    "    prompt_key = \"text\"\n",
    "else:\n",
    "    prompt_key = \"prompt\"\n",
    "\n",
    "for elem in data: \n",
    "    if not elem[prompt_key]:\n",
    "        no_conver_data.append(elem)\n",
    "print(f\"There are {len(no_conver_data)} elements in the dataset with no prompts!\")"
   ]
  },
  {
   "cell_type": "markdown",
   "id": "1fff4df3-5222-4fbe-8c75-893d57b65c9b",
   "metadata": {},
   "source": [
    "So all of the elements in this dataset have an instruction!"
   ]
  },
  {
   "cell_type": "markdown",
   "id": "93366e63-bbfb-4f68-bee8-b836c6a0c187",
   "metadata": {},
   "source": [
    "#### Plot conversations lengths (number of tokens of first human input)"
   ]
  },
  {
   "cell_type": "code",
   "execution_count": 12,
   "id": "b5b02be6-2356-4ffb-82bb-70416d1f1e36",
   "metadata": {},
   "outputs": [],
   "source": [
    "access_tk = os.getenv(\"HF_API_TOKEN\")\n",
    "device_str = \"cuda:0\"\n",
    "model_name = \"meta-llama/Llama-3.2-3B-Instruct\"\n",
    "padding_side='left'\n",
    "\n",
    "tokenizer = AutoTokenizer.from_pretrained(model_name, token=access_tk, device_map=device_str, torch_dtype=torch.float16, padding_side=padding_side)\n",
    "\n"
   ]
  },
  {
   "cell_type": "markdown",
   "id": "9dde97c9-a342-4834-8be9-0eda42cc3682",
   "metadata": {},
   "source": [
    "#### Input handling\n",
    "Each sample in the dataset is of type `dict`.\n",
    "The keys of that `dict` are `['source_file', 'task_id', 'prompt', 'code', 'test_imports', 'test_list']`. However, the tokenizers do not recognize those keyas, so we need to append it to the user's `content`.  "
   ]
  },
  {
   "cell_type": "code",
   "execution_count": 13,
   "id": "788ca5ec-7d88-4f98-92eb-a241abb2e62e",
   "metadata": {},
   "outputs": [],
   "source": [
    "def get_tokens(sentence, tokenizer):\n",
    "    return tokenizer.apply_chat_template(sentence, return_tensors=\"pt\", add_generation_prompt=True)   "
   ]
  },
  {
   "cell_type": "code",
   "execution_count": 14,
   "id": "d70b98e7-4250-485d-8338-efb4c5b829b8",
   "metadata": {},
   "outputs": [],
   "source": [
    "from src.data.rawdata_processor import mbpp_generate_rawprompt_text"
   ]
  },
  {
   "cell_type": "code",
   "execution_count": 15,
   "id": "be92bce8-dd7a-42d0-968d-8faa2972e7a3",
   "metadata": {},
   "outputs": [
    {
     "name": "stdout",
     "output_type": "stream",
     "text": [
      "You are an expert Python programmer, and here is your task: Write a function to find the similar elements from the given two tuple lists. Your code should pass these tests:\n",
      "\n",
      "assert similar_elements((3, 4, 5, 6),(5, 7, 4, 10)) == (4, 5)\n",
      "assert similar_elements((1, 2, 3, 4),(5, 4, 3, 7)) == (3, 4)\n",
      "assert similar_elements((11, 12, 14, 13),(17, 15, 14, 13)) == (13, 14)\n",
      "\n"
     ]
    }
   ],
   "source": [
    "mystring = mbpp_generate_rawprompt_text(data[idx], tokenizer, truncate=False, prompt_key=prompt_key)\n",
    "print(mystring)"
   ]
  },
  {
   "cell_type": "code",
   "execution_count": 16,
   "id": "2c3c789e-4e8a-4e58-b9b7-00ebce71f189",
   "metadata": {},
   "outputs": [],
   "source": [
    "from src.data.rawdata_processor import build_rawprompt_text_chat, build_rawprompt_text_batch"
   ]
  },
  {
   "cell_type": "code",
   "execution_count": 17,
   "id": "da3e4427-e3d7-4199-92ec-97d78c2eb700",
   "metadata": {},
   "outputs": [
    {
     "data": {
      "text/plain": [
       "[{'role': 'user',\n",
       "  'content': 'You are an expert Python programmer, and here is your task: Write a function to find the similar elements from the given two tuple lists. Your code should pass these tests:\\n\\nassert similar_elements((3, 4, 5, 6),(5, 7, 4, 10)) == (4, 5)\\nassert similar_elements((1, 2, 3, 4),(5, 4, 3, 7)) == (3, 4)\\nassert similar_elements((11, 12, 14, 13),(17, 15, 14, 13)) == (13, 14)\\n'}]"
      ]
     },
     "execution_count": 17,
     "metadata": {},
     "output_type": "execute_result"
    }
   ],
   "source": [
    "build_rawprompt_text_chat(mystring)"
   ]
  },
  {
   "cell_type": "code",
   "execution_count": 18,
   "id": "ffe5f4eb-e2b8-4151-8fc7-113c2b078635",
   "metadata": {},
   "outputs": [
    {
     "data": {
      "text/plain": [
       "tensor([[128000, 128006,   9125, 128007,    271,  38766,   1303,  33025,   2696,\n",
       "             25,   6790,    220,   2366,     18,    198,  15724,   2696,     25,\n",
       "            220,    605,   3297,    220,   2366,     20,    271, 128009, 128006,\n",
       "            882, 128007,    271,   2675,    527,    459,   6335,  13325,  48888,\n",
       "             11,    323,   1618,    374,    701,   3465,     25,   9842,    264,\n",
       "            734,    311,   1505,    279,   4528,   5540,    505,    279,   2728,\n",
       "           1403,  14743,  11725,     13,   4718,   2082,   1288,   1522,   1521,\n",
       "           7177,   1473,   2256,   4528,  23646,   1209,     18,     11,    220,\n",
       "             19,     11,    220,     20,     11,    220,     21,  24457,     20,\n",
       "             11,    220,     22,     11,    220,     19,     11,    220,    605,\n",
       "            595,    624,    320,     19,     11,    220,     20,    340,   2256,\n",
       "           4528,  23646,   1209,     16,     11,    220,     17,     11,    220,\n",
       "             18,     11,    220,     19,  24457,     20,     11,    220,     19,\n",
       "             11,    220,     18,     11,    220,     22,    595,    624,    320,\n",
       "             18,     11,    220,     19,    340,   2256,   4528,  23646,   1209,\n",
       "            806,     11,    220,    717,     11,    220,    975,     11,    220,\n",
       "           1032,  24457,   1114,     11,    220,    868,     11,    220,    975,\n",
       "             11,    220,   1032,    595,    624,    320,   1032,     11,    220,\n",
       "            975,      8, 128009, 128006,  78191, 128007,    271]])"
      ]
     },
     "execution_count": 18,
     "metadata": {},
     "output_type": "execute_result"
    }
   ],
   "source": [
    "get_tokens(build_rawprompt_text_chat(mystring), tokenizer)"
   ]
  },
  {
   "cell_type": "code",
   "execution_count": 19,
   "id": "fd9962bd-13c3-4265-8aa7-2051b84a75cc",
   "metadata": {},
   "outputs": [
    {
     "name": "stdout",
     "output_type": "stream",
     "text": [
      "<|begin_of_text|><|start_header_id|>system<|end_header_id|>\n",
      "\n",
      "Cutting Knowledge Date: December 2023\n",
      "Today Date: 10 May 2025\n",
      "\n",
      "<|eot_id|><|start_header_id|>user<|end_header_id|>\n",
      "\n",
      "You are an expert Python programmer, and here is your task: Write a function to find the similar elements from the given two tuple lists. Your code should pass these tests:\n",
      "\n",
      "assert similar_elements((3, 4, 5, 6),(5, 7, 4, 10)) == (4, 5)\n",
      "assert similar_elements((1, 2, 3, 4),(5, 4, 3, 7)) == (3, 4)\n",
      "assert similar_elements((11, 12, 14, 13),(17, 15, 14, 13)) == (13, 14)<|eot_id|><|start_header_id|>assistant<|end_header_id|>\n",
      "\n",
      "\n"
     ]
    }
   ],
   "source": [
    "print(tokenizer.decode(get_tokens(build_rawprompt_text_batch(mystring, 5), tokenizer)[0]))"
   ]
  },
  {
   "cell_type": "markdown",
   "id": "2c280782-8f6b-46ab-aad4-8657d7e25431",
   "metadata": {},
   "source": [
    "### Analyze lenght of prompts in terms of number of tokens"
   ]
  },
  {
   "cell_type": "code",
   "execution_count": 20,
   "id": "4fe04bb6-e7ff-4abe-a10d-6c633d4d048b",
   "metadata": {},
   "outputs": [],
   "source": [
    "tmp_model_input = [build_rawprompt_text_chat(mbpp_generate_rawprompt_text(elem, tokenizer, truncate=False, prompt_key=prompt_key)) for elem in data]"
   ]
  },
  {
   "cell_type": "code",
   "execution_count": 21,
   "id": "8e60fea8-334e-448e-9103-22e786eddfcc",
   "metadata": {},
   "outputs": [
    {
     "data": {
      "text/plain": [
       "974"
      ]
     },
     "execution_count": 21,
     "metadata": {},
     "output_type": "execute_result"
    }
   ],
   "source": [
    "len(tmp_model_input)"
   ]
  },
  {
   "cell_type": "code",
   "execution_count": 22,
   "id": "e4da6034-d230-4d66-bd8d-6f75e61efe0d",
   "metadata": {},
   "outputs": [],
   "source": [
    "conv_len_tokens = [get_tokens(elem, tokenizer).shape[1] for elem in tmp_model_input]"
   ]
  },
  {
   "cell_type": "code",
   "execution_count": 23,
   "id": "3e463fde-219b-4851-80d0-76c6401de414",
   "metadata": {},
   "outputs": [
    {
     "data": {
      "text/plain": [
       "974"
      ]
     },
     "execution_count": 23,
     "metadata": {},
     "output_type": "execute_result"
    }
   ],
   "source": [
    "len(conv_len_tokens)"
   ]
  },
  {
   "cell_type": "code",
   "execution_count": 24,
   "id": "9c9a1c49-c858-47e9-91cc-436b1e736c33",
   "metadata": {},
   "outputs": [
    {
     "data": {
      "text/plain": [
       "np.int64(2265)"
      ]
     },
     "execution_count": 24,
     "metadata": {},
     "output_type": "execute_result"
    }
   ],
   "source": [
    "np.max(conv_len_tokens)"
   ]
  },
  {
   "cell_type": "code",
   "execution_count": null,
   "id": "875d2072-8053-47bb-9607-eb7da39060da",
   "metadata": {},
   "outputs": [],
   "source": [
    "print(f\"MEAN: {np.mean(conv_len_tokens)}\\nMIN: {np.min(conv_len_tokens)},\\nMAX: {np.max(conv_len_tokens)}\")\n",
    "print(*[f\"P{p}: {v:.2f}\" for p, v in zip([25, 50, 75, 99], np.percentile(conv_len_tokens, [25, 50, 75, 99]))])"
   ]
  },
  {
   "cell_type": "code",
   "execution_count": 25,
   "id": "9296adba-2167-4e27-808b-52b02441ce4b",
   "metadata": {},
   "outputs": [
    {
     "data": {
      "image/png": "[encoded data removed]",
      "text/plain": [
       "<Figure size 1000x280 with 2 Axes>"
      ]
     },
     "metadata": {},
     "output_type": "display_data"
    }
   ],
   "source": [
    "fig = plotutils.plot_histogram_and_cdf(conv_len_tokens, in_size=(10, 2.8), \n",
    "                                       in_title=\"# Input Tokens MBPP\", n_bins=200, \n",
    "                                       x_forcdf=0, cdf_forx=[0.25, 0.5, 0.75, 0.95, 0.99], logx=True)\n",
    "\n",
    "# fig = plotutils.plot_histogram_and_cdf(conv_len_tokens, in_size=(10, 2.8), \n",
    "#                              in_title=\"# Input Tokens MBPP\", x_forcdf=0, \n",
    "#                                        cdf_forx=[0.25, 0.5, 0.75, 0.95, 0.999],\n",
    "#                                       n_bins=80)"
   ]
  },
  {
   "cell_type": "code",
   "execution_count": 26,
   "id": "b43a548e-3201-4321-9da1-4a386cddfeab",
   "metadata": {},
   "outputs": [],
   "source": [
    "fig.savefig(\"../../outputs/images/raw_data_MBPP_ntokens_hist.pdf\", bbox_inches=\"tight\")"
   ]
  },
  {
   "cell_type": "code",
   "execution_count": null,
   "id": "dc126123-fb14-4907-bed5-e3db476a25ec",
   "metadata": {},
   "outputs": [],
   "source": []
  },
  {
   "cell_type": "markdown",
   "id": "f295a23d-93d0-4909-a9be-bb94f9e0b0f7",
   "metadata": {},
   "source": [
    "# Split the datasets"
   ]
  },
  {
   "cell_type": "code",
   "execution_count": 27,
   "id": "52b2e312-2232-4efd-90a7-700c1b84baf4",
   "metadata": {},
   "outputs": [],
   "source": [
    "SEED = 42\n",
    "MAXIMUM = 2000"
   ]
  },
  {
   "cell_type": "code",
   "execution_count": 28,
   "id": "30b2d79b-e9b8-409b-aa9f-76866c3e74c8",
   "metadata": {},
   "outputs": [],
   "source": [
    "np.random.seed(SEED)"
   ]
  },
  {
   "cell_type": "code",
   "execution_count": 29,
   "id": "688fd95e-7f98-43fc-9311-8a3d55fe561d",
   "metadata": {},
   "outputs": [],
   "source": [
    "tmp = np.arange(len(data))\n",
    "np.random.shuffle(tmp)"
   ]
  },
  {
   "cell_type": "code",
   "execution_count": 30,
   "id": "f70b3c04-9323-4908-a298-da5d53061fc6",
   "metadata": {},
   "outputs": [
    {
     "name": "stdout",
     "output_type": "stream",
     "text": [
      "SELECTING 974 samples randomly from dataset\n"
     ]
    }
   ],
   "source": [
    "idx_subset = min(MAXIMUM, len(data))\n",
    "tmp = tmp[0:idx_subset]\n",
    "print(f\"SELECTING {len(tmp)} samples randomly from dataset\")"
   ]
  },
  {
   "cell_type": "code",
   "execution_count": 31,
   "id": "7af842b7-79f4-4b18-acf0-030302df9d85",
   "metadata": {},
   "outputs": [],
   "source": [
    "train_indxs, val_indxs, test_indxs = np.split(tmp, [int(0.7*len(tmp)), int(0.9*len(tmp))])"
   ]
  },
  {
   "cell_type": "code",
   "execution_count": 32,
   "id": "f3a6917c-8d1f-4202-97cc-08a9c38f8947",
   "metadata": {},
   "outputs": [
    {
     "name": "stdout",
     "output_type": "stream",
     "text": [
      "Selecting 681 training, 195 validation, and 98 test samples\n"
     ]
    }
   ],
   "source": [
    "print(f\"Selecting {len(train_indxs)} training, {len(val_indxs)} validation, and {len(test_indxs)} test samples\")"
   ]
  },
  {
   "cell_type": "code",
   "execution_count": 33,
   "id": "785fd894-1150-4b89-9b08-b70e22f5564e",
   "metadata": {},
   "outputs": [],
   "source": [
    "data_train = [data[i] for i in train_indxs]\n",
    "data_val = [data[i] for i in val_indxs]\n",
    "data_test = [data[i] for i in test_indxs]"
   ]
  },
  {
   "cell_type": "code",
   "execution_count": 34,
   "id": "ef8b2bdb-b77b-4b26-a608-6e4c7ecce43d",
   "metadata": {},
   "outputs": [
    {
     "name": "stdout",
     "output_type": "stream",
     "text": [
      "Percentage of training data: 0.6992\n",
      "Percentage of validation data: 0.2002\n",
      "Percentage of test data: 0.1006\n"
     ]
    }
   ],
   "source": [
    "# Check if the lengths agree\n",
    "print(f\"Percentage of training data: {round(len(data_train)/len(data), 4)}\")\n",
    "print(f\"Percentage of validation data: {round(len(data_val)/len(data), 4)}\")\n",
    "print(f\"Percentage of test data: {round(len(data_test)/len(data), 4)}\")"
   ]
  },
  {
   "cell_type": "markdown",
   "id": "10478f08-a33d-4c98-9d9d-3ac61a311165",
   "metadata": {},
   "source": [
    "## Saving the data"
   ]
  },
  {
   "cell_type": "code",
   "execution_count": 35,
   "id": "c0f91a2e-656a-4d5a-8c63-8d923ede97be",
   "metadata": {},
   "outputs": [],
   "source": [
    "def save_data(dataset, path):\n",
    "    with open(path, 'w') as f:\n",
    "        json.dump(dataset, f)\n",
    "    print(f\"Dataset saved to path {path}\")"
   ]
  },
  {
   "cell_type": "code",
   "execution_count": 36,
   "id": "d66238c1-262d-477d-987b-4ba630c64ab7",
   "metadata": {},
   "outputs": [],
   "source": [
    "save_path_src = \"../raw_instruct/Mbpp/raw_Mbpp_\""
   ]
  },
  {
   "cell_type": "code",
   "execution_count": 37,
   "id": "710cba3e-02ce-42d3-a568-a3a1de770209",
   "metadata": {},
   "outputs": [
    {
     "name": "stdout",
     "output_type": "stream",
     "text": [
      "Dataset saved to path ../raw_instruct/Mbpp/raw_Mbpp_train.json\n"
     ]
    }
   ],
   "source": [
    "save_data(data_train, save_path_src+\"train.json\")"
   ]
  },
  {
   "cell_type": "code",
   "execution_count": 38,
   "id": "997189db-ca7f-449c-8087-7a8feca80e6b",
   "metadata": {},
   "outputs": [
    {
     "name": "stdout",
     "output_type": "stream",
     "text": [
      "Dataset saved to path ../raw_instruct/Mbpp/raw_Mbpp_validate.json\n"
     ]
    }
   ],
   "source": [
    "save_data(data_val, save_path_src+\"validate.json\")"
   ]
  },
  {
   "cell_type": "code",
   "execution_count": 39,
   "id": "79d8d700-1328-4bdb-ada5-d2a3410cfca7",
   "metadata": {},
   "outputs": [
    {
     "name": "stdout",
     "output_type": "stream",
     "text": [
      "Dataset saved to path ../raw_instruct/Mbpp/raw_Mbpp_test.json\n"
     ]
    }
   ],
   "source": [
    "save_data(data_test, save_path_src+\"test.json\")"
   ]
  },
  {
   "cell_type": "code",
   "execution_count": null,
   "id": "7117480f-ba94-4df4-9bad-0a7b1ceb09de",
   "metadata": {},
   "outputs": [],
   "source": []
  },
  {
   "cell_type": "code",
   "execution_count": null,
   "id": "a462e9e5-3b6b-4995-be6a-27f254ffa715",
   "metadata": {},
   "outputs": [],
   "source": []
  },
  {
   "cell_type": "code",
   "execution_count": null,
   "id": "a95ff9ec-0652-4bc8-a855-cc18c374a3ab",
   "metadata": {},
   "outputs": [],
   "source": []
  },
  {
   "cell_type": "code",
   "execution_count": null,
   "id": "755134ef-6eb7-445d-b2ec-37f26867deda",
   "metadata": {},
   "outputs": [],
   "source": []
  },
  {
   "cell_type": "code",
   "execution_count": null,
   "id": "cb779ba1-c7ee-4f7b-bb02-acdc573fb928",
   "metadata": {},
   "outputs": [],
   "source": []
  },
  {
   "cell_type": "code",
   "execution_count": null,
   "id": "6a57076a-b3c5-4a12-8d37-5436836c995e",
   "metadata": {},
   "outputs": [],
   "source": []
  },
  {
   "cell_type": "code",
   "execution_count": null,
   "id": "cf676b7c-78f3-48ff-8373-11ed16186c9d",
   "metadata": {},
   "outputs": [],
   "source": []
  },
  {
   "cell_type": "code",
   "execution_count": null,
   "id": "64a53bea-f982-4e93-bc85-4109fafb2a60",
   "metadata": {},
   "outputs": [],
   "source": []
  },
  {
   "cell_type": "code",
   "execution_count": null,
   "id": "10437a7a-8f4d-4cc8-b95a-f4ab940c80f7",
   "metadata": {},
   "outputs": [],
   "source": []
  },
  {
   "cell_type": "code",
   "execution_count": null,
   "id": "75df5920-a6e9-4828-a472-5e0e5590fa8e",
   "metadata": {},
   "outputs": [],
   "source": []
  },
  {
   "cell_type": "code",
   "execution_count": null,
   "id": "eb445f0c-3441-499b-8f8a-af1d65cc23f3",
   "metadata": {},
   "outputs": [],
   "source": []
  },
  {
   "cell_type": "code",
   "execution_count": null,
   "id": "fa043000-ef05-4c56-8863-a88716174634",
   "metadata": {},
   "outputs": [],
   "source": []
  },
  {
   "cell_type": "code",
   "execution_count": null,
   "id": "eee8b960-2199-4e7e-b6f4-298987eafc27",
   "metadata": {},
   "outputs": [],
   "source": []
  },
  {
   "cell_type": "code",
   "execution_count": null,
   "id": "7ba38c82-c4ca-4914-860c-e4de1fea6f40",
   "metadata": {},
   "outputs": [],
   "source": []
  },
  {
   "cell_type": "code",
   "execution_count": null,
   "id": "953a77f7-1875-4c9f-aa1b-6805389ee9d2",
   "metadata": {},
   "outputs": [],
   "source": []
  },
  {
   "cell_type": "code",
   "execution_count": null,
   "id": "8c4ada7c-fb49-44d5-9a49-398b04f3bc89",
   "metadata": {},
   "outputs": [],
   "source": []
  }
 ],
 "metadata": {
  "kernelspec": {
   "display_name": "Python 3 (ipykernel)",
   "language": "python",
   "name": "python3"
  },
  "language_info": {
   "codemirror_mode": {
    "name": "ipython",
    "version": 3
   },
   "file_extension": ".py",
   "mimetype": "text/x-python",
   "name": "python",
   "nbconvert_exporter": "python",
   "pygments_lexer": "ipython3",
   "version": "3.12.9"
  }
 },
 "nbformat": 4,
 "nbformat_minor": 5
}
