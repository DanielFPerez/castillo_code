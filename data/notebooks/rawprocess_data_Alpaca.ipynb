{
 "cells": [
  {
   "cell_type": "markdown",
   "id": "3eceb776-1cac-4af8-9d7e-88273e84a6c9",
   "metadata": {},
   "source": [
    "# Alpaca Dataset\n",
    "\n",
    "We se the dataset from https://github.com/gururise/AlpacaDataCleaned/tree/main"
   ]
  },
  {
   "cell_type": "code",
   "execution_count": 1,
   "id": "39001390-aa23-494d-b6c9-597deeec0ecb",
   "metadata": {},
   "outputs": [],
   "source": [
    "import json\n",
    "import numpy as np\n",
    "import torch\n",
    "from transformers import AutoTokenizer\n",
    "\n",
    "import os \n",
    "import sys\n",
    "\n",
    "sys.path.append(os.path.join(os.getcwd(), \"../../\"))\n",
    "\n",
    "import src.visualization.plot_rawdata as plotutils"
   ]
  },
  {
   "cell_type": "code",
   "execution_count": 2,
   "id": "a27cd9fd-361b-4fa6-a1c5-20e69fa05dfe",
   "metadata": {},
   "outputs": [],
   "source": [
    "DATA_PATH = \"../raw_instruct/alpaca_data_cleaned.json\"\n",
    "# Open the JSON file\n",
    "with open(DATA_PATH, 'r') as file:\n",
    "    data = json.load(file)  # Load the JSON data into a Python dictionary"
   ]
  },
  {
   "cell_type": "code",
   "execution_count": 3,
   "id": "64a12847-4843-46f3-96f4-1652c307cb41",
   "metadata": {},
   "outputs": [
    {
     "name": "stdout",
     "output_type": "stream",
     "text": [
      "Type of data: <class 'list'>\n",
      "Number of entries: 51760\n"
     ]
    }
   ],
   "source": [
    "print(f\"Type of data: {type(data)}\\nNumber of entries: {len(data)}\")"
   ]
  },
  {
   "cell_type": "code",
   "execution_count": 4,
   "id": "1d6c9229-fd91-4030-9b73-814c5c1a5e16",
   "metadata": {},
   "outputs": [],
   "source": [
    "idx = 0"
   ]
  },
  {
   "cell_type": "code",
   "execution_count": 5,
   "id": "ff17dfcf-4884-42e5-9a3f-3fc6b769d067",
   "metadata": {},
   "outputs": [
    {
     "data": {
      "text/plain": [
       "dict"
      ]
     },
     "execution_count": 5,
     "metadata": {},
     "output_type": "execute_result"
    }
   ],
   "source": [
    "type(data[idx])"
   ]
  },
  {
   "cell_type": "code",
   "execution_count": 6,
   "id": "18d22f8b-055f-4d00-9815-33351c8d63dd",
   "metadata": {},
   "outputs": [
    {
     "data": {
      "text/plain": [
       "{'instruction': 'Give three tips for staying healthy.',\n",
       " 'input': '',\n",
       " 'output': '1. Eat a balanced and nutritious diet: Make sure your meals are inclusive of a variety of fruits and vegetables, lean protein, whole grains, and healthy fats. This helps to provide your body with the essential nutrients to function at its best and can help prevent chronic diseases.\\n\\n2. Engage in regular physical activity: Exercise is crucial for maintaining strong bones, muscles, and cardiovascular health. Aim for at least 150 minutes of moderate aerobic exercise or 75 minutes of vigorous exercise each week.\\n\\n3. Get enough sleep: Getting enough quality sleep is crucial for physical and mental well-being. It helps to regulate mood, improve cognitive function, and supports healthy growth and immune function. Aim for 7-9 hours of sleep each night.'}"
      ]
     },
     "execution_count": 6,
     "metadata": {},
     "output_type": "execute_result"
    }
   ],
   "source": [
    "data[idx]"
   ]
  },
  {
   "cell_type": "code",
   "execution_count": 7,
   "id": "985f051b-368a-43af-bbcf-d2258a1bf348",
   "metadata": {},
   "outputs": [],
   "source": [
    "for i, elem in enumerate(data): \n",
    "    if elem['input'] and i > 6:\n",
    "        idx = i\n",
    "        break"
   ]
  },
  {
   "cell_type": "code",
   "execution_count": 8,
   "id": "33e414c9-db2f-4143-84f2-6370ad785750",
   "metadata": {},
   "outputs": [
    {
     "data": {
      "text/plain": [
       "8"
      ]
     },
     "execution_count": 8,
     "metadata": {},
     "output_type": "execute_result"
    }
   ],
   "source": [
    "idx"
   ]
  },
  {
   "cell_type": "markdown",
   "id": "d7f9b3f7-2e46-480b-89d9-644280cc3a96",
   "metadata": {},
   "source": [
    "#### Check if all elements in data are of type dict and if just one input prompt per data sample (no conversation)"
   ]
  },
  {
   "cell_type": "code",
   "execution_count": 9,
   "id": "5b4a744d-d791-43cf-807d-5081095c2ee3",
   "metadata": {},
   "outputs": [],
   "source": [
    "for elem in data:\n",
    "    if not isinstance(elem, dict):\n",
    "        print(f\"Elem is not a dict! {elem}\")\n",
    "    elif sorted(list(elem.keys())) != sorted(['input', 'instruction', 'output']):\n",
    "        print(f\"Elem has different keys in dict! {elem}\")"
   ]
  },
  {
   "cell_type": "code",
   "execution_count": null,
   "id": "c6950bb2-a3e7-4e9d-893e-c6d96f13b4eb",
   "metadata": {},
   "outputs": [],
   "source": []
  },
  {
   "cell_type": "markdown",
   "id": "aba12ceb-fc77-4044-9c5a-1c4ce97d2f8c",
   "metadata": {},
   "source": [
    "### No data"
   ]
  },
  {
   "cell_type": "code",
   "execution_count": 10,
   "id": "7109da6f-ce73-4d10-9cf6-a01555d9ceea",
   "metadata": {},
   "outputs": [],
   "source": [
    "no_conver_data = []\n",
    "\n",
    "for elem in data: \n",
    "    if not elem['instruction']:\n",
    "        no_conver_data.append(elem)"
   ]
  },
  {
   "cell_type": "markdown",
   "id": "1fff4df3-5222-4fbe-8c75-893d57b65c9b",
   "metadata": {},
   "source": [
    "So all of the elements in this dataset have an instruction!"
   ]
  },
  {
   "cell_type": "markdown",
   "id": "93366e63-bbfb-4f68-bee8-b836c6a0c187",
   "metadata": {},
   "source": [
    "## Input handling\n",
    "Each sample in the dataset is of type `dict`.\n",
    "The keys of that `dict` are `['instruction', 'input', 'output']`. However, the tokenizers do not recognize the `'input'` keyword, so we need to append it to the user's `content`.  "
   ]
  },
  {
   "cell_type": "code",
   "execution_count": 11,
   "id": "b5b02be6-2356-4ffb-82bb-70416d1f1e36",
   "metadata": {},
   "outputs": [],
   "source": [
    "access_tk = os.getenv(\"HF_API_TOKEN\")\n",
    "device_str = \"cuda:0\"\n",
    "model_name = \"meta-llama/Llama-3.2-3B-Instruct\"\n",
    "padding_side='left'\n",
    "\n",
    "tokenizer = AutoTokenizer.from_pretrained(model_name, token=access_tk, device_map=device_str, torch_dtype=torch.float16, padding_side=padding_side)"
   ]
  },
  {
   "cell_type": "code",
   "execution_count": 12,
   "id": "88f4116a-685e-4cdf-bc05-26ee7ee1ceac",
   "metadata": {},
   "outputs": [],
   "source": [
    "def get_tokens(sentence, tokenizer):\n",
    "    return tokenizer.apply_chat_template(sentence, return_tensors=\"pt\", add_generation_prompt=True)  "
   ]
  },
  {
   "cell_type": "code",
   "execution_count": 13,
   "id": "c5d5ad72-c6ba-439d-9a64-9c24c5baaca0",
   "metadata": {},
   "outputs": [],
   "source": [
    "from src.data.rawdata_processor import alpaca_generate_rawprompt_text, build_rawprompt_text_batch, build_rawprompt_text_chat"
   ]
  },
  {
   "cell_type": "code",
   "execution_count": 14,
   "id": "221f2b91-9084-4c77-82a6-66a74a0bffdc",
   "metadata": {},
   "outputs": [
    {
     "name": "stdout",
     "output_type": "stream",
     "text": [
      "Evaluate this sentence for spelling and grammar mistakes\n",
      "Input: He finnished his meal and left the resturant\n"
     ]
    }
   ],
   "source": [
    "mystring = alpaca_generate_rawprompt_text(data[idx], tokenizer, truncate=False)\n",
    "print(mystring)"
   ]
  },
  {
   "cell_type": "code",
   "execution_count": 15,
   "id": "58ac1e0a-d2ce-4f8d-81d5-0227fe6fcf06",
   "metadata": {},
   "outputs": [
    {
     "data": {
      "text/plain": [
       "[{'role': 'user',\n",
       "  'content': 'Evaluate this sentence for spelling and grammar mistakes\\nInput: He finnished his meal and left the resturant'}]"
      ]
     },
     "execution_count": 15,
     "metadata": {},
     "output_type": "execute_result"
    }
   ],
   "source": [
    "build_rawprompt_text_chat(mystring)"
   ]
  },
  {
   "cell_type": "code",
   "execution_count": 16,
   "id": "e81c2410-f937-4c6e-ace7-fe5ce4063267",
   "metadata": {},
   "outputs": [
    {
     "data": {
      "text/plain": [
       "tensor([[128000, 128006,   9125, 128007,    271,  38766,   1303,  33025,   2696,\n",
       "             25,   6790,    220,   2366,     18,    198,  15724,   2696,     25,\n",
       "            220,    605,   3297,    220,   2366,     20,    271, 128009, 128006,\n",
       "            882, 128007,    271,  83445,    420,  11914,    369,  43529,    323,\n",
       "          32528,  21294,    198,   2566,     25,   1283,   1913,     77,   3384,\n",
       "            813,  15496,    323,   2163,    279,   2800,    324,    519, 128009,\n",
       "         128006,  78191, 128007,    271]])"
      ]
     },
     "execution_count": 16,
     "metadata": {},
     "output_type": "execute_result"
    }
   ],
   "source": [
    "get_tokens(build_rawprompt_text_chat(mystring), tokenizer)"
   ]
  },
  {
   "cell_type": "code",
   "execution_count": 17,
   "id": "3ede197f-3e1e-4050-9238-425eec00ac36",
   "metadata": {},
   "outputs": [
    {
     "name": "stdout",
     "output_type": "stream",
     "text": [
      "<|begin_of_text|><|start_header_id|>system<|end_header_id|>\n",
      "\n",
      "Cutting Knowledge Date: December 2023\n",
      "Today Date: 10 May 2025\n",
      "\n",
      "<|eot_id|><|start_header_id|>user<|end_header_id|>\n",
      "\n",
      "Evaluate this sentence for spelling and grammar mistakes\n",
      "Input: He finnished his meal and left the resturant<|eot_id|><|start_header_id|>assistant<|end_header_id|>\n",
      "\n",
      "\n"
     ]
    }
   ],
   "source": [
    "print(tokenizer.decode(get_tokens(build_rawprompt_text_batch(mystring, 5), tokenizer)[0]))"
   ]
  },
  {
   "cell_type": "markdown",
   "id": "72516951-8efb-45b1-a1f2-3e0a13b627fb",
   "metadata": {},
   "source": [
    "### Analyze COMPLETE DATASET lenght of prompts in terms of number of tokens"
   ]
  },
  {
   "cell_type": "code",
   "execution_count": 18,
   "id": "a8a9455e-1fee-47fb-92c2-e48f96d49d23",
   "metadata": {},
   "outputs": [],
   "source": [
    "tmp_model_input = [build_rawprompt_text_chat(alpaca_generate_rawprompt_text(elem, tokenizer, truncate=False)) for elem in data]"
   ]
  },
  {
   "cell_type": "code",
   "execution_count": 19,
   "id": "75aa8882-d633-4fe6-86a8-71826165092c",
   "metadata": {},
   "outputs": [
    {
     "data": {
      "text/plain": [
       "51760"
      ]
     },
     "execution_count": 19,
     "metadata": {},
     "output_type": "execute_result"
    }
   ],
   "source": [
    "len(tmp_model_input)"
   ]
  },
  {
   "cell_type": "code",
   "execution_count": 20,
   "id": "a04f33da-910f-4d4a-b981-a5cd48af01dd",
   "metadata": {},
   "outputs": [],
   "source": [
    "conv_len_tokens = [get_tokens(elem, tokenizer).shape[1] for elem in tmp_model_input]"
   ]
  },
  {
   "cell_type": "code",
   "execution_count": 21,
   "id": "f9b48116-8a96-4892-81c2-8d7b4749d692",
   "metadata": {},
   "outputs": [
    {
     "data": {
      "text/plain": [
       "51760"
      ]
     },
     "execution_count": 21,
     "metadata": {},
     "output_type": "execute_result"
    }
   ],
   "source": [
    "len(conv_len_tokens)"
   ]
  },
  {
   "cell_type": "code",
   "execution_count": 22,
   "id": "e203c18c-ca0f-4d6e-8270-5663cfab9331",
   "metadata": {},
   "outputs": [
    {
     "data": {
      "text/plain": [
       "np.int64(634)"
      ]
     },
     "execution_count": 22,
     "metadata": {},
     "output_type": "execute_result"
    }
   ],
   "source": [
    "np.max(conv_len_tokens)"
   ]
  },
  {
   "cell_type": "code",
   "execution_count": 23,
   "id": "d05fb3d0-2146-411c-83f8-69eca5d121fb",
   "metadata": {},
   "outputs": [
    {
     "data": {
      "text/plain": [
       "<module 'src.visualization.plot_rawdata' from '/home/daniel/Documents/llm-testbed/data/notebooks/../../src/visualization/plot_rawdata.py'>"
      ]
     },
     "execution_count": 23,
     "metadata": {},
     "output_type": "execute_result"
    }
   ],
   "source": [
    "import importlib\n",
    "importlib.reload(plotutils)"
   ]
  },
  {
   "cell_type": "code",
   "execution_count": 29,
   "id": "506ca90a-94de-4c43-9fb8-6badaf324eda",
   "metadata": {},
   "outputs": [
    {
     "data": {
      "image/png": "[encoded data removed]",
      "text/plain": [
       "<Figure size 1000x280 with 2 Axes>"
      ]
     },
     "metadata": {},
     "output_type": "display_data"
    }
   ],
   "source": [
    "fig = plotutils.plot_histogram_and_cdf(conv_len_tokens, in_size=(10, 2.8), \n",
    "                                       in_title=\"# Input Tokens Alpaca\", n_bins=200, \n",
    "                                       x_forcdf=0, cdf_forx=[0.25, 0.5, 0.75, 0.95, 0.99], logx=True)\n",
    "# fig = plotutils.plot_histogram_and_cdf(conv_len_tokens, in_size=(10, 2.8), \n",
    "#                                        in_title=\"# Input Tokens Alpaca\", n_bins=80,\n",
    "#                                        x_forcdf=0, cdf_forx=[0.25, 0.5, 0.75, 0.95, 0.999])"
   ]
  },
  {
   "cell_type": "code",
   "execution_count": 30,
   "id": "a4104488-ef07-431d-93f2-b38191064afc",
   "metadata": {},
   "outputs": [],
   "source": [
    "fig.savefig(\"../../outputs/images/raw_data_Alpaca_COMPLETE_ntokens_hist.pdf\", bbox_inches=\"tight\")"
   ]
  },
  {
   "cell_type": "code",
   "execution_count": null,
   "id": "dc126123-fb14-4907-bed5-e3db476a25ec",
   "metadata": {},
   "outputs": [],
   "source": []
  },
  {
   "cell_type": "markdown",
   "id": "f295a23d-93d0-4909-a9be-bb94f9e0b0f7",
   "metadata": {},
   "source": [
    "# Split the datasets"
   ]
  },
  {
   "cell_type": "code",
   "execution_count": 31,
   "id": "2fa98539-ddbe-43bf-874c-a364353c9201",
   "metadata": {},
   "outputs": [],
   "source": [
    "SEED = 42\n",
    "MAXIMUM = 2000"
   ]
  },
  {
   "cell_type": "code",
   "execution_count": 32,
   "id": "061e9fd7-b58c-4d39-ba16-d809faa0dec1",
   "metadata": {},
   "outputs": [],
   "source": [
    "np.random.seed(SEED)"
   ]
  },
  {
   "cell_type": "code",
   "execution_count": 33,
   "id": "a03d1c70-1d68-45f8-91a0-0e2665938649",
   "metadata": {},
   "outputs": [],
   "source": [
    "tmp = np.arange(len(data))\n",
    "np.random.shuffle(tmp)"
   ]
  },
  {
   "cell_type": "code",
   "execution_count": 34,
   "id": "578b83d3-c1ca-4879-982b-d77850d6643d",
   "metadata": {},
   "outputs": [
    {
     "name": "stdout",
     "output_type": "stream",
     "text": [
      "SELECTING 2000 samples randomly from dataset\n"
     ]
    }
   ],
   "source": [
    "idx_subset = min(MAXIMUM, len(data))\n",
    "tmp = tmp[0:idx_subset]\n",
    "print(f\"SELECTING {len(tmp)} samples randomly from dataset\")"
   ]
  },
  {
   "cell_type": "code",
   "execution_count": 35,
   "id": "4f036cbf-b814-4565-bafd-be4ab7c79bc8",
   "metadata": {},
   "outputs": [],
   "source": [
    "train_indxs, val_indxs, test_indxs = np.split(tmp, [int(0.7*len(tmp)), int(0.9*len(tmp))])"
   ]
  },
  {
   "cell_type": "code",
   "execution_count": 36,
   "id": "a22bb21f-28b3-45bb-afae-6319cfed485b",
   "metadata": {},
   "outputs": [
    {
     "name": "stdout",
     "output_type": "stream",
     "text": [
      "Selecting 1400 training, 400 validation, and 200 test samples\n"
     ]
    }
   ],
   "source": [
    "print(f\"Selecting {len(train_indxs)} training, {len(val_indxs)} validation, and {len(test_indxs)} test samples\")"
   ]
  },
  {
   "cell_type": "code",
   "execution_count": 37,
   "id": "993db82f-7ca6-4782-be98-217ec5dacc57",
   "metadata": {},
   "outputs": [],
   "source": [
    "data_train = [data[i] for i in train_indxs]\n",
    "data_val = [data[i] for i in val_indxs]\n",
    "data_test = [data[i] for i in test_indxs]"
   ]
  },
  {
   "cell_type": "code",
   "execution_count": 38,
   "id": "59eb45bb-d8e3-4a24-8a47-42ea98eb5013",
   "metadata": {},
   "outputs": [
    {
     "name": "stdout",
     "output_type": "stream",
     "text": [
      "Percentage of training data: 0.027\n",
      "Percentage of validation data: 0.0077\n",
      "Percentage of test data: 0.0039\n"
     ]
    }
   ],
   "source": [
    "# Check if the lengths agree\n",
    "print(f\"Percentage of training data: {round(len(data_train)/len(data), 4)}\")\n",
    "print(f\"Percentage of validation data: {round(len(data_val)/len(data), 4)}\")\n",
    "print(f\"Percentage of test data: {round(len(data_test)/len(data), 4)}\")"
   ]
  },
  {
   "cell_type": "code",
   "execution_count": null,
   "id": "ed52ac12-6b5e-4763-8343-ae7efe449f05",
   "metadata": {},
   "outputs": [],
   "source": []
  },
  {
   "cell_type": "code",
   "execution_count": null,
   "id": "19ab1736-26d9-400d-be67-e55d96abbcba",
   "metadata": {},
   "outputs": [],
   "source": []
  },
  {
   "cell_type": "markdown",
   "id": "45c4caf3-c33c-4b4d-817c-f5792d1563f3",
   "metadata": {},
   "source": [
    "### Analyze TRIMMED DATASET lenght of prompts in terms of number of tokens"
   ]
  },
  {
   "cell_type": "code",
   "execution_count": 39,
   "id": "1a45e9f8-fa06-4c05-8eda-7ebf5428e2a0",
   "metadata": {
    "scrolled": true
   },
   "outputs": [],
   "source": [
    "tmp_model_input = [build_rawprompt_text_chat(alpaca_generate_rawprompt_text(elem, tokenizer)) for elem in [data[k] for k in tmp]]"
   ]
  },
  {
   "cell_type": "code",
   "execution_count": 40,
   "id": "0c0c6ae7-ba20-488b-858e-9c0934468f22",
   "metadata": {},
   "outputs": [
    {
     "data": {
      "text/plain": [
       "2000"
      ]
     },
     "execution_count": 40,
     "metadata": {},
     "output_type": "execute_result"
    }
   ],
   "source": [
    "len(tmp_model_input)"
   ]
  },
  {
   "cell_type": "code",
   "execution_count": 41,
   "id": "01a1aa58-b970-4717-b7d6-b8ddde4d91d2",
   "metadata": {},
   "outputs": [],
   "source": [
    "conv_len_tokens = [get_tokens(elem, tokenizer).shape[1] for elem in tmp_model_input]"
   ]
  },
  {
   "cell_type": "code",
   "execution_count": 42,
   "id": "e6fd6967-d13b-49bd-a3c8-ee63ac9ff464",
   "metadata": {},
   "outputs": [
    {
     "data": {
      "text/plain": [
       "2000"
      ]
     },
     "execution_count": 42,
     "metadata": {},
     "output_type": "execute_result"
    }
   ],
   "source": [
    "len(conv_len_tokens)"
   ]
  },
  {
   "cell_type": "code",
   "execution_count": 43,
   "id": "76c1f605-6004-4426-a80e-9c3fee99b36f",
   "metadata": {},
   "outputs": [
    {
     "data": {
      "text/plain": [
       "np.int64(397)"
      ]
     },
     "execution_count": 43,
     "metadata": {},
     "output_type": "execute_result"
    }
   ],
   "source": [
    "np.max(conv_len_tokens)"
   ]
  },
  {
   "cell_type": "code",
   "execution_count": 46,
   "id": "d9fc3bd4-2c5c-461a-99a0-b4f2da0eaa70",
   "metadata": {},
   "outputs": [
    {
     "name": "stdout",
     "output_type": "stream",
     "text": [
      "MEAN: 53.7385\n",
      "MIN: 39,\n",
      "MAX: 397\n",
      "P25: 45.00 P50: 49.00 P75: 57.00 P99: 114.01\n"
     ]
    }
   ],
   "source": [
    "print(f\"MEAN: {np.mean(conv_len_tokens)}\\nMIN: {np.min(conv_len_tokens)},\\nMAX: {np.max(conv_len_tokens)}\")\n",
    "print(*[f\"P{p}: {v:.2f}\" for p, v in zip([25, 50, 75, 99], np.percentile(conv_len_tokens, [25, 50, 75, 99]))])"
   ]
  },
  {
   "cell_type": "code",
   "execution_count": 44,
   "id": "95a34556-8ceb-4860-93bd-311540e65f5f",
   "metadata": {},
   "outputs": [
    {
     "data": {
      "image/png": "[encoded data removed]",
      "text/plain": [
       "<Figure size 1000x280 with 2 Axes>"
      ]
     },
     "metadata": {},
     "output_type": "display_data"
    }
   ],
   "source": [
    "fig = plotutils.plot_histogram_and_cdf(conv_len_tokens, in_size=(10, 2.8), \n",
    "                                       in_title=\"# Input Tokens Alpaca\", n_bins=200, \n",
    "                                       x_forcdf=0, cdf_forx=[0.25, 0.5, 0.75, 0.95, 0.99], logx=True)\n",
    "# fig = plotutils.plot_histogram_and_cdf(conv_len_tokens, in_size=(10, 2.8), \n",
    "#                                        in_title=\"# Input Tokens Alpaca\", \n",
    "#                                        x_forcdf=0, cdf_forx=[0.25, 0.5, 0.75, 0.95, 0.999])"
   ]
  },
  {
   "cell_type": "code",
   "execution_count": 45,
   "id": "30e85020-ed6e-4486-a84e-a8a8d0377812",
   "metadata": {},
   "outputs": [],
   "source": [
    "fig.savefig(\"../../outputs/images/raw_data_Alpaca_ntokens_hist.pdf\", bbox_inches=\"tight\")"
   ]
  },
  {
   "cell_type": "code",
   "execution_count": null,
   "id": "fded6a7d-5d7f-4a18-b025-16002bf477b3",
   "metadata": {},
   "outputs": [],
   "source": []
  },
  {
   "cell_type": "markdown",
   "id": "94f41a08-0ff7-4aaf-bf3d-0029045cdd3b",
   "metadata": {},
   "source": [
    "## Save Datasets"
   ]
  },
  {
   "cell_type": "code",
   "execution_count": 42,
   "id": "c0f91a2e-656a-4d5a-8c63-8d923ede97be",
   "metadata": {},
   "outputs": [],
   "source": [
    "def save_data(dataset, path):\n",
    "    with open(path, 'w') as f:\n",
    "        json.dump(dataset, f)\n",
    "    print(f\"Dataset saved to path {path}\")"
   ]
  },
  {
   "cell_type": "code",
   "execution_count": 44,
   "id": "2ba2a5de-4436-418f-91d6-9fada27e41d9",
   "metadata": {},
   "outputs": [],
   "source": [
    "save_path_src = \"../raw_instruct/Alpaca/raw_Alpaca\""
   ]
  },
  {
   "cell_type": "code",
   "execution_count": 45,
   "id": "710cba3e-02ce-42d3-a568-a3a1de770209",
   "metadata": {},
   "outputs": [
    {
     "name": "stdout",
     "output_type": "stream",
     "text": [
      "Dataset saved to path ../raw_instruct/Alpaca/raw_Alpaca_train.json\n"
     ]
    }
   ],
   "source": [
    "save_data(data_train, save_path_src + \"_train.json\")"
   ]
  },
  {
   "cell_type": "code",
   "execution_count": 46,
   "id": "997189db-ca7f-449c-8087-7a8feca80e6b",
   "metadata": {},
   "outputs": [
    {
     "name": "stdout",
     "output_type": "stream",
     "text": [
      "Dataset saved to path ../raw_instruct/Alpaca/raw_Alpaca_validate.json\n"
     ]
    }
   ],
   "source": [
    "save_data(data_val, save_path_src + \"_validate.json\")"
   ]
  },
  {
   "cell_type": "code",
   "execution_count": 47,
   "id": "79d8d700-1328-4bdb-ada5-d2a3410cfca7",
   "metadata": {},
   "outputs": [
    {
     "name": "stdout",
     "output_type": "stream",
     "text": [
      "Dataset saved to path ../raw_instruct/Alpaca/raw_Alpaca_test.json\n"
     ]
    }
   ],
   "source": [
    "save_data(data_test, save_path_src + \"_test.json\")"
   ]
  },
  {
   "cell_type": "code",
   "execution_count": null,
   "id": "7117480f-ba94-4df4-9bad-0a7b1ceb09de",
   "metadata": {},
   "outputs": [],
   "source": []
  },
  {
   "cell_type": "code",
   "execution_count": null,
   "id": "a462e9e5-3b6b-4995-be6a-27f254ffa715",
   "metadata": {},
   "outputs": [],
   "source": []
  },
  {
   "cell_type": "code",
   "execution_count": null,
   "id": "a95ff9ec-0652-4bc8-a855-cc18c374a3ab",
   "metadata": {},
   "outputs": [],
   "source": []
  },
  {
   "cell_type": "code",
   "execution_count": null,
   "id": "755134ef-6eb7-445d-b2ec-37f26867deda",
   "metadata": {},
   "outputs": [],
   "source": []
  },
  {
   "cell_type": "code",
   "execution_count": null,
   "id": "cb779ba1-c7ee-4f7b-bb02-acdc573fb928",
   "metadata": {},
   "outputs": [],
   "source": []
  },
  {
   "cell_type": "code",
   "execution_count": null,
   "id": "6a57076a-b3c5-4a12-8d37-5436836c995e",
   "metadata": {},
   "outputs": [],
   "source": []
  },
  {
   "cell_type": "code",
   "execution_count": null,
   "id": "cf676b7c-78f3-48ff-8373-11ed16186c9d",
   "metadata": {},
   "outputs": [],
   "source": []
  },
  {
   "cell_type": "code",
   "execution_count": null,
   "id": "64a53bea-f982-4e93-bc85-4109fafb2a60",
   "metadata": {},
   "outputs": [],
   "source": []
  },
  {
   "cell_type": "code",
   "execution_count": null,
   "id": "9864526b-3379-4425-84a9-3ee85ca6a2fe",
   "metadata": {},
   "outputs": [],
   "source": []
  },
  {
   "cell_type": "code",
   "execution_count": null,
   "id": "3adf259f-2799-4e93-86a8-ff2ebb781ce5",
   "metadata": {},
   "outputs": [],
   "source": []
  },
  {
   "cell_type": "code",
   "execution_count": null,
   "id": "10437a7a-8f4d-4cc8-b95a-f4ab940c80f7",
   "metadata": {},
   "outputs": [],
   "source": []
  },
  {
   "cell_type": "code",
   "execution_count": null,
   "id": "75df5920-a6e9-4828-a472-5e0e5590fa8e",
   "metadata": {},
   "outputs": [],
   "source": []
  },
  {
   "cell_type": "code",
   "execution_count": null,
   "id": "eb445f0c-3441-499b-8f8a-af1d65cc23f3",
   "metadata": {},
   "outputs": [],
   "source": []
  },
  {
   "cell_type": "code",
   "execution_count": null,
   "id": "fa043000-ef05-4c56-8863-a88716174634",
   "metadata": {},
   "outputs": [],
   "source": []
  },
  {
   "cell_type": "code",
   "execution_count": null,
   "id": "eee8b960-2199-4e7e-b6f4-298987eafc27",
   "metadata": {},
   "outputs": [],
   "source": []
  },
  {
   "cell_type": "code",
   "execution_count": null,
   "id": "ee43f232-b0ac-438b-88fc-c831e6a07e19",
   "metadata": {},
   "outputs": [],
   "source": []
  },
  {
   "cell_type": "code",
   "execution_count": null,
   "id": "ee35c7e4-4f30-4ad9-aca1-bb245c37ac46",
   "metadata": {},
   "outputs": [],
   "source": []
  },
  {
   "cell_type": "code",
   "execution_count": null,
   "id": "fdaeb494-8d0e-415f-82d3-bb5d4f4f10ad",
   "metadata": {},
   "outputs": [],
   "source": []
  },
  {
   "cell_type": "code",
   "execution_count": null,
   "id": "7ba38c82-c4ca-4914-860c-e4de1fea6f40",
   "metadata": {},
   "outputs": [],
   "source": []
  },
  {
   "cell_type": "markdown",
   "id": "6636c8c2-daa2-4692-af86-5d88f7b076e8",
   "metadata": {},
   "source": [
    "# PREVIOUS CODE"
   ]
  },
  {
   "cell_type": "code",
   "execution_count": 8,
   "id": "e4dd4d5a-5ba5-4aec-8145-74a13b0d4022",
   "metadata": {},
   "outputs": [],
   "source": [
    "sentence=[{'role': \"user\",\n",
    "           \"content\": \"Hi ChatGPT. Do you think you can tell me the sum of a and b?\\nInput: a=10, b=20\"}]"
   ]
  },
  {
   "cell_type": "code",
   "execution_count": 9,
   "id": "788ca5ec-7d88-4f98-92eb-a241abb2e62e",
   "metadata": {},
   "outputs": [],
   "source": [
    "def get_tokens(sentence, tokenizer):\n",
    "    return tokenizer.apply_chat_template(sentence, return_tensors=\"pt\", add_generation_prompt=True)   "
   ]
  },
  {
   "cell_type": "code",
   "execution_count": 10,
   "id": "e9abf0dc-5928-40a6-ab87-bd17a4efd573",
   "metadata": {},
   "outputs": [
    {
     "name": "stdout",
     "output_type": "stream",
     "text": [
      "<bos><start_of_turn>user\n",
      "Hi ChatGPT. Do you think you can tell me the sum of a and b?\n",
      "Input: a=10, b=20<end_of_turn>\n",
      "<start_of_turn>model\n",
      "\n"
     ]
    }
   ],
   "source": [
    "print(tokenizer.batch_decode(get_tokens(sentence, tokenizer))[0])"
   ]
  },
  {
   "cell_type": "code",
   "execution_count": 11,
   "id": "91d502aa-aa24-4fb6-9e21-6123c5584da2",
   "metadata": {},
   "outputs": [
    {
     "name": "stdout",
     "output_type": "stream",
     "text": [
      "Index: 6\n",
      "Prompt:\n",
      "'Explain why the following fraction is equivalent to 1/4\n",
      "Input: 4/16'\n"
     ]
    }
   ],
   "source": [
    "# Find the first data sample with a 'input' element.\n",
    "for i,elem in enumerate(data): \n",
    "    if elem['input']:\n",
    "        tmp = elem['instruction']+\"\\nInput: \"+elem['input']\n",
    "        print(f\"Index: {i}\\nPrompt:\\n'{tmp}'\")\n",
    "        break"
   ]
  },
  {
   "cell_type": "code",
   "execution_count": 12,
   "id": "26dc5917-ae19-432a-ba36-485a8a152225",
   "metadata": {},
   "outputs": [
    {
     "data": {
      "text/plain": [
       "tensor([[     2,    106,   1645,    108,  74198,   3165,    573,   2412,  17441,\n",
       "            603,  13107,    577, 235248, 235274, 235283, 235310,    108,   3678,\n",
       "         235292, 235248, 235310, 235283, 235274, 235318,    107,    108,    106,\n",
       "           2516,    108]])"
      ]
     },
     "execution_count": 12,
     "metadata": {},
     "output_type": "execute_result"
    }
   ],
   "source": [
    "get_tokens([{'role': 'user',\n",
    "             'content': data[6]['instruction']+\"\\nInput: \"+data[6]['input']}], \n",
    "           tokenizer)"
   ]
  },
  {
   "cell_type": "code",
   "execution_count": 13,
   "id": "fd9962bd-13c3-4265-8aa7-2051b84a75cc",
   "metadata": {},
   "outputs": [
    {
     "name": "stdout",
     "output_type": "stream",
     "text": [
      "<bos><start_of_turn>user\n",
      "Explain why the following fraction is equivalent to 1/4\n",
      "Input: 4/16<end_of_turn>\n",
      "<start_of_turn>model\n",
      "\n"
     ]
    }
   ],
   "source": [
    "print(tokenizer.batch_decode(get_tokens([{'role': 'user',\n",
    "                                          'content': data[6]['instruction']+\"\\nInput: \"+data[6]['input']}], \n",
    "                                        tokenizer))[0])"
   ]
  },
  {
   "cell_type": "code",
   "execution_count": 14,
   "id": "bd412b3b-5021-4423-a43b-5f99d405cb18",
   "metadata": {},
   "outputs": [
    {
     "data": {
      "text/plain": [
       "torch.Size([1, 38])"
      ]
     },
     "execution_count": 14,
     "metadata": {},
     "output_type": "execute_result"
    }
   ],
   "source": [
    "get_tokens(sentence, tokenizer).shape"
   ]
  },
  {
   "cell_type": "code",
   "execution_count": null,
   "id": "85432b00-bd46-42b7-aecb-e1183ff81816",
   "metadata": {},
   "outputs": [],
   "source": []
  },
  {
   "cell_type": "markdown",
   "id": "2c280782-8f6b-46ab-aad4-8657d7e25431",
   "metadata": {},
   "source": [
    "#### Do the above for all conversations that start with human"
   ]
  },
  {
   "cell_type": "code",
   "execution_count": 15,
   "id": "4fe04bb6-e7ff-4abe-a10d-6c633d4d048b",
   "metadata": {},
   "outputs": [],
   "source": [
    "tmp_model_input = list()\n",
    "for elem in data:\n",
    "    if elem['input']:\n",
    "        tmp_model_input.append([{'role': 'user',\n",
    "                                'content': elem['instruction']+\"\\nInput: \"+elem['input']}])\n",
    "    else:\n",
    "        tmp_model_input.append([{'role': 'user', 'content': elem['instruction']}])"
   ]
  },
  {
   "cell_type": "code",
   "execution_count": 16,
   "id": "8e60fea8-334e-448e-9103-22e786eddfcc",
   "metadata": {},
   "outputs": [
    {
     "data": {
      "text/plain": [
       "51760"
      ]
     },
     "execution_count": 16,
     "metadata": {},
     "output_type": "execute_result"
    }
   ],
   "source": [
    "len(tmp_model_input)"
   ]
  },
  {
   "cell_type": "code",
   "execution_count": 17,
   "id": "e4da6034-d230-4d66-bd8d-6f75e61efe0d",
   "metadata": {},
   "outputs": [],
   "source": [
    "conv_len_tokens = [get_tokens(elem, tokenizer).shape[1] for elem in tmp_model_input]"
   ]
  },
  {
   "cell_type": "code",
   "execution_count": 18,
   "id": "3e463fde-219b-4851-80d0-76c6401de414",
   "metadata": {},
   "outputs": [
    {
     "data": {
      "text/plain": [
       "51760"
      ]
     },
     "execution_count": 18,
     "metadata": {},
     "output_type": "execute_result"
    }
   ],
   "source": [
    "len(conv_len_tokens)"
   ]
  },
  {
   "cell_type": "code",
   "execution_count": 19,
   "id": "9c9a1c49-c858-47e9-91cc-436b1e736c33",
   "metadata": {},
   "outputs": [
    {
     "data": {
      "text/plain": [
       "629"
      ]
     },
     "execution_count": 19,
     "metadata": {},
     "output_type": "execute_result"
    }
   ],
   "source": [
    "np.max(conv_len_tokens)"
   ]
  },
  {
   "cell_type": "code",
   "execution_count": 23,
   "id": "9296adba-2167-4e27-808b-52b02441ce4b",
   "metadata": {},
   "outputs": [
    {
     "data": {
      "image/png": "[encoded data removed]",
      "text/plain": [
       "<Figure size 1000x280 with 2 Axes>"
      ]
     },
     "metadata": {},
     "output_type": "display_data"
    }
   ],
   "source": [
    "fig = plotutils.plot_histogram_and_cdf(conv_len_tokens, in_size=(10, 2.8), \n",
    "                             in_title=\"# Input Tokens Alpaca\", x_forcdf=0, \n",
    "                                       cdf_forx=[0.25, 0.5, 0.75, 0.95, 0.999],\n",
    "                                      n_bins=80)"
   ]
  },
  {
   "cell_type": "code",
   "execution_count": 24,
   "id": "b43a548e-3201-4321-9da1-4a386cddfeab",
   "metadata": {},
   "outputs": [],
   "source": [
    "fig.savefig(\"../../outputs/images/raw_data_AlpacaCleaned_ntokens_hist.pdf\", bbox_inches=\"tight\")"
   ]
  },
  {
   "cell_type": "code",
   "execution_count": null,
   "id": "0f052ea3-0a7f-432d-a6e5-46af49910f7e",
   "metadata": {},
   "outputs": [],
   "source": []
  },
  {
   "cell_type": "code",
   "execution_count": 25,
   "id": "688fd95e-7f98-43fc-9311-8a3d55fe561d",
   "metadata": {},
   "outputs": [
    {
     "name": "stdout",
     "output_type": "stream",
     "text": [
      "[ 3911  4314 32267  1561 15401 20412 23805 15851 42243 46087 14824 47831\n",
      " 42459 51721 37231 45408  4811 20492  5838 19595]\n"
     ]
    }
   ],
   "source": [
    "tmp = np.arange(len(data))\n",
    "np.random.shuffle(tmp)\n",
    "print(tmp[0:20])"
   ]
  },
  {
   "cell_type": "code",
   "execution_count": 26,
   "id": "7af842b7-79f4-4b18-acf0-030302df9d85",
   "metadata": {},
   "outputs": [],
   "source": [
    "train_indxs, val_indxs, test_indxs = np.split(tmp, [int(0.7*len(tmp)), int(0.9*len(tmp))])"
   ]
  },
  {
   "cell_type": "code",
   "execution_count": 27,
   "id": "785fd894-1150-4b89-9b08-b70e22f5564e",
   "metadata": {},
   "outputs": [],
   "source": [
    "data_train = [data[i] for i in train_indxs]\n",
    "data_val = [data[i] for i in val_indxs]\n",
    "data_test = [data[i] for i in test_indxs]"
   ]
  },
  {
   "cell_type": "code",
   "execution_count": 29,
   "id": "ef8b2bdb-b77b-4b26-a608-6e4c7ecce43d",
   "metadata": {},
   "outputs": [
    {
     "name": "stdout",
     "output_type": "stream",
     "text": [
      "Percentage of training data: 0.7\n",
      "Percentage of validation data: 0.2\n",
      "Percentage of test data: 0.1\n"
     ]
    }
   ],
   "source": [
    "# Check if the lengths agree\n",
    "print(f\"Percentage of training data: {round(len(data_train)/len(data), 4)}\")\n",
    "print(f\"Percentage of validation data: {round(len(data_val)/len(data), 4)}\")\n",
    "print(f\"Percentage of test data: {round(len(data_test)/len(data), 4)}\")"
   ]
  },
  {
   "cell_type": "code",
   "execution_count": null,
   "id": "8c4ada7c-fb49-44d5-9a49-398b04f3bc89",
   "metadata": {},
   "outputs": [],
   "source": []
  }
 ],
 "metadata": {
  "kernelspec": {
   "display_name": "Python 3 (ipykernel)",
   "language": "python",
   "name": "python3"
  },
  "language_info": {
   "codemirror_mode": {
    "name": "ipython",
    "version": 3
   },
   "file_extension": ".py",
   "mimetype": "text/x-python",
   "name": "python",
   "nbconvert_exporter": "python",
   "pygments_lexer": "ipython3",
   "version": "3.12.9"
  }
 },
 "nbformat": 4,
 "nbformat_minor": 5
}
