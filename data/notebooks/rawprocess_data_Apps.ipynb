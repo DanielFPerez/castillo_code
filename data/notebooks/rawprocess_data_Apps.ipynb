{
 "cells": [
  {
   "cell_type": "markdown",
   "id": "3eceb776-1cac-4af8-9d7e-88273e84a6c9",
   "metadata": {},
   "source": [
    "# Apps Dataset\n",
    "\n",
    "https://github.com/hendrycks/apps?tab=readme-ov-file"
   ]
  },
  {
   "cell_type": "code",
   "execution_count": 1,
   "id": "39001390-aa23-494d-b6c9-597deeec0ecb",
   "metadata": {},
   "outputs": [],
   "source": [
    "import json\n",
    "import numpy as np\n",
    "import torch\n",
    "from transformers import AutoTokenizer\n",
    "from sklearn.model_selection import train_test_split\n",
    "\n",
    "import os \n",
    "import sys\n",
    "\n",
    "sys.path.append(os.path.join(os.getcwd(), \"../../\"))\n",
    "\n",
    "import src.visualization.plot_rawdata as plotutils"
   ]
  },
  {
   "cell_type": "code",
   "execution_count": 2,
   "id": "751fb2e9-403b-47a2-929b-01aebf592a56",
   "metadata": {},
   "outputs": [
    {
     "data": {
      "text/plain": [
       "10000"
      ]
     },
     "execution_count": 2,
     "metadata": {},
     "output_type": "execute_result"
    }
   ],
   "source": [
    "from datasets import load_dataset\n",
    "\n",
    "dataset = load_dataset(\"codeparrot/apps\")\n",
    "sum([len(dataset[elem]) for elem in dataset.keys()])"
   ]
  },
  {
   "cell_type": "code",
   "execution_count": 3,
   "id": "d4a64357-c086-442f-9f9d-c5accb18c977",
   "metadata": {},
   "outputs": [
    {
     "data": {
      "text/plain": [
       "dict_keys(['train', 'test'])"
      ]
     },
     "execution_count": 3,
     "metadata": {},
     "output_type": "execute_result"
    }
   ],
   "source": [
    "dataset.keys()"
   ]
  },
  {
   "cell_type": "code",
   "execution_count": 4,
   "id": "d3a890e7-fd3f-421f-9779-7224cc34abf4",
   "metadata": {},
   "outputs": [
    {
     "data": {
      "text/plain": [
       "datasets.arrow_dataset.Dataset"
      ]
     },
     "execution_count": 4,
     "metadata": {},
     "output_type": "execute_result"
    }
   ],
   "source": [
    "type(dataset['train'])"
   ]
  },
  {
   "cell_type": "code",
   "execution_count": 5,
   "id": "fbac8227-92f8-4a01-9497-ca734243cf96",
   "metadata": {},
   "outputs": [
    {
     "data": {
      "text/plain": [
       "{'problem_id': 899,\n",
       " 'question': 'Chef wants to teach a lesson of sharing to the students.\\nThere are $N$ students (numbered from $1$ to $N$ from left to right) who are asked to stand in a row. Initially Chef gave $A$$i$ candies to the $i$$th$ child. In one operation any child can give any number of candies to the child standing to his immediate left (i.e. $i$$th$ child can give any amount of candies to the $(i-1)$$th$ child. In particular 1st child cannot give his candies to anyone).  \\nHe asked them to minimize the maximum value of candies a student can possess after performing any number of operations (possibly zero). \\nHelp the students finding such maximum value.\\n\\n-----Input:-----\\n- The first line of the input contains a single integer $T$ denoting the number of test cases. The description of $T$ test cases follows.\\n- First line of each test case contains a single integer $N$ denoting the number of students.\\n- Second line contains $N$ space-separated integers $A$$1$,$A$$2$,$.....$ $A$$N$ denoting the initial amount of candies chef gave to them.\\n\\n-----Output:-----\\n- For each test case, print a single line containing one integer ― maximum value after sharing.\\n\\n-----Constraints-----\\n- $1 \\\\leq T \\\\leq 100$\\n- $1 \\\\leq N \\\\leq 10^5$\\n- $0$ $\\\\leq$ $A$$i$ $\\\\leq$ $10^9$\\n- Sum of $N$ over all Test Cases does not exceed $10^5$\\n\\n-----Sample Input-----\\n2 \\n5 \\n1 2 3 4 5 \\n5\\n5 4 3 2 1\\n\\n-----Sample Output-----\\n3 \\n5  \\n\\n-----Explanation-----\\n- \\nFor First Test Case:\\nThe $5$$th$ student will give $2$ candies to $4$$th$ student and $4$$th$ will give $3$ candies to $3$$rd$ and $3$$rd$ will give $3$ candies to $2$$nd$ and $2$$nd$ will give $2$ candies to $1$$st$. So finally the number of candies that they will have are \\n$[3,3,3,3,3]$ and the value of maximum candies is $3$.\\n- \\nFor Second Test Case:\\nSharing to the left student will not change the maximum value as $1$$st$ cannot share to anyone. So the maximum value will remain $5$.',\n",
       " 'solutions': '[\"from math import ceil\\\\n\\\\nfor _ in range(int(input())):\\\\n n = int(input())\\\\n arr = [int(x) for x in input().split()]\\\\n sarr = sum(arr)\\\\n mavg = sarr/n\\\\n while n>1:\\\\n  sarr -= arr.pop()\\\\n  n-=1\\\\n  mavg = max(mavg, sarr/n)\\\\n print(int(ceil(mavg)))\", \"import math\\\\nT=int(input())\\\\n\\\\nfor _ in range(T):\\\\n N=int(input())\\\\n A=list(map(int,input().split()))\\\\n ans=0\\\\n left=0\\\\n for i in range(N):\\\\n  v=A[i]-ans-left\\\\n  if (v<0):\\\\n   left=-v\\\\n  else:\\\\n   ans=ans+math.ceil(v/(i+1))\\\\n   left=(math.ceil(v/(i+1))*(i+1))-v\\\\n  \\\\n  \\\\n print(ans)\\\\n\", \"import math\\\\nt = int(input())\\\\nfor _ in range(t):\\\\n n = int(input())\\\\n a = [int(x) for x in input().split()]\\\\n ans = a[0]\\\\n s = 0\\\\n for i in range(n):\\\\n  s += a[i]\\\\n  if s%(i+1)==0:\\\\n   ans = max(ans,s//(i+1))\\\\n  else:\\\\n   ans = max(ans,(s//(i+1))+1)\\\\n print(ans)\\\\n #case 1\\\\n\\\\n\\\\n\", \"import math\\\\n\\\\n\\\\nt = int(input())\\\\nfor i in range(t):\\\\n n = int(input())\\\\n avg = []\\\\n arr = list(map(int, input().split()))\\\\n z = max(arr)\\\\n index = arr.index(z)\\\\n s = 0\\\\n j = 1\\\\n for elem in arr:\\\\n  s += elem\\\\n  avg.append(math.ceil(s / j))\\\\n  j += 1\\\\n print(max(avg))\"]',\n",
       " 'input_output': '{\"inputs\": [[\"2\", \"5\", \"1 2 3 4 5\", \"5\", \"5 4 3 2 1\"]], \"outputs\": [[\"3\", \"5\"]]}',\n",
       " 'difficulty': 'interview',\n",
       " 'url': 'https://www.codechef.com/CROS2020/problems/COCR106',\n",
       " 'starter_code': ''}"
      ]
     },
     "execution_count": 5,
     "metadata": {},
     "output_type": "execute_result"
    }
   ],
   "source": [
    "idx = 899\n",
    "dataset['train'][idx]"
   ]
  },
  {
   "cell_type": "code",
   "execution_count": 6,
   "id": "d26e4609-e40e-4ff0-8897-6df0ea81fe8a",
   "metadata": {},
   "outputs": [
    {
     "data": {
      "text/plain": [
       "dict_keys(['problem_id', 'question', 'solutions', 'input_output', 'difficulty', 'url', 'starter_code'])"
      ]
     },
     "execution_count": 6,
     "metadata": {},
     "output_type": "execute_result"
    }
   ],
   "source": [
    "dataset['train'][idx].keys()"
   ]
  },
  {
   "cell_type": "code",
   "execution_count": 7,
   "id": "9dfd2e9f-1f62-4527-8e9f-62ccbd212804",
   "metadata": {},
   "outputs": [
    {
     "data": {
      "text/plain": [
       "dict_keys(['problem_id', 'question', 'solutions', 'input_output', 'difficulty', 'url', 'starter_code'])"
      ]
     },
     "execution_count": 7,
     "metadata": {},
     "output_type": "execute_result"
    }
   ],
   "source": [
    "dataset['test'][idx].keys()"
   ]
  },
  {
   "cell_type": "code",
   "execution_count": 8,
   "id": "d29f6c16-5be6-44c6-8068-4a512f1cea86",
   "metadata": {},
   "outputs": [
    {
     "name": "stdout",
     "output_type": "stream",
     "text": [
      "The 'train' subset has 5000 samples\n",
      "The 'test' subset has 5000 samples\n"
     ]
    }
   ],
   "source": [
    "print(f\"The 'train' subset has {len(dataset['train'])} samples\\nThe 'test' subset has {len(dataset['test'])} samples\")"
   ]
  },
  {
   "cell_type": "code",
   "execution_count": 9,
   "id": "162acc3e-4fa4-47f5-8c8d-0515f46594a2",
   "metadata": {},
   "outputs": [],
   "source": [
    "#Find the firt element that contains the 'starter_code'\n",
    "for i, elem in enumerate(dataset['train']):\n",
    "    if elem['input_output'] and elem['starter_code']:\n",
    "        idx = i\n",
    "        break"
   ]
  },
  {
   "cell_type": "code",
   "execution_count": 10,
   "id": "ab387449-d3bb-48ba-b49e-9ee227ab3094",
   "metadata": {},
   "outputs": [
    {
     "data": {
      "text/plain": [
       "'\\nclass Solution:\\n    def maxScore(self, cardPoints: List[int], k: int) -> int:\\n        '"
      ]
     },
     "execution_count": 10,
     "metadata": {},
     "output_type": "execute_result"
    }
   ],
   "source": [
    "dataset['train'][idx]['starter_code']"
   ]
  },
  {
   "cell_type": "code",
   "execution_count": 11,
   "id": "08352b6c-7701-4891-ace5-58f6e2627fe3",
   "metadata": {},
   "outputs": [
    {
     "data": {
      "text/plain": [
       "datasets.arrow_dataset.Dataset"
      ]
     },
     "execution_count": 11,
     "metadata": {},
     "output_type": "execute_result"
    }
   ],
   "source": [
    "type(dataset['train'])"
   ]
  },
  {
   "cell_type": "markdown",
   "id": "0466cb17-f2a9-45e6-b866-0ff3e77a4c5e",
   "metadata": {},
   "source": [
    "### For now, only consider the 'train' subset, as it has 5000 samples alone\n",
    "We will take only 2000 samples"
   ]
  },
  {
   "cell_type": "code",
   "execution_count": 12,
   "id": "d9be66ea-1061-4769-8492-3848f53fc263",
   "metadata": {},
   "outputs": [],
   "source": [
    "data = dataset['train']"
   ]
  },
  {
   "cell_type": "code",
   "execution_count": 13,
   "id": "3971a1da-dbe2-40f1-bc19-6ddd472b44ba",
   "metadata": {},
   "outputs": [
    {
     "data": {
      "text/plain": [
       "datasets.arrow_dataset.Dataset"
      ]
     },
     "execution_count": 13,
     "metadata": {},
     "output_type": "execute_result"
    }
   ],
   "source": [
    "type(data)"
   ]
  },
  {
   "cell_type": "code",
   "execution_count": 14,
   "id": "24d1131f-d531-4284-aca7-a1a7518d2b51",
   "metadata": {},
   "outputs": [
    {
     "data": {
      "text/plain": [
       "5000"
      ]
     },
     "execution_count": 14,
     "metadata": {},
     "output_type": "execute_result"
    }
   ],
   "source": [
    "len(data)"
   ]
  },
  {
   "cell_type": "markdown",
   "id": "d7f9b3f7-2e46-480b-89d9-644280cc3a96",
   "metadata": {},
   "source": [
    "#### Check if all elements in data are of type dict and if just one input prompt per data sample (no conversation)"
   ]
  },
  {
   "cell_type": "code",
   "execution_count": 15,
   "id": "5b4a744d-d791-43cf-807d-5081095c2ee3",
   "metadata": {},
   "outputs": [],
   "source": [
    "verbose= False\n",
    "\n",
    "keys = ['problem_id', 'question', 'solutions', 'input_output', 'difficulty', 'url', 'starter_code']\n",
    "\n",
    "for i, elem in enumerate(data):\n",
    "    if not isinstance(elem, dict):\n",
    "        print(f\"Elem is not a dict! {elem}\")\n",
    "    elif sorted(list(elem.keys())) != sorted(keys):\n",
    "        print(f\"Elem has different keys in dict! {elem.keys()}\\n{elem}\\n\")\n",
    "    if elem['input_output']:\n",
    "        if type(elem['input_output']) != str:\n",
    "            print(f\"Input-Output of sample {i} of type {type(elem['input_output'])}\")\n",
    "        mydict = json.loads(data[idx]['input_output'])\n",
    "        if type(mydict['inputs']) != list:\n",
    "            print(f\"Input-Output of sample {i} -- inputs NOT a list!\")"
   ]
  },
  {
   "cell_type": "code",
   "execution_count": 16,
   "id": "c6950bb2-a3e7-4e9d-893e-c6d96f13b4eb",
   "metadata": {},
   "outputs": [
    {
     "data": {
      "text/plain": [
       "'{\"fn_name\": \"maxScore\", \"inputs\": [[[1, 2, 3, 4, 5, 6, 1], 3]], \"outputs\": [12]}'"
      ]
     },
     "execution_count": 16,
     "metadata": {},
     "output_type": "execute_result"
    }
   ],
   "source": [
    "data[idx]['input_output']"
   ]
  },
  {
   "cell_type": "markdown",
   "id": "071ece1c-8784-4a1e-a207-c93ce13dda7d",
   "metadata": {},
   "source": [
    "#### Note that the 'input_output' variable is a string!\n",
    "We need to convert it to a dict within the `rawprocessor.apps_generate_rawprompt_text` function "
   ]
  },
  {
   "cell_type": "code",
   "execution_count": 17,
   "id": "56901132-570e-4ccd-af89-12e35378b2ba",
   "metadata": {},
   "outputs": [],
   "source": [
    "mydict = json.loads(data[idx]['input_output'])"
   ]
  },
  {
   "cell_type": "code",
   "execution_count": 18,
   "id": "1c5fb51a-ec17-4c21-bd84-5f0323b533ed",
   "metadata": {},
   "outputs": [
    {
     "name": "stdout",
     "output_type": "stream",
     "text": [
      "<class 'dict'>\n",
      "{'fn_name': 'maxScore', 'inputs': [[[1, 2, 3, 4, 5, 6, 1], 3]], 'outputs': [12]}\n"
     ]
    }
   ],
   "source": [
    "print(type(mydict))\n",
    "print(mydict)"
   ]
  },
  {
   "cell_type": "code",
   "execution_count": 19,
   "id": "6bd9c20d-415c-4b05-a02d-40635eaed268",
   "metadata": {},
   "outputs": [
    {
     "data": {
      "text/plain": [
       "1"
      ]
     },
     "execution_count": 19,
     "metadata": {},
     "output_type": "execute_result"
    }
   ],
   "source": [
    "len(mydict['inputs'])"
   ]
  },
  {
   "cell_type": "markdown",
   "id": "aba12ceb-fc77-4044-9c5a-1c4ce97d2f8c",
   "metadata": {},
   "source": [
    "### No data"
   ]
  },
  {
   "cell_type": "code",
   "execution_count": 20,
   "id": "7109da6f-ce73-4d10-9cf6-a01555d9ceea",
   "metadata": {},
   "outputs": [
    {
     "name": "stdout",
     "output_type": "stream",
     "text": [
      "There are 0 elements in the dataset with no prompts!\n"
     ]
    }
   ],
   "source": [
    "no_conver_data = []\n",
    "\n",
    "prompt_key = \"question\"\n",
    "\n",
    "for elem in data: \n",
    "    if not elem[prompt_key]:\n",
    "        no_conver_data.append(elem)\n",
    "print(f\"There are {len(no_conver_data)} elements in the dataset with no prompts!\")"
   ]
  },
  {
   "cell_type": "markdown",
   "id": "1fff4df3-5222-4fbe-8c75-893d57b65c9b",
   "metadata": {},
   "source": [
    "So all of the elements in this dataset have an instruction!"
   ]
  },
  {
   "cell_type": "markdown",
   "id": "93366e63-bbfb-4f68-bee8-b836c6a0c187",
   "metadata": {},
   "source": [
    "#### Plot conversations lengths (number of tokens of first human input)"
   ]
  },
  {
   "cell_type": "code",
   "execution_count": 21,
   "id": "b5b02be6-2356-4ffb-82bb-70416d1f1e36",
   "metadata": {},
   "outputs": [],
   "source": [
    "access_tk = os.getenv(\"HF_API_TOKEN\")\n",
    "device_str = \"cuda:0\"\n",
    "model_name = \"meta-llama/Llama-3.2-3B-Instruct\"\n",
    "padding_side='left'\n",
    "\n",
    "tokenizer = AutoTokenizer.from_pretrained(model_name, token=access_tk, device_map=device_str, torch_dtype=torch.float16, padding_side=padding_side)\n",
    "\n"
   ]
  },
  {
   "cell_type": "markdown",
   "id": "9dde97c9-a342-4834-8be9-0eda42cc3682",
   "metadata": {},
   "source": [
    "## Input handling\n",
    "Each sample in the dataset is of type `dict`.\n",
    "The keys of that `dict` are `['problem_id', 'question', 'solutions', 'input_output', 'difficulty', 'url', 'starter_code']`. \n",
    "\n",
    "However, the tokenizers do not recognize those keyas, so we need to append it to the user's `content`.  "
   ]
  },
  {
   "cell_type": "code",
   "execution_count": 22,
   "id": "788ca5ec-7d88-4f98-92eb-a241abb2e62e",
   "metadata": {},
   "outputs": [],
   "source": [
    "def get_tokens(sentence, tokenizer):\n",
    "    return tokenizer.apply_chat_template(sentence, return_tensors=\"pt\", add_generation_prompt=True)   "
   ]
  },
  {
   "cell_type": "code",
   "execution_count": 23,
   "id": "9d0da709-57c7-46e3-a2c6-d50c7fe015d3",
   "metadata": {},
   "outputs": [],
   "source": [
    "from src.data.rawdata_processor import apps_generate_rawprompt_text, build_rawprompt_text_chat, build_rawprompt_text_batch"
   ]
  },
  {
   "cell_type": "code",
   "execution_count": 24,
   "id": "be92bce8-dd7a-42d0-968d-8faa2972e7a3",
   "metadata": {},
   "outputs": [
    {
     "name": "stdout",
     "output_type": "stream",
     "text": [
      "QUESTION: There are several cards arranged in a row, and each card has an associated number of points The points are given in the integer array cardPoints.\n",
      "In one step, you can take one card from the beginning or from the end of the row. You have to take exactly k cards.\n",
      "Your score is the sum of the points of the cards you have taken.\n",
      "Given the integer array cardPoints and the integer k, return the maximum score you can obtain.\n",
      " \n",
      "Example 1:\n",
      "Input: cardPoints = [1,2,3,4,5,6,1], k = 3\n",
      "Output: 12\n",
      "Explanation: After the first step, your score will always be 1. However, choosing the rightmost card first will maximize your total score. The optimal strategy is to take the three cards on the right, giving a final score of 1 + 6 + 5 = 12.\n",
      "\n",
      "Example 2:\n",
      "Input: cardPoints = [2,2,2], k = 2\n",
      "Output: 4\n",
      "Explanation: Regardless of which two cards you take, your score will always be 4.\n",
      "\n",
      "Example 3:\n",
      "Input: cardPoints = [9,7,7,9,7,7,9], k = 7\n",
      "Output: 55\n",
      "Explanation: You have to take all the cards. Your score is the sum of points of all cards.\n",
      "\n",
      "Example 4:\n",
      "Input: cardPoints = [1,1000,1], k = 1\n",
      "Output: 1\n",
      "Explanation: You cannot take the card in the middle. Your best score is 1. \n",
      "\n",
      "Example 5:\n",
      "Input: cardPoints = [1,79,80,1,1,1,200,1], k = 3\n",
      "Output: 202\n",
      "\n",
      " \n",
      "Constraints:\n",
      "\n",
      "1 <= cardPoints.length <= 10^5\n",
      "1 <= cardPoints[i] <= 10^4\n",
      "1 <= k <= cardPoints.length\n",
      "\n",
      "Your code should start with the following: \n",
      "\n",
      "class Solution:\n",
      "    def maxScore(self, cardPoints: List[int], k: int) -> int:\n",
      "        \n",
      "The following is the standard input and output format: \n",
      "Inputs:\n",
      "[[1, 2, 3, 4, 5, 6, 1], 3]\n",
      "Outputs:\n",
      "12\n"
     ]
    }
   ],
   "source": [
    "mystring = apps_generate_rawprompt_text(data[idx], tokenizer, truncate=False, prompt_key=prompt_key)\n",
    "print(mystring)"
   ]
  },
  {
   "cell_type": "code",
   "execution_count": 25,
   "id": "da3e4427-e3d7-4199-92ec-97d78c2eb700",
   "metadata": {},
   "outputs": [
    {
     "data": {
      "text/plain": [
       "[{'role': 'user',\n",
       "  'content': 'QUESTION: There are several cards\\xa0arranged in a row, and each card has an associated number of points\\xa0The points are given in the integer array\\xa0cardPoints.\\nIn one step, you can take one card from the beginning or from the end of the row. You have to take exactly k cards.\\nYour score is the sum of the points of the cards you have taken.\\nGiven the integer array cardPoints and the integer k, return the maximum score you can obtain.\\n\\xa0\\nExample 1:\\nInput: cardPoints = [1,2,3,4,5,6,1], k = 3\\nOutput: 12\\nExplanation: After the first step, your score will always be 1. However, choosing the rightmost card first will maximize your total score. The optimal strategy is to take the three cards on the right, giving a final score of 1 + 6 + 5 = 12.\\n\\nExample 2:\\nInput: cardPoints = [2,2,2], k = 2\\nOutput: 4\\nExplanation: Regardless of which two cards you take, your score will always be 4.\\n\\nExample 3:\\nInput: cardPoints = [9,7,7,9,7,7,9], k = 7\\nOutput: 55\\nExplanation: You have to take all the cards. Your score is the sum of points of all cards.\\n\\nExample 4:\\nInput: cardPoints = [1,1000,1], k = 1\\nOutput: 1\\nExplanation: You cannot take the card in the middle. Your best score is 1. \\n\\nExample 5:\\nInput: cardPoints = [1,79,80,1,1,1,200,1], k = 3\\nOutput: 202\\n\\n\\xa0\\nConstraints:\\n\\n1 <= cardPoints.length <= 10^5\\n1 <= cardPoints[i] <= 10^4\\n1 <= k <= cardPoints.length\\n\\nYour code should start with the following: \\n\\nclass Solution:\\n    def maxScore(self, cardPoints: List[int], k: int) -> int:\\n        \\nThe following is the standard input and output format: \\nInputs:\\n[[1, 2, 3, 4, 5, 6, 1], 3]\\nOutputs:\\n12'}]"
      ]
     },
     "execution_count": 25,
     "metadata": {},
     "output_type": "execute_result"
    }
   ],
   "source": [
    "build_rawprompt_text_chat(mystring)"
   ]
  },
  {
   "cell_type": "code",
   "execution_count": 26,
   "id": "ffe5f4eb-e2b8-4151-8fc7-113c2b078635",
   "metadata": {},
   "outputs": [
    {
     "data": {
      "text/plain": [
       "tensor([[128000, 128006,   9125, 128007,    271,  38766,   1303,  33025,   2696,\n",
       "             25,   6790,    220,   2366,     18,    198,  15724,   2696,     25,\n",
       "            220,    605,   3297,    220,   2366,     20,    271, 128009, 128006,\n",
       "            882, 128007,    271,  53528,     25,   2684,    527,   3892,   7563,\n",
       "           4194,   1138,   3811,    304,    264,   2872,     11,    323,   1855,\n",
       "           3786,    706,    459,   5938,   1396,    315,   3585,   4194,    791,\n",
       "           3585,    527,   2728,    304,    279,   7698,   1358,   4194,   5057,\n",
       "          11665,    627,    644,    832,   3094,     11,    499,    649,   1935,\n",
       "            832,   3786,    505,    279,   7314,    477,    505,    279,    842,\n",
       "            315,    279,   2872,     13,   1472,    617,    311,   1935,   7041,\n",
       "            597,   7563,    627,   7927,   5573,    374,    279,   2694,    315,\n",
       "            279,   3585,    315,    279,   7563,    499,    617,   4529,    627,\n",
       "          22818,    279,   7698,   1358,   3786,  11665,    323,    279,   7698,\n",
       "            597,     11,    471,    279,   7340,   5573,    499,    649,   6994,\n",
       "            627,  52050,  13617,    220,     16,    512,   2566,     25,   3786,\n",
       "          11665,    284,    510,     16,     11,     17,     11,     18,     11,\n",
       "             19,     11,     20,     11,     21,     11,     16,   1145,    597,\n",
       "            284,    220,     18,    198,   5207,     25,    220,    717,    198,\n",
       "          70869,     25,   4740,    279,   1176,   3094,     11,    701,   5573,\n",
       "            690,   2744,    387,    220,     16,     13,   4452,     11,  19301,\n",
       "            279,   1314,   3646,   3786,   1176,    690,  35608,    701,   2860,\n",
       "           5573,     13,    578,  23669,   8446,    374,    311,   1935,    279,\n",
       "           2380,   7563,    389,    279,   1314,     11,   7231,    264,   1620,\n",
       "           5573,    315,    220,     16,    489,    220,     21,    489,    220,\n",
       "             20,    284,    220,    717,    382,  13617,    220,     17,    512,\n",
       "           2566,     25,   3786,  11665,    284,    510,     17,     11,     17,\n",
       "             11,     17,   1145,    597,    284,    220,     17,    198,   5207,\n",
       "             25,    220,     19,    198,  70869,     25,  44840,    315,    902,\n",
       "           1403,   7563,    499,   1935,     11,    701,   5573,    690,   2744,\n",
       "            387,    220,     19,    382,  13617,    220,     18,    512,   2566,\n",
       "             25,   3786,  11665,    284,    510,     24,     11,     22,     11,\n",
       "             22,     11,     24,     11,     22,     11,     22,     11,     24,\n",
       "           1145,    597,    284,    220,     22,    198,   5207,     25,    220,\n",
       "           2131,    198,  70869,     25,   1472,    617,    311,   1935,    682,\n",
       "            279,   7563,     13,   4718,   5573,    374,    279,   2694,    315,\n",
       "           3585,    315,    682,   7563,    382,  13617,    220,     19,    512,\n",
       "           2566,     25,   3786,  11665,    284,    510,     16,     11,   1041,\n",
       "             15,     11,     16,   1145,    597,    284,    220,     16,    198,\n",
       "           5207,     25,    220,     16,    198,  70869,     25,   1472,   4250,\n",
       "           1935,    279,   3786,    304,    279,   6278,     13,   4718,   1888,\n",
       "           5573,    374,    220,     16,     13,   4815,  13617,    220,     20,\n",
       "            512,   2566,     25,   3786,  11665,    284,    510,     16,     11,\n",
       "           4643,     11,   1490,     11,     16,     11,     16,     11,     16,\n",
       "             11,   1049,     11,     16,   1145,    597,    284,    220,     18,\n",
       "            198,   5207,     25,    220,   2366,    271,  52050,  13221,   1473,\n",
       "             16,   2717,   3786,  11665,   1996,   2717,    220,    605,     61,\n",
       "             20,    198,     16,   2717,   3786,  11665,   1004,     60,   2717,\n",
       "            220,    605,     61,     19,    198,     16,   2717,    597,   2717,\n",
       "           3786,  11665,   1996,    271,   7927,   2082,   1288,   1212,    449,\n",
       "            279,   2768,     25,   4815,   1058,  12761,    512,    262,    711,\n",
       "           1973,  10793,   1214,     11,   3786,  11665,     25,   1796,  19155,\n",
       "           1145,    597,     25,    528,      8,   1492,    528,    512,   1827,\n",
       "            791,   2768,    374,    279,   5410,   1988,    323,   2612,   3645,\n",
       "             25,    720,  33046,    512,  15873,     16,     11,    220,     17,\n",
       "             11,    220,     18,     11,    220,     19,     11,    220,     20,\n",
       "             11,    220,     21,     11,    220,     16,   1145,    220,     18,\n",
       "            933,  62538,    512,    717, 128009, 128006,  78191, 128007,    271]])"
      ]
     },
     "execution_count": 26,
     "metadata": {},
     "output_type": "execute_result"
    }
   ],
   "source": [
    "get_tokens(build_rawprompt_text_chat(mystring), tokenizer)"
   ]
  },
  {
   "cell_type": "code",
   "execution_count": 27,
   "id": "fd9962bd-13c3-4265-8aa7-2051b84a75cc",
   "metadata": {},
   "outputs": [
    {
     "name": "stdout",
     "output_type": "stream",
     "text": [
      "<|begin_of_text|><|start_header_id|>system<|end_header_id|>\n",
      "\n",
      "Cutting Knowledge Date: December 2023\n",
      "Today Date: 10 May 2025\n",
      "\n",
      "<|eot_id|><|start_header_id|>user<|end_header_id|>\n",
      "\n",
      "QUESTION: There are several cards arranged in a row, and each card has an associated number of points The points are given in the integer array cardPoints.\n",
      "In one step, you can take one card from the beginning or from the end of the row. You have to take exactly k cards.\n",
      "Your score is the sum of the points of the cards you have taken.\n",
      "Given the integer array cardPoints and the integer k, return the maximum score you can obtain.\n",
      " \n",
      "Example 1:\n",
      "Input: cardPoints = [1,2,3,4,5,6,1], k = 3\n",
      "Output: 12\n",
      "Explanation: After the first step, your score will always be 1. However, choosing the rightmost card first will maximize your total score. The optimal strategy is to take the three cards on the right, giving a final score of 1 + 6 + 5 = 12.\n",
      "\n",
      "Example 2:\n",
      "Input: cardPoints = [2,2,2], k = 2\n",
      "Output: 4\n",
      "Explanation: Regardless of which two cards you take, your score will always be 4.\n",
      "\n",
      "Example 3:\n",
      "Input: cardPoints = [9,7,7,9,7,7,9], k = 7\n",
      "Output: 55\n",
      "Explanation: You have to take all the cards. Your score is the sum of points of all cards.\n",
      "\n",
      "Example 4:\n",
      "Input: cardPoints = [1,1000,1], k = 1\n",
      "Output: 1\n",
      "Explanation: You cannot take the card in the middle. Your best score is 1. \n",
      "\n",
      "Example 5:\n",
      "Input: cardPoints = [1,79,80,1,1,1,200,1], k = 3\n",
      "Output: 202\n",
      "\n",
      " \n",
      "Constraints:\n",
      "\n",
      "1 <= cardPoints.length <= 10^5\n",
      "1 <= cardPoints[i] <= 10^4\n",
      "1 <= k <= cardPoints.length\n",
      "\n",
      "Your code should start with the following: \n",
      "\n",
      "class Solution:\n",
      "    def maxScore(self, cardPoints: List[int], k: int) -> int:\n",
      "        \n",
      "The following is the standard input and output format: \n",
      "Inputs:\n",
      "[[1, 2, 3, 4, 5, 6, 1], 3]\n",
      "Outputs:\n",
      "12<|eot_id|><|start_header_id|>assistant<|end_header_id|>\n",
      "\n",
      "\n"
     ]
    }
   ],
   "source": [
    "print(tokenizer.decode(get_tokens(build_rawprompt_text_batch(mystring, 5), tokenizer)[0]))"
   ]
  },
  {
   "cell_type": "markdown",
   "id": "a5d0c08d-a212-4fc7-9106-fc57b0de85cb",
   "metadata": {},
   "source": [
    "### Estimate VERY LONG prompts\n",
    "Our analysis found a problem instance that relates to factorial calculations, which yields a very long element in the `datasample['input_outpu']['output']` list that prevents it from being transformed to a Dict using json.  \n",
    "\n",
    "Since its just ONE problem instance, we ignore it for now."
   ]
  },
  {
   "cell_type": "code",
   "execution_count": 28,
   "id": "b781d097-ac1c-4e9f-9592-00b120d8679d",
   "metadata": {},
   "outputs": [
    {
     "name": "stdout",
     "output_type": "stream",
     "text": [
      "Error on element 3028\n"
     ]
    }
   ],
   "source": [
    "mylist = []\n",
    "for i, elem in enumerate(data):\n",
    "    try:\n",
    "        mylist.append(build_rawprompt_text_chat(apps_generate_rawprompt_text(elem, tokenizer, truncate=False, prompt_key=prompt_key)))\n",
    "    except ValueError:\n",
    "        print(f\"Error on element {i}\")"
   ]
  },
  {
   "cell_type": "markdown",
   "id": "5ed284c4-60ca-452b-8feb-3078fe156d64",
   "metadata": {},
   "source": [
    "#### Sicne its only one element, we ignore this element"
   ]
  },
  {
   "cell_type": "code",
   "execution_count": 29,
   "id": "f4598f61-eb82-4617-a083-0bf7f80a4ccd",
   "metadata": {},
   "outputs": [],
   "source": [
    "# Index to exclude\n",
    "index_to_remove = 3028\n",
    "\n",
    "# Create a new dataset without the element at index 123\n",
    "indices = list(range(len(data)))\n",
    "indices.pop(index_to_remove)\n",
    "\n",
    "data_new = data.select(indices)"
   ]
  },
  {
   "cell_type": "code",
   "execution_count": 30,
   "id": "8fd9c265-ce0b-4980-bebc-32a921d0163d",
   "metadata": {},
   "outputs": [
    {
     "data": {
      "text/plain": [
       "4999"
      ]
     },
     "execution_count": 30,
     "metadata": {},
     "output_type": "execute_result"
    }
   ],
   "source": [
    "len(data_new)"
   ]
  },
  {
   "cell_type": "markdown",
   "id": "2c280782-8f6b-46ab-aad4-8657d7e25431",
   "metadata": {},
   "source": [
    "### Analyze lenght of prompts in terms of number of tokens"
   ]
  },
  {
   "cell_type": "code",
   "execution_count": 31,
   "id": "4fe04bb6-e7ff-4abe-a10d-6c633d4d048b",
   "metadata": {
    "scrolled": true
   },
   "outputs": [
    {
     "name": "stderr",
     "output_type": "stream",
     "text": [
      "Token indices sequence length is longer than the specified maximum sequence length for this model (350708 > 131072). Running this sequence through the model will result in indexing errors\n"
     ]
    }
   ],
   "source": [
    "conv_len_tokens = [get_tokens(build_rawprompt_text_chat(apps_generate_rawprompt_text(elem, tokenizer, truncate=False, prompt_key=prompt_key)), \n",
    "                              tokenizer).shape[1] for elem in data_new]"
   ]
  },
  {
   "cell_type": "code",
   "execution_count": 32,
   "id": "3e463fde-219b-4851-80d0-76c6401de414",
   "metadata": {},
   "outputs": [
    {
     "data": {
      "text/plain": [
       "4999"
      ]
     },
     "execution_count": 32,
     "metadata": {},
     "output_type": "execute_result"
    }
   ],
   "source": [
    "len(conv_len_tokens)"
   ]
  },
  {
   "cell_type": "code",
   "execution_count": 33,
   "id": "9c9a1c49-c858-47e9-91cc-436b1e736c33",
   "metadata": {
    "scrolled": true
   },
   "outputs": [
    {
     "data": {
      "text/plain": [
       "np.int64(10489768)"
      ]
     },
     "execution_count": 33,
     "metadata": {},
     "output_type": "execute_result"
    }
   ],
   "source": [
    "np.max(conv_len_tokens)"
   ]
  },
  {
   "cell_type": "code",
   "execution_count": 34,
   "id": "8d06213f-90b9-45e8-8b1e-65a177c58b18",
   "metadata": {},
   "outputs": [
    {
     "name": "stdout",
     "output_type": "stream",
     "text": [
      "MEAN: 2990.245649129826\n",
      "MIN: 76,\n",
      "MAX: 10489768\n",
      "P25: 312.00 P50: 446.00 P75: 655.50 P99: 2395.54\n"
     ]
    }
   ],
   "source": [
    "print(f\"MEAN: {np.mean(conv_len_tokens)}\\nMIN: {np.min(conv_len_tokens)},\\nMAX: {np.max(conv_len_tokens)}\")\n",
    "print(*[f\"P{p}: {v:.2f}\" for p, v in zip([25, 50, 75, 99], np.percentile(conv_len_tokens, [25, 50, 75, 99]))])"
   ]
  },
  {
   "cell_type": "code",
   "execution_count": 56,
   "id": "9296adba-2167-4e27-808b-52b02441ce4b",
   "metadata": {},
   "outputs": [
    {
     "data": {
      "image/png": "[encoded data removed]",
      "text/plain": [
       "<Figure size 1000x280 with 2 Axes>"
      ]
     },
     "metadata": {},
     "output_type": "display_data"
    }
   ],
   "source": [
    "# fig = plotutils.plot_histogram_and_cdf(conv_len_tokens, in_size=(12, 2.8), \n",
    "#                              in_title=\"# Input Tokens APPS\", x_forcdf=0, \n",
    "#                                        cdf_forx=[0.25, 0.5, 0.75, 0.95, 0.99],\n",
    "#                                       n_bins=80)\n",
    "fig = plotutils.plot_histogram_and_cdf(conv_len_tokens, in_size=(10, 2.8), \n",
    "                                       in_title=\"# Input Tokens APPS\", n_bins=100, \n",
    "                                       x_forcdf=0, cdf_forx=[0.25, 0.5, 0.75, 0.95, 0.99], logx=True)"
   ]
  },
  {
   "cell_type": "code",
   "execution_count": null,
   "id": "aac78b98-ca80-4584-9a13-b24b966796e4",
   "metadata": {},
   "outputs": [],
   "source": []
  },
  {
   "cell_type": "code",
   "execution_count": 36,
   "id": "b43a548e-3201-4321-9da1-4a386cddfeab",
   "metadata": {},
   "outputs": [],
   "source": [
    "fig.savefig(\"../../outputs/images/raw_data_APPS_COMPLETE_ntokens_hist.pdf\", bbox_inches=\"tight\")"
   ]
  },
  {
   "cell_type": "code",
   "execution_count": null,
   "id": "dc126123-fb14-4907-bed5-e3db476a25ec",
   "metadata": {},
   "outputs": [],
   "source": []
  },
  {
   "cell_type": "markdown",
   "id": "ca02d647-3ab1-41e7-b29b-a9cc8bd94c4e",
   "metadata": {},
   "source": [
    "## Convert dataset to pandas\n",
    "Later, when splitting the datasets, we will have to stratify the splits based on the `difficulty` variable from each data sample. \n",
    "Converting the list of dicts to a pandas dataframe will facilitate the stratification of the splits. \n",
    "\n",
    "Moreover, after estimating the input tokens lengths, it will help us see the distribution of input token lengths according to `difficulty`. "
   ]
  },
  {
   "cell_type": "code",
   "execution_count": 37,
   "id": "8a944657-d330-40cc-9f5f-5cdb531418a9",
   "metadata": {},
   "outputs": [
    {
     "data": {
      "text/plain": [
       "datasets.arrow_dataset.Dataset"
      ]
     },
     "execution_count": 37,
     "metadata": {},
     "output_type": "execute_result"
    }
   ],
   "source": [
    "type(data_new)"
   ]
  },
  {
   "cell_type": "code",
   "execution_count": 38,
   "id": "dbb2d322-78d7-4191-bb16-2518d7d17f75",
   "metadata": {},
   "outputs": [],
   "source": [
    "df_data = data_new.to_pandas()"
   ]
  },
  {
   "cell_type": "code",
   "execution_count": 39,
   "id": "39121292-36d0-43d0-b3a3-830f354b8203",
   "metadata": {},
   "outputs": [
    {
     "data": {
      "text/html": [
       "<div>\n",
       "<style scoped>\n",
       "    .dataframe tbody tr th:only-of-type {\n",
       "        vertical-align: middle;\n",
       "    }\n",
       "\n",
       "    .dataframe tbody tr th {\n",
       "        vertical-align: top;\n",
       "    }\n",
       "\n",
       "    .dataframe thead th {\n",
       "        text-align: right;\n",
       "    }\n",
       "</style>\n",
       "<table border=\"1\" class=\"dataframe\">\n",
       "  <thead>\n",
       "    <tr style=\"text-align: right;\">\n",
       "      <th></th>\n",
       "      <th>problem_id</th>\n",
       "      <th>question</th>\n",
       "      <th>solutions</th>\n",
       "      <th>input_output</th>\n",
       "      <th>difficulty</th>\n",
       "      <th>url</th>\n",
       "      <th>starter_code</th>\n",
       "    </tr>\n",
       "  </thead>\n",
       "  <tbody>\n",
       "    <tr>\n",
       "      <th>0</th>\n",
       "      <td>0</td>\n",
       "      <td>Polycarp has $n$ different binary words. A wor...</td>\n",
       "      <td>[\"for _ in range(int(input())):\\n    n = int(i...</td>\n",
       "      <td>{\\n  \"inputs\": [\\n    \"4\\n4\\n0001\\n1000\\n0011\\...</td>\n",
       "      <td>interview</td>\n",
       "      <td>https://codeforces.com/problemset/problem/1259/D</td>\n",
       "      <td></td>\n",
       "    </tr>\n",
       "    <tr>\n",
       "      <th>1</th>\n",
       "      <td>1</td>\n",
       "      <td>Mikhail walks on a Cartesian plane. He starts ...</td>\n",
       "      <td>[\"q=int(input())\\n\\nfor e in range(q):\\n    x,...</td>\n",
       "      <td>{\\n  \"inputs\": [\\n    \"3\\n2 2 3\\n4 3 7\\n10 1 9...</td>\n",
       "      <td>interview</td>\n",
       "      <td>https://codeforces.com/problemset/problem/1036/B</td>\n",
       "      <td></td>\n",
       "    </tr>\n",
       "    <tr>\n",
       "      <th>2</th>\n",
       "      <td>2</td>\n",
       "      <td>You are given three sequences: $a_1, a_2, \\ldo...</td>\n",
       "      <td>[\"import sys\\nimport random\\nfrom fractions im...</td>\n",
       "      <td>{\\n  \"inputs\": [\\n    \"5\\n3\\n1 1 1\\n2 2 2\\n3 3...</td>\n",
       "      <td>interview</td>\n",
       "      <td>https://codeforces.com/problemset/problem/1408/A</td>\n",
       "      <td></td>\n",
       "    </tr>\n",
       "    <tr>\n",
       "      <th>3</th>\n",
       "      <td>3</td>\n",
       "      <td>You have $n$ barrels lined up in a row, number...</td>\n",
       "      <td>[\"def solve():\\n    n, k = map(int,input().spl...</td>\n",
       "      <td>{\\n  \"inputs\": [\\n    \"2\\n4 1\\n5 5 5 5\\n3 2\\n0...</td>\n",
       "      <td>interview</td>\n",
       "      <td>https://codeforces.com/problemset/problem/1430/B</td>\n",
       "      <td></td>\n",
       "    </tr>\n",
       "    <tr>\n",
       "      <th>4</th>\n",
       "      <td>4</td>\n",
       "      <td>You are given a permutation $p=[p_1, p_2, \\ldo...</td>\n",
       "      <td>[\"for _ in range(int(input())):\\n    input()\\n...</td>\n",
       "      <td>{\\n  \"inputs\": [\\n    \"3\\n6\\n4 5 1 3 2 6\\n5\\n5...</td>\n",
       "      <td>interview</td>\n",
       "      <td>https://codeforces.com/problemset/problem/1265/B</td>\n",
       "      <td></td>\n",
       "    </tr>\n",
       "  </tbody>\n",
       "</table>\n",
       "</div>"
      ],
      "text/plain": [
       "   problem_id                                           question  \\\n",
       "0           0  Polycarp has $n$ different binary words. A wor...   \n",
       "1           1  Mikhail walks on a Cartesian plane. He starts ...   \n",
       "2           2  You are given three sequences: $a_1, a_2, \\ldo...   \n",
       "3           3  You have $n$ barrels lined up in a row, number...   \n",
       "4           4  You are given a permutation $p=[p_1, p_2, \\ldo...   \n",
       "\n",
       "                                           solutions  \\\n",
       "0  [\"for _ in range(int(input())):\\n    n = int(i...   \n",
       "1  [\"q=int(input())\\n\\nfor e in range(q):\\n    x,...   \n",
       "2  [\"import sys\\nimport random\\nfrom fractions im...   \n",
       "3  [\"def solve():\\n    n, k = map(int,input().spl...   \n",
       "4  [\"for _ in range(int(input())):\\n    input()\\n...   \n",
       "\n",
       "                                        input_output difficulty  \\\n",
       "0  {\\n  \"inputs\": [\\n    \"4\\n4\\n0001\\n1000\\n0011\\...  interview   \n",
       "1  {\\n  \"inputs\": [\\n    \"3\\n2 2 3\\n4 3 7\\n10 1 9...  interview   \n",
       "2  {\\n  \"inputs\": [\\n    \"5\\n3\\n1 1 1\\n2 2 2\\n3 3...  interview   \n",
       "3  {\\n  \"inputs\": [\\n    \"2\\n4 1\\n5 5 5 5\\n3 2\\n0...  interview   \n",
       "4  {\\n  \"inputs\": [\\n    \"3\\n6\\n4 5 1 3 2 6\\n5\\n5...  interview   \n",
       "\n",
       "                                                url starter_code  \n",
       "0  https://codeforces.com/problemset/problem/1259/D               \n",
       "1  https://codeforces.com/problemset/problem/1036/B               \n",
       "2  https://codeforces.com/problemset/problem/1408/A               \n",
       "3  https://codeforces.com/problemset/problem/1430/B               \n",
       "4  https://codeforces.com/problemset/problem/1265/B               "
      ]
     },
     "execution_count": 39,
     "metadata": {},
     "output_type": "execute_result"
    }
   ],
   "source": [
    "df_data.head()"
   ]
  },
  {
   "cell_type": "markdown",
   "id": "eaeb648c-5b3b-4494-a945-2496b3eed52b",
   "metadata": {},
   "source": [
    "#### Estimate the numer of input tokens"
   ]
  },
  {
   "cell_type": "code",
   "execution_count": 40,
   "id": "6c9cb8af-2a04-4ac3-ac09-bc681b1c86de",
   "metadata": {},
   "outputs": [],
   "source": [
    "def get_tokens_row(row, tokenizer): \n",
    "    return get_tokens(build_rawprompt_text_chat(apps_generate_rawprompt_text(row, tokenizer, truncate=True)), tokenizer).shape[1]\n",
    "    "
   ]
  },
  {
   "cell_type": "code",
   "execution_count": 41,
   "id": "ed0dc298-536b-42a1-bfd0-7936213a2ff0",
   "metadata": {
    "scrolled": true
   },
   "outputs": [
    {
     "name": "stderr",
     "output_type": "stream",
     "text": [
      "Prompt text length exceeds maximum limit of 2500 tokens. Truncarting prompt.\n",
      "Prompt text length exceeds maximum limit of 2500 tokens. Truncarting prompt.\n",
      "Prompt text length exceeds maximum limit of 2500 tokens. Truncarting prompt.\n",
      "Prompt text length exceeds maximum limit of 2500 tokens. Truncarting prompt.\n",
      "Prompt text length exceeds maximum limit of 2500 tokens. Truncarting prompt.\n",
      "Prompt text length exceeds maximum limit of 2500 tokens. Truncarting prompt.\n",
      "Prompt text length exceeds maximum limit of 2500 tokens. Truncarting prompt.\n",
      "Prompt text length exceeds maximum limit of 2500 tokens. Truncarting prompt.\n",
      "Prompt text length exceeds maximum limit of 2500 tokens. Truncarting prompt.\n",
      "Prompt text length exceeds maximum limit of 2500 tokens. Truncarting prompt.\n",
      "Prompt text length exceeds maximum limit of 2500 tokens. Truncarting prompt.\n",
      "Prompt text length exceeds maximum limit of 2500 tokens. Truncarting prompt.\n",
      "Prompt text length exceeds maximum limit of 2500 tokens. Truncarting prompt.\n",
      "Prompt text length exceeds maximum limit of 2500 tokens. Truncarting prompt.\n",
      "Prompt text length exceeds maximum limit of 2500 tokens. Truncarting prompt.\n",
      "Prompt text length exceeds maximum limit of 2500 tokens. Truncarting prompt.\n",
      "Prompt text length exceeds maximum limit of 2500 tokens. Truncarting prompt.\n",
      "Prompt text length exceeds maximum limit of 2500 tokens. Truncarting prompt.\n",
      "Prompt text length exceeds maximum limit of 2500 tokens. Truncarting prompt.\n",
      "Prompt text length exceeds maximum limit of 2500 tokens. Truncarting prompt.\n",
      "Prompt text length exceeds maximum limit of 2500 tokens. Truncarting prompt.\n",
      "Prompt text length exceeds maximum limit of 2500 tokens. Truncarting prompt.\n",
      "Prompt text length exceeds maximum limit of 2500 tokens. Truncarting prompt.\n",
      "Prompt text length exceeds maximum limit of 2500 tokens. Truncarting prompt.\n",
      "Prompt text length exceeds maximum limit of 2500 tokens. Truncarting prompt.\n",
      "Prompt text length exceeds maximum limit of 2500 tokens. Truncarting prompt.\n",
      "Prompt text length exceeds maximum limit of 2500 tokens. Truncarting prompt.\n",
      "Prompt text length exceeds maximum limit of 2500 tokens. Truncarting prompt.\n",
      "Prompt text length exceeds maximum limit of 2500 tokens. Truncarting prompt.\n",
      "Prompt text length exceeds maximum limit of 2500 tokens. Truncarting prompt.\n",
      "Prompt text length exceeds maximum limit of 2500 tokens. Truncarting prompt.\n",
      "Prompt text length exceeds maximum limit of 2500 tokens. Truncarting prompt.\n",
      "Prompt text length exceeds maximum limit of 2500 tokens. Truncarting prompt.\n",
      "Prompt text length exceeds maximum limit of 2500 tokens. Truncarting prompt.\n",
      "Prompt text length exceeds maximum limit of 2500 tokens. Truncarting prompt.\n",
      "Prompt text length exceeds maximum limit of 2500 tokens. Truncarting prompt.\n",
      "Prompt text length exceeds maximum limit of 2500 tokens. Truncarting prompt.\n",
      "Prompt text length exceeds maximum limit of 2500 tokens. Truncarting prompt.\n",
      "Prompt text length exceeds maximum limit of 2500 tokens. Truncarting prompt.\n",
      "Prompt text length exceeds maximum limit of 2500 tokens. Truncarting prompt.\n",
      "Prompt text length exceeds maximum limit of 2500 tokens. Truncarting prompt.\n",
      "Prompt text length exceeds maximum limit of 2500 tokens. Truncarting prompt.\n",
      "Prompt text length exceeds maximum limit of 2500 tokens. Truncarting prompt.\n"
     ]
    }
   ],
   "source": [
    "df_data['n_tokens_input'] = df_data.apply(lambda row: get_tokens_row(row, tokenizer), axis=1)"
   ]
  },
  {
   "cell_type": "code",
   "execution_count": 42,
   "id": "cbcbee9f-10a2-4ec0-97cc-02492f7eb90f",
   "metadata": {},
   "outputs": [
    {
     "data": {
      "text/plain": [
       "np.False_"
      ]
     },
     "execution_count": 42,
     "metadata": {},
     "output_type": "execute_result"
    }
   ],
   "source": [
    "df_data['n_tokens_input'].isna().any()"
   ]
  },
  {
   "cell_type": "code",
   "execution_count": 43,
   "id": "8788d703-718d-4db9-a685-9bd348ac7024",
   "metadata": {},
   "outputs": [
    {
     "data": {
      "text/plain": [
       "array(['interview', 'competition', 'introductory'], dtype=object)"
      ]
     },
     "execution_count": 43,
     "metadata": {},
     "output_type": "execute_result"
    }
   ],
   "source": [
    "df_data['difficulty'].unique()"
   ]
  },
  {
   "cell_type": "code",
   "execution_count": 44,
   "id": "775545f7-20e9-4ee1-9dfe-d9d256461806",
   "metadata": {},
   "outputs": [
    {
     "data": {
      "text/html": [
       "<div>\n",
       "<style scoped>\n",
       "    .dataframe tbody tr th:only-of-type {\n",
       "        vertical-align: middle;\n",
       "    }\n",
       "\n",
       "    .dataframe tbody tr th {\n",
       "        vertical-align: top;\n",
       "    }\n",
       "\n",
       "    .dataframe thead th {\n",
       "        text-align: right;\n",
       "    }\n",
       "</style>\n",
       "<table border=\"1\" class=\"dataframe\">\n",
       "  <thead>\n",
       "    <tr style=\"text-align: right;\">\n",
       "      <th></th>\n",
       "      <th>problem_id</th>\n",
       "      <th>question</th>\n",
       "      <th>solutions</th>\n",
       "      <th>input_output</th>\n",
       "      <th>difficulty</th>\n",
       "      <th>url</th>\n",
       "      <th>starter_code</th>\n",
       "      <th>n_tokens_input</th>\n",
       "    </tr>\n",
       "  </thead>\n",
       "  <tbody>\n",
       "    <tr>\n",
       "      <th>0</th>\n",
       "      <td>0</td>\n",
       "      <td>Polycarp has $n$ different binary words. A wor...</td>\n",
       "      <td>[\"for _ in range(int(input())):\\n    n = int(i...</td>\n",
       "      <td>{\\n  \"inputs\": [\\n    \"4\\n4\\n0001\\n1000\\n0011\\...</td>\n",
       "      <td>interview</td>\n",
       "      <td>https://codeforces.com/problemset/problem/1259/D</td>\n",
       "      <td></td>\n",
       "      <td>818</td>\n",
       "    </tr>\n",
       "    <tr>\n",
       "      <th>1</th>\n",
       "      <td>1</td>\n",
       "      <td>Mikhail walks on a Cartesian plane. He starts ...</td>\n",
       "      <td>[\"q=int(input())\\n\\nfor e in range(q):\\n    x,...</td>\n",
       "      <td>{\\n  \"inputs\": [\\n    \"3\\n2 2 3\\n4 3 7\\n10 1 9...</td>\n",
       "      <td>interview</td>\n",
       "      <td>https://codeforces.com/problemset/problem/1036/B</td>\n",
       "      <td></td>\n",
       "      <td>773</td>\n",
       "    </tr>\n",
       "    <tr>\n",
       "      <th>2</th>\n",
       "      <td>2</td>\n",
       "      <td>You are given three sequences: $a_1, a_2, \\ldo...</td>\n",
       "      <td>[\"import sys\\nimport random\\nfrom fractions im...</td>\n",
       "      <td>{\\n  \"inputs\": [\\n    \"5\\n3\\n1 1 1\\n2 2 2\\n3 3...</td>\n",
       "      <td>interview</td>\n",
       "      <td>https://codeforces.com/problemset/problem/1408/A</td>\n",
       "      <td></td>\n",
       "      <td>1417</td>\n",
       "    </tr>\n",
       "    <tr>\n",
       "      <th>3</th>\n",
       "      <td>3</td>\n",
       "      <td>You have $n$ barrels lined up in a row, number...</td>\n",
       "      <td>[\"def solve():\\n    n, k = map(int,input().spl...</td>\n",
       "      <td>{\\n  \"inputs\": [\\n    \"2\\n4 1\\n5 5 5 5\\n3 2\\n0...</td>\n",
       "      <td>interview</td>\n",
       "      <td>https://codeforces.com/problemset/problem/1430/B</td>\n",
       "      <td></td>\n",
       "      <td>584</td>\n",
       "    </tr>\n",
       "    <tr>\n",
       "      <th>4</th>\n",
       "      <td>4</td>\n",
       "      <td>You are given a permutation $p=[p_1, p_2, \\ldo...</td>\n",
       "      <td>[\"for _ in range(int(input())):\\n    input()\\n...</td>\n",
       "      <td>{\\n  \"inputs\": [\\n    \"3\\n6\\n4 5 1 3 2 6\\n5\\n5...</td>\n",
       "      <td>interview</td>\n",
       "      <td>https://codeforces.com/problemset/problem/1265/B</td>\n",
       "      <td></td>\n",
       "      <td>1076</td>\n",
       "    </tr>\n",
       "  </tbody>\n",
       "</table>\n",
       "</div>"
      ],
      "text/plain": [
       "   problem_id                                           question  \\\n",
       "0           0  Polycarp has $n$ different binary words. A wor...   \n",
       "1           1  Mikhail walks on a Cartesian plane. He starts ...   \n",
       "2           2  You are given three sequences: $a_1, a_2, \\ldo...   \n",
       "3           3  You have $n$ barrels lined up in a row, number...   \n",
       "4           4  You are given a permutation $p=[p_1, p_2, \\ldo...   \n",
       "\n",
       "                                           solutions  \\\n",
       "0  [\"for _ in range(int(input())):\\n    n = int(i...   \n",
       "1  [\"q=int(input())\\n\\nfor e in range(q):\\n    x,...   \n",
       "2  [\"import sys\\nimport random\\nfrom fractions im...   \n",
       "3  [\"def solve():\\n    n, k = map(int,input().spl...   \n",
       "4  [\"for _ in range(int(input())):\\n    input()\\n...   \n",
       "\n",
       "                                        input_output difficulty  \\\n",
       "0  {\\n  \"inputs\": [\\n    \"4\\n4\\n0001\\n1000\\n0011\\...  interview   \n",
       "1  {\\n  \"inputs\": [\\n    \"3\\n2 2 3\\n4 3 7\\n10 1 9...  interview   \n",
       "2  {\\n  \"inputs\": [\\n    \"5\\n3\\n1 1 1\\n2 2 2\\n3 3...  interview   \n",
       "3  {\\n  \"inputs\": [\\n    \"2\\n4 1\\n5 5 5 5\\n3 2\\n0...  interview   \n",
       "4  {\\n  \"inputs\": [\\n    \"3\\n6\\n4 5 1 3 2 6\\n5\\n5...  interview   \n",
       "\n",
       "                                                url starter_code  \\\n",
       "0  https://codeforces.com/problemset/problem/1259/D                \n",
       "1  https://codeforces.com/problemset/problem/1036/B                \n",
       "2  https://codeforces.com/problemset/problem/1408/A                \n",
       "3  https://codeforces.com/problemset/problem/1430/B                \n",
       "4  https://codeforces.com/problemset/problem/1265/B                \n",
       "\n",
       "   n_tokens_input  \n",
       "0             818  \n",
       "1             773  \n",
       "2            1417  \n",
       "3             584  \n",
       "4            1076  "
      ]
     },
     "execution_count": 44,
     "metadata": {},
     "output_type": "execute_result"
    }
   ],
   "source": [
    "df_data.head()"
   ]
  },
  {
   "cell_type": "code",
   "execution_count": 45,
   "id": "11cd5c85-873a-4147-818c-43dc2cd6502f",
   "metadata": {},
   "outputs": [
    {
     "data": {
      "text/plain": [
       "<module 'src.visualization.plot_rawdata' from '/home/daniel/Documents/llm-testbed/data/notebooks/../../src/visualization/plot_rawdata.py'>"
      ]
     },
     "execution_count": 45,
     "metadata": {},
     "output_type": "execute_result"
    }
   ],
   "source": [
    "import importlib \n",
    "importlib.reload(plotutils)"
   ]
  },
  {
   "cell_type": "code",
   "execution_count": 46,
   "id": "d023b1d1-317f-48d1-9bdb-f5e97a631118",
   "metadata": {},
   "outputs": [
    {
     "data": {
      "image/png": "[encoded data removed]",
      "text/plain": [
       "<Figure size 1200x300 with 3 Axes>"
      ]
     },
     "metadata": {},
     "output_type": "display_data"
    }
   ],
   "source": [
    "fig = plotutils.plot_appsdataframe_ecdf_threeplot(df_data, figsize=(12,3), title_suffix=\"Apps\")"
   ]
  },
  {
   "cell_type": "code",
   "execution_count": 47,
   "id": "569738c0-aa41-4135-90cb-2e092d36ccf2",
   "metadata": {},
   "outputs": [],
   "source": [
    "fig.savefig(\"../../outputs/images/raw_data_Apps_COMPLETE_ntokens_ecdf.pdf\", bbox_inches=\"tight\")"
   ]
  },
  {
   "cell_type": "code",
   "execution_count": 48,
   "id": "612c3ad1-60f6-4cb9-92b3-d89de3498ba0",
   "metadata": {},
   "outputs": [
    {
     "data": {
      "text/plain": [
       "np.int64(2534)"
      ]
     },
     "execution_count": 48,
     "metadata": {},
     "output_type": "execute_result"
    }
   ],
   "source": [
    "np.max(df_data['n_tokens_input'])"
   ]
  },
  {
   "cell_type": "code",
   "execution_count": null,
   "id": "c7a84c0a-527e-4f38-a201-68e71fbbe85b",
   "metadata": {},
   "outputs": [],
   "source": []
  },
  {
   "cell_type": "markdown",
   "id": "6cde0115-00f1-4751-b87f-56e614cd313b",
   "metadata": {},
   "source": [
    "# Split the datasets\n",
    "\n",
    "We do stratified splits according to the `'difficulties'` variable of the data samples "
   ]
  },
  {
   "cell_type": "code",
   "execution_count": 49,
   "id": "9b6434b8-0ecc-44d9-af1b-ad6adb12e5d1",
   "metadata": {},
   "outputs": [
    {
     "name": "stdout",
     "output_type": "stream",
     "text": [
      "Length of records: 4999\n"
     ]
    },
    {
     "data": {
      "text/html": [
       "<div>\n",
       "<style scoped>\n",
       "    .dataframe tbody tr th:only-of-type {\n",
       "        vertical-align: middle;\n",
       "    }\n",
       "\n",
       "    .dataframe tbody tr th {\n",
       "        vertical-align: top;\n",
       "    }\n",
       "\n",
       "    .dataframe thead th {\n",
       "        text-align: right;\n",
       "    }\n",
       "</style>\n",
       "<table border=\"1\" class=\"dataframe\">\n",
       "  <thead>\n",
       "    <tr style=\"text-align: right;\">\n",
       "      <th></th>\n",
       "      <th>problem_id</th>\n",
       "      <th>question</th>\n",
       "      <th>solutions</th>\n",
       "      <th>input_output</th>\n",
       "      <th>difficulty</th>\n",
       "      <th>url</th>\n",
       "      <th>starter_code</th>\n",
       "      <th>n_tokens_input</th>\n",
       "    </tr>\n",
       "  </thead>\n",
       "  <tbody>\n",
       "    <tr>\n",
       "      <th>0</th>\n",
       "      <td>0</td>\n",
       "      <td>Polycarp has $n$ different binary words. A wor...</td>\n",
       "      <td>[\"for _ in range(int(input())):\\n    n = int(i...</td>\n",
       "      <td>{\\n  \"inputs\": [\\n    \"4\\n4\\n0001\\n1000\\n0011\\...</td>\n",
       "      <td>interview</td>\n",
       "      <td>https://codeforces.com/problemset/problem/1259/D</td>\n",
       "      <td></td>\n",
       "      <td>818</td>\n",
       "    </tr>\n",
       "    <tr>\n",
       "      <th>1</th>\n",
       "      <td>1</td>\n",
       "      <td>Mikhail walks on a Cartesian plane. He starts ...</td>\n",
       "      <td>[\"q=int(input())\\n\\nfor e in range(q):\\n    x,...</td>\n",
       "      <td>{\\n  \"inputs\": [\\n    \"3\\n2 2 3\\n4 3 7\\n10 1 9...</td>\n",
       "      <td>interview</td>\n",
       "      <td>https://codeforces.com/problemset/problem/1036/B</td>\n",
       "      <td></td>\n",
       "      <td>773</td>\n",
       "    </tr>\n",
       "    <tr>\n",
       "      <th>2</th>\n",
       "      <td>2</td>\n",
       "      <td>You are given three sequences: $a_1, a_2, \\ldo...</td>\n",
       "      <td>[\"import sys\\nimport random\\nfrom fractions im...</td>\n",
       "      <td>{\\n  \"inputs\": [\\n    \"5\\n3\\n1 1 1\\n2 2 2\\n3 3...</td>\n",
       "      <td>interview</td>\n",
       "      <td>https://codeforces.com/problemset/problem/1408/A</td>\n",
       "      <td></td>\n",
       "      <td>1417</td>\n",
       "    </tr>\n",
       "    <tr>\n",
       "      <th>3</th>\n",
       "      <td>3</td>\n",
       "      <td>You have $n$ barrels lined up in a row, number...</td>\n",
       "      <td>[\"def solve():\\n    n, k = map(int,input().spl...</td>\n",
       "      <td>{\\n  \"inputs\": [\\n    \"2\\n4 1\\n5 5 5 5\\n3 2\\n0...</td>\n",
       "      <td>interview</td>\n",
       "      <td>https://codeforces.com/problemset/problem/1430/B</td>\n",
       "      <td></td>\n",
       "      <td>584</td>\n",
       "    </tr>\n",
       "    <tr>\n",
       "      <th>4</th>\n",
       "      <td>4</td>\n",
       "      <td>You are given a permutation $p=[p_1, p_2, \\ldo...</td>\n",
       "      <td>[\"for _ in range(int(input())):\\n    input()\\n...</td>\n",
       "      <td>{\\n  \"inputs\": [\\n    \"3\\n6\\n4 5 1 3 2 6\\n5\\n5...</td>\n",
       "      <td>interview</td>\n",
       "      <td>https://codeforces.com/problemset/problem/1265/B</td>\n",
       "      <td></td>\n",
       "      <td>1076</td>\n",
       "    </tr>\n",
       "  </tbody>\n",
       "</table>\n",
       "</div>"
      ],
      "text/plain": [
       "   problem_id                                           question  \\\n",
       "0           0  Polycarp has $n$ different binary words. A wor...   \n",
       "1           1  Mikhail walks on a Cartesian plane. He starts ...   \n",
       "2           2  You are given three sequences: $a_1, a_2, \\ldo...   \n",
       "3           3  You have $n$ barrels lined up in a row, number...   \n",
       "4           4  You are given a permutation $p=[p_1, p_2, \\ldo...   \n",
       "\n",
       "                                           solutions  \\\n",
       "0  [\"for _ in range(int(input())):\\n    n = int(i...   \n",
       "1  [\"q=int(input())\\n\\nfor e in range(q):\\n    x,...   \n",
       "2  [\"import sys\\nimport random\\nfrom fractions im...   \n",
       "3  [\"def solve():\\n    n, k = map(int,input().spl...   \n",
       "4  [\"for _ in range(int(input())):\\n    input()\\n...   \n",
       "\n",
       "                                        input_output difficulty  \\\n",
       "0  {\\n  \"inputs\": [\\n    \"4\\n4\\n0001\\n1000\\n0011\\...  interview   \n",
       "1  {\\n  \"inputs\": [\\n    \"3\\n2 2 3\\n4 3 7\\n10 1 9...  interview   \n",
       "2  {\\n  \"inputs\": [\\n    \"5\\n3\\n1 1 1\\n2 2 2\\n3 3...  interview   \n",
       "3  {\\n  \"inputs\": [\\n    \"2\\n4 1\\n5 5 5 5\\n3 2\\n0...  interview   \n",
       "4  {\\n  \"inputs\": [\\n    \"3\\n6\\n4 5 1 3 2 6\\n5\\n5...  interview   \n",
       "\n",
       "                                                url starter_code  \\\n",
       "0  https://codeforces.com/problemset/problem/1259/D                \n",
       "1  https://codeforces.com/problemset/problem/1036/B                \n",
       "2  https://codeforces.com/problemset/problem/1408/A                \n",
       "3  https://codeforces.com/problemset/problem/1430/B                \n",
       "4  https://codeforces.com/problemset/problem/1265/B                \n",
       "\n",
       "   n_tokens_input  \n",
       "0             818  \n",
       "1             773  \n",
       "2            1417  \n",
       "3             584  \n",
       "4            1076  "
      ]
     },
     "execution_count": 49,
     "metadata": {},
     "output_type": "execute_result"
    }
   ],
   "source": [
    "print(f\"Length of records: {len(df_data)}\")\n",
    "df_data.head()"
   ]
  },
  {
   "cell_type": "markdown",
   "id": "cfe93ad9-7bf4-4879-9a08-8dce60dd6c44",
   "metadata": {},
   "source": [
    "#### First, sample a subset of the data"
   ]
  },
  {
   "cell_type": "code",
   "execution_count": 50,
   "id": "9f264e3a-b354-46e3-b836-160144965338",
   "metadata": {},
   "outputs": [],
   "source": [
    "SEED = 42\n",
    "MAXIMUM = 2000"
   ]
  },
  {
   "cell_type": "code",
   "execution_count": 51,
   "id": "fb219f3a-7a9a-4def-be67-678510c8a913",
   "metadata": {},
   "outputs": [],
   "source": [
    "# Stratified sampling of 2000 samples from the full dataset\n",
    "df_sampled, _ = train_test_split(df_data, train_size=2000, stratify=df_data['difficulty'], random_state=SEED)"
   ]
  },
  {
   "cell_type": "code",
   "execution_count": 52,
   "id": "5e922a69-83ab-4836-bc7b-f9fd512bec9c",
   "metadata": {},
   "outputs": [
    {
     "name": "stdout",
     "output_type": "stream",
     "text": [
      "Length of records: 2000\n"
     ]
    }
   ],
   "source": [
    "print(f\"Length of records: {len(df_sampled)}\")"
   ]
  },
  {
   "cell_type": "code",
   "execution_count": 53,
   "id": "65a6fd6e-9fd0-40e3-acd0-2c99876a8c67",
   "metadata": {},
   "outputs": [
    {
     "name": "stdout",
     "output_type": "stream",
     "text": [
      "MEAN: 545.0165\n",
      "MIN: 87,\n",
      "MAX: 2534\n",
      "P25: 307.75 P50: 441.00 P75: 650.00 P99: 2105.53\n"
     ]
    }
   ],
   "source": [
    "print(f\"MEAN: {np.mean(df_sampled[\"n_tokens_input\"])}\\nMIN: {np.min(df_sampled[\"n_tokens_input\"])},\\nMAX: {np.max(df_sampled[\"n_tokens_input\"])}\")\n",
    "print(*[f\"P{p}: {v:.2f}\" for p, v in zip([25, 50, 75, 99], np.percentile(df_sampled[\"n_tokens_input\"], [25, 50, 75, 99]))])"
   ]
  },
  {
   "cell_type": "code",
   "execution_count": null,
   "id": "70cb09ec-88d7-4320-ad6f-7e629154e549",
   "metadata": {},
   "outputs": [],
   "source": []
  },
  {
   "cell_type": "code",
   "execution_count": 54,
   "id": "9a95772a-2a75-40ca-bd1e-bd7b9a29d6ec",
   "metadata": {},
   "outputs": [
    {
     "data": {
      "image/png": "[encoded data removed]",
      "text/plain": [
       "<Figure size 1200x300 with 3 Axes>"
      ]
     },
     "metadata": {},
     "output_type": "display_data"
    }
   ],
   "source": [
    "fig = plotutils.plot_appsdataframe_ecdf_threeplot(df_sampled, figsize=(12,3), title_suffix=\"Apps\")"
   ]
  },
  {
   "cell_type": "code",
   "execution_count": 55,
   "id": "dd29ccb9-d527-421d-ac70-be38a528eb5f",
   "metadata": {},
   "outputs": [],
   "source": [
    "fig.savefig(\"../../outputs/images/raw_data_Apps_ntokens_ecdf.pdf\", bbox_inches=\"tight\")"
   ]
  },
  {
   "cell_type": "code",
   "execution_count": null,
   "id": "7f26a545-3575-413d-a053-8f79fdfd8235",
   "metadata": {},
   "outputs": [],
   "source": []
  },
  {
   "cell_type": "markdown",
   "id": "7952bb62-cf7f-405b-ab92-1fc9eae24eac",
   "metadata": {},
   "source": [
    "#### Now, do the train-validation-test splits"
   ]
  },
  {
   "cell_type": "code",
   "execution_count": 57,
   "id": "9dbf6912-f403-45b5-ad0f-19b57bccf3e1",
   "metadata": {},
   "outputs": [],
   "source": [
    "if 'n_tokens_input' in df_sampled.columns: \n",
    "    df_sampled = df_sampled.drop(columns=['n_tokens_input'])"
   ]
  },
  {
   "cell_type": "code",
   "execution_count": 58,
   "id": "97e4f7db-8196-4b88-8fb7-60be440ced9f",
   "metadata": {},
   "outputs": [
    {
     "data": {
      "text/html": [
       "<div>\n",
       "<style scoped>\n",
       "    .dataframe tbody tr th:only-of-type {\n",
       "        vertical-align: middle;\n",
       "    }\n",
       "\n",
       "    .dataframe tbody tr th {\n",
       "        vertical-align: top;\n",
       "    }\n",
       "\n",
       "    .dataframe thead th {\n",
       "        text-align: right;\n",
       "    }\n",
       "</style>\n",
       "<table border=\"1\" class=\"dataframe\">\n",
       "  <thead>\n",
       "    <tr style=\"text-align: right;\">\n",
       "      <th></th>\n",
       "      <th>problem_id</th>\n",
       "      <th>question</th>\n",
       "      <th>solutions</th>\n",
       "      <th>input_output</th>\n",
       "      <th>difficulty</th>\n",
       "      <th>url</th>\n",
       "      <th>starter_code</th>\n",
       "    </tr>\n",
       "  </thead>\n",
       "  <tbody>\n",
       "    <tr>\n",
       "      <th>3382</th>\n",
       "      <td>3383</td>\n",
       "      <td>Is the number even?\\n\\nIf the numbers is even ...</td>\n",
       "      <td>[\"def is_even(n):\\n    return not n &amp; 1\", \"def...</td>\n",
       "      <td>{\"fn_name\": \"is_even\", \"inputs\": [[2], [3], [1...</td>\n",
       "      <td>introductory</td>\n",
       "      <td>https://www.codewars.com/kata/592a33e549fe9840...</td>\n",
       "      <td>\\ndef is_even(n):\\n\\t</td>\n",
       "    </tr>\n",
       "    <tr>\n",
       "      <th>3900</th>\n",
       "      <td>3901</td>\n",
       "      <td>In this Kata, you will be given a ```number```...</td>\n",
       "      <td>[\"def check_digit(n, idx1, idx2, digit):\\n    ...</td>\n",
       "      <td>{\"fn_name\": \"check_digit\", \"inputs\": [[1234567...</td>\n",
       "      <td>introductory</td>\n",
       "      <td>https://www.codewars.com/kata/5a2e8c0955519e54...</td>\n",
       "      <td>\\ndef check_digit(number, index1, index2, digi...</td>\n",
       "    </tr>\n",
       "    <tr>\n",
       "      <th>3868</th>\n",
       "      <td>3869</td>\n",
       "      <td># Task\\n Below we will define what and n-inter...</td>\n",
       "      <td>[\"def shape_area(n):\\n    return n**2 + (n - 1...</td>\n",
       "      <td>{\"fn_name\": \"shape_area\", \"inputs\": [[2], [3],...</td>\n",
       "      <td>introductory</td>\n",
       "      <td>https://www.codewars.com/kata/5893e0c41a88085c...</td>\n",
       "      <td>\\ndef shape_area(n):\\n\\t</td>\n",
       "    </tr>\n",
       "    <tr>\n",
       "      <th>2286</th>\n",
       "      <td>2286</td>\n",
       "      <td>In Finite Encyclopedia of Integer Sequences (F...</td>\n",
       "      <td>[\"k,n = map(int,input().split())\\nif k %2 ==0:...</td>\n",
       "      <td>{\"inputs\": [\"3 2\\n\", \"2 4\\n\", \"5 14\\n\"], \"outp...</td>\n",
       "      <td>competition</td>\n",
       "      <td>https://atcoder.jp/contests/arc084/tasks/arc084_c</td>\n",
       "      <td></td>\n",
       "    </tr>\n",
       "    <tr>\n",
       "      <th>2111</th>\n",
       "      <td>2111</td>\n",
       "      <td>Lesha plays the recently published new version...</td>\n",
       "      <td>[\"import itertools\\nimport bisect\\n\\nn, A, cf,...</td>\n",
       "      <td>{\\n  \"inputs\": [\\n    \"3 5 10 1 5\\n1 3 1\\n\",\\n...</td>\n",
       "      <td>competition</td>\n",
       "      <td>https://codeforces.com/problemset/problem/613/B</td>\n",
       "      <td></td>\n",
       "    </tr>\n",
       "  </tbody>\n",
       "</table>\n",
       "</div>"
      ],
      "text/plain": [
       "      problem_id                                           question  \\\n",
       "3382        3383  Is the number even?\\n\\nIf the numbers is even ...   \n",
       "3900        3901  In this Kata, you will be given a ```number```...   \n",
       "3868        3869  # Task\\n Below we will define what and n-inter...   \n",
       "2286        2286  In Finite Encyclopedia of Integer Sequences (F...   \n",
       "2111        2111  Lesha plays the recently published new version...   \n",
       "\n",
       "                                              solutions  \\\n",
       "3382  [\"def is_even(n):\\n    return not n & 1\", \"def...   \n",
       "3900  [\"def check_digit(n, idx1, idx2, digit):\\n    ...   \n",
       "3868  [\"def shape_area(n):\\n    return n**2 + (n - 1...   \n",
       "2286  [\"k,n = map(int,input().split())\\nif k %2 ==0:...   \n",
       "2111  [\"import itertools\\nimport bisect\\n\\nn, A, cf,...   \n",
       "\n",
       "                                           input_output    difficulty  \\\n",
       "3382  {\"fn_name\": \"is_even\", \"inputs\": [[2], [3], [1...  introductory   \n",
       "3900  {\"fn_name\": \"check_digit\", \"inputs\": [[1234567...  introductory   \n",
       "3868  {\"fn_name\": \"shape_area\", \"inputs\": [[2], [3],...  introductory   \n",
       "2286  {\"inputs\": [\"3 2\\n\", \"2 4\\n\", \"5 14\\n\"], \"outp...   competition   \n",
       "2111  {\\n  \"inputs\": [\\n    \"3 5 10 1 5\\n1 3 1\\n\",\\n...   competition   \n",
       "\n",
       "                                                    url  \\\n",
       "3382  https://www.codewars.com/kata/592a33e549fe9840...   \n",
       "3900  https://www.codewars.com/kata/5a2e8c0955519e54...   \n",
       "3868  https://www.codewars.com/kata/5893e0c41a88085c...   \n",
       "2286  https://atcoder.jp/contests/arc084/tasks/arc084_c   \n",
       "2111    https://codeforces.com/problemset/problem/613/B   \n",
       "\n",
       "                                           starter_code  \n",
       "3382                              \\ndef is_even(n):\\n\\t  \n",
       "3900  \\ndef check_digit(number, index1, index2, digi...  \n",
       "3868                           \\ndef shape_area(n):\\n\\t  \n",
       "2286                                                     \n",
       "2111                                                     "
      ]
     },
     "execution_count": 58,
     "metadata": {},
     "output_type": "execute_result"
    }
   ],
   "source": [
    "df_sampled.head()"
   ]
  },
  {
   "cell_type": "code",
   "execution_count": 59,
   "id": "cd40371b-6114-43d1-8c13-13201f008cd6",
   "metadata": {},
   "outputs": [],
   "source": [
    "df_train, df_tmp = train_test_split(df_sampled, test_size=0.3, stratify=df_sampled['difficulty'], random_state=SEED)"
   ]
  },
  {
   "cell_type": "code",
   "execution_count": 60,
   "id": "20ce5d52-acd2-4d76-bcfd-ce2e946ed13f",
   "metadata": {},
   "outputs": [],
   "source": [
    "df_validate, df_test = train_test_split(df_tmp, test_size=1/3, stratify=df_tmp['difficulty'], random_state=SEED)"
   ]
  },
  {
   "cell_type": "code",
   "execution_count": 61,
   "id": "b12ea58e-410e-4ddd-b10f-7d1d03c57e9f",
   "metadata": {},
   "outputs": [
    {
     "name": "stdout",
     "output_type": "stream",
     "text": [
      "Percentage of training data: 0.7\n",
      "Percentage of validation data: 0.2\n",
      "Percentage of test data: 0.1\n"
     ]
    }
   ],
   "source": [
    "print(f\"Percentage of training data: {round(len(df_train)/len(df_sampled), 4)}\")\n",
    "print(f\"Percentage of validation data: {round(len(df_validate)/len(df_sampled), 4)}\")\n",
    "print(f\"Percentage of test data: {round(len(df_test)/len(df_sampled), 4)}\")"
   ]
  },
  {
   "cell_type": "code",
   "execution_count": 62,
   "id": "0fd48844-a057-4e57-92bc-d6d7361d22ac",
   "metadata": {},
   "outputs": [
    {
     "data": {
      "text/plain": [
       "1400"
      ]
     },
     "execution_count": 62,
     "metadata": {},
     "output_type": "execute_result"
    }
   ],
   "source": [
    "len(df_train)"
   ]
  },
  {
   "cell_type": "code",
   "execution_count": null,
   "id": "35e344cc-54de-493a-aa7a-2a16a43a058d",
   "metadata": {},
   "outputs": [],
   "source": []
  },
  {
   "cell_type": "markdown",
   "id": "4fde3886-1592-4f79-9ea2-7b1704ffd8c5",
   "metadata": {},
   "source": [
    "### Convert to list of dicts"
   ]
  },
  {
   "cell_type": "code",
   "execution_count": 63,
   "id": "5fa7bd3f-a48d-4122-ade8-9286a774d35f",
   "metadata": {},
   "outputs": [],
   "source": [
    "data_train = df_train.to_dict(orient='records')\n",
    "data_val = df_validate.to_dict(orient='records')\n",
    "data_test = df_test.to_dict(orient='records')"
   ]
  },
  {
   "cell_type": "code",
   "execution_count": null,
   "id": "84380ca4-09e0-4edf-af0c-e238d0c42161",
   "metadata": {},
   "outputs": [],
   "source": []
  },
  {
   "cell_type": "code",
   "execution_count": 64,
   "id": "51607cf6-7ba7-467f-a5ed-8f3533ffb298",
   "metadata": {},
   "outputs": [
    {
     "name": "stdout",
     "output_type": "stream",
     "text": [
      "Percentage of training data: 0.28\n",
      "Percentage of validation data: 0.08\n",
      "Percentage of test data: 0.04\n"
     ]
    }
   ],
   "source": [
    "# Check if the lengths agree\n",
    "print(f\"Percentage of training data: {round(len(data_train)/len(data), 4)}\")\n",
    "print(f\"Percentage of validation data: {round(len(data_val)/len(data), 4)}\")\n",
    "print(f\"Percentage of test data: {round(len(data_test)/len(data), 4)}\")"
   ]
  },
  {
   "cell_type": "code",
   "execution_count": null,
   "id": "2ca2a40b-deda-434f-9423-5dc7e342289c",
   "metadata": {},
   "outputs": [],
   "source": []
  },
  {
   "cell_type": "markdown",
   "id": "74446950-231d-4e80-8a02-c6594f278d4d",
   "metadata": {},
   "source": [
    "#### Check that compatibility still holds for `rawprompt`` builder function "
   ]
  },
  {
   "cell_type": "code",
   "execution_count": 65,
   "id": "24bebb95-b328-4da5-bdc7-1c6608c75055",
   "metadata": {},
   "outputs": [
    {
     "name": "stdout",
     "output_type": "stream",
     "text": [
      "You are an expert Python programmer. QUESTION: You may be familiar with the concept of combinations: for example, if you take 5 cards from a 52 cards deck as you would playing poker, you can have a certain number (2,598,960, would you say?) of different combinations.\n",
      "\n",
      "In mathematics the number of *k* combinations you can have taking from a set of *n* elements is called the [binomial coefficient](https://en.wikipedia.org/wiki/Binomial_coefficient) of n and k, more popularly called **n choose k**.\n",
      "\n",
      "The formula to compute it is relatively simple: `n choose k`==`n!/(k!*(n-k)!)`, where `!` of course denotes the factorial operator.\n",
      "\n",
      "You are now to create a choose function that computes the binomial coefficient, like this:\n",
      "\n",
      "```\n",
      "choose(1,1)==1\n",
      "choose(5,4)==5\n",
      "choose(10,5)==252\n",
      "choose(10,20)==0\n",
      "choose(52,5)==2598960\n",
      "```\n",
      "\n",
      "Be warned: a certain degree of optimization is expected, both to deal with larger numbers precision (and their rounding errors in languages like JS) and computing time.\n",
      "\n",
      "Your code should start with the following: \n",
      "\n",
      "def choose(n,k):\n",
      "\t\n",
      "The following is the standard input and output format: \n",
      "Inputs:\n",
      "[1, 1]\n",
      "[5, 4]\n",
      "[10, 5]\n",
      "[10, 20]\n",
      "[52, 5]\n",
      "[100, 10]\n",
      "[500, 4]\n",
      "[1000, 3]\n",
      "[200, 8]\n",
      "[300, 6]\n",
      "Outputs:\n",
      "[1]\n",
      "[5]\n",
      "[252]\n",
      "[0]\n",
      "[2598960]\n",
      "[17310309456440]\n",
      "[2573031125]\n",
      "[166167000]\n",
      "[55098996177225]\n",
      "[962822846700]\n"
     ]
    }
   ],
   "source": [
    "elem = data_train[1]\n",
    "print(apps_generate_rawprompt_text(elem, tokenizer, truncate=True, prompt_key=prompt_key))"
   ]
  },
  {
   "cell_type": "code",
   "execution_count": 66,
   "id": "61b1f510-38e1-489b-8d90-7695d446dfcf",
   "metadata": {},
   "outputs": [
    {
     "name": "stderr",
     "output_type": "stream",
     "text": [
      "Prompt text length exceeds maximum limit of 2500 tokens. Truncarting prompt.\n",
      "Prompt text length exceeds maximum limit of 2500 tokens. Truncarting prompt.\n",
      "Prompt text length exceeds maximum limit of 2500 tokens. Truncarting prompt.\n",
      "Prompt text length exceeds maximum limit of 2500 tokens. Truncarting prompt.\n",
      "Prompt text length exceeds maximum limit of 2500 tokens. Truncarting prompt.\n",
      "Prompt text length exceeds maximum limit of 2500 tokens. Truncarting prompt.\n",
      "Prompt text length exceeds maximum limit of 2500 tokens. Truncarting prompt.\n",
      "Prompt text length exceeds maximum limit of 2500 tokens. Truncarting prompt.\n",
      "Prompt text length exceeds maximum limit of 2500 tokens. Truncarting prompt.\n",
      "Prompt text length exceeds maximum limit of 2500 tokens. Truncarting prompt.\n",
      "Prompt text length exceeds maximum limit of 2500 tokens. Truncarting prompt.\n",
      "Prompt text length exceeds maximum limit of 2500 tokens. Truncarting prompt.\n",
      "Prompt text length exceeds maximum limit of 2500 tokens. Truncarting prompt.\n",
      "Prompt text length exceeds maximum limit of 2500 tokens. Truncarting prompt.\n",
      "Prompt text length exceeds maximum limit of 2500 tokens. Truncarting prompt.\n",
      "Prompt text length exceeds maximum limit of 2500 tokens. Truncarting prompt.\n",
      "Prompt text length exceeds maximum limit of 2500 tokens. Truncarting prompt.\n"
     ]
    }
   ],
   "source": [
    "conv_len_tokens = [get_tokens(build_rawprompt_text_chat(apps_generate_rawprompt_text(elem, tokenizer, truncate=True, prompt_key=prompt_key)), \n",
    "                              tokenizer).shape[1] for elem in data_train + data_val + data_test]"
   ]
  },
  {
   "cell_type": "code",
   "execution_count": null,
   "id": "bf16ae90-2037-49cb-ac8b-5fe9612734fe",
   "metadata": {},
   "outputs": [],
   "source": []
  },
  {
   "cell_type": "markdown",
   "id": "775313f6-5835-4ef5-987e-567a06e349ad",
   "metadata": {},
   "source": [
    "## Save data"
   ]
  },
  {
   "cell_type": "code",
   "execution_count": 67,
   "id": "145025b0-124e-463b-af77-0b004a610718",
   "metadata": {},
   "outputs": [],
   "source": [
    "def save_data(dataset, path):\n",
    "    with open(path, 'w') as f:\n",
    "        json.dump(dataset, f)\n",
    "    print(f\"Dataset saved to path {path}\")"
   ]
  },
  {
   "cell_type": "code",
   "execution_count": 68,
   "id": "1b0d3009-902e-49e0-a8d8-7c67912fc44f",
   "metadata": {},
   "outputs": [],
   "source": [
    "save_path_src = \"../raw_instruct/Apps/raw_Apps\""
   ]
  },
  {
   "cell_type": "code",
   "execution_count": 69,
   "id": "7c5731f2-49f2-4ddf-a44f-c5ca0da6abc9",
   "metadata": {},
   "outputs": [
    {
     "name": "stdout",
     "output_type": "stream",
     "text": [
      "Dataset saved to path ../raw_instruct/Apps/raw_Apps_train.json\n"
     ]
    }
   ],
   "source": [
    "save_data(data_train, save_path_src + \"_train.json\")"
   ]
  },
  {
   "cell_type": "code",
   "execution_count": 70,
   "id": "37a7afdd-aa85-4e25-a69d-43be0c3a5000",
   "metadata": {},
   "outputs": [
    {
     "name": "stdout",
     "output_type": "stream",
     "text": [
      "Dataset saved to path ../raw_instruct/Apps/raw_Apps_validate.json\n"
     ]
    }
   ],
   "source": [
    "save_data(data_val, save_path_src + \"_validate.json\")"
   ]
  },
  {
   "cell_type": "code",
   "execution_count": 71,
   "id": "bd1ac985-af95-493b-99ff-4d119bca157b",
   "metadata": {},
   "outputs": [
    {
     "name": "stdout",
     "output_type": "stream",
     "text": [
      "Dataset saved to path ../raw_instruct/Apps/raw_Apps_test.json\n"
     ]
    }
   ],
   "source": [
    "save_data(data_test, save_path_src + \"_test.json\")"
   ]
  },
  {
   "cell_type": "code",
   "execution_count": null,
   "id": "7c8d63e6-ffac-40ac-aeeb-e2adacdf81e6",
   "metadata": {},
   "outputs": [],
   "source": []
  },
  {
   "cell_type": "code",
   "execution_count": null,
   "id": "b5c5bfac-75ff-4573-a85f-e3dc1a7f9df6",
   "metadata": {},
   "outputs": [],
   "source": []
  },
  {
   "cell_type": "code",
   "execution_count": null,
   "id": "aed68914-9618-4090-ae90-351fbb818269",
   "metadata": {},
   "outputs": [],
   "source": []
  },
  {
   "cell_type": "code",
   "execution_count": null,
   "id": "16e846b4-c540-4960-8a5f-9fc159927a35",
   "metadata": {},
   "outputs": [],
   "source": []
  },
  {
   "cell_type": "code",
   "execution_count": null,
   "id": "6f0baa5f-432e-416d-a403-3ffbfad0aac1",
   "metadata": {},
   "outputs": [],
   "source": []
  },
  {
   "cell_type": "code",
   "execution_count": null,
   "id": "2d33d3ed-dc33-47c2-b710-6c442d1a65a1",
   "metadata": {},
   "outputs": [],
   "source": []
  },
  {
   "cell_type": "code",
   "execution_count": null,
   "id": "7582c626-58dd-4c30-b53c-f161438b6f1d",
   "metadata": {},
   "outputs": [],
   "source": []
  },
  {
   "cell_type": "code",
   "execution_count": null,
   "id": "3cc687c3-67b6-44a2-8b17-68a9a30694f6",
   "metadata": {},
   "outputs": [],
   "source": []
  },
  {
   "cell_type": "code",
   "execution_count": null,
   "id": "ce785042-411b-41d1-9f10-cb213e6741ae",
   "metadata": {},
   "outputs": [],
   "source": []
  },
  {
   "cell_type": "code",
   "execution_count": null,
   "id": "5e1ecc0e-630d-4ee1-98ba-117b9f12be95",
   "metadata": {},
   "outputs": [],
   "source": []
  },
  {
   "cell_type": "code",
   "execution_count": null,
   "id": "8baf555f-a36f-42e6-b68f-5e1b23f0b74e",
   "metadata": {},
   "outputs": [],
   "source": []
  },
  {
   "cell_type": "code",
   "execution_count": null,
   "id": "e2ac691a-9e55-4217-a8d7-6681c6bc7336",
   "metadata": {},
   "outputs": [],
   "source": []
  },
  {
   "cell_type": "code",
   "execution_count": null,
   "id": "dac72173-ed95-432f-969d-b8efc12ecbb1",
   "metadata": {},
   "outputs": [],
   "source": []
  },
  {
   "cell_type": "code",
   "execution_count": null,
   "id": "bbacb830-2a6f-4661-8aa1-2ff8f7bfcb86",
   "metadata": {},
   "outputs": [],
   "source": []
  },
  {
   "cell_type": "markdown",
   "id": "cf4161c7-123f-49fd-a98a-78ae8736c6e0",
   "metadata": {},
   "source": [
    "# BACKUP CELLS"
   ]
  },
  {
   "cell_type": "markdown",
   "id": "dd0e8df6-2576-4921-affd-9cb43dc44757",
   "metadata": {},
   "source": [
    "#### First, make sure the type of the `input_output`column is Dict and not String"
   ]
  },
  {
   "cell_type": "code",
   "execution_count": null,
   "id": "6af5e005-e325-465e-93d9-8aa4e447294b",
   "metadata": {},
   "outputs": [],
   "source": [
    "type(df_data.iloc[idx][\"input_output\"])"
   ]
  },
  {
   "cell_type": "code",
   "execution_count": 78,
   "id": "493dca83-29c6-49c4-b4a9-23c2f757f132",
   "metadata": {
    "scrolled": true
   },
   "outputs": [
    {
     "name": "stdout",
     "output_type": "stream",
     "text": [
      "Row 1805 failed with error: Expecting value: line 1 column 1 (char 0)\n",
      "Offending value: ''\n",
      "Row 1806 failed with error: Expecting value: line 1 column 1 (char 0)\n",
      "Offending value: ''\n",
      "Row 1807 failed with error: Expecting value: line 1 column 1 (char 0)\n",
      "Offending value: ''\n",
      "Row 1808 failed with error: Expecting value: line 1 column 1 (char 0)\n",
      "Offending value: ''\n",
      "Row 1809 failed with error: Expecting value: line 1 column 1 (char 0)\n",
      "Offending value: ''\n",
      "Row 1810 failed with error: Expecting value: line 1 column 1 (char 0)\n",
      "Offending value: ''\n",
      "Row 1811 failed with error: Expecting value: line 1 column 1 (char 0)\n",
      "Offending value: ''\n",
      "Row 1812 failed with error: Expecting value: line 1 column 1 (char 0)\n",
      "Offending value: ''\n",
      "Row 1813 failed with error: Expecting value: line 1 column 1 (char 0)\n",
      "Offending value: ''\n",
      "Row 1814 failed with error: Expecting value: line 1 column 1 (char 0)\n",
      "Offending value: ''\n",
      "Row 1815 failed with error: Expecting value: line 1 column 1 (char 0)\n",
      "Offending value: ''\n",
      "Row 1816 failed with error: Expecting value: line 1 column 1 (char 0)\n",
      "Offending value: ''\n",
      "Row 1817 failed with error: Expecting value: line 1 column 1 (char 0)\n",
      "Offending value: ''\n",
      "Row 1818 failed with error: Expecting value: line 1 column 1 (char 0)\n",
      "Offending value: ''\n",
      "Row 1819 failed with error: Expecting value: line 1 column 1 (char 0)\n",
      "Offending value: ''\n",
      "Row 1820 failed with error: Expecting value: line 1 column 1 (char 0)\n",
      "Offending value: ''\n",
      "Row 1821 failed with error: Expecting value: line 1 column 1 (char 0)\n",
      "Offending value: ''\n",
      "Row 1822 failed with error: Expecting value: line 1 column 1 (char 0)\n",
      "Offending value: ''\n",
      "Row 1823 failed with error: Expecting value: line 1 column 1 (char 0)\n",
      "Offending value: ''\n",
      "Row 1824 failed with error: Expecting value: line 1 column 1 (char 0)\n",
      "Offending value: ''\n",
      "Row 1825 failed with error: Expecting value: line 1 column 1 (char 0)\n",
      "Offending value: ''\n",
      "Row 1826 failed with error: Expecting value: line 1 column 1 (char 0)\n",
      "Offending value: ''\n",
      "Row 1827 failed with error: Expecting value: line 1 column 1 (char 0)\n",
      "Offending value: ''\n",
      "Row 1828 failed with error: Expecting value: line 1 column 1 (char 0)\n",
      "Offending value: ''\n",
      "Row 1829 failed with error: Expecting value: line 1 column 1 (char 0)\n",
      "Offending value: ''\n",
      "Row 1830 failed with error: Expecting value: line 1 column 1 (char 0)\n",
      "Offending value: ''\n",
      "Row 1831 failed with error: Expecting value: line 1 column 1 (char 0)\n",
      "Offending value: ''\n",
      "Row 1832 failed with error: Expecting value: line 1 column 1 (char 0)\n",
      "Offending value: ''\n",
      "Row 1833 failed with error: Expecting value: line 1 column 1 (char 0)\n",
      "Offending value: ''\n",
      "Row 1834 failed with error: Expecting value: line 1 column 1 (char 0)\n",
      "Offending value: ''\n",
      "Row 1835 failed with error: Expecting value: line 1 column 1 (char 0)\n",
      "Offending value: ''\n",
      "Row 1836 failed with error: Expecting value: line 1 column 1 (char 0)\n",
      "Offending value: ''\n",
      "Row 1837 failed with error: Expecting value: line 1 column 1 (char 0)\n",
      "Offending value: ''\n",
      "Row 1838 failed with error: Expecting value: line 1 column 1 (char 0)\n",
      "Offending value: ''\n",
      "Row 1839 failed with error: Expecting value: line 1 column 1 (char 0)\n",
      "Offending value: ''\n",
      "Row 1840 failed with error: Expecting value: line 1 column 1 (char 0)\n",
      "Offending value: ''\n",
      "Row 1841 failed with error: Expecting value: line 1 column 1 (char 0)\n",
      "Offending value: ''\n",
      "Row 1842 failed with error: Expecting value: line 1 column 1 (char 0)\n",
      "Offending value: ''\n",
      "Row 1843 failed with error: Expecting value: line 1 column 1 (char 0)\n",
      "Offending value: ''\n",
      "Row 1844 failed with error: Expecting value: line 1 column 1 (char 0)\n",
      "Offending value: ''\n",
      "Row 1845 failed with error: Expecting value: line 1 column 1 (char 0)\n",
      "Offending value: ''\n",
      "Row 1846 failed with error: Expecting value: line 1 column 1 (char 0)\n",
      "Offending value: ''\n",
      "Row 1847 failed with error: Expecting value: line 1 column 1 (char 0)\n",
      "Offending value: ''\n",
      "Row 1848 failed with error: Expecting value: line 1 column 1 (char 0)\n",
      "Offending value: ''\n",
      "Row 1849 failed with error: Expecting value: line 1 column 1 (char 0)\n",
      "Offending value: ''\n",
      "Row 1850 failed with error: Expecting value: line 1 column 1 (char 0)\n",
      "Offending value: ''\n",
      "Row 1851 failed with error: Expecting value: line 1 column 1 (char 0)\n",
      "Offending value: ''\n",
      "Row 1852 failed with error: Expecting value: line 1 column 1 (char 0)\n",
      "Offending value: ''\n",
      "Row 1853 failed with error: Expecting value: line 1 column 1 (char 0)\n",
      "Offending value: ''\n",
      "Row 1854 failed with error: Expecting value: line 1 column 1 (char 0)\n",
      "Offending value: ''\n",
      "Row 1855 failed with error: Expecting value: line 1 column 1 (char 0)\n",
      "Offending value: ''\n",
      "Row 1856 failed with error: Expecting value: line 1 column 1 (char 0)\n",
      "Offending value: ''\n",
      "Row 1857 failed with error: Expecting value: line 1 column 1 (char 0)\n",
      "Offending value: ''\n",
      "Row 1858 failed with error: Expecting value: line 1 column 1 (char 0)\n",
      "Offending value: ''\n",
      "Row 1859 failed with error: Expecting value: line 1 column 1 (char 0)\n",
      "Offending value: ''\n",
      "Row 1860 failed with error: Expecting value: line 1 column 1 (char 0)\n",
      "Offending value: ''\n",
      "Row 1861 failed with error: Expecting value: line 1 column 1 (char 0)\n",
      "Offending value: ''\n",
      "Row 1862 failed with error: Expecting value: line 1 column 1 (char 0)\n",
      "Offending value: ''\n",
      "Row 1863 failed with error: Expecting value: line 1 column 1 (char 0)\n",
      "Offending value: ''\n",
      "Row 1864 failed with error: Expecting value: line 1 column 1 (char 0)\n",
      "Offending value: ''\n",
      "Row 1865 failed with error: Expecting value: line 1 column 1 (char 0)\n",
      "Offending value: ''\n",
      "Row 1866 failed with error: Expecting value: line 1 column 1 (char 0)\n",
      "Offending value: ''\n",
      "Row 1867 failed with error: Expecting value: line 1 column 1 (char 0)\n",
      "Offending value: ''\n",
      "Row 1868 failed with error: Expecting value: line 1 column 1 (char 0)\n",
      "Offending value: ''\n",
      "Row 1869 failed with error: Expecting value: line 1 column 1 (char 0)\n",
      "Offending value: ''\n",
      "Row 1870 failed with error: Expecting value: line 1 column 1 (char 0)\n",
      "Offending value: ''\n",
      "Row 1871 failed with error: Expecting value: line 1 column 1 (char 0)\n",
      "Offending value: ''\n",
      "Row 1872 failed with error: Expecting value: line 1 column 1 (char 0)\n",
      "Offending value: ''\n",
      "Row 1873 failed with error: Expecting value: line 1 column 1 (char 0)\n",
      "Offending value: ''\n",
      "Row 1874 failed with error: Expecting value: line 1 column 1 (char 0)\n",
      "Offending value: ''\n",
      "Row 1875 failed with error: Expecting value: line 1 column 1 (char 0)\n",
      "Offending value: ''\n",
      "Row 1876 failed with error: Expecting value: line 1 column 1 (char 0)\n",
      "Offending value: ''\n",
      "Row 1877 failed with error: Expecting value: line 1 column 1 (char 0)\n",
      "Offending value: ''\n",
      "Row 1878 failed with error: Expecting value: line 1 column 1 (char 0)\n",
      "Offending value: ''\n",
      "Row 1879 failed with error: Expecting value: line 1 column 1 (char 0)\n",
      "Offending value: ''\n",
      "Row 1880 failed with error: Expecting value: line 1 column 1 (char 0)\n",
      "Offending value: ''\n",
      "Row 1881 failed with error: Expecting value: line 1 column 1 (char 0)\n",
      "Offending value: ''\n",
      "Row 1882 failed with error: Expecting value: line 1 column 1 (char 0)\n",
      "Offending value: ''\n",
      "Row 1883 failed with error: Expecting value: line 1 column 1 (char 0)\n",
      "Offending value: ''\n",
      "Row 1884 failed with error: Expecting value: line 1 column 1 (char 0)\n",
      "Offending value: ''\n",
      "Row 1885 failed with error: Expecting value: line 1 column 1 (char 0)\n",
      "Offending value: ''\n",
      "Row 1886 failed with error: Expecting value: line 1 column 1 (char 0)\n",
      "Offending value: ''\n",
      "Row 1887 failed with error: Expecting value: line 1 column 1 (char 0)\n",
      "Offending value: ''\n",
      "Row 1888 failed with error: Expecting value: line 1 column 1 (char 0)\n",
      "Offending value: ''\n",
      "Row 1889 failed with error: Expecting value: line 1 column 1 (char 0)\n",
      "Offending value: ''\n",
      "Row 1890 failed with error: Expecting value: line 1 column 1 (char 0)\n",
      "Offending value: ''\n",
      "Row 1891 failed with error: Expecting value: line 1 column 1 (char 0)\n",
      "Offending value: ''\n",
      "Row 1892 failed with error: Expecting value: line 1 column 1 (char 0)\n",
      "Offending value: ''\n",
      "Row 1893 failed with error: Expecting value: line 1 column 1 (char 0)\n",
      "Offending value: ''\n",
      "Row 1894 failed with error: Expecting value: line 1 column 1 (char 0)\n",
      "Offending value: ''\n",
      "Row 1895 failed with error: Expecting value: line 1 column 1 (char 0)\n",
      "Offending value: ''\n",
      "Row 1896 failed with error: Expecting value: line 1 column 1 (char 0)\n",
      "Offending value: ''\n",
      "Row 1897 failed with error: Expecting value: line 1 column 1 (char 0)\n",
      "Offending value: ''\n",
      "Row 1898 failed with error: Expecting value: line 1 column 1 (char 0)\n",
      "Offending value: ''\n",
      "Row 1899 failed with error: Expecting value: line 1 column 1 (char 0)\n",
      "Offending value: ''\n",
      "Row 1900 failed with error: Expecting value: line 1 column 1 (char 0)\n",
      "Offending value: ''\n",
      "Row 1901 failed with error: Expecting value: line 1 column 1 (char 0)\n",
      "Offending value: ''\n",
      "Row 1902 failed with error: Expecting value: line 1 column 1 (char 0)\n",
      "Offending value: ''\n",
      "Row 1903 failed with error: Expecting value: line 1 column 1 (char 0)\n",
      "Offending value: ''\n",
      "Row 1904 failed with error: Expecting value: line 1 column 1 (char 0)\n",
      "Offending value: ''\n",
      "Row 1905 failed with error: Expecting value: line 1 column 1 (char 0)\n",
      "Offending value: ''\n",
      "Row 1906 failed with error: Expecting value: line 1 column 1 (char 0)\n",
      "Offending value: ''\n",
      "Row 1907 failed with error: Expecting value: line 1 column 1 (char 0)\n",
      "Offending value: ''\n",
      "Row 1908 failed with error: Expecting value: line 1 column 1 (char 0)\n",
      "Offending value: ''\n",
      "Row 1909 failed with error: Expecting value: line 1 column 1 (char 0)\n",
      "Offending value: ''\n",
      "Row 1910 failed with error: Expecting value: line 1 column 1 (char 0)\n",
      "Offending value: ''\n",
      "Row 1911 failed with error: Expecting value: line 1 column 1 (char 0)\n",
      "Offending value: ''\n",
      "Row 1912 failed with error: Expecting value: line 1 column 1 (char 0)\n",
      "Offending value: ''\n",
      "Row 1913 failed with error: Expecting value: line 1 column 1 (char 0)\n",
      "Offending value: ''\n",
      "Row 1914 failed with error: Expecting value: line 1 column 1 (char 0)\n",
      "Offending value: ''\n",
      "Row 1915 failed with error: Expecting value: line 1 column 1 (char 0)\n",
      "Offending value: ''\n",
      "Row 1916 failed with error: Expecting value: line 1 column 1 (char 0)\n",
      "Offending value: ''\n",
      "Row 1917 failed with error: Expecting value: line 1 column 1 (char 0)\n",
      "Offending value: ''\n",
      "Row 1918 failed with error: Expecting value: line 1 column 1 (char 0)\n",
      "Offending value: ''\n",
      "Row 1919 failed with error: Expecting value: line 1 column 1 (char 0)\n",
      "Offending value: ''\n",
      "Row 1920 failed with error: Expecting value: line 1 column 1 (char 0)\n",
      "Offending value: ''\n",
      "Row 1921 failed with error: Expecting value: line 1 column 1 (char 0)\n",
      "Offending value: ''\n",
      "Row 1922 failed with error: Expecting value: line 1 column 1 (char 0)\n",
      "Offending value: ''\n",
      "Row 1923 failed with error: Expecting value: line 1 column 1 (char 0)\n",
      "Offending value: ''\n",
      "Row 1924 failed with error: Expecting value: line 1 column 1 (char 0)\n",
      "Offending value: ''\n",
      "Row 1925 failed with error: Expecting value: line 1 column 1 (char 0)\n",
      "Offending value: ''\n",
      "Row 1926 failed with error: Expecting value: line 1 column 1 (char 0)\n",
      "Offending value: ''\n",
      "Row 1927 failed with error: Expecting value: line 1 column 1 (char 0)\n",
      "Offending value: ''\n",
      "Row 1928 failed with error: Expecting value: line 1 column 1 (char 0)\n",
      "Offending value: ''\n",
      "Row 1929 failed with error: Expecting value: line 1 column 1 (char 0)\n",
      "Offending value: ''\n",
      "Row 1930 failed with error: Expecting value: line 1 column 1 (char 0)\n",
      "Offending value: ''\n",
      "Row 1931 failed with error: Expecting value: line 1 column 1 (char 0)\n",
      "Offending value: ''\n",
      "Row 1932 failed with error: Expecting value: line 1 column 1 (char 0)\n",
      "Offending value: ''\n",
      "Row 1933 failed with error: Expecting value: line 1 column 1 (char 0)\n",
      "Offending value: ''\n",
      "Row 1934 failed with error: Expecting value: line 1 column 1 (char 0)\n",
      "Offending value: ''\n",
      "Row 1935 failed with error: Expecting value: line 1 column 1 (char 0)\n",
      "Offending value: ''\n",
      "Row 1936 failed with error: Expecting value: line 1 column 1 (char 0)\n",
      "Offending value: ''\n",
      "Row 1937 failed with error: Expecting value: line 1 column 1 (char 0)\n",
      "Offending value: ''\n",
      "Row 1938 failed with error: Expecting value: line 1 column 1 (char 0)\n",
      "Offending value: ''\n",
      "Row 1939 failed with error: Expecting value: line 1 column 1 (char 0)\n",
      "Offending value: ''\n",
      "Row 1940 failed with error: Expecting value: line 1 column 1 (char 0)\n",
      "Offending value: ''\n",
      "Row 1941 failed with error: Expecting value: line 1 column 1 (char 0)\n",
      "Offending value: ''\n",
      "Row 1942 failed with error: Expecting value: line 1 column 1 (char 0)\n",
      "Offending value: ''\n",
      "Row 1943 failed with error: Expecting value: line 1 column 1 (char 0)\n",
      "Offending value: ''\n",
      "Row 1944 failed with error: Expecting value: line 1 column 1 (char 0)\n",
      "Offending value: ''\n",
      "Row 1945 failed with error: Expecting value: line 1 column 1 (char 0)\n",
      "Offending value: ''\n",
      "Row 1946 failed with error: Expecting value: line 1 column 1 (char 0)\n",
      "Offending value: ''\n",
      "Row 1947 failed with error: Expecting value: line 1 column 1 (char 0)\n",
      "Offending value: ''\n",
      "Row 1948 failed with error: Expecting value: line 1 column 1 (char 0)\n",
      "Offending value: ''\n",
      "Row 1949 failed with error: Expecting value: line 1 column 1 (char 0)\n",
      "Offending value: ''\n",
      "Row 1950 failed with error: Expecting value: line 1 column 1 (char 0)\n",
      "Offending value: ''\n",
      "Row 1951 failed with error: Expecting value: line 1 column 1 (char 0)\n",
      "Offending value: ''\n",
      "Row 1952 failed with error: Expecting value: line 1 column 1 (char 0)\n",
      "Offending value: ''\n",
      "Row 1953 failed with error: Expecting value: line 1 column 1 (char 0)\n",
      "Offending value: ''\n",
      "Row 1954 failed with error: Expecting value: line 1 column 1 (char 0)\n",
      "Offending value: ''\n",
      "Row 1955 failed with error: Expecting value: line 1 column 1 (char 0)\n",
      "Offending value: ''\n",
      "Row 1956 failed with error: Expecting value: line 1 column 1 (char 0)\n",
      "Offending value: ''\n",
      "Row 1957 failed with error: Expecting value: line 1 column 1 (char 0)\n",
      "Offending value: ''\n",
      "Row 1958 failed with error: Expecting value: line 1 column 1 (char 0)\n",
      "Offending value: ''\n",
      "Row 1959 failed with error: Expecting value: line 1 column 1 (char 0)\n",
      "Offending value: ''\n",
      "Row 1960 failed with error: Expecting value: line 1 column 1 (char 0)\n",
      "Offending value: ''\n",
      "Row 1961 failed with error: Expecting value: line 1 column 1 (char 0)\n",
      "Offending value: ''\n",
      "Row 1962 failed with error: Expecting value: line 1 column 1 (char 0)\n",
      "Offending value: ''\n",
      "Row 1963 failed with error: Expecting value: line 1 column 1 (char 0)\n",
      "Offending value: ''\n",
      "Row 1964 failed with error: Expecting value: line 1 column 1 (char 0)\n",
      "Offending value: ''\n",
      "Row 1965 failed with error: Expecting value: line 1 column 1 (char 0)\n",
      "Offending value: ''\n",
      "Row 1966 failed with error: Expecting value: line 1 column 1 (char 0)\n",
      "Offending value: ''\n",
      "Row 1967 failed with error: Expecting value: line 1 column 1 (char 0)\n",
      "Offending value: ''\n",
      "Row 1968 failed with error: Expecting value: line 1 column 1 (char 0)\n",
      "Offending value: ''\n",
      "Row 1969 failed with error: Expecting value: line 1 column 1 (char 0)\n",
      "Offending value: ''\n",
      "Row 1970 failed with error: Expecting value: line 1 column 1 (char 0)\n",
      "Offending value: ''\n",
      "Row 1971 failed with error: Expecting value: line 1 column 1 (char 0)\n",
      "Offending value: ''\n",
      "Row 1972 failed with error: Expecting value: line 1 column 1 (char 0)\n",
      "Offending value: ''\n",
      "Row 1973 failed with error: Expecting value: line 1 column 1 (char 0)\n",
      "Offending value: ''\n",
      "Row 1974 failed with error: Expecting value: line 1 column 1 (char 0)\n",
      "Offending value: ''\n",
      "Row 1975 failed with error: Expecting value: line 1 column 1 (char 0)\n",
      "Offending value: ''\n",
      "Row 1976 failed with error: Expecting value: line 1 column 1 (char 0)\n",
      "Offending value: ''\n",
      "Row 1977 failed with error: Expecting value: line 1 column 1 (char 0)\n",
      "Offending value: ''\n",
      "Row 1978 failed with error: Expecting value: line 1 column 1 (char 0)\n",
      "Offending value: ''\n",
      "Row 1979 failed with error: Expecting value: line 1 column 1 (char 0)\n",
      "Offending value: ''\n",
      "Row 1980 failed with error: Expecting value: line 1 column 1 (char 0)\n",
      "Offending value: ''\n",
      "Row 1981 failed with error: Expecting value: line 1 column 1 (char 0)\n",
      "Offending value: ''\n",
      "Row 1982 failed with error: Expecting value: line 1 column 1 (char 0)\n",
      "Offending value: ''\n",
      "Row 1983 failed with error: Expecting value: line 1 column 1 (char 0)\n",
      "Offending value: ''\n",
      "Row 1984 failed with error: Expecting value: line 1 column 1 (char 0)\n",
      "Offending value: ''\n",
      "Row 1985 failed with error: Expecting value: line 1 column 1 (char 0)\n",
      "Offending value: ''\n",
      "Row 1986 failed with error: Expecting value: line 1 column 1 (char 0)\n",
      "Offending value: ''\n",
      "Row 1987 failed with error: Expecting value: line 1 column 1 (char 0)\n",
      "Offending value: ''\n",
      "Row 1988 failed with error: Expecting value: line 1 column 1 (char 0)\n",
      "Offending value: ''\n",
      "Row 1989 failed with error: Expecting value: line 1 column 1 (char 0)\n",
      "Offending value: ''\n",
      "Row 1990 failed with error: Expecting value: line 1 column 1 (char 0)\n",
      "Offending value: ''\n",
      "Row 1991 failed with error: Expecting value: line 1 column 1 (char 0)\n",
      "Offending value: ''\n",
      "Row 1992 failed with error: Expecting value: line 1 column 1 (char 0)\n",
      "Offending value: ''\n",
      "Row 1993 failed with error: Expecting value: line 1 column 1 (char 0)\n",
      "Offending value: ''\n",
      "Row 1994 failed with error: Expecting value: line 1 column 1 (char 0)\n",
      "Offending value: ''\n",
      "Row 1995 failed with error: Expecting value: line 1 column 1 (char 0)\n",
      "Offending value: ''\n",
      "Row 1996 failed with error: Expecting value: line 1 column 1 (char 0)\n",
      "Offending value: ''\n",
      "Row 1997 failed with error: Expecting value: line 1 column 1 (char 0)\n",
      "Offending value: ''\n",
      "Row 1998 failed with error: Expecting value: line 1 column 1 (char 0)\n",
      "Offending value: ''\n",
      "Row 1999 failed with error: Expecting value: line 1 column 1 (char 0)\n",
      "Offending value: ''\n"
     ]
    }
   ],
   "source": [
    "for i, val in enumerate(df_data[\"input_output\"]):\n",
    "    try:\n",
    "        json.loads(val)\n",
    "    except Exception as e:\n",
    "        print(f\"Row {i} failed with error: {e}\")\n",
    "        print(\"Offending value:\", repr(val))"
   ]
  },
  {
   "cell_type": "code",
   "execution_count": 74,
   "id": "7998fed5-4ab4-4a04-879e-129dd005e696",
   "metadata": {},
   "outputs": [
    {
     "data": {
      "text/plain": [
       "problem_id                                                     1805\n",
       "question          There are n people, each person has a unique i...\n",
       "solutions         [\"class Solution:\\n    def watchedVideosByFrie...\n",
       "input_output                                                       \n",
       "difficulty                                                interview\n",
       "url               https://leetcode.com/problems/get-watched-vide...\n",
       "starter_code      \\nclass Solution:\\n    def watchedVideosByFrie...\n",
       "n_tokens_input                                                  577\n",
       "Name: 1805, dtype: object"
      ]
     },
     "execution_count": 74,
     "metadata": {},
     "output_type": "execute_result"
    }
   ],
   "source": [
    "df_data.iloc[1805]"
   ]
  },
  {
   "cell_type": "code",
   "execution_count": null,
   "id": "63a7ee9f-cad3-414c-b2a6-c17f74cb8894",
   "metadata": {},
   "outputs": [],
   "source": [
    "def safe_json_loads(x):\n",
    "    if isinstance(x, str) and x.strip():\n",
    "        try:\n",
    "            return json.loads(x)\n",
    "        except json.JSONDecodeError:\n",
    "            return None\n",
    "    return None  # for NaN, None, or empty strings"
   ]
  },
  {
   "cell_type": "code",
   "execution_count": null,
   "id": "fef574c8-06e0-4c00-bd5d-09681e0c8b4e",
   "metadata": {},
   "outputs": [],
   "source": [
    "df_data[\"input_output\"] = df_data[\"input_output\"].apply(safe_json_loads)"
   ]
  },
  {
   "cell_type": "code",
   "execution_count": null,
   "id": "3b38d3bd-b13c-4d76-be99-6f725da5f1eb",
   "metadata": {},
   "outputs": [],
   "source": [
    "df_data.head()"
   ]
  },
  {
   "cell_type": "code",
   "execution_count": null,
   "id": "34617646-a137-4e0d-97b4-fe7507692985",
   "metadata": {},
   "outputs": [],
   "source": [
    "type(df_data.iloc[idx][\"input_output\"])"
   ]
  },
  {
   "cell_type": "code",
   "execution_count": null,
   "id": "bd41692c-ca36-447f-9596-6b59f1143c5a",
   "metadata": {},
   "outputs": [],
   "source": [
    "if df_data.iloc[1805][\"input_output\"]:\n",
    "    print(\"Hello!\")"
   ]
  },
  {
   "cell_type": "markdown",
   "id": "e6666491-24a5-4947-9aed-2d77db4fdb4d",
   "metadata": {},
   "source": []
  }
 ],
 "metadata": {
  "kernelspec": {
   "display_name": "Python 3 (ipykernel)",
   "language": "python",
   "name": "python3"
  },
  "language_info": {
   "codemirror_mode": {
    "name": "ipython",
    "version": 3
   },
   "file_extension": ".py",
   "mimetype": "text/x-python",
   "name": "python",
   "nbconvert_exporter": "python",
   "pygments_lexer": "ipython3",
   "version": "3.12.9"
  }
 },
 "nbformat": 4,
 "nbformat_minor": 5
}
