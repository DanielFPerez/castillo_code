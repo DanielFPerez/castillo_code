{
 "cells": [
  {
   "cell_type": "markdown",
   "id": "3eceb776-1cac-4af8-9d7e-88273e84a6c9",
   "metadata": {},
   "source": [
    "# Dolly Databricks Dataset\n",
    "\n",
    "We consider the dataset from https://huggingface.co/datasets/databricks/databricks-dolly-15k. \n",
    "\n",
    "We work with the json downloaded vevrsion from: https://huggingface.co/datasets/databricks/databricks-dolly-15k/blob/main/databricks-dolly-15k.jsonl\n"
   ]
  },
  {
   "cell_type": "code",
   "execution_count": 1,
   "id": "39001390-aa23-494d-b6c9-597deeec0ecb",
   "metadata": {},
   "outputs": [],
   "source": [
    "import json\n",
    "import numpy as np\n",
    "import pandas as pd\n",
    "import torch\n",
    "import importlib\n",
    "from transformers import AutoTokenizer\n",
    "from sklearn.model_selection import train_test_split\n",
    "\n",
    "import os \n",
    "import sys\n",
    "\n",
    "sys.path.append(os.path.join(os.getcwd(), \"../../\"))\n",
    "\n",
    "import src.visualization.plot_rawdata as plotutils"
   ]
  },
  {
   "cell_type": "markdown",
   "id": "32d016e1-c72e-4bcf-a5ff-987e1c7af298",
   "metadata": {},
   "source": [
    "In contrast to other datasets, which saved all data samples inside a `list`, the Dolly dataset saves a `dict`element per line. \n",
    "This clashes with json loading format, so we need to read line-by-line."
   ]
  },
  {
   "cell_type": "code",
   "execution_count": 2,
   "id": "a27cd9fd-361b-4fa6-a1c5-20e69fa05dfe",
   "metadata": {},
   "outputs": [],
   "source": [
    "DATA_PATH = \"../raw_instruct/databricks-dolly-15k.json\"\n",
    "# Open the JSON file\n",
    "with open(DATA_PATH, 'r') as file:\n",
    "    data = [json.loads(line) for line in file]"
   ]
  },
  {
   "cell_type": "code",
   "execution_count": 3,
   "id": "64a12847-4843-46f3-96f4-1652c307cb41",
   "metadata": {},
   "outputs": [
    {
     "name": "stdout",
     "output_type": "stream",
     "text": [
      "Type of data: <class 'list'>\n",
      "Number of entries: 15011\n"
     ]
    }
   ],
   "source": [
    "print(f\"Type of data: {type(data)}\\nNumber of entries: {len(data)}\")"
   ]
  },
  {
   "cell_type": "code",
   "execution_count": 4,
   "id": "2da17bd1-d139-406a-a0ff-8c24fcab49b5",
   "metadata": {},
   "outputs": [
    {
     "data": {
      "text/plain": [
       "{'brainstorming',\n",
       " 'classification',\n",
       " 'closed_qa',\n",
       " 'creative_writing',\n",
       " 'general_qa',\n",
       " 'information_extraction',\n",
       " 'open_qa',\n",
       " 'summarization'}"
      ]
     },
     "execution_count": 4,
     "metadata": {},
     "output_type": "execute_result"
    }
   ],
   "source": [
    "set([sample['category'] for sample in data])"
   ]
  },
  {
   "cell_type": "code",
   "execution_count": 5,
   "id": "9d84e7ce-cd2d-466e-9064-96a8884f6d37",
   "metadata": {},
   "outputs": [],
   "source": [
    "idx = 29"
   ]
  },
  {
   "cell_type": "code",
   "execution_count": 6,
   "id": "ff17dfcf-4884-42e5-9a3f-3fc6b769d067",
   "metadata": {},
   "outputs": [
    {
     "data": {
      "text/plain": [
       "dict"
      ]
     },
     "execution_count": 6,
     "metadata": {},
     "output_type": "execute_result"
    }
   ],
   "source": [
    "type(data[idx])"
   ]
  },
  {
   "cell_type": "code",
   "execution_count": 7,
   "id": "985f051b-368a-43af-bbcf-d2258a1bf348",
   "metadata": {},
   "outputs": [
    {
     "data": {
      "text/plain": [
       "dict_keys(['instruction', 'context', 'response', 'category'])"
      ]
     },
     "execution_count": 7,
     "metadata": {},
     "output_type": "execute_result"
    }
   ],
   "source": [
    "data[idx].keys()"
   ]
  },
  {
   "cell_type": "code",
   "execution_count": 8,
   "id": "b2d1af8d-bcfd-40cd-a9c8-139308c2cb8d",
   "metadata": {},
   "outputs": [
    {
     "data": {
      "text/plain": [
       "{'brainstorming',\n",
       " 'classification',\n",
       " 'closed_qa',\n",
       " 'creative_writing',\n",
       " 'general_qa',\n",
       " 'information_extraction',\n",
       " 'open_qa',\n",
       " 'summarization'}"
      ]
     },
     "execution_count": 8,
     "metadata": {},
     "output_type": "execute_result"
    }
   ],
   "source": [
    "set([elem['category'] for elem in data])"
   ]
  },
  {
   "cell_type": "code",
   "execution_count": 9,
   "id": "7d6dd81a-de5e-4a94-9ef9-610d63b6992a",
   "metadata": {},
   "outputs": [
    {
     "data": {
      "text/plain": [
       "{'instruction': 'Who became king of Holland in 1806?',\n",
       " 'context': '',\n",
       " 'response': 'William I of the Netherlands became king of Holland in 1806.',\n",
       " 'category': 'open_qa'}"
      ]
     },
     "execution_count": 9,
     "metadata": {},
     "output_type": "execute_result"
    }
   ],
   "source": [
    "data[idx]"
   ]
  },
  {
   "cell_type": "code",
   "execution_count": 10,
   "id": "52c0d2af-8855-43d9-8aa1-31f998e96a3b",
   "metadata": {},
   "outputs": [
    {
     "name": "stdout",
     "output_type": "stream",
     "text": [
      "First elem that contains a 'context' is index 0\n"
     ]
    }
   ],
   "source": [
    "for i, elem in enumerate(data):\n",
    "    if elem['context']:\n",
    "        idx = i\n",
    "        print(f\"First elem that contains a 'context' is index {idx}\")\n",
    "        break"
   ]
  },
  {
   "cell_type": "markdown",
   "id": "d7f9b3f7-2e46-480b-89d9-644280cc3a96",
   "metadata": {},
   "source": [
    "#### Check if all elements in data are of type dict and if just one input prompt per data sample (no conversation)"
   ]
  },
  {
   "cell_type": "code",
   "execution_count": 11,
   "id": "5b4a744d-d791-43cf-807d-5081095c2ee3",
   "metadata": {},
   "outputs": [],
   "source": [
    "for elem in data:\n",
    "    if not isinstance(elem, dict):\n",
    "        print(f\"Elem is not a dict! {elem}\")\n",
    "    elif sorted(list(elem.keys())) != sorted(['context', 'instruction', 'response', 'category']):\n",
    "        print(f\"Elem has different keys in dict! {elem}\")"
   ]
  },
  {
   "cell_type": "code",
   "execution_count": 12,
   "id": "e9c34ff5-5064-47f5-82c9-55c78f9c7a0b",
   "metadata": {},
   "outputs": [],
   "source": [
    "del elem"
   ]
  },
  {
   "cell_type": "markdown",
   "id": "aba12ceb-fc77-4044-9c5a-1c4ce97d2f8c",
   "metadata": {},
   "source": [
    "### No data"
   ]
  },
  {
   "cell_type": "code",
   "execution_count": 13,
   "id": "7109da6f-ce73-4d10-9cf6-a01555d9ceea",
   "metadata": {},
   "outputs": [],
   "source": [
    "no_conver_data = []\n",
    "\n",
    "for elem in data: \n",
    "    if not elem['instruction']:\n",
    "        no_conver_data.append(elem)"
   ]
  },
  {
   "cell_type": "code",
   "execution_count": 14,
   "id": "50ef2fd5-1024-402e-b3af-5a4c33d680fa",
   "metadata": {},
   "outputs": [
    {
     "data": {
      "text/plain": [
       "0"
      ]
     },
     "execution_count": 14,
     "metadata": {},
     "output_type": "execute_result"
    }
   ],
   "source": [
    "len(no_conver_data)"
   ]
  },
  {
   "cell_type": "markdown",
   "id": "1fff4df3-5222-4fbe-8c75-893d57b65c9b",
   "metadata": {},
   "source": [
    "So all of the elements in this dataset have an instruction!"
   ]
  },
  {
   "cell_type": "code",
   "execution_count": 15,
   "id": "4a3808e5-9faf-4134-bc68-87b2c5fd8cb4",
   "metadata": {},
   "outputs": [],
   "source": [
    "del no_conver_data"
   ]
  },
  {
   "cell_type": "markdown",
   "id": "9dde97c9-a342-4834-8be9-0eda42cc3682",
   "metadata": {},
   "source": [
    "### Input handling\n",
    "Each sample in the dataset is of type `dict`.\n",
    "The keys of that `dict` are `['instruction', 'input', 'output']`. However, the tokenizers do not recognize the `'input'` keyword, so we need to append it to the user's `content`.  "
   ]
  },
  {
   "cell_type": "code",
   "execution_count": 16,
   "id": "b5b02be6-2356-4ffb-82bb-70416d1f1e36",
   "metadata": {},
   "outputs": [],
   "source": [
    "access_tk = os.getenv(\"HF_API_TOKEN\")\n",
    "device_str = \"cuda:0\"\n",
    "model_name = \"meta-llama/Llama-3.2-3B-Instruct\"\n",
    "padding_side='left'\n",
    "\n",
    "tokenizer = AutoTokenizer.from_pretrained(model_name, token=access_tk, device_map=device_str, torch_dtype=torch.float16, padding_side=padding_side)\n",
    "\n"
   ]
  },
  {
   "cell_type": "code",
   "execution_count": 17,
   "id": "37a7323a-2bba-462e-9584-3e85301b7e9c",
   "metadata": {},
   "outputs": [],
   "source": [
    "def get_tokens(sentence, tokenizer):\n",
    "    return tokenizer.apply_chat_template(sentence, return_tensors=\"pt\", add_generation_prompt=True)   "
   ]
  },
  {
   "cell_type": "code",
   "execution_count": 18,
   "id": "d4461954-c069-4385-9ab3-d6ebcb18f7a5",
   "metadata": {},
   "outputs": [],
   "source": [
    "from src.data.rawdata_processor import dolly_generate_rawprompt_text, build_rawprompt_text_batch, build_rawprompt_text_chat"
   ]
  },
  {
   "cell_type": "code",
   "execution_count": 19,
   "id": "76327099-b58f-4943-b852-2e980bc8f836",
   "metadata": {},
   "outputs": [
    {
     "name": "stdout",
     "output_type": "stream",
     "text": [
      "When did Virgin Australia start operating?\n",
      "Context: Virgin Australia, the trading name of Virgin Australia Airlines Pty Ltd, is an Australian-based airline. It is the largest airline by fleet size to use the Virgin brand. It commenced services on 31 August 2000 as Virgin Blue, with two aircraft on a single route. It suddenly found itself as a major airline in Australia's domestic market after the collapse of Ansett Australia in September 2001. The airline has since grown to directly serve 32 cities in Australia, from hubs in Brisbane, Melbourne and Sydney.\n"
     ]
    }
   ],
   "source": [
    "mystring = dolly_generate_rawprompt_text(data[idx], tokenizer)\n",
    "print(mystring)"
   ]
  },
  {
   "cell_type": "code",
   "execution_count": 20,
   "id": "52c6bf24-3bd4-4b20-8f7e-1e7b2eefebe3",
   "metadata": {},
   "outputs": [
    {
     "data": {
      "text/plain": [
       "[{'role': 'user',\n",
       "  'content': \"When did Virgin Australia start operating?\\nContext: Virgin Australia, the trading name of Virgin Australia Airlines Pty Ltd, is an Australian-based airline. It is the largest airline by fleet size to use the Virgin brand. It commenced services on 31 August 2000 as Virgin Blue, with two aircraft on a single route. It suddenly found itself as a major airline in Australia's domestic market after the collapse of Ansett Australia in September 2001. The airline has since grown to directly serve 32 cities in Australia, from hubs in Brisbane, Melbourne and Sydney.\"}]"
      ]
     },
     "execution_count": 20,
     "metadata": {},
     "output_type": "execute_result"
    }
   ],
   "source": [
    "build_rawprompt_text_chat(mystring)"
   ]
  },
  {
   "cell_type": "code",
   "execution_count": 21,
   "id": "8b3e22b9-a4cb-4a9a-a849-59c59a2dd083",
   "metadata": {},
   "outputs": [
    {
     "data": {
      "text/plain": [
       "tensor([[128000, 128006,   9125, 128007,    271,  38766,   1303,  33025,   2696,\n",
       "             25,   6790,    220,   2366,     18,    198,  15724,   2696,     25,\n",
       "            220,    605,   3297,    220,   2366,     20,    271, 128009, 128006,\n",
       "            882, 128007,    271,   4599,   1550,  11463,   8494,   1212,  10565,\n",
       "           5380,   2014,     25,  11463,   8494,     11,    279,  11380,    836,\n",
       "            315,  11463,   8494,  35230,  80092,  12604,     11,    374,    459,\n",
       "          13673,   6108,  33575,     13,   1102,    374,    279,   7928,  33575,\n",
       "            555,  26155,   1404,    311,   1005,    279,  11463,   6883,     13,\n",
       "           1102,  65362,   3600,    389,    220,   2148,   6287,    220,   1049,\n",
       "             15,    439,  11463,   8868,     11,    449,   1403,  14467,    389,\n",
       "            264,   3254,   6149,     13,   1102,  15187,   1766,   5196,    439,\n",
       "            264,   3682,  33575,    304,   8494,    596,  13018,   3157,   1306,\n",
       "            279,  18678,    315,   1556,  67614,   8494,    304,   6250,    220,\n",
       "           1049,     16,     13,    578,  33575,    706,   2533,  15042,    311,\n",
       "           6089,   8854,    220,    843,   9919,    304,   8494,     11,    505,\n",
       "          69776,    304,  47335,     11,  27535,    323,  21972,     13, 128009,\n",
       "         128006,  78191, 128007,    271]])"
      ]
     },
     "execution_count": 21,
     "metadata": {},
     "output_type": "execute_result"
    }
   ],
   "source": [
    "get_tokens(build_rawprompt_text_chat(mystring), tokenizer)"
   ]
  },
  {
   "cell_type": "code",
   "execution_count": 22,
   "id": "5c779bce-a668-4c3e-8f02-318fd287edcc",
   "metadata": {},
   "outputs": [
    {
     "name": "stdout",
     "output_type": "stream",
     "text": [
      "<|begin_of_text|><|start_header_id|>system<|end_header_id|>\n",
      "\n",
      "Cutting Knowledge Date: December 2023\n",
      "Today Date: 10 May 2025\n",
      "\n",
      "<|eot_id|><|start_header_id|>user<|end_header_id|>\n",
      "\n",
      "When did Virgin Australia start operating?\n",
      "Context: Virgin Australia, the trading name of Virgin Australia Airlines Pty Ltd, is an Australian-based airline. It is the largest airline by fleet size to use the Virgin brand. It commenced services on 31 August 2000 as Virgin Blue, with two aircraft on a single route. It suddenly found itself as a major airline in Australia's domestic market after the collapse of Ansett Australia in September 2001. The airline has since grown to directly serve 32 cities in Australia, from hubs in Brisbane, Melbourne and Sydney.<|eot_id|><|start_header_id|>assistant<|end_header_id|>\n",
      "\n",
      "\n"
     ]
    }
   ],
   "source": [
    "print(tokenizer.decode(get_tokens(build_rawprompt_text_batch(mystring, 5), tokenizer)[0]))"
   ]
  },
  {
   "cell_type": "code",
   "execution_count": null,
   "id": "785f47df-42d0-428d-ac27-bcbda2b63d98",
   "metadata": {},
   "outputs": [],
   "source": []
  },
  {
   "cell_type": "markdown",
   "id": "8fdfdb78-20cf-46c4-a91d-2da5a1a048d7",
   "metadata": {},
   "source": [
    "### Analyze lenght of prompts in terms of number of tokens"
   ]
  },
  {
   "cell_type": "code",
   "execution_count": 23,
   "id": "bd9edc87-0afc-4d5e-86b1-6e86ca5cc1f9",
   "metadata": {
    "scrolled": true
   },
   "outputs": [],
   "source": [
    "tmp_model_input = [build_rawprompt_text_chat(dolly_generate_rawprompt_text(elem, tokenizer, truncate=False)) for elem in data]"
   ]
  },
  {
   "cell_type": "code",
   "execution_count": 24,
   "id": "cacec4df-f541-4a49-a4bf-1ec2b73b7700",
   "metadata": {},
   "outputs": [
    {
     "data": {
      "text/plain": [
       "15011"
      ]
     },
     "execution_count": 24,
     "metadata": {},
     "output_type": "execute_result"
    }
   ],
   "source": [
    "len(tmp_model_input)"
   ]
  },
  {
   "cell_type": "code",
   "execution_count": 25,
   "id": "1dcf502e-d2b1-479e-9ac3-a2f81fd52d7f",
   "metadata": {},
   "outputs": [],
   "source": [
    "conv_len_tokens = [get_tokens(elem, tokenizer).shape[1] for elem in tmp_model_input]"
   ]
  },
  {
   "cell_type": "code",
   "execution_count": 26,
   "id": "74890d1e-39c7-4771-b6f9-05cd366d6d4c",
   "metadata": {},
   "outputs": [
    {
     "data": {
      "text/plain": [
       "15011"
      ]
     },
     "execution_count": 26,
     "metadata": {},
     "output_type": "execute_result"
    }
   ],
   "source": [
    "len(conv_len_tokens)"
   ]
  },
  {
   "cell_type": "code",
   "execution_count": 27,
   "id": "89bd3508-42d5-44ad-8273-599faef8ba8a",
   "metadata": {},
   "outputs": [
    {
     "data": {
      "text/plain": [
       "np.int64(5544)"
      ]
     },
     "execution_count": 27,
     "metadata": {},
     "output_type": "execute_result"
    }
   ],
   "source": [
    "np.max(conv_len_tokens)"
   ]
  },
  {
   "cell_type": "code",
   "execution_count": 28,
   "id": "9c398378-2a11-47ec-84ea-48d85dc02949",
   "metadata": {},
   "outputs": [
    {
     "data": {
      "text/plain": [
       "<module 'src.visualization.plot_rawdata' from '/home/daniel/Documents/llm-testbed/data/notebooks/../../src/visualization/plot_rawdata.py'>"
      ]
     },
     "execution_count": 28,
     "metadata": {},
     "output_type": "execute_result"
    }
   ],
   "source": [
    "importlib.reload(plotutils)"
   ]
  },
  {
   "cell_type": "code",
   "execution_count": 29,
   "id": "09fc83dc-90e4-4ebd-b646-e892d42f1cd5",
   "metadata": {},
   "outputs": [
    {
     "data": {
      "image/png": "[encoded data removed]",
      "text/plain": [
       "<Figure size 1000x280 with 2 Axes>"
      ]
     },
     "metadata": {},
     "output_type": "display_data"
    }
   ],
   "source": [
    "fig = plotutils.plot_histogram_and_cdf(conv_len_tokens, in_size=(10, 2.8), \n",
    "                             in_title=\"# Input Tokens Dolly\", x_forcdf=0, cdf_forx=[0.25, 0.5, 0.75, 0.95, 0.99],)"
   ]
  },
  {
   "cell_type": "code",
   "execution_count": null,
   "id": "43b99177-dc5a-4c90-8e2a-2d7cb2bbaecb",
   "metadata": {},
   "outputs": [],
   "source": []
  },
  {
   "cell_type": "code",
   "execution_count": null,
   "id": "a7160031-5cdc-4d13-b8ee-d7b1b26f9e16",
   "metadata": {},
   "outputs": [],
   "source": []
  },
  {
   "cell_type": "markdown",
   "id": "7c5fe48d-eea9-4770-b905-9903a987a3b2",
   "metadata": {},
   "source": [
    "## Convert dataset to pandas\n",
    "Later, when splitting the datasets, we will have to stratify the splits based on the `category` variable from each data sample. \n",
    "Converting the list of dicts to a pandas dataframe will facilitate the stratification of the splits. \n",
    "\n",
    "Moreover, after estimating the input tokens lengths, it will help us see the distribution of input token lengths according to `category`. "
   ]
  },
  {
   "cell_type": "code",
   "execution_count": 30,
   "id": "946138e8-473a-4e3a-8904-b01989b14815",
   "metadata": {},
   "outputs": [],
   "source": [
    "df_data = pd.DataFrame(data)"
   ]
  },
  {
   "cell_type": "code",
   "execution_count": 31,
   "id": "082d9791-6c8a-480c-b359-8b5d6aa2f6ba",
   "metadata": {},
   "outputs": [
    {
     "data": {
      "text/html": [
       "<div>\n",
       "<style scoped>\n",
       "    .dataframe tbody tr th:only-of-type {\n",
       "        vertical-align: middle;\n",
       "    }\n",
       "\n",
       "    .dataframe tbody tr th {\n",
       "        vertical-align: top;\n",
       "    }\n",
       "\n",
       "    .dataframe thead th {\n",
       "        text-align: right;\n",
       "    }\n",
       "</style>\n",
       "<table border=\"1\" class=\"dataframe\">\n",
       "  <thead>\n",
       "    <tr style=\"text-align: right;\">\n",
       "      <th></th>\n",
       "      <th>instruction</th>\n",
       "      <th>context</th>\n",
       "      <th>response</th>\n",
       "      <th>category</th>\n",
       "    </tr>\n",
       "  </thead>\n",
       "  <tbody>\n",
       "    <tr>\n",
       "      <th>0</th>\n",
       "      <td>When did Virgin Australia start operating?</td>\n",
       "      <td>Virgin Australia, the trading name of Virgin A...</td>\n",
       "      <td>Virgin Australia commenced services on 31 Augu...</td>\n",
       "      <td>closed_qa</td>\n",
       "    </tr>\n",
       "    <tr>\n",
       "      <th>1</th>\n",
       "      <td>Which is a species of fish? Tope or Rope</td>\n",
       "      <td></td>\n",
       "      <td>Tope</td>\n",
       "      <td>classification</td>\n",
       "    </tr>\n",
       "    <tr>\n",
       "      <th>2</th>\n",
       "      <td>Why can camels survive for long without water?</td>\n",
       "      <td></td>\n",
       "      <td>Camels use the fat in their humps to keep them...</td>\n",
       "      <td>open_qa</td>\n",
       "    </tr>\n",
       "    <tr>\n",
       "      <th>3</th>\n",
       "      <td>Alice's parents have three daughters: Amy, Jes...</td>\n",
       "      <td></td>\n",
       "      <td>The name of the third daughter is Alice</td>\n",
       "      <td>open_qa</td>\n",
       "    </tr>\n",
       "    <tr>\n",
       "      <th>4</th>\n",
       "      <td>When was Tomoaki Komorida born?</td>\n",
       "      <td>Komorida was born in Kumamoto Prefecture on Ju...</td>\n",
       "      <td>Tomoaki Komorida was born on July 10,1981.</td>\n",
       "      <td>closed_qa</td>\n",
       "    </tr>\n",
       "  </tbody>\n",
       "</table>\n",
       "</div>"
      ],
      "text/plain": [
       "                                         instruction  \\\n",
       "0         When did Virgin Australia start operating?   \n",
       "1           Which is a species of fish? Tope or Rope   \n",
       "2     Why can camels survive for long without water?   \n",
       "3  Alice's parents have three daughters: Amy, Jes...   \n",
       "4                    When was Tomoaki Komorida born?   \n",
       "\n",
       "                                             context  \\\n",
       "0  Virgin Australia, the trading name of Virgin A...   \n",
       "1                                                      \n",
       "2                                                      \n",
       "3                                                      \n",
       "4  Komorida was born in Kumamoto Prefecture on Ju...   \n",
       "\n",
       "                                            response        category  \n",
       "0  Virgin Australia commenced services on 31 Augu...       closed_qa  \n",
       "1                                               Tope  classification  \n",
       "2  Camels use the fat in their humps to keep them...         open_qa  \n",
       "3            The name of the third daughter is Alice         open_qa  \n",
       "4         Tomoaki Komorida was born on July 10,1981.       closed_qa  "
      ]
     },
     "execution_count": 31,
     "metadata": {},
     "output_type": "execute_result"
    }
   ],
   "source": [
    "df_data.head()"
   ]
  },
  {
   "cell_type": "markdown",
   "id": "2c280782-8f6b-46ab-aad4-8657d7e25431",
   "metadata": {},
   "source": [
    "#### Estimate the numer of input tokens"
   ]
  },
  {
   "cell_type": "code",
   "execution_count": 32,
   "id": "2bc6c184-d1e7-43ec-b783-1e1f6e44a38b",
   "metadata": {},
   "outputs": [],
   "source": [
    "def get_tokens_row(row, tokenizer): \n",
    "    return get_tokens(build_rawprompt_text_chat(dolly_generate_rawprompt_text(row, tokenizer, truncate=False)), tokenizer).shape[1]\n",
    "    "
   ]
  },
  {
   "cell_type": "code",
   "execution_count": 33,
   "id": "79b2aed3-2aa4-43ec-b8bf-5fb1fcef6b46",
   "metadata": {},
   "outputs": [],
   "source": [
    "df_data['n_tokens_input'] = df_data.apply(lambda row: get_tokens_row(row, tokenizer), axis=1)"
   ]
  },
  {
   "cell_type": "code",
   "execution_count": 34,
   "id": "dd207ff8-613e-46a5-a20e-19546e322464",
   "metadata": {},
   "outputs": [
    {
     "data": {
      "text/plain": [
       "np.False_"
      ]
     },
     "execution_count": 34,
     "metadata": {},
     "output_type": "execute_result"
    }
   ],
   "source": [
    "df_data['n_tokens_input'].isna().any()"
   ]
  },
  {
   "cell_type": "code",
   "execution_count": 35,
   "id": "9b747c54-bda0-40cb-9bb3-7f788dd38cfa",
   "metadata": {},
   "outputs": [
    {
     "data": {
      "text/plain": [
       "np.int64(0)"
      ]
     },
     "execution_count": 35,
     "metadata": {},
     "output_type": "execute_result"
    }
   ],
   "source": [
    "df_data['n_tokens_input'].isna().sum()"
   ]
  },
  {
   "cell_type": "code",
   "execution_count": 36,
   "id": "d3293328-1923-44c5-a33a-308256e2e80e",
   "metadata": {},
   "outputs": [
    {
     "data": {
      "text/html": [
       "<div>\n",
       "<style scoped>\n",
       "    .dataframe tbody tr th:only-of-type {\n",
       "        vertical-align: middle;\n",
       "    }\n",
       "\n",
       "    .dataframe tbody tr th {\n",
       "        vertical-align: top;\n",
       "    }\n",
       "\n",
       "    .dataframe thead th {\n",
       "        text-align: right;\n",
       "    }\n",
       "</style>\n",
       "<table border=\"1\" class=\"dataframe\">\n",
       "  <thead>\n",
       "    <tr style=\"text-align: right;\">\n",
       "      <th></th>\n",
       "      <th>instruction</th>\n",
       "      <th>context</th>\n",
       "      <th>response</th>\n",
       "      <th>category</th>\n",
       "      <th>n_tokens_input</th>\n",
       "    </tr>\n",
       "  </thead>\n",
       "  <tbody>\n",
       "    <tr>\n",
       "      <th>0</th>\n",
       "      <td>When did Virgin Australia start operating?</td>\n",
       "      <td>Virgin Australia, the trading name of Virgin A...</td>\n",
       "      <td>Virgin Australia commenced services on 31 Augu...</td>\n",
       "      <td>closed_qa</td>\n",
       "      <td>148</td>\n",
       "    </tr>\n",
       "    <tr>\n",
       "      <th>1</th>\n",
       "      <td>Which is a species of fish? Tope or Rope</td>\n",
       "      <td></td>\n",
       "      <td>Tope</td>\n",
       "      <td>classification</td>\n",
       "      <td>46</td>\n",
       "    </tr>\n",
       "    <tr>\n",
       "      <th>2</th>\n",
       "      <td>Why can camels survive for long without water?</td>\n",
       "      <td></td>\n",
       "      <td>Camels use the fat in their humps to keep them...</td>\n",
       "      <td>open_qa</td>\n",
       "      <td>45</td>\n",
       "    </tr>\n",
       "    <tr>\n",
       "      <th>3</th>\n",
       "      <td>Alice's parents have three daughters: Amy, Jes...</td>\n",
       "      <td></td>\n",
       "      <td>The name of the third daughter is Alice</td>\n",
       "      <td>open_qa</td>\n",
       "      <td>57</td>\n",
       "    </tr>\n",
       "    <tr>\n",
       "      <th>4</th>\n",
       "      <td>When was Tomoaki Komorida born?</td>\n",
       "      <td>Komorida was born in Kumamoto Prefecture on Ju...</td>\n",
       "      <td>Tomoaki Komorida was born on July 10,1981.</td>\n",
       "      <td>closed_qa</td>\n",
       "      <td>356</td>\n",
       "    </tr>\n",
       "  </tbody>\n",
       "</table>\n",
       "</div>"
      ],
      "text/plain": [
       "                                         instruction  \\\n",
       "0         When did Virgin Australia start operating?   \n",
       "1           Which is a species of fish? Tope or Rope   \n",
       "2     Why can camels survive for long without water?   \n",
       "3  Alice's parents have three daughters: Amy, Jes...   \n",
       "4                    When was Tomoaki Komorida born?   \n",
       "\n",
       "                                             context  \\\n",
       "0  Virgin Australia, the trading name of Virgin A...   \n",
       "1                                                      \n",
       "2                                                      \n",
       "3                                                      \n",
       "4  Komorida was born in Kumamoto Prefecture on Ju...   \n",
       "\n",
       "                                            response        category  \\\n",
       "0  Virgin Australia commenced services on 31 Augu...       closed_qa   \n",
       "1                                               Tope  classification   \n",
       "2  Camels use the fat in their humps to keep them...         open_qa   \n",
       "3            The name of the third daughter is Alice         open_qa   \n",
       "4         Tomoaki Komorida was born on July 10,1981.       closed_qa   \n",
       "\n",
       "   n_tokens_input  \n",
       "0             148  \n",
       "1              46  \n",
       "2              45  \n",
       "3              57  \n",
       "4             356  "
      ]
     },
     "execution_count": 36,
     "metadata": {},
     "output_type": "execute_result"
    }
   ],
   "source": [
    "df_data.head()"
   ]
  },
  {
   "cell_type": "code",
   "execution_count": 37,
   "id": "f55d9eeb-ca9d-4a66-9227-66a16da82652",
   "metadata": {},
   "outputs": [
    {
     "data": {
      "text/plain": [
       "<module 'src.visualization.plot_rawdata' from '/home/daniel/Documents/llm-testbed/data/notebooks/../../src/visualization/plot_rawdata.py'>"
      ]
     },
     "execution_count": 37,
     "metadata": {},
     "output_type": "execute_result"
    }
   ],
   "source": [
    "importlib.reload(plotutils)"
   ]
  },
  {
   "cell_type": "code",
   "execution_count": 38,
   "id": "f9b5c644-20ae-4e9d-a6cc-87d6fdcf9626",
   "metadata": {},
   "outputs": [
    {
     "data": {
      "image/png": "[encoded data removed]",
      "text/plain": [
       "<Figure size 1200x300 with 3 Axes>"
      ]
     },
     "metadata": {},
     "output_type": "display_data"
    }
   ],
   "source": [
    "fig = plotutils.plot_dollydataframe_ecdf_threeplot(df_data, figsize=(12,3), title_suffix=\"Dolly\")"
   ]
  },
  {
   "cell_type": "code",
   "execution_count": 39,
   "id": "ef94d1da-4f67-4cdb-a003-483f5fb32624",
   "metadata": {},
   "outputs": [],
   "source": [
    "fig.savefig(\"../../outputs/images/raw_data_Dolly_COMPLETE_ntokens_ecdf.pdf\", bbox_inches=\"tight\")"
   ]
  },
  {
   "cell_type": "code",
   "execution_count": 40,
   "id": "309efed3-dea5-4153-8aff-c51bdb6b80db",
   "metadata": {},
   "outputs": [
    {
     "data": {
      "text/plain": [
       "np.int64(5544)"
      ]
     },
     "execution_count": 40,
     "metadata": {},
     "output_type": "execute_result"
    }
   ],
   "source": [
    "np.max(df_data['n_tokens_input'])"
   ]
  },
  {
   "cell_type": "code",
   "execution_count": 41,
   "id": "2c025b3b-9fb3-48d1-a333-5552c3b521fe",
   "metadata": {},
   "outputs": [
    {
     "data": {
      "text/plain": [
       "array([ 45. ,  51. , 146. , 903.2])"
      ]
     },
     "execution_count": 41,
     "metadata": {},
     "output_type": "execute_result"
    }
   ],
   "source": [
    "np.percentile(df_data[\"n_tokens_input\"], [25, 50, 75, 99])"
   ]
  },
  {
   "cell_type": "code",
   "execution_count": null,
   "id": "dc126123-fb14-4907-bed5-e3db476a25ec",
   "metadata": {},
   "outputs": [],
   "source": []
  },
  {
   "cell_type": "markdown",
   "id": "f295a23d-93d0-4909-a9be-bb94f9e0b0f7",
   "metadata": {},
   "source": [
    "# Split the datasets\n",
    "\n",
    "We do stratified splits according to the `'category'` variable of the data samples "
   ]
  },
  {
   "cell_type": "code",
   "execution_count": 42,
   "id": "7b89ea2c-77e7-49e7-855c-3adcd438db9c",
   "metadata": {},
   "outputs": [
    {
     "name": "stdout",
     "output_type": "stream",
     "text": [
      "Length of records: 15011\n"
     ]
    },
    {
     "data": {
      "text/html": [
       "<div>\n",
       "<style scoped>\n",
       "    .dataframe tbody tr th:only-of-type {\n",
       "        vertical-align: middle;\n",
       "    }\n",
       "\n",
       "    .dataframe tbody tr th {\n",
       "        vertical-align: top;\n",
       "    }\n",
       "\n",
       "    .dataframe thead th {\n",
       "        text-align: right;\n",
       "    }\n",
       "</style>\n",
       "<table border=\"1\" class=\"dataframe\">\n",
       "  <thead>\n",
       "    <tr style=\"text-align: right;\">\n",
       "      <th></th>\n",
       "      <th>instruction</th>\n",
       "      <th>context</th>\n",
       "      <th>response</th>\n",
       "      <th>category</th>\n",
       "      <th>n_tokens_input</th>\n",
       "    </tr>\n",
       "  </thead>\n",
       "  <tbody>\n",
       "    <tr>\n",
       "      <th>0</th>\n",
       "      <td>When did Virgin Australia start operating?</td>\n",
       "      <td>Virgin Australia, the trading name of Virgin A...</td>\n",
       "      <td>Virgin Australia commenced services on 31 Augu...</td>\n",
       "      <td>closed_qa</td>\n",
       "      <td>148</td>\n",
       "    </tr>\n",
       "    <tr>\n",
       "      <th>1</th>\n",
       "      <td>Which is a species of fish? Tope or Rope</td>\n",
       "      <td></td>\n",
       "      <td>Tope</td>\n",
       "      <td>classification</td>\n",
       "      <td>46</td>\n",
       "    </tr>\n",
       "    <tr>\n",
       "      <th>2</th>\n",
       "      <td>Why can camels survive for long without water?</td>\n",
       "      <td></td>\n",
       "      <td>Camels use the fat in their humps to keep them...</td>\n",
       "      <td>open_qa</td>\n",
       "      <td>45</td>\n",
       "    </tr>\n",
       "    <tr>\n",
       "      <th>3</th>\n",
       "      <td>Alice's parents have three daughters: Amy, Jes...</td>\n",
       "      <td></td>\n",
       "      <td>The name of the third daughter is Alice</td>\n",
       "      <td>open_qa</td>\n",
       "      <td>57</td>\n",
       "    </tr>\n",
       "    <tr>\n",
       "      <th>4</th>\n",
       "      <td>When was Tomoaki Komorida born?</td>\n",
       "      <td>Komorida was born in Kumamoto Prefecture on Ju...</td>\n",
       "      <td>Tomoaki Komorida was born on July 10,1981.</td>\n",
       "      <td>closed_qa</td>\n",
       "      <td>356</td>\n",
       "    </tr>\n",
       "  </tbody>\n",
       "</table>\n",
       "</div>"
      ],
      "text/plain": [
       "                                         instruction  \\\n",
       "0         When did Virgin Australia start operating?   \n",
       "1           Which is a species of fish? Tope or Rope   \n",
       "2     Why can camels survive for long without water?   \n",
       "3  Alice's parents have three daughters: Amy, Jes...   \n",
       "4                    When was Tomoaki Komorida born?   \n",
       "\n",
       "                                             context  \\\n",
       "0  Virgin Australia, the trading name of Virgin A...   \n",
       "1                                                      \n",
       "2                                                      \n",
       "3                                                      \n",
       "4  Komorida was born in Kumamoto Prefecture on Ju...   \n",
       "\n",
       "                                            response        category  \\\n",
       "0  Virgin Australia commenced services on 31 Augu...       closed_qa   \n",
       "1                                               Tope  classification   \n",
       "2  Camels use the fat in their humps to keep them...         open_qa   \n",
       "3            The name of the third daughter is Alice         open_qa   \n",
       "4         Tomoaki Komorida was born on July 10,1981.       closed_qa   \n",
       "\n",
       "   n_tokens_input  \n",
       "0             148  \n",
       "1              46  \n",
       "2              45  \n",
       "3              57  \n",
       "4             356  "
      ]
     },
     "execution_count": 42,
     "metadata": {},
     "output_type": "execute_result"
    }
   ],
   "source": [
    "print(f\"Length of records: {len(df_data)}\")\n",
    "df_data.head()"
   ]
  },
  {
   "cell_type": "markdown",
   "id": "8ed90c93-6118-4d86-ab3c-9b8675f70de6",
   "metadata": {},
   "source": [
    "#### First, sample a subset of the data"
   ]
  },
  {
   "cell_type": "code",
   "execution_count": 43,
   "id": "70b6cece-31bb-40ab-bea7-708eb1ea758f",
   "metadata": {},
   "outputs": [],
   "source": [
    "SEED = 42\n",
    "MAXIMUM = 2000"
   ]
  },
  {
   "cell_type": "code",
   "execution_count": 44,
   "id": "2734d078-3737-4fbc-816a-3e59d1da4fbc",
   "metadata": {},
   "outputs": [],
   "source": [
    "# Stratified sampling of 2000 samples from the full dataset\n",
    "df_sampled, _ = train_test_split(df_data, train_size=2000, stratify=df_data['category'], random_state=SEED)"
   ]
  },
  {
   "cell_type": "code",
   "execution_count": 45,
   "id": "a2e9bdd4-4233-4a8e-ace2-15391446d961",
   "metadata": {},
   "outputs": [
    {
     "name": "stdout",
     "output_type": "stream",
     "text": [
      "Length of records: 2000\n"
     ]
    }
   ],
   "source": [
    "print(f\"Length of records: {len(df_sampled)}\")"
   ]
  },
  {
   "cell_type": "code",
   "execution_count": 46,
   "id": "b744f4cc-6097-4f7b-8ae6-2dc215cc0455",
   "metadata": {},
   "outputs": [
    {
     "data": {
      "image/png": "[encoded data removed]",
      "text/plain": [
       "<Figure size 1200x300 with 3 Axes>"
      ]
     },
     "metadata": {},
     "output_type": "display_data"
    }
   ],
   "source": [
    "fig = plotutils.plot_dollydataframe_ecdf_threeplot(df_sampled, figsize=(12,3), title_suffix=\"Dolly\")"
   ]
  },
  {
   "cell_type": "code",
   "execution_count": 47,
   "id": "681848ae-c8ad-4003-9994-4335fdde5a53",
   "metadata": {},
   "outputs": [
    {
     "data": {
      "text/plain": [
       "array([ 44.  ,  50.  , 146.  , 795.17])"
      ]
     },
     "execution_count": 47,
     "metadata": {},
     "output_type": "execute_result"
    }
   ],
   "source": [
    "np.percentile(df_sampled[\"n_tokens_input\"], [25, 50, 75, 99])"
   ]
  },
  {
   "cell_type": "code",
   "execution_count": 48,
   "id": "6070ab87-b2cb-4931-a673-51d76534fd1f",
   "metadata": {},
   "outputs": [
    {
     "data": {
      "text/plain": [
       "np.float64(125.874)"
      ]
     },
     "execution_count": 48,
     "metadata": {},
     "output_type": "execute_result"
    }
   ],
   "source": [
    "np.mean(df_sampled[\"n_tokens_input\"])"
   ]
  },
  {
   "cell_type": "code",
   "execution_count": 49,
   "id": "f13116c2-edb1-486f-ada7-34ab479eeebd",
   "metadata": {},
   "outputs": [
    {
     "data": {
      "text/plain": [
       "np.float64(209.64290382457497)"
      ]
     },
     "execution_count": 49,
     "metadata": {},
     "output_type": "execute_result"
    }
   ],
   "source": [
    "np.std(df_sampled[\"n_tokens_input\"])"
   ]
  },
  {
   "cell_type": "code",
   "execution_count": 52,
   "id": "148f626c-a6b1-4441-b471-308783d98763",
   "metadata": {},
   "outputs": [
    {
     "data": {
      "text/plain": [
       "np.int64(36)"
      ]
     },
     "execution_count": 52,
     "metadata": {},
     "output_type": "execute_result"
    }
   ],
   "source": [
    "df_sampled[\"n_tokens_input\"].min()"
   ]
  },
  {
   "cell_type": "code",
   "execution_count": 51,
   "id": "af8e12dc-90b3-42ea-8163-a695726a89e4",
   "metadata": {},
   "outputs": [],
   "source": [
    "fig.savefig(\"../../outputs/images/raw_data_Dolly_ntokens_ecdf.pdf\", bbox_inches=\"tight\")"
   ]
  },
  {
   "cell_type": "markdown",
   "id": "93904d44-e7de-4618-aa14-d05405454258",
   "metadata": {},
   "source": [
    "#### Now, do the train-validation-test splits"
   ]
  },
  {
   "cell_type": "code",
   "execution_count": 45,
   "id": "e03fcecb-6a95-4cfe-9231-249344be1fdb",
   "metadata": {},
   "outputs": [],
   "source": [
    "if 'n_tokens_input' in df_sampled.columns: \n",
    "    df_sampled = df_sampled.drop(columns=['n_tokens_input'])"
   ]
  },
  {
   "cell_type": "code",
   "execution_count": 46,
   "id": "5d732173-4337-4411-a858-e358c6c201c5",
   "metadata": {},
   "outputs": [
    {
     "data": {
      "text/html": [
       "<div>\n",
       "<style scoped>\n",
       "    .dataframe tbody tr th:only-of-type {\n",
       "        vertical-align: middle;\n",
       "    }\n",
       "\n",
       "    .dataframe tbody tr th {\n",
       "        vertical-align: top;\n",
       "    }\n",
       "\n",
       "    .dataframe thead th {\n",
       "        text-align: right;\n",
       "    }\n",
       "</style>\n",
       "<table border=\"1\" class=\"dataframe\">\n",
       "  <thead>\n",
       "    <tr style=\"text-align: right;\">\n",
       "      <th></th>\n",
       "      <th>instruction</th>\n",
       "      <th>context</th>\n",
       "      <th>response</th>\n",
       "      <th>category</th>\n",
       "    </tr>\n",
       "  </thead>\n",
       "  <tbody>\n",
       "    <tr>\n",
       "      <th>9534</th>\n",
       "      <td>How do I become successful?</td>\n",
       "      <td></td>\n",
       "      <td>Success is not a measure of wealth or assets a...</td>\n",
       "      <td>general_qa</td>\n",
       "    </tr>\n",
       "    <tr>\n",
       "      <th>13543</th>\n",
       "      <td>I have 13 identical balls that weigh the same,...</td>\n",
       "      <td></td>\n",
       "      <td>We can start with basic iteration to weigh all...</td>\n",
       "      <td>brainstorming</td>\n",
       "    </tr>\n",
       "    <tr>\n",
       "      <th>14792</th>\n",
       "      <td>In which years did the Women's New Zealand cri...</td>\n",
       "      <td></td>\n",
       "      <td>2000</td>\n",
       "      <td>brainstorming</td>\n",
       "    </tr>\n",
       "    <tr>\n",
       "      <th>8125</th>\n",
       "      <td>What are some criticism of Betty Friedan's Fem...</td>\n",
       "      <td></td>\n",
       "      <td>While groundbreaking, Betty Friedman took a na...</td>\n",
       "      <td>open_qa</td>\n",
       "    </tr>\n",
       "    <tr>\n",
       "      <th>10558</th>\n",
       "      <td>Extract the name of the country where Djidonou...</td>\n",
       "      <td>Born in Domont, France, Djidonou has played cl...</td>\n",
       "      <td>France</td>\n",
       "      <td>information_extraction</td>\n",
       "    </tr>\n",
       "  </tbody>\n",
       "</table>\n",
       "</div>"
      ],
      "text/plain": [
       "                                             instruction  \\\n",
       "9534                         How do I become successful?   \n",
       "13543  I have 13 identical balls that weigh the same,...   \n",
       "14792  In which years did the Women's New Zealand cri...   \n",
       "8125   What are some criticism of Betty Friedan's Fem...   \n",
       "10558  Extract the name of the country where Djidonou...   \n",
       "\n",
       "                                                 context  \\\n",
       "9534                                                       \n",
       "13543                                                      \n",
       "14792                                                      \n",
       "8125                                                       \n",
       "10558  Born in Domont, France, Djidonou has played cl...   \n",
       "\n",
       "                                                response  \\\n",
       "9534   Success is not a measure of wealth or assets a...   \n",
       "13543  We can start with basic iteration to weigh all...   \n",
       "14792                                               2000   \n",
       "8125   While groundbreaking, Betty Friedman took a na...   \n",
       "10558                                             France   \n",
       "\n",
       "                     category  \n",
       "9534               general_qa  \n",
       "13543           brainstorming  \n",
       "14792           brainstorming  \n",
       "8125                  open_qa  \n",
       "10558  information_extraction  "
      ]
     },
     "execution_count": 46,
     "metadata": {},
     "output_type": "execute_result"
    }
   ],
   "source": [
    "df_sampled.head()"
   ]
  },
  {
   "cell_type": "code",
   "execution_count": 47,
   "id": "b905f877-f90e-4e9f-83d7-bd4d4c2eb9e0",
   "metadata": {},
   "outputs": [],
   "source": [
    "df_train, df_tmp = train_test_split(df_sampled, test_size=0.3, stratify=df_sampled['category'], random_state=SEED)"
   ]
  },
  {
   "cell_type": "code",
   "execution_count": 48,
   "id": "dcf52b3f-cdd0-43d9-a1eb-d27cc36fbd4d",
   "metadata": {},
   "outputs": [],
   "source": [
    "df_validate, df_test = train_test_split(df_tmp, test_size=1/3, stratify=df_tmp['category'], random_state=SEED)"
   ]
  },
  {
   "cell_type": "code",
   "execution_count": 49,
   "id": "b1ca55a3-32bb-4b6b-8a12-dc8002bacee2",
   "metadata": {},
   "outputs": [
    {
     "name": "stdout",
     "output_type": "stream",
     "text": [
      "Percentage of training data: 0.7\n",
      "Percentage of validation data: 0.2\n",
      "Percentage of test data: 0.1\n"
     ]
    }
   ],
   "source": [
    "print(f\"Percentage of training data: {round(len(df_train)/len(df_sampled), 4)}\")\n",
    "print(f\"Percentage of validation data: {round(len(df_validate)/len(df_sampled), 4)}\")\n",
    "print(f\"Percentage of test data: {round(len(df_test)/len(df_sampled), 4)}\")"
   ]
  },
  {
   "cell_type": "code",
   "execution_count": null,
   "id": "82ab7be3-0770-4510-b5e3-f27c6dea1d3c",
   "metadata": {},
   "outputs": [],
   "source": []
  },
  {
   "cell_type": "markdown",
   "id": "c4b9f836-777a-4169-ba16-b3f3cda5ea39",
   "metadata": {},
   "source": [
    "#### Convert to list of dicts again"
   ]
  },
  {
   "cell_type": "code",
   "execution_count": 50,
   "id": "5523b790-f468-4519-a113-68871380a9aa",
   "metadata": {},
   "outputs": [],
   "source": [
    "data_train = df_train.to_dict(orient='records')\n",
    "data_val = df_validate.to_dict(orient='records')\n",
    "data_test = df_test.to_dict(orient='records')"
   ]
  },
  {
   "cell_type": "code",
   "execution_count": null,
   "id": "437512b9-0c9b-479d-9e44-576b33b5da15",
   "metadata": {},
   "outputs": [],
   "source": []
  },
  {
   "cell_type": "code",
   "execution_count": 51,
   "id": "ef8b2bdb-b77b-4b26-a608-6e4c7ecce43d",
   "metadata": {},
   "outputs": [
    {
     "name": "stdout",
     "output_type": "stream",
     "text": [
      "Percentage of training data: 0.0933\n",
      "Percentage of validation data: 0.0266\n",
      "Percentage of test data: 0.0133\n"
     ]
    }
   ],
   "source": [
    "# Check if the lengths agree\n",
    "print(f\"Percentage of training data: {round(len(data_train)/len(data), 4)}\")\n",
    "print(f\"Percentage of validation data: {round(len(data_val)/len(data), 4)}\")\n",
    "print(f\"Percentage of test data: {round(len(data_test)/len(data), 4)}\")"
   ]
  },
  {
   "cell_type": "code",
   "execution_count": 52,
   "id": "c0f91a2e-656a-4d5a-8c63-8d923ede97be",
   "metadata": {},
   "outputs": [],
   "source": [
    "def save_data(dataset, path):\n",
    "    with open(path, 'w') as f:\n",
    "        json.dump(dataset, f)\n",
    "    print(f\"Dataset saved to path {path}\")"
   ]
  },
  {
   "cell_type": "code",
   "execution_count": 53,
   "id": "8716fa1e-137e-48f3-850f-2bb9c750b0df",
   "metadata": {},
   "outputs": [],
   "source": [
    "save_path_src = \"../raw_instruct/DollyDataset/raw_DollyDataset\""
   ]
  },
  {
   "cell_type": "code",
   "execution_count": 54,
   "id": "710cba3e-02ce-42d3-a568-a3a1de770209",
   "metadata": {},
   "outputs": [
    {
     "name": "stdout",
     "output_type": "stream",
     "text": [
      "Dataset saved to path ../raw_instruct/DollyDataset/raw_DollyDataset_train.json\n"
     ]
    }
   ],
   "source": [
    "save_data(data_train, save_path_src + \"_train.json\")"
   ]
  },
  {
   "cell_type": "code",
   "execution_count": 55,
   "id": "997189db-ca7f-449c-8087-7a8feca80e6b",
   "metadata": {},
   "outputs": [
    {
     "name": "stdout",
     "output_type": "stream",
     "text": [
      "Dataset saved to path ../raw_instruct/DollyDataset/raw_DollyDataset_validate.json\n"
     ]
    }
   ],
   "source": [
    "save_data(data_val, save_path_src + \"_validate.json\")"
   ]
  },
  {
   "cell_type": "code",
   "execution_count": 56,
   "id": "79d8d700-1328-4bdb-ada5-d2a3410cfca7",
   "metadata": {},
   "outputs": [
    {
     "name": "stdout",
     "output_type": "stream",
     "text": [
      "Dataset saved to path ../raw_instruct/DollyDataset/raw_DollyDataset_test.json\n"
     ]
    }
   ],
   "source": [
    "save_data(data_test, save_path_src + \"_test.json\")"
   ]
  },
  {
   "cell_type": "code",
   "execution_count": null,
   "id": "7117480f-ba94-4df4-9bad-0a7b1ceb09de",
   "metadata": {},
   "outputs": [],
   "source": []
  },
  {
   "cell_type": "code",
   "execution_count": null,
   "id": "a462e9e5-3b6b-4995-be6a-27f254ffa715",
   "metadata": {},
   "outputs": [],
   "source": []
  },
  {
   "cell_type": "code",
   "execution_count": null,
   "id": "a95ff9ec-0652-4bc8-a855-cc18c374a3ab",
   "metadata": {},
   "outputs": [],
   "source": []
  },
  {
   "cell_type": "code",
   "execution_count": null,
   "id": "755134ef-6eb7-445d-b2ec-37f26867deda",
   "metadata": {},
   "outputs": [],
   "source": []
  },
  {
   "cell_type": "code",
   "execution_count": null,
   "id": "cb779ba1-c7ee-4f7b-bb02-acdc573fb928",
   "metadata": {},
   "outputs": [],
   "source": []
  },
  {
   "cell_type": "code",
   "execution_count": null,
   "id": "6a57076a-b3c5-4a12-8d37-5436836c995e",
   "metadata": {},
   "outputs": [],
   "source": []
  },
  {
   "cell_type": "code",
   "execution_count": null,
   "id": "cf676b7c-78f3-48ff-8373-11ed16186c9d",
   "metadata": {},
   "outputs": [],
   "source": []
  },
  {
   "cell_type": "code",
   "execution_count": null,
   "id": "64a53bea-f982-4e93-bc85-4109fafb2a60",
   "metadata": {},
   "outputs": [],
   "source": []
  },
  {
   "cell_type": "code",
   "execution_count": null,
   "id": "10437a7a-8f4d-4cc8-b95a-f4ab940c80f7",
   "metadata": {},
   "outputs": [],
   "source": []
  },
  {
   "cell_type": "code",
   "execution_count": null,
   "id": "75df5920-a6e9-4828-a472-5e0e5590fa8e",
   "metadata": {},
   "outputs": [],
   "source": []
  },
  {
   "cell_type": "code",
   "execution_count": null,
   "id": "eb445f0c-3441-499b-8f8a-af1d65cc23f3",
   "metadata": {},
   "outputs": [],
   "source": []
  },
  {
   "cell_type": "code",
   "execution_count": null,
   "id": "fa043000-ef05-4c56-8863-a88716174634",
   "metadata": {},
   "outputs": [],
   "source": []
  },
  {
   "cell_type": "code",
   "execution_count": null,
   "id": "eee8b960-2199-4e7e-b6f4-298987eafc27",
   "metadata": {},
   "outputs": [],
   "source": []
  },
  {
   "cell_type": "code",
   "execution_count": null,
   "id": "7ba38c82-c4ca-4914-860c-e4de1fea6f40",
   "metadata": {},
   "outputs": [],
   "source": []
  },
  {
   "cell_type": "markdown",
   "id": "f4007d83-6f7b-426a-90c6-2e9aae390a5a",
   "metadata": {},
   "source": [
    "# PREVIOUS CODE"
   ]
  },
  {
   "cell_type": "code",
   "execution_count": 14,
   "id": "e4dd4d5a-5ba5-4aec-8145-74a13b0d4022",
   "metadata": {},
   "outputs": [],
   "source": [
    "sentence=[{'role': 'user', \n",
    "           'content': \"When did Virgin Australia start operating?\\nContext: Virgin Australia, the trading name of Virgin Australia Airlines Pty Ltd, is an Australian-based airline. It is the largest airline by fleet size to use the Virgin brand. It commenced services on 31 August 2000 as Virgin Blue, with two aircraft on a single route. It suddenly found itself as a major airline in Australia's domestic market after the collapse of Ansett Australia in September 2001. The airline has since grown to directly serve 32 cities in Australia, from hubs in Brisbane, Melbourne and Sydney.\"}]"
   ]
  },
  {
   "cell_type": "code",
   "execution_count": 15,
   "id": "788ca5ec-7d88-4f98-92eb-a241abb2e62e",
   "metadata": {},
   "outputs": [],
   "source": [
    "def get_tokens(sentence, tokenizer):\n",
    "    return tokenizer.apply_chat_template(sentence, return_tensors=\"pt\", add_generation_prompt=True)   "
   ]
  },
  {
   "cell_type": "code",
   "execution_count": 16,
   "id": "e9abf0dc-5928-40a6-ab87-bd17a4efd573",
   "metadata": {},
   "outputs": [
    {
     "name": "stdout",
     "output_type": "stream",
     "text": [
      "<bos><start_of_turn>user\n",
      "When did Virgin Australia start operating?\n",
      "Context: Virgin Australia, the trading name of Virgin Australia Airlines Pty Ltd, is an Australian-based airline. It is the largest airline by fleet size to use the Virgin brand. It commenced services on 31 August 2000 as Virgin Blue, with two aircraft on a single route. It suddenly found itself as a major airline in Australia's domestic market after the collapse of Ansett Australia in September 2001. The airline has since grown to directly serve 32 cities in Australia, from hubs in Brisbane, Melbourne and Sydney.<end_of_turn>\n",
      "<start_of_turn>model\n",
      "\n"
     ]
    }
   ],
   "source": [
    "print(tokenizer.batch_decode(get_tokens(sentence, tokenizer))[0])"
   ]
  },
  {
   "cell_type": "code",
   "execution_count": 17,
   "id": "91d502aa-aa24-4fb6-9e21-6123c5584da2",
   "metadata": {},
   "outputs": [
    {
     "name": "stdout",
     "output_type": "stream",
     "text": [
      "Index: 0\n",
      "Prompt:\n",
      "'When did Virgin Australia start operating?\n",
      "Context: Virgin Australia, the trading name of Virgin Australia Airlines Pty Ltd, is an Australian-based airline. It is the largest airline by fleet size to use the Virgin brand. It commenced services on 31 August 2000 as Virgin Blue, with two aircraft on a single route. It suddenly found itself as a major airline in Australia's domestic market after the collapse of Ansett Australia in September 2001. The airline has since grown to directly serve 32 cities in Australia, from hubs in Brisbane, Melbourne and Sydney.'\n"
     ]
    }
   ],
   "source": [
    "# Find the first data sample with a 'input' element.\n",
    "for i,elem in enumerate(data): \n",
    "    if elem['context']:\n",
    "        tmp = elem['instruction']+\"\\nContext: \"+elem['context']\n",
    "        print(f\"Index: {i}\\nPrompt:\\n'{tmp}'\")\n",
    "        break"
   ]
  },
  {
   "cell_type": "code",
   "execution_count": 18,
   "id": "3e3daba4-b9b0-483e-8283-152ca30ded8e",
   "metadata": {},
   "outputs": [],
   "source": [
    "del elem\n",
    "del tmp"
   ]
  },
  {
   "cell_type": "code",
   "execution_count": 19,
   "id": "ec909f8e-384f-4264-a87e-8f1cf7d02e27",
   "metadata": {},
   "outputs": [
    {
     "data": {
      "text/plain": [
       "torch.Size([1, 131])"
      ]
     },
     "execution_count": 19,
     "metadata": {},
     "output_type": "execute_result"
    }
   ],
   "source": [
    "get_tokens(sentence, tokenizer).shape"
   ]
  },
  {
   "cell_type": "code",
   "execution_count": 20,
   "id": "e0dd286a-34b0-4896-9ab5-452904284e77",
   "metadata": {},
   "outputs": [],
   "source": [
    "del sentence"
   ]
  },
  {
   "cell_type": "code",
   "execution_count": 21,
   "id": "1db74aff-607b-4b35-9333-01335500e926",
   "metadata": {},
   "outputs": [],
   "source": [
    "idx = 0"
   ]
  },
  {
   "cell_type": "code",
   "execution_count": 22,
   "id": "fd9962bd-13c3-4265-8aa7-2051b84a75cc",
   "metadata": {},
   "outputs": [
    {
     "name": "stdout",
     "output_type": "stream",
     "text": [
      "<bos><start_of_turn>user\n",
      "When did Virgin Australia start operating?\n",
      "Context: Virgin Australia, the trading name of Virgin Australia Airlines Pty Ltd, is an Australian-based airline. It is the largest airline by fleet size to use the Virgin brand. It commenced services on 31 August 2000 as Virgin Blue, with two aircraft on a single route. It suddenly found itself as a major airline in Australia's domestic market after the collapse of Ansett Australia in September 2001. The airline has since grown to directly serve 32 cities in Australia, from hubs in Brisbane, Melbourne and Sydney.<end_of_turn>\n",
      "<start_of_turn>model\n",
      "\n"
     ]
    }
   ],
   "source": [
    "print(tokenizer.batch_decode(get_tokens([{'role': 'user',\n",
    "                                          'content': data[idx]['instruction']+\"\\nContext: \"+data[idx]['context']}], \n",
    "                                        tokenizer))[0])"
   ]
  },
  {
   "cell_type": "code",
   "execution_count": 23,
   "id": "ad9c3b50-e754-4520-bee2-66d1b5cabe59",
   "metadata": {},
   "outputs": [
    {
     "data": {
      "text/plain": [
       "torch.Size([1, 131])"
      ]
     },
     "execution_count": 23,
     "metadata": {},
     "output_type": "execute_result"
    }
   ],
   "source": [
    "get_tokens([{'role': 'user',\n",
    "             'content': data[idx]['instruction']+\"\\nContext: \"+data[idx]['context']}], \n",
    "           tokenizer).shape"
   ]
  },
  {
   "cell_type": "code",
   "execution_count": 24,
   "id": "1f9cf9ff-7c87-4124-9b38-fb75b052edf8",
   "metadata": {},
   "outputs": [],
   "source": [
    "del idx"
   ]
  },
  {
   "cell_type": "code",
   "execution_count": null,
   "id": "8c4ada7c-fb49-44d5-9a49-398b04f3bc89",
   "metadata": {},
   "outputs": [],
   "source": []
  }
 ],
 "metadata": {
  "kernelspec": {
   "display_name": "Python 3 (ipykernel)",
   "language": "python",
   "name": "python3"
  },
  "language_info": {
   "codemirror_mode": {
    "name": "ipython",
    "version": 3
   },
   "file_extension": ".py",
   "mimetype": "text/x-python",
   "name": "python",
   "nbconvert_exporter": "python",
   "pygments_lexer": "ipython3",
   "version": "3.12.9"
  }
 },
 "nbformat": 4,
 "nbformat_minor": 5
}
