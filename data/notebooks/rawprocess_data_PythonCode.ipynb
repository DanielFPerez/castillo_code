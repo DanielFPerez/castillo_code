{
 "cells": [
  {
   "cell_type": "markdown",
   "id": "3eceb776-1cac-4af8-9d7e-88273e84a6c9",
   "metadata": {},
   "source": [
    "# PythonCode Dataset\n",
    "\n",
    "We se the dataset from https://huggingface.co/datasets/ajibawa-2023/Python-Code-23k-ShareGPT/tree/main "
   ]
  },
  {
   "cell_type": "code",
   "execution_count": 5,
   "id": "39001390-aa23-494d-b6c9-597deeec0ecb",
   "metadata": {},
   "outputs": [],
   "source": [
    "import json\n",
    "import numpy as np\n",
    "import torch\n",
    "from transformers import AutoTokenizer\n",
    "\n",
    "import os \n",
    "import sys\n",
    "\n",
    "sys.path.append(os.path.join(os.getcwd(), \"../../\"))\n",
    "\n",
    "import src.visualization.plot_rawdata as plotutils"
   ]
  },
  {
   "cell_type": "code",
   "execution_count": 6,
   "id": "a27cd9fd-361b-4fa6-a1c5-20e69fa05dfe",
   "metadata": {},
   "outputs": [],
   "source": [
    "SHAREGPT_PATH = \"../raw_instruct/Python-Code-23k-ShareGPT.json\"\n",
    "# Open the JSON file\n",
    "with open(SHAREGPT_PATH, 'r') as file:\n",
    "    data = json.load(file)  # Load the JSON data into a Python dictionary"
   ]
  },
  {
   "cell_type": "code",
   "execution_count": 7,
   "id": "bed4e8b2-778a-4e81-a02c-f0fce9c8a529",
   "metadata": {},
   "outputs": [
    {
     "name": "stdout",
     "output_type": "stream",
     "text": [
      "Type of data: <class 'list'>\n",
      "Number of entries: 22608\n"
     ]
    }
   ],
   "source": [
    "print(f\"Type of data: {type(data)}\\nNumber of entries: {len(data)}\")"
   ]
  },
  {
   "cell_type": "code",
   "execution_count": 8,
   "id": "64563308-b52c-4513-be68-0bfdd530f4df",
   "metadata": {},
   "outputs": [
    {
     "data": {
      "text/plain": [
       "{'id': '0',\n",
       " 'conversations': [{'from': 'human',\n",
       "   'value': 'Create a nested loop to print every combination of numbers between 0-9, excluding any combination that contains the number 5. Additionally, exclude any combination that contains a repeating digit. Implement the solution without using any built-in functions or libraries to check for repeating digits.'},\n",
       "  {'from': 'gpt',\n",
       "   'value': 'Here is an example of a nested loop in Python to print every combination of numbers between 0-9, excluding any combination that contains the number 5 or repeating digits:\\n\\n```python\\nfor i in range(10):  # First digit\\n    for j in range(10):  # Second digit\\n        for k in range(10):  # Third digit\\n            # Checking for the conditions\\n            if i != 5 and j != 5 and k != 5 and i != j and i != k and j != k:\\n                print(i, j, k)\\n```\\n\\nThis code will generate and print every combination of three digits between 0-9 that do not contain the number 5 and do not have any repeating digits.'}]}"
      ]
     },
     "execution_count": 8,
     "metadata": {},
     "output_type": "execute_result"
    }
   ],
   "source": [
    "data[0]"
   ]
  },
  {
   "cell_type": "code",
   "execution_count": 12,
   "id": "8631cbf9-8a03-4851-a0b4-1da66c95321c",
   "metadata": {},
   "outputs": [],
   "source": [
    "cached_elem = None\n",
    "for i, elem in enumerate(data):\n",
    "    if elem['id'] == '18058':\n",
    "        cached_elem = elem\n",
    "        break"
   ]
  },
  {
   "cell_type": "code",
   "execution_count": 13,
   "id": "d3673533-5def-4292-84d6-7c11dd0b6119",
   "metadata": {},
   "outputs": [
    {
     "data": {
      "text/plain": [
       "{'id': '18058',\n",
       " 'conversations': [{'from': 'human',\n",
       "   'value': 'Can you extend the given Python code to include more abbreviations and their full names that you might be familiar with? Also, can you modify the code to print the abbreviations and their full names in alphabetical order?'},\n",
       "  {'from': 'gpt',\n",
       "   'value': 'Yes, I can do that. Here\\'s an updated code that includes more abbreviations and prints them in alphabetical order:\\r\\n\\r\\n```python\\r\\nabbreviations = {\\r\\n    \"AFK\": \"Away From Keyboard\",\\r\\n    \"ASAP\": \"As Soon As Possible\",\\r\\n    \"BFF\": \"Best Friends Forever\",\\r\\n    \"BTW\": \"By The Way\",\\r\\n    \"DIY\": \"Do It Yourself\",\\r\\n    \"ETA\": \"Estimated Time of Arrival\",\\r\\n    \"FYI\": \"For Your Information\",\\r\\n    \"IDK\": \"I Don\\'t Know\",\\r\\n    \"IMO\": \"In My Opinion\",\\r\\n    \"IRL\": \"In Real Life\",\\r\\n    \"JK\": \"Just Kidding\",\\r\\n    \"LMAO\": \"Laughing My Ass Off\",\\r\\n    \"LOL\": \"Laugh Out Loud\",\\r\\n    \"NP\": \"No Problem\",\\r\\n    \"OMG\": \"Oh My God\",\\r\\n    \"ROFL\": \"Rolling On the Floor Laughing\",\\r\\n    \"TMI\": \"Too Much Information\",\\r\\n    \"TTYL\": \"Talk To You Later\",\\r\\n    \"WTF\": \"What The F**k\",\\r\\n    \"YOLO\": \"You Only Live Once\",\\r\\n}\\r\\n\\r\\nfor abbreviation in sorted(abbreviations.keys()):\\r\\n    print(f\"{abbreviation}: {abbreviations[abbreviation]}\")\\r\\n```\\r\\n\\r\\nThis code uses the `sorted()` function to sort the keys of the `abbreviations` dictionary in alphabetical order before printing them.'}]}"
      ]
     },
     "execution_count": 13,
     "metadata": {},
     "output_type": "execute_result"
    }
   ],
   "source": [
    "cached_elem"
   ]
  },
  {
   "cell_type": "code",
   "execution_count": 15,
   "id": "399b66d3-8bad-45cd-b4ee-86d55e57c64a",
   "metadata": {},
   "outputs": [
    {
     "data": {
      "text/plain": [
       "{'id': '18057',\n",
       " 'conversations': [{'from': 'human',\n",
       "   'value': \"How can you modify the Joke class so that not only each animal is ridden by only one kid, but also the kid chooses the animal randomly without repetition? Furthermore, how can you incorporate the requirement that each kid can only ride a specific animal according to a table that lists the animal name, the corresponding kid's name, and the color of the animal? This table is provided below:\\r\\n\\r\\n```\\r\\n|   Animal     |   Kid Name   |   Animal Color    |\\r\\n|--------------|--------------|------------------|\\r\\n|     Cat      |     John     |       White      |\\r\\n|     Dog      |     Jane     |       Brown      |\\r\\n|     Cow      |     Tom      |       Black      |\\r\\n```\\r\\n\\r\\nTo avoid any confusion, each kid should only ride the animal that is assigned to him or her in the table. It is also important that no kid repeats riding the same animal twice. Can you make the necessary changes to the Joke class to meet these requirements?\"},\n",
       "  {'from': 'gpt',\n",
       "   'value': 'To modify the Joke class to meet these requirements, we need to add a few things. First, we need to create a list of animals and shuffle it so that the order is random. Then, we need to iterate through the shuffled list and assign each animal to the corresponding kid based on the table provided. We also need to keep track of which animal each kid has ridden so that they do not repeat. Here\\'s an example implementation:\\r\\n\\r\\n```python\\r\\nimport random\\r\\n\\r\\nclass Joke:\\r\\n    def __init__(self):\\r\\n        self.animals = [\\'Cat\\', \\'Dog\\', \\'Cow\\']\\r\\n        random.shuffle(self.animals)\\r\\n        self.kid_animal_map = {\\'John\\': \\'Cat\\', \\'Jane\\': \\'Dog\\', \\'Tom\\': \\'Cow\\'}\\r\\n        self.ridden_animals = {}\\r\\n\\r\\n    def ride(self, kid):\\r\\n        if kid in self.ridden_animals:\\r\\n            return f\"{kid} has already ridden {self.ridden_animals[kid]}\"\\r\\n        if kid not in self.kid_animal_map:\\r\\n            return f\"{kid} is not allowed to ride any animal\"\\r\\n        animal = self.kid_animal_map[kid]\\r\\n        if animal not in self.animals:\\r\\n            return f\"All animals have been ridden already\"\\r\\n        self.animals.remove(animal)\\r\\n        self.ridden_animals[kid] = animal\\r\\n        return f\"{kid} is riding a {animal}\"  \\r\\n```\\r\\n\\r\\nWith this implementation, we first create a list of animals and shuffle it randomly using `random.shuffle`. Then, we define a dictionary `kid_animal_map` that maps each kid\\'s name to the corresponding animal they are allowed to ride based on the table provided. We also create an empty dictionary `ridden_animals` to keep track of which animal each kid has ridden.\\r\\n\\r\\nIn the `ride` method, we first check if the kid has already ridden an animal and return an appropriate message if so. We also check if the kid is not allowed to ride any animal based on the table and return an appropriate message if so. If neither of these conditions apply, we get the corresponding animal for the kid from the `kid_animal_map`. If this animal has already been ridden, we return a message saying all animals have been ridden. Otherwise, we remove the animal from the list of available animals, add it to the `ridden_animals` dictionary for the kid, and return a message saying that the kid is riding the animal. This ensures that each kid rides a different animal and no kid repeats riding the same animal.'}]}"
      ]
     },
     "execution_count": 15,
     "metadata": {},
     "output_type": "execute_result"
    }
   ],
   "source": [
    "data[i-1]"
   ]
  },
  {
   "cell_type": "markdown",
   "id": "aba12ceb-fc77-4044-9c5a-1c4ce97d2f8c",
   "metadata": {},
   "source": [
    "### No data\n",
    "Check if there are elements with no conversations"
   ]
  },
  {
   "cell_type": "code",
   "execution_count": 8,
   "id": "7109da6f-ce73-4d10-9cf6-a01555d9ceea",
   "metadata": {},
   "outputs": [],
   "source": [
    "no_conver_data = []\n",
    "\n",
    "for elem in data: \n",
    "    if not len(elem['conversations']):\n",
    "        no_conver_data.append(elem)"
   ]
  },
  {
   "cell_type": "code",
   "execution_count": 9,
   "id": "912f270b-f9c7-47a8-8e52-ec73cdd75253",
   "metadata": {},
   "outputs": [
    {
     "data": {
      "text/plain": [
       "0"
      ]
     },
     "execution_count": 9,
     "metadata": {},
     "output_type": "execute_result"
    }
   ],
   "source": [
    "len(no_conver_data)\n"
   ]
  },
  {
   "cell_type": "code",
   "execution_count": 11,
   "id": "d851573c-812f-4fa5-ab84-a421df5f32e4",
   "metadata": {},
   "outputs": [],
   "source": [
    "del no_conver_data"
   ]
  },
  {
   "cell_type": "code",
   "execution_count": null,
   "id": "ff910603-918c-4eaf-8417-95cf491acbe0",
   "metadata": {},
   "outputs": [],
   "source": []
  },
  {
   "cell_type": "markdown",
   "id": "09835b0b-041a-4fa1-b441-98dbbf5d8515",
   "metadata": {},
   "source": [
    "#### Only samples starting with 'human'\n",
    "we do not want to bias the LLMs with ChatGPT-produced content."
   ]
  },
  {
   "cell_type": "code",
   "execution_count": 12,
   "id": "1a18786f-ccc8-4f6b-a2c0-66586cb59762",
   "metadata": {},
   "outputs": [],
   "source": [
    "data_humanstart = list()\n",
    "for elem in data:\n",
    "    if len(elem['conversations']) and elem['conversations'][0]['from']==\"human\":\n",
    "        data_humanstart.append(elem)"
   ]
  },
  {
   "cell_type": "code",
   "execution_count": 13,
   "id": "24bf3017-acd3-4c00-bff1-0a1d4e02725a",
   "metadata": {},
   "outputs": [
    {
     "data": {
      "text/plain": [
       "22608"
      ]
     },
     "execution_count": 13,
     "metadata": {},
     "output_type": "execute_result"
    }
   ],
   "source": [
    "len(data_humanstart)"
   ]
  },
  {
   "cell_type": "markdown",
   "id": "2f30da7a-e977-4a8b-af56-61f31c45f82c",
   "metadata": {},
   "source": [
    "All converstaions start with human!"
   ]
  },
  {
   "cell_type": "code",
   "execution_count": 14,
   "id": "b5cfd888-9940-4e7f-bfc5-43498a12d042",
   "metadata": {},
   "outputs": [],
   "source": [
    "del data_humanstart"
   ]
  },
  {
   "cell_type": "code",
   "execution_count": null,
   "id": "19e4ccc1-59e6-4a01-b1e3-5405db05f421",
   "metadata": {},
   "outputs": [],
   "source": []
  },
  {
   "cell_type": "markdown",
   "id": "c949790c-d06e-4e06-b6be-98f00b88e044",
   "metadata": {},
   "source": [
    "#### Plot conversations lengths (by human-GPT interactions)"
   ]
  },
  {
   "cell_type": "code",
   "execution_count": 17,
   "id": "c20d3031-dec8-459b-80cf-2c94c014535c",
   "metadata": {},
   "outputs": [
    {
     "data": {
      "text/plain": [
       "22608"
      ]
     },
     "execution_count": 17,
     "metadata": {},
     "output_type": "execute_result"
    }
   ],
   "source": [
    "conv_len = [len(elem['conversations']) for elem in data]\n",
    "len(conv_len)"
   ]
  },
  {
   "cell_type": "code",
   "execution_count": 16,
   "id": "a5060190-05cf-4105-a007-e1532c945964",
   "metadata": {},
   "outputs": [
    {
     "data": {
      "text/plain": [
       "{2}"
      ]
     },
     "execution_count": 16,
     "metadata": {},
     "output_type": "execute_result"
    }
   ],
   "source": [
    "set(conv_len)"
   ]
  },
  {
   "cell_type": "markdown",
   "id": "1e5cc163-caca-4113-9175-7b64de5a5685",
   "metadata": {},
   "source": [
    "All conversations START with HUMAN and are only ONE interaction long. "
   ]
  },
  {
   "cell_type": "code",
   "execution_count": null,
   "id": "1a01d45a-6008-49ce-91aa-34598b887409",
   "metadata": {},
   "outputs": [],
   "source": []
  },
  {
   "cell_type": "markdown",
   "id": "93366e63-bbfb-4f68-bee8-b836c6a0c187",
   "metadata": {},
   "source": [
    "#### Plot conversations lengths (number of tokens of first human input)"
   ]
  },
  {
   "cell_type": "code",
   "execution_count": 18,
   "id": "b5b02be6-2356-4ffb-82bb-70416d1f1e36",
   "metadata": {},
   "outputs": [],
   "source": [
    "access_tk = os.getenv(\"HF_API_TOKEN\")\n",
    "device_str = \"cuda:0\"\n",
    "model_name = \"google/gemma-2-2b-it\"\n",
    "padding_side='left'\n",
    "\n",
    "tokenizer = AutoTokenizer.from_pretrained(model_name, token=access_tk, device_map=device_str, torch_dtype=torch.float16, padding_side=padding_side)\n",
    "\n"
   ]
  },
  {
   "cell_type": "code",
   "execution_count": 20,
   "id": "788ca5ec-7d88-4f98-92eb-a241abb2e62e",
   "metadata": {},
   "outputs": [],
   "source": [
    "def get_tokens(sentence, tokenizer):\n",
    "    return tokenizer.apply_chat_template(sentence, return_tensors=\"pt\", add_generation_prompt=True)   "
   ]
  },
  {
   "cell_type": "code",
   "execution_count": 21,
   "id": "fd9962bd-13c3-4265-8aa7-2051b84a75cc",
   "metadata": {},
   "outputs": [
    {
     "name": "stdout",
     "output_type": "stream",
     "text": [
      "<bos><start_of_turn>user\n",
      "Create a nested loop to print every combination of numbers between 0-9, excluding any combination that contains the number 5. Additionally, exclude any combination that contains a repeating digit. Implement the solution without using any built-in functions or libraries to check for repeating digits.<end_of_turn>\n",
      "<start_of_turn>model\n",
      "\n"
     ]
    }
   ],
   "source": [
    "print(tokenizer.batch_decode(get_tokens([{'role': \"user\", \n",
    "             \"content\": data[0]['conversations'][0]['value']}], tokenizer))[0])"
   ]
  },
  {
   "cell_type": "code",
   "execution_count": 24,
   "id": "661d74d4-8630-4e5d-bb70-73424b726625",
   "metadata": {},
   "outputs": [
    {
     "data": {
      "text/plain": [
       "torch.Size([1, 64])"
      ]
     },
     "execution_count": 24,
     "metadata": {},
     "output_type": "execute_result"
    }
   ],
   "source": [
    "get_tokens([{'role': \"user\", \n",
    "             \"content\": data[0]['conversations'][0]['value']}], tokenizer).shape"
   ]
  },
  {
   "cell_type": "markdown",
   "id": "2c280782-8f6b-46ab-aad4-8657d7e25431",
   "metadata": {},
   "source": [
    "#### Do the above for all conversations that start with human"
   ]
  },
  {
   "cell_type": "code",
   "execution_count": 27,
   "id": "e4da6034-d230-4d66-bd8d-6f75e61efe0d",
   "metadata": {},
   "outputs": [],
   "source": [
    "conv_len_tokens = [get_tokens([{'role': \"user\", \n",
    "                                \"content\": elem['conversations'][0]['value']}], tokenizer).shape[1] \n",
    "                   for elem in data]"
   ]
  },
  {
   "cell_type": "code",
   "execution_count": 28,
   "id": "3e463fde-219b-4851-80d0-76c6401de414",
   "metadata": {},
   "outputs": [
    {
     "data": {
      "text/plain": [
       "22608"
      ]
     },
     "execution_count": 28,
     "metadata": {},
     "output_type": "execute_result"
    }
   ],
   "source": [
    "len(conv_len_tokens)"
   ]
  },
  {
   "cell_type": "code",
   "execution_count": 33,
   "id": "2051c4c0-7121-49dc-8801-4f076d70028c",
   "metadata": {},
   "outputs": [
    {
     "data": {
      "text/plain": [
       "1531"
      ]
     },
     "execution_count": 33,
     "metadata": {},
     "output_type": "execute_result"
    }
   ],
   "source": [
    "np.max(conv_len_tokens)"
   ]
  },
  {
   "cell_type": "code",
   "execution_count": 34,
   "id": "9296adba-2167-4e27-808b-52b02441ce4b",
   "metadata": {},
   "outputs": [
    {
     "data": {
      "image/png": "[encoded data removed]",
      "text/plain": [
       "<Figure size 1000x280 with 2 Axes>"
      ]
     },
     "metadata": {},
     "output_type": "display_data"
    }
   ],
   "source": [
    "fig = plotutils.plot_histogram_and_cdf(conv_len_tokens, in_size=(10, 2.8), \n",
    "                                       in_title=\"# Input Tokens\", \n",
    "                                       x_forcdf=0, cdf_forx=[0.25, 0.5, 0.75, 0.95, 0.999])"
   ]
  },
  {
   "cell_type": "code",
   "execution_count": 35,
   "id": "b43a548e-3201-4321-9da1-4a386cddfeab",
   "metadata": {},
   "outputs": [],
   "source": [
    "fig.savefig(\"../../outputs/images/raw_data_PythonCode_ntokens_hist.pdf\", bbox_inches=\"tight\")"
   ]
  },
  {
   "cell_type": "code",
   "execution_count": null,
   "id": "dc126123-fb14-4907-bed5-e3db476a25ec",
   "metadata": {},
   "outputs": [],
   "source": []
  },
  {
   "cell_type": "markdown",
   "id": "f295a23d-93d0-4909-a9be-bb94f9e0b0f7",
   "metadata": {},
   "source": [
    "# Split the datasets"
   ]
  },
  {
   "cell_type": "code",
   "execution_count": 37,
   "id": "688fd95e-7f98-43fc-9311-8a3d55fe561d",
   "metadata": {},
   "outputs": [],
   "source": [
    "tmp = np.arange(len(data))\n",
    "np.random.shuffle(tmp)"
   ]
  },
  {
   "cell_type": "code",
   "execution_count": 38,
   "id": "7af842b7-79f4-4b18-acf0-030302df9d85",
   "metadata": {},
   "outputs": [],
   "source": [
    "train_indxs, val_indxs, test_indxs = np.split(tmp, [int(0.7*len(tmp)), int(0.9*len(tmp))])"
   ]
  },
  {
   "cell_type": "code",
   "execution_count": 39,
   "id": "785fd894-1150-4b89-9b08-b70e22f5564e",
   "metadata": {},
   "outputs": [],
   "source": [
    "data_train = [data[i] for i in train_indxs]\n",
    "data_val = [data[i] for i in val_indxs]\n",
    "data_test = [data[i] for i in test_indxs]"
   ]
  },
  {
   "cell_type": "code",
   "execution_count": 41,
   "id": "ef8b2bdb-b77b-4b26-a608-6e4c7ecce43d",
   "metadata": {},
   "outputs": [
    {
     "name": "stdout",
     "output_type": "stream",
     "text": [
      "Percentage of training data: 0.7\n",
      "Percentage of validation data: 0.2\n",
      "Percentage of test data: 0.1\n"
     ]
    }
   ],
   "source": [
    "# Check if the lengths agree\n",
    "print(f\"Percentage of training data: {round(len(data_train)/len(data), 4)}\")\n",
    "print(f\"Percentage of validation data: {round(len(data_val)/len(data), 4)}\")\n",
    "print(f\"Percentage of test data: {round(len(data_test)/len(data), 4)}\")"
   ]
  },
  {
   "cell_type": "code",
   "execution_count": 42,
   "id": "c0f91a2e-656a-4d5a-8c63-8d923ede97be",
   "metadata": {},
   "outputs": [],
   "source": [
    "def save_data(dataset, path):\n",
    "    with open(path, 'w') as f:\n",
    "        json.dump(dataset, f)\n",
    "    print(f\"Dataset saved to path {path}\")"
   ]
  },
  {
   "cell_type": "code",
   "execution_count": 43,
   "id": "710cba3e-02ce-42d3-a568-a3a1de770209",
   "metadata": {},
   "outputs": [
    {
     "name": "stdout",
     "output_type": "stream",
     "text": [
      "Dataset saved to path ./data/raw_instruct/PythonCode/raw_PythonCode_train.json\n"
     ]
    }
   ],
   "source": [
    "save_data(data_train, \"../raw_instruct/PythonCode/raw_PythonCode_train.json\")"
   ]
  },
  {
   "cell_type": "code",
   "execution_count": 44,
   "id": "997189db-ca7f-449c-8087-7a8feca80e6b",
   "metadata": {},
   "outputs": [
    {
     "name": "stdout",
     "output_type": "stream",
     "text": [
      "Dataset saved to path ./data/raw_instruct/PythonCode/raw_PythonCode_validate.json\n"
     ]
    }
   ],
   "source": [
    "save_data(data_val, \"../raw_instruct/PythonCode/raw_PythonCode_validate.json\")"
   ]
  },
  {
   "cell_type": "code",
   "execution_count": 45,
   "id": "79d8d700-1328-4bdb-ada5-d2a3410cfca7",
   "metadata": {},
   "outputs": [
    {
     "name": "stdout",
     "output_type": "stream",
     "text": [
      "Dataset saved to path ./data/raw_instruct/PythonCode/raw_PythonCode_test.json\n"
     ]
    }
   ],
   "source": [
    "save_data(data_test, \"../raw_instruct/PythonCode/raw_PythonCode_test.json\")"
   ]
  },
  {
   "cell_type": "code",
   "execution_count": null,
   "id": "7117480f-ba94-4df4-9bad-0a7b1ceb09de",
   "metadata": {},
   "outputs": [],
   "source": []
  },
  {
   "cell_type": "code",
   "execution_count": null,
   "id": "a462e9e5-3b6b-4995-be6a-27f254ffa715",
   "metadata": {},
   "outputs": [],
   "source": []
  },
  {
   "cell_type": "code",
   "execution_count": null,
   "id": "a95ff9ec-0652-4bc8-a855-cc18c374a3ab",
   "metadata": {},
   "outputs": [],
   "source": []
  },
  {
   "cell_type": "code",
   "execution_count": null,
   "id": "8410253c-d0ba-4635-9f29-49b2a06583f1",
   "metadata": {},
   "outputs": [],
   "source": []
  },
  {
   "cell_type": "code",
   "execution_count": null,
   "id": "755134ef-6eb7-445d-b2ec-37f26867deda",
   "metadata": {},
   "outputs": [],
   "source": []
  },
  {
   "cell_type": "code",
   "execution_count": null,
   "id": "cb779ba1-c7ee-4f7b-bb02-acdc573fb928",
   "metadata": {},
   "outputs": [],
   "source": []
  },
  {
   "cell_type": "code",
   "execution_count": null,
   "id": "6a57076a-b3c5-4a12-8d37-5436836c995e",
   "metadata": {},
   "outputs": [],
   "source": []
  },
  {
   "cell_type": "code",
   "execution_count": null,
   "id": "cf676b7c-78f3-48ff-8373-11ed16186c9d",
   "metadata": {},
   "outputs": [],
   "source": []
  },
  {
   "cell_type": "code",
   "execution_count": null,
   "id": "64a53bea-f982-4e93-bc85-4109fafb2a60",
   "metadata": {},
   "outputs": [],
   "source": []
  },
  {
   "cell_type": "code",
   "execution_count": null,
   "id": "10437a7a-8f4d-4cc8-b95a-f4ab940c80f7",
   "metadata": {},
   "outputs": [],
   "source": []
  },
  {
   "cell_type": "code",
   "execution_count": null,
   "id": "75df5920-a6e9-4828-a472-5e0e5590fa8e",
   "metadata": {},
   "outputs": [],
   "source": []
  },
  {
   "cell_type": "code",
   "execution_count": null,
   "id": "eb445f0c-3441-499b-8f8a-af1d65cc23f3",
   "metadata": {},
   "outputs": [],
   "source": []
  },
  {
   "cell_type": "code",
   "execution_count": null,
   "id": "fa043000-ef05-4c56-8863-a88716174634",
   "metadata": {},
   "outputs": [],
   "source": []
  },
  {
   "cell_type": "code",
   "execution_count": null,
   "id": "eee8b960-2199-4e7e-b6f4-298987eafc27",
   "metadata": {},
   "outputs": [],
   "source": []
  },
  {
   "cell_type": "code",
   "execution_count": null,
   "id": "7ba38c82-c4ca-4914-860c-e4de1fea6f40",
   "metadata": {},
   "outputs": [],
   "source": []
  },
  {
   "cell_type": "code",
   "execution_count": null,
   "id": "953a77f7-1875-4c9f-aa1b-6805389ee9d2",
   "metadata": {},
   "outputs": [],
   "source": []
  },
  {
   "cell_type": "code",
   "execution_count": null,
   "id": "8c4ada7c-fb49-44d5-9a49-398b04f3bc89",
   "metadata": {},
   "outputs": [],
   "source": []
  }
 ],
 "metadata": {
  "kernelspec": {
   "display_name": "Python 3 (ipykernel)",
   "language": "python",
   "name": "python3"
  },
  "language_info": {
   "codemirror_mode": {
    "name": "ipython",
    "version": 3
   },
   "file_extension": ".py",
   "mimetype": "text/x-python",
   "name": "python",
   "nbconvert_exporter": "python",
   "pygments_lexer": "ipython3",
   "version": "3.12.9"
  }
 },
 "nbformat": 4,
 "nbformat_minor": 5
}
