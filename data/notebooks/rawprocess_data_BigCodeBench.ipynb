{
 "cells": [
  {
   "cell_type": "markdown",
   "id": "3eceb776-1cac-4af8-9d7e-88273e84a6c9",
   "metadata": {},
   "source": [
    "# BigCodeBench Dataset\n",
    "\n",
    "https://github.com/bigcode-project/bigcodebench"
   ]
  },
  {
   "cell_type": "code",
   "execution_count": 1,
   "id": "39001390-aa23-494d-b6c9-597deeec0ecb",
   "metadata": {},
   "outputs": [],
   "source": [
    "import json\n",
    "import numpy as np\n",
    "import torch\n",
    "from transformers import AutoTokenizer\n",
    "from sklearn.model_selection import train_test_split\n",
    "\n",
    "import os \n",
    "import sys\n",
    "\n",
    "sys.path.append(os.path.join(os.getcwd(), \"../../\"))\n",
    "\n",
    "import src.visualization.plot_rawdata as plotutils"
   ]
  },
  {
   "cell_type": "code",
   "execution_count": 2,
   "id": "751fb2e9-403b-47a2-929b-01aebf592a56",
   "metadata": {},
   "outputs": [
    {
     "data": {
      "application/vnd.jupyter.widget-view+json": {
       "model_id": "2ec1d52231b94601949afe4f10ca81c4",
       "version_major": 2,
       "version_minor": 0
      },
      "text/plain": [
       "README.md:   0%|          | 0.00/8.83k [00:00<?, ?B/s]"
      ]
     },
     "metadata": {},
     "output_type": "display_data"
    },
    {
     "data": {
      "application/vnd.jupyter.widget-view+json": {
       "model_id": "e5c7ebec25be4049b39c778a97672847",
       "version_major": 2,
       "version_minor": 0
      },
      "text/plain": [
       "Generating v0.1.0_hf split:   0%|          | 0/1140 [00:00<?, ? examples/s]"
      ]
     },
     "metadata": {},
     "output_type": "display_data"
    },
    {
     "data": {
      "application/vnd.jupyter.widget-view+json": {
       "model_id": "b24bbe2ec1344777815a68fee5082333",
       "version_major": 2,
       "version_minor": 0
      },
      "text/plain": [
       "Generating v0.1.1 split:   0%|          | 0/1140 [00:00<?, ? examples/s]"
      ]
     },
     "metadata": {},
     "output_type": "display_data"
    },
    {
     "data": {
      "application/vnd.jupyter.widget-view+json": {
       "model_id": "26fc8dbc3bbc42289b960142c3a16f46",
       "version_major": 2,
       "version_minor": 0
      },
      "text/plain": [
       "Generating v0.1.2 split:   0%|          | 0/1140 [00:00<?, ? examples/s]"
      ]
     },
     "metadata": {},
     "output_type": "display_data"
    },
    {
     "data": {
      "application/vnd.jupyter.widget-view+json": {
       "model_id": "e4dc9142c75f45149e15f35a7ade792d",
       "version_major": 2,
       "version_minor": 0
      },
      "text/plain": [
       "Generating v0.1.3 split:   0%|          | 0/1140 [00:00<?, ? examples/s]"
      ]
     },
     "metadata": {},
     "output_type": "display_data"
    },
    {
     "data": {
      "application/vnd.jupyter.widget-view+json": {
       "model_id": "b06ccc67c7884351b5a4b50dd991325a",
       "version_major": 2,
       "version_minor": 0
      },
      "text/plain": [
       "Generating v0.1.4 split:   0%|          | 0/1140 [00:00<?, ? examples/s]"
      ]
     },
     "metadata": {},
     "output_type": "display_data"
    },
    {
     "data": {
      "text/plain": [
       "5700"
      ]
     },
     "execution_count": 2,
     "metadata": {},
     "output_type": "execute_result"
    }
   ],
   "source": [
    "from datasets import load_dataset\n",
    "\n",
    "dataset = load_dataset(\"bigcode/bigcodebench\")\n",
    "sum([len(dataset[elem]) for elem in dataset.keys()])"
   ]
  },
  {
   "cell_type": "code",
   "execution_count": 3,
   "id": "d4a64357-c086-442f-9f9d-c5accb18c977",
   "metadata": {},
   "outputs": [
    {
     "data": {
      "text/plain": [
       "dict_keys(['v0.1.0_hf', 'v0.1.1', 'v0.1.2', 'v0.1.3', 'v0.1.4'])"
      ]
     },
     "execution_count": 3,
     "metadata": {},
     "output_type": "execute_result"
    }
   ],
   "source": [
    "dataset.keys()"
   ]
  },
  {
   "cell_type": "code",
   "execution_count": 4,
   "id": "d3a890e7-fd3f-421f-9779-7224cc34abf4",
   "metadata": {},
   "outputs": [
    {
     "data": {
      "text/plain": [
       "datasets.arrow_dataset.Dataset"
      ]
     },
     "execution_count": 4,
     "metadata": {},
     "output_type": "execute_result"
    }
   ],
   "source": [
    "type(dataset['v0.1.4'])"
   ]
  },
  {
   "cell_type": "code",
   "execution_count": 11,
   "id": "fbac8227-92f8-4a01-9497-ca734243cf96",
   "metadata": {},
   "outputs": [
    {
     "data": {
      "text/plain": [
       "{'task_id': 'BigCodeBench/222',\n",
       " 'complete_prompt': 'import math\\nimport numpy as np\\nimport matplotlib.pyplot as plt\\n\\n\\ndef task_func(list_input):\\n    \"\"\"\\n    Sort the given list in ascending order based on the degree value of its elements, calculate the cumulative sum of \\n    the sorted list, and draw a line chart of the cumulative sum.\\n\\n    Parameters:\\n    list_input (list): The list to be sorted.\\n\\n    Returns:\\n    tuple: A tuple containing:\\n           - numpy array: The cumulative sum of the sorted list.\\n           - matplotlib.axes._axes.Axes: The Axes object of the plotted line chart.\\n\\n    Requirements:\\n    - math\\n    - numpy\\n    - matplotlib.pyplot\\n\\n    Example:\\n    >>> cumsum, ax = task_func([10, 20, 30])\\n    >>> print(cumsum)\\n    [10 30 60]\\n    >>> ax.get_title()\\n    \\'Cumulative Sum Plot\\'\\n    \"\"\"\\n',\n",
       " 'instruct_prompt': 'Sort the given list in ascending order based on the degree value of its elements, calculate the cumulative sum of the sorted list, and draw a line chart of the cumulative sum.\\nThe function should output with:\\n    tuple: A tuple containing:\\n    numpy array: The cumulative sum of the sorted list.\\n    matplotlib.axes._axes.Axes: The Axes object of the plotted line chart.\\nYou should write self-contained code starting with:\\n```\\nimport math\\nimport numpy as np\\nimport matplotlib.pyplot as plt\\ndef task_func(list_input):\\n```',\n",
       " 'canonical_solution': '    sorted_list = sorted(list_input, key=lambda x: (math.degrees(x), x))\\n    cumsum = np.cumsum(sorted_list)\\n    \\n    # Plotting the line chart\\n    ax = plt.plot(cumsum)[0].axes\\n    ax.set_title(\"Cumulative Sum Plot\")\\n    ax.set_xlabel(\"Index\")\\n    ax.set_ylabel(\"Cumulative Sum\")\\n    \\n    return cumsum, ax',\n",
       " 'code_prompt': 'import math\\nimport numpy as np\\nimport matplotlib.pyplot as plt\\ndef task_func(list_input):\\n',\n",
       " 'test': \"import unittest\\nimport doctest\\nclass TestCases(unittest.TestCase):\\n    def test_case_1(self):\\n        cumsum, ax = task_func([10, 20, 30])\\n        self.assertListEqual(list(cumsum), [10, 30, 60])\\n        self.assertEqual(ax.get_title(), 'Cumulative Sum Plot')\\n        self.assertEqual(ax.get_xlabel(), 'Index')\\n        self.assertEqual(ax.get_ylabel(), 'Cumulative Sum')\\n    def test_case_2(self):\\n        cumsum, ax = task_func([5, 15, 25])\\n        self.assertListEqual(list(cumsum), [5, 20, 45])\\n        self.assertEqual(ax.get_title(), 'Cumulative Sum Plot')\\n        self.assertEqual(ax.get_xlabel(), 'Index')\\n        self.assertEqual(ax.get_ylabel(), 'Cumulative Sum')\\n    def test_case_3(self):\\n        cumsum, ax = task_func([])\\n        self.assertListEqual(list(cumsum), [])\\n        self.assertEqual(ax.get_title(), 'Cumulative Sum Plot')\\n        self.assertEqual(ax.get_xlabel(), 'Index')\\n        self.assertEqual(ax.get_ylabel(), 'Cumulative Sum')\\n    def test_case_4(self):\\n        cumsum, ax = task_func([1, 2, 3, 4, 5])\\n        self.assertListEqual(list(cumsum), [1, 3, 6, 10, 15])\\n        self.assertEqual(ax.get_title(), 'Cumulative Sum Plot')\\n        self.assertEqual(ax.get_xlabel(), 'Index')\\n        self.assertEqual(ax.get_ylabel(), 'Cumulative Sum')\\n    def test_case_5(self):\\n        cumsum, ax = task_func([5])\\n        self.assertListEqual(list(cumsum), [5])\\n        self.assertEqual(ax.get_title(), 'Cumulative Sum Plot')\\n        self.assertEqual(ax.get_xlabel(), 'Index')\\n        self.assertEqual(ax.get_ylabel(), 'Cumulative Sum')\",\n",
       " 'entry_point': 'task_func',\n",
       " 'doc_struct': '{\"description\": [\"Sort the given list in ascending order based on the degree value of its elements, calculate the cumulative sum of\", \"the sorted list, and draw a line chart of the cumulative sum.\"], \"notes\": [], \"params\": [\"list_input (list): The list to be sorted.\"], \"returns\": [\"tuple: A tuple containing:\", \"numpy array: The cumulative sum of the sorted list.\", \"matplotlib.axes._axes.Axes: The Axes object of the plotted line chart.\"], \"reqs\": [\"math\", \"numpy\", \"matplotlib.pyplot\"], \"raises\": [], \"examples\": [\">>> cumsum, ax = task_func([10, 20, 30])\", \">>> print(cumsum)\", \"[10 30 60]\", \">>> ax.get_title()\", \"\\'Cumulative Sum Plot\\'\"]}',\n",
       " 'libs': \"['math', 'numpy', 'matplotlib']\"}"
      ]
     },
     "execution_count": 11,
     "metadata": {},
     "output_type": "execute_result"
    }
   ],
   "source": [
    "idx = 222\n",
    "dataset['v0.1.4'][idx]"
   ]
  },
  {
   "cell_type": "code",
   "execution_count": 12,
   "id": "d26e4609-e40e-4ff0-8897-6df0ea81fe8a",
   "metadata": {},
   "outputs": [
    {
     "data": {
      "text/plain": [
       "dict_keys(['task_id', 'complete_prompt', 'instruct_prompt', 'canonical_solution', 'code_prompt', 'test', 'entry_point', 'doc_struct', 'libs'])"
      ]
     },
     "execution_count": 12,
     "metadata": {},
     "output_type": "execute_result"
    }
   ],
   "source": [
    "dataset['v0.1.4'][idx].keys()"
   ]
  },
  {
   "cell_type": "code",
   "execution_count": 13,
   "id": "d29f6c16-5be6-44c6-8068-4a512f1cea86",
   "metadata": {},
   "outputs": [
    {
     "name": "stdout",
     "output_type": "stream",
     "text": [
      "The 'v0.1.4' subset has 1140 samples\n"
     ]
    }
   ],
   "source": [
    "print(f\"The 'v0.1.4' subset has {len(dataset['v0.1.4'])} samples\")"
   ]
  },
  {
   "cell_type": "code",
   "execution_count": 14,
   "id": "d9be66ea-1061-4769-8492-3848f53fc263",
   "metadata": {},
   "outputs": [],
   "source": [
    "data = dataset['v0.1.4']"
   ]
  },
  {
   "cell_type": "code",
   "execution_count": 15,
   "id": "3971a1da-dbe2-40f1-bc19-6ddd472b44ba",
   "metadata": {},
   "outputs": [
    {
     "data": {
      "text/plain": [
       "datasets.arrow_dataset.Dataset"
      ]
     },
     "execution_count": 15,
     "metadata": {},
     "output_type": "execute_result"
    }
   ],
   "source": [
    "type(data)"
   ]
  },
  {
   "cell_type": "code",
   "execution_count": 16,
   "id": "24d1131f-d531-4284-aca7-a1a7518d2b51",
   "metadata": {},
   "outputs": [
    {
     "data": {
      "text/plain": [
       "1140"
      ]
     },
     "execution_count": 16,
     "metadata": {},
     "output_type": "execute_result"
    }
   ],
   "source": [
    "len(data)"
   ]
  },
  {
   "cell_type": "markdown",
   "id": "d7f9b3f7-2e46-480b-89d9-644280cc3a96",
   "metadata": {},
   "source": [
    "#### Check if all elements in data are of type dict and if just one input prompt per data sample (no conversation)"
   ]
  },
  {
   "cell_type": "code",
   "execution_count": 17,
   "id": "5b4a744d-d791-43cf-807d-5081095c2ee3",
   "metadata": {},
   "outputs": [],
   "source": [
    "verbose= False\n",
    "\n",
    "keys = ['task_id', 'complete_prompt', 'instruct_prompt', 'canonical_solution', 'code_prompt', 'test', 'entry_point', 'doc_struct', 'libs']\n",
    "\n",
    "for i, elem in enumerate(data):\n",
    "    if not isinstance(elem, dict):\n",
    "        print(f\"Elem is not a dict! {elem}\")\n",
    "    elif sorted(list(elem.keys())) != sorted(keys):\n",
    "        print(f\"Elem has different keys in dict! {elem.keys()}\\n{elem}\\n\")"
   ]
  },
  {
   "cell_type": "markdown",
   "id": "aba12ceb-fc77-4044-9c5a-1c4ce97d2f8c",
   "metadata": {},
   "source": [
    "### No data"
   ]
  },
  {
   "cell_type": "code",
   "execution_count": 18,
   "id": "7109da6f-ce73-4d10-9cf6-a01555d9ceea",
   "metadata": {},
   "outputs": [
    {
     "name": "stdout",
     "output_type": "stream",
     "text": [
      "There are 0 elements in the dataset with no prompts!\n"
     ]
    }
   ],
   "source": [
    "no_conver_data = []\n",
    "\n",
    "prompt_key = \"instruct_prompt\"\n",
    "\n",
    "for elem in data: \n",
    "    if not elem[prompt_key]:\n",
    "        no_conver_data.append(elem)\n",
    "print(f\"There are {len(no_conver_data)} elements in the dataset with no prompts!\")"
   ]
  },
  {
   "cell_type": "markdown",
   "id": "1fff4df3-5222-4fbe-8c75-893d57b65c9b",
   "metadata": {},
   "source": [
    "So all of the elements in this dataset have an instruction!"
   ]
  },
  {
   "cell_type": "markdown",
   "id": "93366e63-bbfb-4f68-bee8-b836c6a0c187",
   "metadata": {},
   "source": [
    "#### Plot conversations lengths (number of tokens of first human input)"
   ]
  },
  {
   "cell_type": "code",
   "execution_count": 19,
   "id": "b5b02be6-2356-4ffb-82bb-70416d1f1e36",
   "metadata": {},
   "outputs": [],
   "source": [
    "access_tk = os.getenv(\"HF_API_TOKEN\")\n",
    "device_str = \"cuda:0\"\n",
    "model_name = \"meta-llama/Llama-3.2-3B-Instruct\"\n",
    "padding_side='left'\n",
    "\n",
    "tokenizer = AutoTokenizer.from_pretrained(model_name, token=access_tk, device_map=device_str, torch_dtype=torch.float16, padding_side=padding_side)\n",
    "\n"
   ]
  },
  {
   "cell_type": "markdown",
   "id": "9dde97c9-a342-4834-8be9-0eda42cc3682",
   "metadata": {},
   "source": [
    "## Input handling\n",
    "Each sample in the dataset is of type `dict`.\n",
    "The keys of that `dict` are `['task_id', 'complete_prompt', 'instruct_prompt', 'canonical_solution', 'code_prompt', 'test', 'entry_point', 'doc_struct', 'libs']`. \n",
    "\n",
    "However, the tokenizers' `chat_templates` do not recognize those keyas, so we need to append it to the user's `content`.  "
   ]
  },
  {
   "cell_type": "code",
   "execution_count": 20,
   "id": "788ca5ec-7d88-4f98-92eb-a241abb2e62e",
   "metadata": {},
   "outputs": [],
   "source": [
    "def get_tokens(sentence, tokenizer):\n",
    "    return tokenizer.apply_chat_template(sentence, return_tensors=\"pt\", add_generation_prompt=True)   "
   ]
  },
  {
   "cell_type": "code",
   "execution_count": 21,
   "id": "9d0da709-57c7-46e3-a2c6-d50c7fe015d3",
   "metadata": {},
   "outputs": [],
   "source": [
    "from src.data.rawdata_processor import bigcodebench_generate_rawprompt_text, build_rawprompt_text_chat, build_rawprompt_text_batch"
   ]
  },
  {
   "cell_type": "code",
   "execution_count": 22,
   "id": "be92bce8-dd7a-42d0-968d-8faa2972e7a3",
   "metadata": {},
   "outputs": [
    {
     "name": "stdout",
     "output_type": "stream",
     "text": [
      "Sort the given list in ascending order based on the degree value of its elements, calculate the cumulative sum of the sorted list, and draw a line chart of the cumulative sum.\n",
      "The function should output with:\n",
      "    tuple: A tuple containing:\n",
      "    numpy array: The cumulative sum of the sorted list.\n",
      "    matplotlib.axes._axes.Axes: The Axes object of the plotted line chart.\n",
      "You should write self-contained code starting with:\n",
      "```\n",
      "import math\n",
      "import numpy as np\n",
      "import matplotlib.pyplot as plt\n",
      "def task_func(list_input):\n",
      "```\n"
     ]
    }
   ],
   "source": [
    "mystring = bigcodebench_generate_rawprompt_text(data[idx], tokenizer, truncate=False)\n",
    "print(mystring)"
   ]
  },
  {
   "cell_type": "code",
   "execution_count": 23,
   "id": "da3e4427-e3d7-4199-92ec-97d78c2eb700",
   "metadata": {},
   "outputs": [
    {
     "data": {
      "text/plain": [
       "[{'role': 'user',\n",
       "  'content': 'Sort the given list in ascending order based on the degree value of its elements, calculate the cumulative sum of the sorted list, and draw a line chart of the cumulative sum.\\nThe function should output with:\\n    tuple: A tuple containing:\\n    numpy array: The cumulative sum of the sorted list.\\n    matplotlib.axes._axes.Axes: The Axes object of the plotted line chart.\\nYou should write self-contained code starting with:\\n```\\nimport math\\nimport numpy as np\\nimport matplotlib.pyplot as plt\\ndef task_func(list_input):\\n```'}]"
      ]
     },
     "execution_count": 23,
     "metadata": {},
     "output_type": "execute_result"
    }
   ],
   "source": [
    "build_rawprompt_text_chat(mystring)"
   ]
  },
  {
   "cell_type": "code",
   "execution_count": 24,
   "id": "ffe5f4eb-e2b8-4151-8fc7-113c2b078635",
   "metadata": {},
   "outputs": [
    {
     "data": {
      "text/plain": [
       "torch.Size([1, 144])"
      ]
     },
     "execution_count": 24,
     "metadata": {},
     "output_type": "execute_result"
    }
   ],
   "source": [
    "get_tokens(build_rawprompt_text_chat(mystring), tokenizer).shape"
   ]
  },
  {
   "cell_type": "code",
   "execution_count": 25,
   "id": "fd9962bd-13c3-4265-8aa7-2051b84a75cc",
   "metadata": {},
   "outputs": [
    {
     "name": "stdout",
     "output_type": "stream",
     "text": [
      "<|begin_of_text|><|start_header_id|>system<|end_header_id|>\n",
      "\n",
      "Cutting Knowledge Date: December 2023\n",
      "Today Date: 10 May 2025\n",
      "\n",
      "<|eot_id|><|start_header_id|>user<|end_header_id|>\n",
      "\n",
      "Sort the given list in ascending order based on the degree value of its elements, calculate the cumulative sum of the sorted list, and draw a line chart of the cumulative sum.\n",
      "The function should output with:\n",
      "    tuple: A tuple containing:\n",
      "    numpy array: The cumulative sum of the sorted list.\n",
      "    matplotlib.axes._axes.Axes: The Axes object of the plotted line chart.\n",
      "You should write self-contained code starting with:\n",
      "```\n",
      "import math\n",
      "import numpy as np\n",
      "import matplotlib.pyplot as plt\n",
      "def task_func(list_input):\n",
      "```<|eot_id|><|start_header_id|>assistant<|end_header_id|>\n",
      "\n",
      "\n"
     ]
    }
   ],
   "source": [
    "print(tokenizer.decode(get_tokens(build_rawprompt_text_batch(mystring, 5), tokenizer)[0]))"
   ]
  },
  {
   "cell_type": "markdown",
   "id": "2c280782-8f6b-46ab-aad4-8657d7e25431",
   "metadata": {},
   "source": [
    "### Analyze lenght of prompts in terms of number of tokens"
   ]
  },
  {
   "cell_type": "code",
   "execution_count": 26,
   "id": "4fe04bb6-e7ff-4abe-a10d-6c633d4d048b",
   "metadata": {
    "scrolled": true
   },
   "outputs": [],
   "source": [
    "conv_len_tokens = [get_tokens(build_rawprompt_text_chat(bigcodebench_generate_rawprompt_text(elem, tokenizer, truncate=False)), \n",
    "                              tokenizer).shape[1] for elem in data]"
   ]
  },
  {
   "cell_type": "code",
   "execution_count": 28,
   "id": "3e463fde-219b-4851-80d0-76c6401de414",
   "metadata": {},
   "outputs": [
    {
     "data": {
      "text/plain": [
       "1140"
      ]
     },
     "execution_count": 28,
     "metadata": {},
     "output_type": "execute_result"
    }
   ],
   "source": [
    "len(conv_len_tokens)"
   ]
  },
  {
   "cell_type": "code",
   "execution_count": 29,
   "id": "9c9a1c49-c858-47e9-91cc-436b1e736c33",
   "metadata": {
    "scrolled": true
   },
   "outputs": [
    {
     "data": {
      "text/plain": [
       "np.int64(1251)"
      ]
     },
     "execution_count": 29,
     "metadata": {},
     "output_type": "execute_result"
    }
   ],
   "source": [
    "np.max(conv_len_tokens)"
   ]
  },
  {
   "cell_type": "code",
   "execution_count": 30,
   "id": "f5f69452-d35e-4cf0-823d-e5575b8c4269",
   "metadata": {},
   "outputs": [
    {
     "name": "stdout",
     "output_type": "stream",
     "text": [
      "MEAN: 179.81842105263158\n",
      "MIN: 87,\n",
      "MAX: 1251\n",
      "P25: 137.00 P50: 164.00 P75: 205.00 P99: 398.44\n"
     ]
    }
   ],
   "source": [
    "print(f\"MEAN: {np.mean(conv_len_tokens)}\\nMIN: {np.min(conv_len_tokens)},\\nMAX: {np.max(conv_len_tokens)}\")\n",
    "print(*[f\"P{p}: {v:.2f}\" for p, v in zip([25, 50, 75, 99], np.percentile(conv_len_tokens, [25, 50, 75, 99]))])"
   ]
  },
  {
   "cell_type": "code",
   "execution_count": 31,
   "id": "9296adba-2167-4e27-808b-52b02441ce4b",
   "metadata": {},
   "outputs": [
    {
     "data": {
      "image/png": "[encoded data removed]",
      "text/plain": [
       "<Figure size 1000x280 with 2 Axes>"
      ]
     },
     "metadata": {},
     "output_type": "display_data"
    }
   ],
   "source": [
    "fig = plotutils.plot_histogram_and_cdf(conv_len_tokens, in_size=(10, 2.8), \n",
    "                             in_title=\"# Input Tokens BigCodeBench\", x_forcdf=0, \n",
    "                                       cdf_forx=[0.25, 0.5, 0.75, 0.95, 0.99],\n",
    "                                      n_bins=80)"
   ]
  },
  {
   "cell_type": "code",
   "execution_count": 32,
   "id": "b43a548e-3201-4321-9da1-4a386cddfeab",
   "metadata": {},
   "outputs": [],
   "source": [
    "fig.savefig(\"../../outputs/images/raw_data_BIGCODEBENCH_ntokens_hist.pdf\", bbox_inches=\"tight\")"
   ]
  },
  {
   "cell_type": "code",
   "execution_count": null,
   "id": "dc126123-fb14-4907-bed5-e3db476a25ec",
   "metadata": {},
   "outputs": [],
   "source": []
  },
  {
   "cell_type": "markdown",
   "id": "c4367284-ebc5-42fd-aa20-18ba40c1ae70",
   "metadata": {},
   "source": [
    "# Split the datasets"
   ]
  },
  {
   "cell_type": "code",
   "execution_count": 25,
   "id": "1895ca59-f6bf-46d3-8635-81c9a1437b67",
   "metadata": {},
   "outputs": [],
   "source": [
    "SEED = 42\n",
    "MAXIMUM = 2000"
   ]
  },
  {
   "cell_type": "code",
   "execution_count": 26,
   "id": "953b1192-e8e3-407e-b3e5-3409e2d973ba",
   "metadata": {},
   "outputs": [],
   "source": [
    "np.random.seed(SEED)"
   ]
  },
  {
   "cell_type": "code",
   "execution_count": 27,
   "id": "d3038856-a342-4d04-bb58-ac9e9fa1e0a2",
   "metadata": {},
   "outputs": [],
   "source": [
    "tmp = np.arange(len(data))\n",
    "np.random.shuffle(tmp)"
   ]
  },
  {
   "cell_type": "code",
   "execution_count": 28,
   "id": "fa82cc37-ce0d-40e3-8896-2c8485b1f6cb",
   "metadata": {},
   "outputs": [
    {
     "name": "stdout",
     "output_type": "stream",
     "text": [
      "SELECTING 1140 samples randomly from dataset\n"
     ]
    }
   ],
   "source": [
    "idx_subset = min(MAXIMUM, len(data))\n",
    "tmp = tmp[0:idx_subset]\n",
    "print(f\"SELECTING {len(tmp)} samples randomly from dataset\")"
   ]
  },
  {
   "cell_type": "code",
   "execution_count": 29,
   "id": "94b22e64-ad3f-4488-98f7-7aa82b1c157e",
   "metadata": {},
   "outputs": [],
   "source": [
    "train_indxs, val_indxs, test_indxs = np.split(tmp, [int(0.7*len(tmp)), int(0.9*len(tmp))])"
   ]
  },
  {
   "cell_type": "code",
   "execution_count": 30,
   "id": "5b7796d9-0783-4394-a961-2235447c8ea2",
   "metadata": {},
   "outputs": [
    {
     "name": "stdout",
     "output_type": "stream",
     "text": [
      "Selecting 798 training, 228 validation, and 114 test samples\n"
     ]
    }
   ],
   "source": [
    "print(f\"Selecting {len(train_indxs)} training, {len(val_indxs)} validation, and {len(test_indxs)} test samples\")"
   ]
  },
  {
   "cell_type": "code",
   "execution_count": 31,
   "id": "e8c2f6b8-6e1b-4291-b7ec-cafbf2fa7e2b",
   "metadata": {},
   "outputs": [],
   "source": [
    "data_train = [data[int(i)] for i in train_indxs]\n",
    "data_val = [data[int(i)] for i in val_indxs]\n",
    "data_test = [data[int(i)] for i in test_indxs]"
   ]
  },
  {
   "cell_type": "code",
   "execution_count": 32,
   "id": "02a3f700-5034-4b58-a01e-60898124c82d",
   "metadata": {},
   "outputs": [
    {
     "name": "stdout",
     "output_type": "stream",
     "text": [
      "Percentage of training data: 0.7\n",
      "Percentage of validation data: 0.2\n",
      "Percentage of test data: 0.1\n"
     ]
    }
   ],
   "source": [
    "# Check if the lengths agree\n",
    "print(f\"Percentage of training data: {round(len(data_train)/len(data), 4)}\")\n",
    "print(f\"Percentage of validation data: {round(len(data_val)/len(data), 4)}\")\n",
    "print(f\"Percentage of test data: {round(len(data_test)/len(data), 4)}\")"
   ]
  },
  {
   "cell_type": "code",
   "execution_count": null,
   "id": "379b3b04-40a2-426e-91eb-f2c26a47e77d",
   "metadata": {},
   "outputs": [],
   "source": []
  },
  {
   "cell_type": "markdown",
   "id": "e987bc01-ad9a-4b75-bceb-f8061e657ef7",
   "metadata": {},
   "source": [
    "## Save Datasets"
   ]
  },
  {
   "cell_type": "code",
   "execution_count": 33,
   "id": "7a640398-fed1-4bb0-b4cc-1993be605f48",
   "metadata": {},
   "outputs": [],
   "source": [
    "def save_data(dataset, path):\n",
    "    with open(path, 'w') as f:\n",
    "        json.dump(dataset, f)\n",
    "    print(f\"Dataset saved to path {path}\")"
   ]
  },
  {
   "cell_type": "code",
   "execution_count": 34,
   "id": "9a0688b0-4cb7-480f-b099-a25982bec695",
   "metadata": {},
   "outputs": [],
   "source": [
    "save_path_src = \"../raw_instruct/BigCodeBench/raw_BigCodeBench\""
   ]
  },
  {
   "cell_type": "code",
   "execution_count": 35,
   "id": "2085cec1-22dc-4f9f-9ed2-1af71ef6385a",
   "metadata": {},
   "outputs": [
    {
     "name": "stdout",
     "output_type": "stream",
     "text": [
      "Dataset saved to path ../raw_instruct/BigCodeBench/raw_BigCodeBench_train.json\n"
     ]
    }
   ],
   "source": [
    "save_data(data_train, save_path_src + \"_train.json\")"
   ]
  },
  {
   "cell_type": "code",
   "execution_count": 36,
   "id": "8f25e300-f691-4d69-a42a-bb9058d504e5",
   "metadata": {},
   "outputs": [
    {
     "name": "stdout",
     "output_type": "stream",
     "text": [
      "Dataset saved to path ../raw_instruct/BigCodeBench/raw_BigCodeBench_validate.json\n"
     ]
    }
   ],
   "source": [
    "save_data(data_val, save_path_src + \"_validate.json\")"
   ]
  },
  {
   "cell_type": "code",
   "execution_count": 37,
   "id": "30fbf2ed-f6ba-4f5b-a1c8-a93da801bba4",
   "metadata": {},
   "outputs": [
    {
     "name": "stdout",
     "output_type": "stream",
     "text": [
      "Dataset saved to path ../raw_instruct/BigCodeBench/raw_BigCodeBench_test.json\n"
     ]
    }
   ],
   "source": [
    "save_data(data_test, save_path_src + \"_test.json\")"
   ]
  },
  {
   "cell_type": "code",
   "execution_count": null,
   "id": "b9169ae3-fd43-4d5a-a013-35269d3ed49c",
   "metadata": {},
   "outputs": [],
   "source": []
  },
  {
   "cell_type": "code",
   "execution_count": null,
   "id": "ffe14e26-a1e5-40c9-a642-82cd75171e7d",
   "metadata": {},
   "outputs": [],
   "source": []
  },
  {
   "cell_type": "code",
   "execution_count": null,
   "id": "a0b8b99b-b5e9-4879-8a0c-cbc1e8a4758b",
   "metadata": {},
   "outputs": [],
   "source": []
  },
  {
   "cell_type": "code",
   "execution_count": null,
   "id": "2074a115-4852-4863-8275-4d6b29d9f376",
   "metadata": {},
   "outputs": [],
   "source": []
  },
  {
   "cell_type": "code",
   "execution_count": null,
   "id": "2741c1c2-6fdd-4a4a-a0a1-418fa0b88aa3",
   "metadata": {},
   "outputs": [],
   "source": []
  },
  {
   "cell_type": "code",
   "execution_count": null,
   "id": "b0071034-45a6-4c2b-955a-caf49ad73be0",
   "metadata": {},
   "outputs": [],
   "source": []
  },
  {
   "cell_type": "code",
   "execution_count": null,
   "id": "85b0d142-1efc-43fe-bdec-903c3a88201f",
   "metadata": {},
   "outputs": [],
   "source": []
  },
  {
   "cell_type": "code",
   "execution_count": null,
   "id": "74e40e0f-8577-4784-a284-ca80545c91dc",
   "metadata": {},
   "outputs": [],
   "source": []
  },
  {
   "cell_type": "code",
   "execution_count": null,
   "id": "57571b37-2d60-4c0d-a8ff-68567920f34c",
   "metadata": {},
   "outputs": [],
   "source": []
  }
 ],
 "metadata": {
  "kernelspec": {
   "display_name": "Python 3 (ipykernel)",
   "language": "python",
   "name": "python3"
  },
  "language_info": {
   "codemirror_mode": {
    "name": "ipython",
    "version": 3
   },
   "file_extension": ".py",
   "mimetype": "text/x-python",
   "name": "python",
   "nbconvert_exporter": "python",
   "pygments_lexer": "ipython3",
   "version": "3.12.9"
  }
 },
 "nbformat": 4,
 "nbformat_minor": 5
}
