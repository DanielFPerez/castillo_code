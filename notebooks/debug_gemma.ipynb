{
 "cells": [
  {
   "cell_type": "code",
   "execution_count": 1,
   "id": "90ebe521-c597-4800-9234-280ced28aa66",
   "metadata": {},
   "outputs": [],
   "source": [
    "from transformers import AutoModelForCausalLM, AutoTokenizer, LlamaForCausalLM, GenerationConfig, AutoProcessor, Gemma3ForConditionalGeneration\n",
    "import accelerate\n",
    "import torch\n",
    "import csv\n",
    "import time\n",
    "import os\n",
    "import json\n",
    "import inspect\n",
    "\n",
    "import sys"
   ]
  },
  {
   "cell_type": "code",
   "execution_count": 2,
   "id": "9b9c4140-dc53-4d8d-ac56-52e687fe6eba",
   "metadata": {},
   "outputs": [],
   "source": [
    "from transformers import logging"
   ]
  },
  {
   "cell_type": "code",
   "execution_count": 3,
   "id": "25c51c5a-6769-4e60-844d-89cec0352478",
   "metadata": {},
   "outputs": [],
   "source": [
    "logging.disable_progress_bar()"
   ]
  },
  {
   "cell_type": "code",
   "execution_count": 4,
   "id": "82a03375-6753-41da-a54a-4427d2bdac00",
   "metadata": {},
   "outputs": [],
   "source": [
    "#os.environ['CUDA_LAUNCH_BLOCKING'] = '1'"
   ]
  },
  {
   "cell_type": "code",
   "execution_count": 5,
   "id": "2d3875bd-3b33-465d-84d5-69f97230b497",
   "metadata": {},
   "outputs": [],
   "source": [
    "access_tk = os.getenv(\"HF_API_TOKEN\")\n",
    "device_str = \"cuda:0\"\n",
    "#device_str = \"auto\"\n",
    "\n",
    "model_name = \"google/gemma-3-4b-it\"\n",
    "\n",
    "padding_side='left'\n",
    "\n",
    "#model = AutoModelForCausalLM.from_pretrained(model_name, token=access_tk, device_map=device_str, torch_dtype=torch.float16)\n",
    "#tokenizer = AutoTokenizer.from_pretrained(model_name, token=access_tk, device_map=device_str, torch_dtype=torch.float16, padding_side=padding_side)\n",
    "\n",
    "model = AutoModelForCausalLM.from_pretrained(model_name, token=access_tk, device_map=device_str, torch_dtype=torch.bfloat16)\n",
    "tokenizer = AutoTokenizer.from_pretrained(model_name, token=access_tk, device_map=device_str, torch_dtype=torch.bfloat16, padding_side=padding_side)\n",
    "\n",
    "\n"
   ]
  },
  {
   "cell_type": "code",
   "execution_count": 6,
   "id": "f6f288f9-6c32-42f3-9108-21b0e85b8c9e",
   "metadata": {},
   "outputs": [
    {
     "data": {
      "text/plain": [
       "False"
      ]
     },
     "execution_count": 6,
     "metadata": {},
     "output_type": "execute_result"
    }
   ],
   "source": [
    "model.config.is_encoder_decoder"
   ]
  },
  {
   "cell_type": "code",
   "execution_count": 8,
   "id": "5a88ca14-bcc8-4959-b3a2-b300b6b55b16",
   "metadata": {},
   "outputs": [
    {
     "data": {
      "text/plain": [
       "50"
      ]
     },
     "execution_count": 8,
     "metadata": {},
     "output_type": "execute_result"
    }
   ],
   "source": [
    "model.config.top_k"
   ]
  },
  {
   "cell_type": "code",
   "execution_count": 9,
   "id": "ee3a2a03-9748-4f76-a42f-731f84e5c1f0",
   "metadata": {},
   "outputs": [
    {
     "data": {
      "text/plain": [
       "131072"
      ]
     },
     "execution_count": 9,
     "metadata": {},
     "output_type": "execute_result"
    }
   ],
   "source": [
    "model.config.text_config.max_position_embeddings"
   ]
  },
  {
   "cell_type": "code",
   "execution_count": 10,
   "id": "686ba278-f6a0-412a-958c-9a4ea9159a82",
   "metadata": {},
   "outputs": [
    {
     "data": {
      "text/plain": [
       "'<eos>'"
      ]
     },
     "execution_count": 10,
     "metadata": {},
     "output_type": "execute_result"
    }
   ],
   "source": [
    "tokenizer.eos_token"
   ]
  },
  {
   "cell_type": "code",
   "execution_count": 11,
   "id": "12d896e2-6ee4-41ea-92fa-cbcd7f92feea",
   "metadata": {},
   "outputs": [],
   "source": [
    "tokenizer.pad_token = tokenizer.eos_token\n",
    "add_generation_prompt = True\n",
    "padding = True\n",
    "return_tensors = \"pt\""
   ]
  },
  {
   "cell_type": "code",
   "execution_count": 12,
   "id": "b7380632-5c38-443f-a191-67a6dc0c141e",
   "metadata": {},
   "outputs": [],
   "source": [
    "generation_config = GenerationConfig.from_pretrained(model_name, token=access_tk)\n",
    "\n",
    "generation_config.output_hidden_states = True\n",
    "generation_config.return_dict_in_generate = True\n",
    "#generation_config.output_logits = True\n",
    "generation_config.max_new_tokens = 10000\n",
    "generation_config.pad_token_id = tokenizer.pad_token_id\n",
    "#generation_config.use_cache = False"
   ]
  },
  {
   "cell_type": "code",
   "execution_count": 13,
   "id": "ecbbf7d6-480a-4e19-af79-982f75b0f595",
   "metadata": {},
   "outputs": [
    {
     "data": {
      "text/plain": [
       "64"
      ]
     },
     "execution_count": 13,
     "metadata": {},
     "output_type": "execute_result"
    }
   ],
   "source": [
    "generation_config.top_k"
   ]
  },
  {
   "cell_type": "code",
   "execution_count": 14,
   "id": "0702a604-6479-4180-adae-5c13dd4584f6",
   "metadata": {},
   "outputs": [
    {
     "name": "stdout",
     "output_type": "stream",
     "text": [
      "GEMMA GenerationConfig. \n",
      "\n",
      " Generation Strategy: \n",
      " \t- do_sample: True \n",
      " \t- num_beams: 1 \n",
      "\n",
      " Model Output Logit manipulation: \n",
      " \t- top-k: 64 \n",
      " \t- top-p: 0.95 \n",
      " \t- min-p: None \n",
      " \t- temperature: 1.0\n",
      "\n"
     ]
    }
   ],
   "source": [
    "print(f\"GEMMA GenerationConfig. \\n\\n \\\n",
    "Generation Strategy: \\n \\\n",
    "\\t- do_sample: {generation_config.do_sample} \\n \\\n",
    "\\t- num_beams: {generation_config.num_beams} \\n\\n \\\n",
    "Model Output Logit manipulation: \\n \\\n",
    "\\t- top-k: {generation_config.top_k} \\n \\\n",
    "\\t- top-p: {generation_config.top_p} \\n \\\n",
    "\\t- min-p: {generation_config.min_p} \\n \\\n",
    "\\t- temperature: {generation_config.temperature}\\n\")"
   ]
  },
  {
   "cell_type": "code",
   "execution_count": 15,
   "id": "eea84a2e-50ab-4498-a8cc-ba88fba52b54",
   "metadata": {},
   "outputs": [],
   "source": [
    "generation_config.do_sample = True"
   ]
  },
  {
   "cell_type": "code",
   "execution_count": null,
   "id": "0e6b97e5-67a4-4f13-87e1-3426e8def925",
   "metadata": {},
   "outputs": [],
   "source": []
  },
  {
   "cell_type": "code",
   "execution_count": 16,
   "id": "75ce9982-6d98-44a4-a092-752a30924e7b",
   "metadata": {},
   "outputs": [],
   "source": [
    "sentences = [{\"role\": \"user\", \"content\": \"What is serendipity? Explain in maximum one paragraph.\"}]"
   ]
  },
  {
   "cell_type": "code",
   "execution_count": 17,
   "id": "433c434a-3a19-47f9-9670-6a54c9a4b190",
   "metadata": {},
   "outputs": [],
   "source": [
    "str_tok = tokenizer.apply_chat_template(sentences, padding=padding, return_tensors=return_tensors, add_generation_prompt=add_generation_prompt)[0]"
   ]
  },
  {
   "cell_type": "code",
   "execution_count": 18,
   "id": "9a986294-f20e-42e4-97fa-d8c0b76353ac",
   "metadata": {},
   "outputs": [
    {
     "data": {
      "text/plain": [
       "tensor([[     2,    105,   2364,    107,   3689,    563, 227031,    665, 236881,\n",
       "          42085,    528,   5783,    886,  15649, 236761,    106,    107,    105,\n",
       "           4368,    107]])"
      ]
     },
     "execution_count": 18,
     "metadata": {},
     "output_type": "execute_result"
    }
   ],
   "source": [
    "tokenizer.apply_chat_template(sentences, padding=padding, return_tensors=return_tensors, add_generation_prompt=add_generation_prompt)"
   ]
  },
  {
   "cell_type": "code",
   "execution_count": 19,
   "id": "950b1bf0-44e6-4cd0-9c79-9b58b24a7ec7",
   "metadata": {},
   "outputs": [
    {
     "name": "stdout",
     "output_type": "stream",
     "text": [
      "<bos><start_of_turn>user\n",
      "What is serendipity? Explain in maximum one paragraph.<end_of_turn>\n",
      "<start_of_turn>model\n",
      "\n"
     ]
    }
   ],
   "source": [
    "print(tokenizer.decode(tokenizer.apply_chat_template(sentences, \n",
    "                                                     padding=padding, \n",
    "                                                     return_tensors=return_tensors, \n",
    "                                                     add_generation_prompt=add_generation_prompt)[0]))"
   ]
  },
  {
   "cell_type": "code",
   "execution_count": null,
   "id": "4898269a-cd77-47ca-9448-257bfe8cfd69",
   "metadata": {},
   "outputs": [],
   "source": []
  },
  {
   "cell_type": "code",
   "execution_count": 20,
   "id": "7dd19b5d-675e-4c0d-a771-98318d3e3b47",
   "metadata": {},
   "outputs": [],
   "source": [
    "sentences = [[{\"role\": \"user\", \"content\": \"Hi ChatGPT. Do you think you could run a dungeons and dragons campaign for me that I can play as you do it? You should be able to generate the story as it goes. 3 / 3\"}]]*10"
   ]
  },
  {
   "cell_type": "code",
   "execution_count": 21,
   "id": "4904e22b-fce1-4aea-998d-64ac50c43fb5",
   "metadata": {},
   "outputs": [],
   "source": [
    "sentences=[[{'role': 'user', \n",
    "             'content': \"When did Virgin Australia start operating? Answer in 3 sentences.\\nContext: Virgin Australia, the trading name of \" \\\n",
    "             \"Virgin Australia Airlines Pty Ltd, is an Australian-based airline. It is the largest airline by fleet size to use the Virgin \"\\\n",
    "             \"brand. It commenced services on 31 August 2000 as Virgin Blue, with two aircraft on a single route. It suddenly found itself as\"\\\n",
    "             \"a major airline in Australia's domestic market after the collapse of Ansett Australia in September 2001. The airline has since grown\"\\\n",
    "             \"to directly serve 32 cities in Australia, from hubs in Brisbane, Melbourne and Sydney.\"}]]*10"
   ]
  },
  {
   "cell_type": "code",
   "execution_count": 22,
   "id": "d69fbfb0-dd44-4ae9-be4f-6a59042de866",
   "metadata": {},
   "outputs": [],
   "source": [
    "inputs = tokenizer.apply_chat_template(sentences, padding=padding, return_tensors=return_tensors, \n",
    "                                       tokenize=True,\n",
    "                                       add_generation_prompt=add_generation_prompt)\n",
    "attention_mask = torch.ones_like(inputs)"
   ]
  },
  {
   "cell_type": "code",
   "execution_count": 23,
   "id": "0df6d03d-2b96-48d1-a349-bad96866f398",
   "metadata": {},
   "outputs": [
    {
     "data": {
      "text/plain": [
       "torch.Size([10, 136])"
      ]
     },
     "execution_count": 23,
     "metadata": {},
     "output_type": "execute_result"
    }
   ],
   "source": [
    "inputs.shape"
   ]
  },
  {
   "cell_type": "code",
   "execution_count": 24,
   "id": "d007ff4c-3584-482a-ba9c-bae2e691265d",
   "metadata": {},
   "outputs": [
    {
     "name": "stdout",
     "output_type": "stream",
     "text": [
      "<bos><start_of_turn>user\n",
      "When did Virgin Australia start operating? Answer in 3 sentences.\n",
      "Context: Virgin Australia, the trading name of Virgin Australia Airlines Pty Ltd, is an Australian-based airline. It is the largest airline by fleet size to use the Virgin brand. It commenced services on 31 August 2000 as Virgin Blue, with two aircraft on a single route. It suddenly found itself asa major airline in Australia's domestic market after the collapse of Ansett Australia in September 2001. The airline has since grownto directly serve 32 cities in Australia, from hubs in Brisbane, Melbourne and Sydney.<end_of_turn>\n",
      "<start_of_turn>model\n",
      "\n"
     ]
    }
   ],
   "source": [
    "print(tokenizer.batch_decode(inputs)[3])"
   ]
  },
  {
   "cell_type": "code",
   "execution_count": null,
   "id": "a34400e2-46ef-4daa-ab8f-1c1c42e862fe",
   "metadata": {},
   "outputs": [],
   "source": []
  },
  {
   "cell_type": "code",
   "execution_count": 25,
   "id": "94d52017-454c-4de2-81a9-ff5783241d3c",
   "metadata": {},
   "outputs": [
    {
     "data": {
      "text/plain": [
       "device(type='cuda', index=0)"
      ]
     },
     "execution_count": 25,
     "metadata": {},
     "output_type": "execute_result"
    }
   ],
   "source": [
    "model.device"
   ]
  },
  {
   "cell_type": "code",
   "execution_count": 26,
   "id": "d4480589-33f1-47c6-b98e-d5c3817b25e6",
   "metadata": {},
   "outputs": [
    {
     "data": {
      "text/plain": [
       "<torch.autograd.anomaly_mode.set_detect_anomaly at 0x7f0f0f6797c0>"
      ]
     },
     "execution_count": 26,
     "metadata": {},
     "output_type": "execute_result"
    }
   ],
   "source": [
    "torch.autograd.set_detect_anomaly(True)"
   ]
  },
  {
   "cell_type": "code",
   "execution_count": null,
   "id": "149aa673-5cae-4183-9a55-5ac83c2203c8",
   "metadata": {},
   "outputs": [],
   "source": []
  },
  {
   "cell_type": "code",
   "execution_count": 27,
   "id": "83059682-281c-412b-8fc4-8b95281f7eb5",
   "metadata": {},
   "outputs": [],
   "source": [
    "# test_input = tokenizer.tokenizer(\"Hello world\", return_tensors=\"pt\").to(model.device)\n",
    "# test_output = model.generate(**test_input, generation_config=generation_config)\n",
    "# print(\"Test generation output:\", tokenizer.decode(test_output[0]))"
   ]
  },
  {
   "cell_type": "code",
   "execution_count": null,
   "id": "5108addb-e543-4a6c-8897-8999b74a472b",
   "metadata": {},
   "outputs": [],
   "source": [
    "\n"
   ]
  },
  {
   "cell_type": "code",
   "execution_count": null,
   "id": "4cd6f40f-943a-4577-b771-7ab362bf15cd",
   "metadata": {},
   "outputs": [],
   "source": []
  },
  {
   "cell_type": "code",
   "execution_count": 28,
   "id": "5a9eb5ee-9d2d-46c3-a0b8-3821332fff74",
   "metadata": {},
   "outputs": [],
   "source": [
    "# with torch.autograd.set_detect_anomaly(True):\n",
    "#     t_start = time.time()\n",
    "#     inputs_dev = inputs.to(model.device)\n",
    "#     attention_mask_dev = attention_mask.to(model.device)\n",
    "#     out = model(input_ids=inputs_dev, attention_mask=attention_mask_dev)\n",
    "#     logits = out.logits\n",
    "# print(f\"Generation took {time.time()-t_start} sec\")\n",
    "# print(\"Logits contains NaNs?\", torch.isnan(logits).any().item())\n",
    "# print(\"Logits contains Infs?\", torch.isinf(logits).any().item())\n",
    "# print(\"Logits min/max:\", logits.min().item(), logits.max().item())"
   ]
  },
  {
   "cell_type": "code",
   "execution_count": null,
   "id": "7a8d5e2a-6ccd-4f19-a5ea-d5bfbbdd5da9",
   "metadata": {},
   "outputs": [],
   "source": []
  },
  {
   "cell_type": "code",
   "execution_count": null,
   "id": "559f7d13-d97d-4403-aaa0-b230104b8d5c",
   "metadata": {},
   "outputs": [],
   "source": []
  },
  {
   "cell_type": "code",
   "execution_count": 27,
   "id": "f446353c-4095-404c-81a6-8d3f4a43a5f5",
   "metadata": {},
   "outputs": [
    {
     "name": "stdout",
     "output_type": "stream",
     "text": [
      "Generation took 5.9947168827056885 sec\n"
     ]
    }
   ],
   "source": [
    "t_start = time.time()\n",
    "inputs_dev = inputs.to(model.device)\n",
    "attention_mask_dev = attention_mask.to(model.device)\n",
    "output = model.generate(inputs_dev, attention_mask=attention_mask_dev, generation_config=generation_config)\n",
    "print(f\"Generation took {time.time()-t_start} sec\")"
   ]
  },
  {
   "cell_type": "code",
   "execution_count": 28,
   "id": "539b7c90-45c0-4d3d-abd8-343783cb9e41",
   "metadata": {},
   "outputs": [
    {
     "data": {
      "text/plain": [
       "transformers.generation.utils.GenerateDecoderOnlyOutput"
      ]
     },
     "execution_count": 28,
     "metadata": {},
     "output_type": "execute_result"
    }
   ],
   "source": [
    "type(output)"
   ]
  },
  {
   "cell_type": "code",
   "execution_count": 29,
   "id": "5798687a-3e9c-40da-8a30-7c8cff71f552",
   "metadata": {},
   "outputs": [
    {
     "data": {
      "text/plain": [
       "dict_keys(['sequences', 'scores', 'logits', 'attentions', 'hidden_states', 'past_key_values'])"
      ]
     },
     "execution_count": 29,
     "metadata": {},
     "output_type": "execute_result"
    }
   ],
   "source": [
    "output.__dict__.keys()"
   ]
  },
  {
   "cell_type": "code",
   "execution_count": 30,
   "id": "ce073e0f-e6b6-4f15-a927-c010fa269077",
   "metadata": {},
   "outputs": [
    {
     "data": {
      "text/plain": [
       "torch.Size([10, 213])"
      ]
     },
     "execution_count": 30,
     "metadata": {},
     "output_type": "execute_result"
    }
   ],
   "source": [
    "output[0].shape"
   ]
  },
  {
   "cell_type": "code",
   "execution_count": 31,
   "id": "cde6158a-df6a-4a6e-aa92-693d18871e54",
   "metadata": {},
   "outputs": [
    {
     "data": {
      "text/plain": [
       "77"
      ]
     },
     "execution_count": 31,
     "metadata": {},
     "output_type": "execute_result"
    }
   ],
   "source": [
    "output[0].shape[1] - inputs.shape[1]"
   ]
  },
  {
   "cell_type": "code",
   "execution_count": 32,
   "id": "d5d635cc-e528-4812-8b27-4d7f554f768f",
   "metadata": {},
   "outputs": [
    {
     "data": {
      "text/plain": [
       "77"
      ]
     },
     "execution_count": 32,
     "metadata": {},
     "output_type": "execute_result"
    }
   ],
   "source": [
    "len(output['hidden_states'])"
   ]
  },
  {
   "cell_type": "code",
   "execution_count": 33,
   "id": "b1d6b63f-b096-4ffe-9104-bcfadfd20cb0",
   "metadata": {},
   "outputs": [
    {
     "data": {
      "text/plain": [
       "torch.Size([10, 136, 2560])"
      ]
     },
     "execution_count": 33,
     "metadata": {},
     "output_type": "execute_result"
    }
   ],
   "source": [
    "output['hidden_states'][0][0].shape"
   ]
  },
  {
   "cell_type": "code",
   "execution_count": 34,
   "id": "2584b41b-826d-4f94-8fe9-04b4edf97ab2",
   "metadata": {},
   "outputs": [
    {
     "data": {
      "text/plain": [
       "6.9632"
      ]
     },
     "execution_count": 34,
     "metadata": {},
     "output_type": "execute_result"
    }
   ],
   "source": [
    "output['hidden_states'][0][0].element_size() * output['hidden_states'][0][0].nelement() / 1e6"
   ]
  },
  {
   "cell_type": "code",
   "execution_count": 35,
   "id": "91ac09b4-b86c-4bbf-9273-27cb35e81161",
   "metadata": {},
   "outputs": [
    {
     "data": {
      "text/plain": [
       "torch.int64"
      ]
     },
     "execution_count": 35,
     "metadata": {},
     "output_type": "execute_result"
    }
   ],
   "source": [
    "output['sequences'].dtype"
   ]
  },
  {
   "cell_type": "code",
   "execution_count": 36,
   "id": "589b6d42-0b8d-4801-8fc5-ef19bf63cae9",
   "metadata": {},
   "outputs": [],
   "source": [
    "def get_len_out_tokens_batch(input_size, output_seq, tokenizer):\n",
    "    assert type(output_seq) == torch.Tensor, \"ERROR: output must a tensor representing the batch of token outputs\"\n",
    "    tmp_output = output_seq[:,input_size:]\n",
    "    # Create a tensor with same size as output filled with the pad_token_id\n",
    "    eos_mask = torch.ones(tmp_output.shape, dtype=tmp_output.dtype).to(tmp_output.device)*tokenizer.pad_token_id\n",
    "    # Return sum of all values of output along batch axis\n",
    "    return torch.sum(tmp_output != eos_mask, dim=1) + 1"
   ]
  },
  {
   "cell_type": "code",
   "execution_count": 37,
   "id": "579a3a1e-d0df-4242-ab26-4812b1cbff44",
   "metadata": {},
   "outputs": [
    {
     "name": "stdout",
     "output_type": "stream",
     "text": [
      "Length of the outputs (in # of tokens):\n",
      "tensor([78, 66, 67, 65, 78, 65, 71, 63, 67, 66], device='cuda:0')\n"
     ]
    }
   ],
   "source": [
    "out_lengths = get_len_out_tokens_batch(inputs.shape[1], output['sequences'], tokenizer)\n",
    "print(f\"Length of the outputs (in # of tokens):\\n{out_lengths}\")"
   ]
  },
  {
   "cell_type": "code",
   "execution_count": 38,
   "id": "bc4ccb01-0285-4628-afe7-6b67c1ce0444",
   "metadata": {},
   "outputs": [],
   "source": [
    "output_str = tokenizer.batch_decode(output['sequences'][:, inputs.shape[-1]:], skip_special_tokens=True)"
   ]
  },
  {
   "cell_type": "code",
   "execution_count": 39,
   "id": "ec97d1d9-0be9-4351-8db6-6263eabec547",
   "metadata": {},
   "outputs": [
    {
     "name": "stdout",
     "output_type": "stream",
     "text": [
      "ELEMENT 0: \n",
      "Virgin Australia, initially known as Virgin Blue, began operations on August 31, 2000. It started with just two aircraft and a single route, quickly establishing itself as a new player in the Australian domestic market. Following the collapse of Ansett Australia in 2001, the airline experienced significant growth and now serves 32 cities across Australia.\n",
      "SIZE OF ELEM: 78\n",
      "============================================================\n",
      "\n",
      "ELEMENT 1: \n",
      "Virgin Australia, initially known as Virgin Blue, began operations on August 31, 2000. It initially launched with just two aircraft and a single route. Following the collapse of Ansett Australia in 2001, the airline quickly grew to become a significant player in the Australian domestic market.\n",
      "SIZE OF ELEM: 66\n",
      "============================================================\n",
      "\n",
      "ELEMENT 2: \n",
      "Virgin Australia, originally known as Virgin Blue, began operations on August 31, 2000. Initially, it launched with just two aircraft and a single route. Following the collapse of Ansett Australia in 2001, the airline rapidly grew to become a significant player in the Australian domestic market.\n",
      "SIZE OF ELEM: 67\n",
      "============================================================\n",
      "\n",
      "ELEMENT 3: \n",
      "Virgin Australia, initially known as Virgin Blue, began operations on August 31, 2000. It started with just two aircraft and a single route. Following the collapse of Ansett Australia in 2001, the airline quickly grew to become a significant player in the Australian domestic market.\n",
      "SIZE OF ELEM: 65\n",
      "============================================================\n",
      "\n",
      "ELEMENT 4: \n",
      "Virgin Australia, initially known as Virgin Blue, began operations on August 31, 2000. It launched with just two aircraft and a single route, quickly establishing itself as a significant player in the Australian domestic market. Following the collapse of Ansett Australia in 2001, the airline experienced rapid growth and now serves 32 cities across Australia.\n",
      "SIZE OF ELEM: 78\n",
      "============================================================\n",
      "\n",
      "ELEMENT 5: \n",
      "Virgin Australia, initially known as Virgin Blue, began operations on August 31, 2000. It initially launched with just two aircraft on a single route. Following the collapse of Ansett Australia in 2001, the airline rapidly expanded and now serves 32 cities across Australia.\n",
      "SIZE OF ELEM: 65\n",
      "============================================================\n",
      "\n",
      "ELEMENT 6: \n",
      "Virgin Australia, initially known as Virgin Blue, began operations on August 31, 2000. The airline initially launched with just two aircraft on a single route. Following the collapse of Ansett Australia in 2001, Virgin Blue quickly rose to prominence and has since expanded to serve 32 cities across Australia.\n",
      "SIZE OF ELEM: 71\n",
      "============================================================\n",
      "\n",
      "ELEMENT 7: \n",
      "Virgin Australia, initially known as Virgin Blue, began operations on August 31, 2000. It started with just two aircraft and a single route. Following the Ansett Australia collapse in 2001, the airline rapidly expanded and now serves 32 cities across Australia.\n",
      "SIZE OF ELEM: 63\n",
      "============================================================\n",
      "\n",
      "ELEMENT 8: \n",
      "Virgin Australia, originally known as Virgin Blue, began operations on August 31, 2000. Initially, it launched with just two aircraft and a single route. Following the collapse of Ansett Australia in 2001, the airline rapidly grew to become a significant player in the Australian domestic market.\n",
      "SIZE OF ELEM: 67\n",
      "============================================================\n",
      "\n",
      "ELEMENT 9: \n",
      "Virgin Australia, initially known as Virgin Blue, began operations on August 31, 2000. It initially launched with just two aircraft and a single route. Following the collapse of Ansett Australia in 2001, the airline quickly grew to become a significant player in the Australian domestic market.\n",
      "SIZE OF ELEM: 66\n",
      "============================================================\n",
      "\n"
     ]
    }
   ],
   "source": [
    "for i,elem in enumerate(output_str):\n",
    "    print(f\"ELEMENT {i}: \\n{elem}\")\n",
    "    print(f\"SIZE OF ELEM: {out_lengths[i]}\")\n",
    "    print(\"============================================================\\n\")"
   ]
  },
  {
   "cell_type": "code",
   "execution_count": 40,
   "id": "926acff2-3800-4e32-bf9f-8d2d352ff423",
   "metadata": {},
   "outputs": [
    {
     "data": {
      "text/plain": [
       "3"
      ]
     },
     "execution_count": 40,
     "metadata": {},
     "output_type": "execute_result"
    }
   ],
   "source": [
    "torch.argmax(out_lengths).item()"
   ]
  },
  {
   "cell_type": "code",
   "execution_count": 41,
   "id": "b0af0c13-0cf9-4e29-a18d-eace9ad1b6ee",
   "metadata": {
    "jupyter": {
     "source_hidden": true
    }
   },
   "outputs": [
    {
     "data": {
      "text/plain": [
       "0"
      ]
     },
     "execution_count": 41,
     "metadata": {},
     "output_type": "execute_result"
    }
   ],
   "source": [
    "torch.argmin(out_lengths).item()"
   ]
  },
  {
   "cell_type": "code",
   "execution_count": 42,
   "id": "e56a686c-b3c5-4b38-9bad-14ed295b344f",
   "metadata": {},
   "outputs": [
    {
     "data": {
      "text/plain": [
       "'Virgin Australia, originally known as Virgin Blue, began operations on August 31, 2000. Initially, it launched with just two aircraft and a single route. Following the collapse of Ansett Australia in 2001, the airline quickly grew to become a significant player in the Australian domestic market.'"
      ]
     },
     "execution_count": 42,
     "metadata": {},
     "output_type": "execute_result"
    }
   ],
   "source": [
    "max_idx = torch.argmax(out_lengths).item()\n",
    "tokenizer.decode(output['sequences'][max_idx][inputs.shape[1]:out_lengths[max_idx].item()-1])"
   ]
  },
  {
   "cell_type": "code",
   "execution_count": 43,
   "id": "bc5bba20-c805-4867-b394-2270a24bd108",
   "metadata": {},
   "outputs": [
    {
     "data": {
      "text/plain": [
       "3"
      ]
     },
     "execution_count": 43,
     "metadata": {},
     "output_type": "execute_result"
    }
   ],
   "source": [
    "torch.argmax(out_lengths).item()"
   ]
  },
  {
   "cell_type": "code",
   "execution_count": 44,
   "id": "080992fc-e8a2-4728-9d8b-54291cc8010a",
   "metadata": {},
   "outputs": [
    {
     "data": {
      "text/plain": [
       "torch.int64"
      ]
     },
     "execution_count": 44,
     "metadata": {},
     "output_type": "execute_result"
    }
   ],
   "source": [
    "out_lengths.dtype"
   ]
  },
  {
   "cell_type": "code",
   "execution_count": 45,
   "id": "a6d8b1e2-98d1-4de9-92f3-76a46071a1aa",
   "metadata": {},
   "outputs": [
    {
     "data": {
      "text/plain": [
       "[tensor([ 68688,   8187, 236764,  14877,   3224,    618,  12066,   9595, 236764,\n",
       "           6074,   6675,    580,   5729, 236743, 236800, 236770, 236764, 236743,\n",
       "         236778, 236771, 236771, 236771, 236761,   1030,  40925,    607,   1164,\n",
       "           1156,  13558,    532,    496,   3161,   9116, 236761,  23118,    506,\n",
       "          24976,    529,   1455,  10637,   8187,    528, 236743, 236778, 236771,\n",
       "         236771, 236770, 236764,    506,  32579,  13380,  15744,    532,   1492,\n",
       "          14736, 236743, 236800, 236778,   9979,   3418,   8187, 236761,    106],\n",
       "        device='cuda:0'),\n",
       " tensor([ 68688,   8187, 236764,  13320,   3224,    618,  12066,   9595, 236764,\n",
       "           6074,   6675,    580,   5729, 236743, 236800, 236770, 236764, 236743,\n",
       "         236778, 236771, 236771, 236771, 236761,   1030,  14877,  12073,    607,\n",
       "           1164,   1156,  13558,    532,    496,   3161,   9116, 236761,  23118,\n",
       "            506,  24976,    529,   1455,  10637,   8187,    528, 236743, 236778,\n",
       "         236771, 236771, 236770, 236764,    506,  32579,   6077,  13958,    531,\n",
       "           3291,    496,   3629,   4155,    528,    506,  13382,  11451,   2436,\n",
       "         236761,    106], device='cuda:0'),\n",
       " tensor([ 68688,   8187, 236764,  13320,   3224,    618,  12066,   9595, 236764,\n",
       "           6074,   8172,    580,   5729, 236743, 236800, 236770, 236764, 236743,\n",
       "         236778, 236771, 236771, 236771, 236761,   1030,  14877,  12073,    607,\n",
       "           1164,   1156,  13558,    532,    496,   3161,   9116, 236761,  23118,\n",
       "            506,  24976,    529,   1455,  10637,   8187,    528, 236743, 236778,\n",
       "         236771, 236771, 236770, 236764,    506,  32579,   6077,  15744,    531,\n",
       "           3291,    496,   3629,   4155,    528,    506,  13382,  11451,   2436,\n",
       "         236761,    106], device='cuda:0')]"
      ]
     },
     "execution_count": 45,
     "metadata": {},
     "output_type": "execute_result"
    }
   ],
   "source": [
    "# create list by dynamic slicing across the first tensor dimension\n",
    "[output['sequences'][i, inputs.shape[-1]:out_lengths[i].item()] for i in range(len(out_lengths))][0:3]"
   ]
  },
  {
   "cell_type": "code",
   "execution_count": 79,
   "id": "1f0c2fe4-4b76-4f8e-b247-40868871679a",
   "metadata": {},
   "outputs": [
    {
     "data": {
      "text/plain": [
       "(tensor(337.7000, device='cuda:1'),\n",
       " tensor(447., device='cuda:1'),\n",
       " tensor(59.2753, device='cuda:1'))"
      ]
     },
     "execution_count": 79,
     "metadata": {},
     "output_type": "execute_result"
    }
   ],
   "source": [
    "torch.mean(out_lengths.float()), torch.max(out_lengths.float()), torch.std(out_lengths.float())"
   ]
  },
  {
   "cell_type": "code",
   "execution_count": null,
   "id": "f0f11e25-4e74-45ae-89f4-7dbecf231c6f",
   "metadata": {},
   "outputs": [],
   "source": []
  },
  {
   "cell_type": "code",
   "execution_count": 80,
   "id": "ca4fbb81-8c31-41e0-83da-4d54b900eab8",
   "metadata": {},
   "outputs": [
    {
     "data": {
      "image/png": "[encoded data removed]",
      "text/plain": [
       "<Figure size 800x500 with 1 Axes>"
      ]
     },
     "metadata": {},
     "output_type": "display_data"
    }
   ],
   "source": [
    "import matplotlib.pyplot as plt\n",
    "import torch\n",
    "import numpy as np\n",
    "\n",
    "plot_data = out_lengths.cpu().numpy()\n",
    "plot_std = np.std(plot_data)\n",
    "plot_mean = np.mean(plot_data)\n",
    "\n",
    "# Plot histogram\n",
    "plt.figure(figsize=(8, 5))\n",
    "#plt.hist(out_lengths.cpu().numpy(), bins=10, edgecolor='black', alpha=0.7)\n",
    "plt.plot(range(len(plot_data)), plot_data, marker='o', linestyle='-', color='b', label=\"N values\")\n",
    "plt.axhline(y=plot_mean, color='r', linestyle='--', label=\"mean\")\n",
    "plt.fill_between(range(len(plot_data)), plot_mean-plot_std, plot_mean+plot_std, color='red', alpha=0.2, label=\"std-dev\")\n",
    "\n",
    "plt.xlabel(\"output token lengths\")\n",
    "plt.ylabel(\"Frequency\")\n",
    "plt.ylim(0, max(plot_data)+20)\n",
    "plt.grid(axis='y', linestyle='--', alpha=0.7)\n",
    "plt.show()"
   ]
  },
  {
   "cell_type": "code",
   "execution_count": null,
   "id": "c011cd0a-d24f-41bd-be4f-9ed55cd9c292",
   "metadata": {},
   "outputs": [],
   "source": []
  },
  {
   "cell_type": "code",
   "execution_count": 81,
   "id": "32578a6b-fa23-4b89-8272-94e5513150ae",
   "metadata": {},
   "outputs": [],
   "source": [
    "output_forward = model.forward(inputs.to(device_str), output_hidden_states = True)"
   ]
  },
  {
   "cell_type": "code",
   "execution_count": 82,
   "id": "70b7ec11-3762-48c6-88b2-2a30383b0cb4",
   "metadata": {
    "scrolled": true
   },
   "outputs": [
    {
     "data": {
      "text/plain": [
       "dict_keys(['loss', 'logits', 'past_key_values', 'hidden_states', 'attentions'])"
      ]
     },
     "execution_count": 82,
     "metadata": {},
     "output_type": "execute_result"
    }
   ],
   "source": [
    "output_forward.__dict__.keys()"
   ]
  },
  {
   "cell_type": "code",
   "execution_count": 83,
   "id": "423daa7e-8831-4c3a-b607-75e0333c0ff9",
   "metadata": {},
   "outputs": [
    {
     "data": {
      "text/plain": [
       "27"
      ]
     },
     "execution_count": 83,
     "metadata": {},
     "output_type": "execute_result"
    }
   ],
   "source": [
    "len(output_forward.hidden_states)"
   ]
  },
  {
   "cell_type": "code",
   "execution_count": null,
   "id": "ce45c393-c963-4972-b458-bb85ca3cd496",
   "metadata": {},
   "outputs": [],
   "source": []
  },
  {
   "cell_type": "code",
   "execution_count": 86,
   "id": "147b1f41-c042-408f-95de-66695d28bf3c",
   "metadata": {},
   "outputs": [
    {
     "data": {
      "text/plain": [
       "True"
      ]
     },
     "execution_count": 86,
     "metadata": {},
     "output_type": "execute_result"
    }
   ],
   "source": [
    "# CHECK IF THE HIDDEN STATES FROM \"forward\" and \"generate\" are the same for the first token generation attempt\n",
    "\n",
    "all([torch.all(output['hidden_states'][0][i] == output_forward['hidden_states'][i]).to('cpu') \n",
    "     for i in range(model.config.num_hidden_layers)])"
   ]
  },
  {
   "cell_type": "code",
   "execution_count": null,
   "id": "e0e83f9e-9973-4c1b-a456-6b49995c83dd",
   "metadata": {},
   "outputs": [],
   "source": []
  },
  {
   "cell_type": "code",
   "execution_count": null,
   "id": "5e766850-baef-444d-a7bf-77909d724b25",
   "metadata": {},
   "outputs": [],
   "source": []
  },
  {
   "cell_type": "code",
   "execution_count": null,
   "id": "05feb735-3974-4eb0-ba05-f32f2a1c635c",
   "metadata": {},
   "outputs": [],
   "source": []
  },
  {
   "cell_type": "code",
   "execution_count": null,
   "id": "1ec675e5-e264-47e6-a7d3-99f600f666c7",
   "metadata": {},
   "outputs": [],
   "source": []
  },
  {
   "cell_type": "code",
   "execution_count": null,
   "id": "bf297810-ad32-4055-ae8b-7916b5b69565",
   "metadata": {},
   "outputs": [],
   "source": []
  },
  {
   "cell_type": "code",
   "execution_count": null,
   "id": "0a770372-8add-4346-ace7-0b0ed8c29a6e",
   "metadata": {},
   "outputs": [],
   "source": []
  },
  {
   "cell_type": "code",
   "execution_count": null,
   "id": "84c24070-4593-4578-b4cd-b9ed6da2039f",
   "metadata": {},
   "outputs": [],
   "source": []
  },
  {
   "cell_type": "code",
   "execution_count": 8,
   "id": "23251ce1-6d87-4fcc-a684-f5b280689a88",
   "metadata": {},
   "outputs": [
    {
     "name": "stdout",
     "output_type": "stream",
     "text": [
      "<bos><start_of_turn>user\n",
      "What is serendipity? Explain in maximum one paragraph.<end_of_turn>\n",
      "<start_of_turn>model\n",
      "\n"
     ]
    }
   ],
   "source": [
    "# sentences = [\"What is serendipity? Explain in maximum one paragraph.\"]\n",
    "sentences = [{\"role\": \"user\", \"content\": \"What is serendipity? Explain in maximum one paragraph.\"}]\n",
    "print(tokenizer.decode(tokenizer.apply_chat_template(sentences, \n",
    "                                                     padding=padding, \n",
    "                                                     return_tensors=return_tensors, \n",
    "                                                     add_generation_prompt=add_generation_prompt)[0]))"
   ]
  },
  {
   "cell_type": "code",
   "execution_count": null,
   "id": "68a2e647-5630-4e98-8556-d600431234ed",
   "metadata": {},
   "outputs": [],
   "source": []
  },
  {
   "cell_type": "code",
   "execution_count": 9,
   "id": "cea4d03d-35ed-4ff3-88ed-cd3c8039bb15",
   "metadata": {},
   "outputs": [],
   "source": [
    "sentences = [[{\"role\": \"user\", \"content\": \"What is serendipity?\"}]]*10"
   ]
  },
  {
   "cell_type": "code",
   "execution_count": 10,
   "id": "26e94852-e784-43f2-8cd5-50ffe31e7df3",
   "metadata": {},
   "outputs": [],
   "source": [
    "inputs = tokenizer.apply_chat_template(sentences, padding=padding, return_tensors=return_tensors, \n",
    "                                       add_generation_prompt=add_generation_prompt)"
   ]
  },
  {
   "cell_type": "code",
   "execution_count": 11,
   "id": "31e2a46b-bbc5-4f97-98d3-d764f02f1506",
   "metadata": {},
   "outputs": [
    {
     "data": {
      "text/plain": [
       "torch.Size([10, 14])"
      ]
     },
     "execution_count": 11,
     "metadata": {},
     "output_type": "execute_result"
    }
   ],
   "source": [
    "inputs.shape"
   ]
  },
  {
   "cell_type": "code",
   "execution_count": 12,
   "id": "254e8539-fc7f-48a4-874a-f8e5cdd03270",
   "metadata": {},
   "outputs": [
    {
     "name": "stdout",
     "output_type": "stream",
     "text": [
      "<bos><start_of_turn>user\n",
      "What is serendipity?<end_of_turn>\n",
      "<start_of_turn>model\n",
      "\n"
     ]
    }
   ],
   "source": [
    "print(tokenizer.batch_decode(inputs)[3])"
   ]
  },
  {
   "cell_type": "code",
   "execution_count": null,
   "id": "085a929d-e7d0-42a7-b0bd-e46c62f11e9f",
   "metadata": {},
   "outputs": [],
   "source": []
  },
  {
   "cell_type": "code",
   "execution_count": 13,
   "id": "05985976-c4ce-40ae-a0f2-34f250b790d8",
   "metadata": {},
   "outputs": [
    {
     "name": "stderr",
     "output_type": "stream",
     "text": [
      "The attention mask is not set and cannot be inferred from input because pad token is same as eos token. As a consequence, you may observe unexpected behavior. Please pass your input's `attention_mask` to obtain reliable results.\n",
      "The 'max_batch_size' argument of HybridCache is deprecated and will be removed in v4.46. Use the more precisely named 'batch_size' argument instead.\n",
      "Starting from v4.46, the `logits` model output will have the same type as the model (except at train time, where it will always be FP32)\n"
     ]
    }
   ],
   "source": [
    "output = model.generate(inputs.to(device_str), generation_config=generation_config)"
   ]
  },
  {
   "cell_type": "code",
   "execution_count": 14,
   "id": "04353096-2bf0-4d6b-aff6-262e6048946c",
   "metadata": {},
   "outputs": [],
   "source": [
    "output_str = tokenizer.batch_decode(output[:, inputs.shape[-1]:], skip_special_tokens=True)"
   ]
  },
  {
   "cell_type": "code",
   "execution_count": 15,
   "id": "c611a36a-9ed4-4640-ae17-84d0c5045654",
   "metadata": {},
   "outputs": [
    {
     "name": "stdout",
     "output_type": "stream",
     "text": [
      "Serendipity is the occurrence and development of events by chance in a happy or beneficial way. \n",
      "\n",
      "Here's a breakdown:\n",
      "\n",
      "**Key Elements:**\n",
      "\n",
      "* **Chance:** Serendipity relies on unexpected events and situations.\n",
      "* **Happy or Beneficial:** The outcome of these chance encounters is usually positive or fortunate.\n",
      "* **Development:**  It's not just a random event, but a series of events that unfold in a meaningful way.\n",
      "\n",
      "**Examples:**\n",
      "\n",
      "* Finding a lost item you were desperately looking for.\n",
      "* Discovering a new favorite restaurant by accident.\n",
      "* Meeting someone who changes your life.\n",
      "* Stumbling upon a hidden gem while exploring a new city.\n",
      "\n",
      "**The Psychology of Serendipity:**\n",
      "\n",
      "* **Openness to new experiences:** Being willing to explore and try new things increases the chances of encountering serendipitous events.\n",
      "* **Curiosity:** A curious mind is more likely to notice and appreciate unexpected opportunities.\n",
      "* **Flexibility:** Being adaptable and open to change allows you to seize opportunities that arise unexpectedly.\n",
      "* **Mindfulness:** Paying attention to your surroundings and being present in the moment can help you notice serendipitous moments.\n",
      "\n",
      "**In a nutshell:** Serendipity is about being open to the unexpected and embracing the beauty of chance encounters. \n",
      "\n",
      "\n",
      "Let me know if you'd like to explore any of these aspects in more detail! \n",
      "\n",
      "SIZE OF ELEM: 1352\n",
      "============================================================\n",
      "\n",
      "Serendipity is the occurrence and development of events by chance in a happy or beneficial way. \n",
      "\n",
      "Here's a breakdown:\n",
      "\n",
      "**Key Elements:**\n",
      "\n",
      "* **Chance:** Serendipity relies on unexpected events and situations.\n",
      "* **Happy or Beneficial:** The outcome of these chance encounters is usually positive or fortunate.\n",
      "* **Development:**  It's not just a random event, but a series of events that unfold in a meaningful way.\n",
      "\n",
      "**Examples:**\n",
      "\n",
      "* Finding a lost item you were desperately looking for.\n",
      "* Discovering a new favorite restaurant by accident.\n",
      "* Meeting someone who changes your life.\n",
      "* Stumbling upon a hidden gem while exploring a new city.\n",
      "\n",
      "**The Psychology of Serendipity:**\n",
      "\n",
      "* **Openness to new experiences:** Being willing to explore and try new things increases the chances of encountering serendipitous events.\n",
      "* **Curiosity:** A curious mind is more likely to notice and appreciate unexpected opportunities.\n",
      "* **Flexibility:** Being adaptable and open to change allows you to seize opportunities that arise unexpectedly.\n",
      "* **Mindfulness:** Paying attention to your surroundings and being present in the moment can help you notice serendipitous moments.\n",
      "\n",
      "**In a nutshell:** Serendipity is about being open to the unexpected and embracing the beauty of chance encounters. \n",
      "\n",
      "\n",
      "Let me know if you'd like to explore any of these aspects in more detail! \n",
      "\n",
      "SIZE OF ELEM: 1352\n",
      "============================================================\n",
      "\n",
      "Serendipity is the occurrence and development of events by chance in a happy or beneficial way. \n",
      "\n",
      "Here's a breakdown:\n",
      "\n",
      "**Key Elements:**\n",
      "\n",
      "* **Chance:** Serendipity relies on unexpected events and situations.\n",
      "* **Happy or Beneficial:** The outcome of these chance encounters is usually positive or fortunate.\n",
      "* **Development:**  It's not just a random event, but a series of events that unfold in a meaningful way.\n",
      "\n",
      "**Examples:**\n",
      "\n",
      "* Finding a lost item you were desperately looking for.\n",
      "* Discovering a new favorite restaurant by accident.\n",
      "* Meeting someone who changes your life.\n",
      "* Stumbling upon a hidden gem while exploring a new city.\n",
      "\n",
      "**The Psychology of Serendipity:**\n",
      "\n",
      "* **Openness to new experiences:** Being willing to explore and try new things increases the chances of encountering serendipitous events.\n",
      "* **Curiosity:** A curious mind is more likely to notice and appreciate unexpected opportunities.\n",
      "* **Flexibility:** Being adaptable and open to change allows you to seize opportunities that arise unexpectedly.\n",
      "* **Mindfulness:** Paying attention to your surroundings and being present in the moment can help you notice serendipitous moments.\n",
      "\n",
      "**In a nutshell:** Serendipity is about being open to the unexpected and embracing the beauty of chance encounters. \n",
      "\n",
      "\n",
      "Let me know if you'd like to explore any of these aspects in more detail! \n",
      "\n",
      "SIZE OF ELEM: 1352\n",
      "============================================================\n",
      "\n",
      "Serendipity is the occurrence and development of events by chance in a happy or beneficial way. \n",
      "\n",
      "Here's a breakdown:\n",
      "\n",
      "**Key Elements:**\n",
      "\n",
      "* **Chance:** Serendipity relies on unexpected events and situations.\n",
      "* **Happy or Beneficial:** The outcome of these chance encounters is usually positive or fortunate.\n",
      "* **Development:**  It's not just a random event, but a series of events that unfold in a meaningful way.\n",
      "\n",
      "**Examples:**\n",
      "\n",
      "* Finding a lost item you were desperately looking for.\n",
      "* Discovering a new favorite restaurant by accident.\n",
      "* Meeting someone who changes your life.\n",
      "* Stumbling upon a hidden gem while exploring a new city.\n",
      "\n",
      "**The Psychology of Serendipity:**\n",
      "\n",
      "* **Openness to new experiences:** Being willing to explore and try new things increases the chances of encountering serendipitous events.\n",
      "* **Curiosity:** A curious mind is more likely to notice and appreciate unexpected opportunities.\n",
      "* **Flexibility:** Being adaptable and open to change allows you to seize opportunities that arise unexpectedly.\n",
      "* **Mindfulness:** Paying attention to your surroundings and being present in the moment can help you notice serendipitous moments.\n",
      "\n",
      "**In a nutshell:** Serendipity is about being open to the unexpected and embracing the beauty of chance encounters. \n",
      "\n",
      "\n",
      "Let me know if you'd like to explore any of these aspects in more detail! \n",
      "\n",
      "SIZE OF ELEM: 1352\n",
      "============================================================\n",
      "\n",
      "Serendipity is the occurrence and development of events by chance in a happy or beneficial way. \n",
      "\n",
      "Here's a breakdown:\n",
      "\n",
      "**Key Elements:**\n",
      "\n",
      "* **Chance:** Serendipity relies on unexpected events and situations.\n",
      "* **Happy or Beneficial:** The outcome of these chance encounters is usually positive or fortunate.\n",
      "* **Development:**  It's not just a random event, but a series of events that unfold in a meaningful way.\n",
      "\n",
      "**Examples:**\n",
      "\n",
      "* Finding a lost item you were desperately looking for.\n",
      "* Discovering a new favorite restaurant by accident.\n",
      "* Meeting someone who changes your life.\n",
      "* Stumbling upon a hidden gem while exploring a new city.\n",
      "\n",
      "**The Psychology of Serendipity:**\n",
      "\n",
      "* **Openness to new experiences:** Being willing to explore and try new things increases the chances of encountering serendipitous events.\n",
      "* **Curiosity:** A curious mind is more likely to notice and appreciate unexpected opportunities.\n",
      "* **Flexibility:** Being adaptable and open to change allows you to seize opportunities that arise unexpectedly.\n",
      "* **Mindfulness:** Paying attention to your surroundings and being present in the moment can help you notice serendipitous moments.\n",
      "\n",
      "**In a nutshell:** Serendipity is about being open to the unexpected and embracing the beauty of chance encounters. \n",
      "\n",
      "\n",
      "Let me know if you'd like to explore any of these aspects in more detail! \n",
      "\n",
      "SIZE OF ELEM: 1352\n",
      "============================================================\n",
      "\n",
      "Serendipity is the occurrence and development of events by chance in a happy or beneficial way. \n",
      "\n",
      "Here's a breakdown:\n",
      "\n",
      "**Key Elements:**\n",
      "\n",
      "* **Chance:** Serendipity relies on unexpected events and situations.\n",
      "* **Happy or Beneficial:** The outcome of these chance encounters is usually positive or fortunate.\n",
      "* **Development:**  It's not just a random event, but a series of events that unfold in a meaningful way.\n",
      "\n",
      "**Examples:**\n",
      "\n",
      "* Finding a lost item you were desperately looking for.\n",
      "* Discovering a new favorite restaurant by accident.\n",
      "* Meeting someone who changes your life.\n",
      "* Stumbling upon a hidden gem while exploring a new city.\n",
      "\n",
      "**The Psychology of Serendipity:**\n",
      "\n",
      "* **Openness to new experiences:** Being willing to explore and try new things increases the chances of encountering serendipitous events.\n",
      "* **Curiosity:** A curious mind is more likely to notice and appreciate unexpected opportunities.\n",
      "* **Flexibility:** Being adaptable and open to change allows you to seize opportunities that arise unexpectedly.\n",
      "* **Mindfulness:** Paying attention to your surroundings and being present in the moment can help you notice serendipitous moments.\n",
      "\n",
      "**In a nutshell:** Serendipity is about being open to the unexpected and embracing the beauty of chance encounters. \n",
      "\n",
      "\n",
      "Let me know if you'd like to explore any of these aspects in more detail! \n",
      "\n",
      "SIZE OF ELEM: 1352\n",
      "============================================================\n",
      "\n",
      "Serendipity is the occurrence and development of events by chance in a happy or beneficial way. \n",
      "\n",
      "Here's a breakdown:\n",
      "\n",
      "**Key Elements:**\n",
      "\n",
      "* **Chance:** Serendipity relies on unexpected events and situations.\n",
      "* **Happy or Beneficial:** The outcome of these chance encounters is usually positive or fortunate.\n",
      "* **Development:**  It's not just a random event, but a series of events that unfold in a meaningful way.\n",
      "\n",
      "**Examples:**\n",
      "\n",
      "* Finding a lost item you were desperately looking for.\n",
      "* Discovering a new favorite restaurant by accident.\n",
      "* Meeting someone who changes your life.\n",
      "* Stumbling upon a hidden gem while exploring a new city.\n",
      "\n",
      "**The Psychology of Serendipity:**\n",
      "\n",
      "* **Openness to new experiences:** Being willing to explore and try new things increases the chances of encountering serendipitous events.\n",
      "* **Curiosity:** A curious mind is more likely to notice and appreciate unexpected opportunities.\n",
      "* **Flexibility:** Being adaptable and open to change allows you to seize opportunities that arise unexpectedly.\n",
      "* **Mindfulness:** Paying attention to your surroundings and being present in the moment can help you notice serendipitous moments.\n",
      "\n",
      "**In a nutshell:** Serendipity is about being open to the unexpected and embracing the beauty of chance encounters. \n",
      "\n",
      "\n",
      "Let me know if you'd like to explore any of these aspects in more detail! \n",
      "\n",
      "SIZE OF ELEM: 1352\n",
      "============================================================\n",
      "\n",
      "Serendipity is the occurrence and development of events by chance in a happy or beneficial way. \n",
      "\n",
      "Here's a breakdown:\n",
      "\n",
      "**Key Elements:**\n",
      "\n",
      "* **Chance:** Serendipity relies on unexpected events and situations.\n",
      "* **Happy or Beneficial:** The outcome of these chance encounters is usually positive or fortunate.\n",
      "* **Development:**  It's not just a random event, but a series of events that unfold in a meaningful way.\n",
      "\n",
      "**Examples:**\n",
      "\n",
      "* Finding a lost item you were desperately looking for.\n",
      "* Discovering a new favorite restaurant by accident.\n",
      "* Meeting someone who changes your life.\n",
      "* Stumbling upon a hidden gem while exploring a new city.\n",
      "\n",
      "**The Psychology of Serendipity:**\n",
      "\n",
      "* **Openness to new experiences:** Being willing to explore and try new things increases the chances of encountering serendipitous events.\n",
      "* **Curiosity:** A curious mind is more likely to notice and appreciate unexpected opportunities.\n",
      "* **Flexibility:** Being adaptable and open to change allows you to seize opportunities that arise unexpectedly.\n",
      "* **Mindfulness:** Paying attention to your surroundings and being present in the moment can help you notice serendipitous moments.\n",
      "\n",
      "**In a nutshell:** Serendipity is about being open to the unexpected and embracing the beauty of chance encounters. \n",
      "\n",
      "\n",
      "Let me know if you'd like to explore any of these aspects in more detail! \n",
      "\n",
      "SIZE OF ELEM: 1352\n",
      "============================================================\n",
      "\n",
      "Serendipity is the occurrence and development of events by chance in a happy or beneficial way. \n",
      "\n",
      "Here's a breakdown:\n",
      "\n",
      "**Key Elements:**\n",
      "\n",
      "* **Chance:** Serendipity relies on unexpected events and situations.\n",
      "* **Happy or Beneficial:** The outcome of these chance encounters is usually positive or fortunate.\n",
      "* **Development:**  It's not just a random event, but a series of events that unfold in a meaningful way.\n",
      "\n",
      "**Examples:**\n",
      "\n",
      "* Finding a lost item you were desperately looking for.\n",
      "* Discovering a new favorite restaurant by accident.\n",
      "* Meeting someone who changes your life.\n",
      "* Stumbling upon a hidden gem while exploring a new city.\n",
      "\n",
      "**The Psychology of Serendipity:**\n",
      "\n",
      "* **Openness to new experiences:** Being willing to explore and try new things increases the chances of encountering serendipitous events.\n",
      "* **Curiosity:** A curious mind is more likely to notice and appreciate unexpected opportunities.\n",
      "* **Flexibility:** Being adaptable and open to change allows you to seize opportunities that arise unexpectedly.\n",
      "* **Mindfulness:** Paying attention to your surroundings and being present in the moment can help you notice serendipitous moments.\n",
      "\n",
      "**In a nutshell:** Serendipity is about being open to the unexpected and embracing the beauty of chance encounters. \n",
      "\n",
      "\n",
      "Let me know if you'd like to explore any of these aspects in more detail! \n",
      "\n",
      "SIZE OF ELEM: 1352\n",
      "============================================================\n",
      "\n",
      "Serendipity is the occurrence and development of events by chance in a happy or beneficial way. \n",
      "\n",
      "Here's a breakdown:\n",
      "\n",
      "**Key Elements:**\n",
      "\n",
      "* **Chance:** Serendipity relies on unexpected events and situations.\n",
      "* **Happy or Beneficial:** The outcome of these chance encounters is usually positive or fortunate.\n",
      "* **Development:**  It's not just a random event, but a series of events that unfold in a meaningful way.\n",
      "\n",
      "**Examples:**\n",
      "\n",
      "* Finding a lost item you were desperately looking for.\n",
      "* Discovering a new favorite restaurant by accident.\n",
      "* Meeting someone who changes your life.\n",
      "* Stumbling upon a hidden gem while exploring a new city.\n",
      "\n",
      "**The Psychology of Serendipity:**\n",
      "\n",
      "* **Openness to new experiences:** Being willing to explore and try new things increases the chances of encountering serendipitous events.\n",
      "* **Curiosity:** A curious mind is more likely to notice and appreciate unexpected opportunities.\n",
      "* **Flexibility:** Being adaptable and open to change allows you to seize opportunities that arise unexpectedly.\n",
      "* **Mindfulness:** Paying attention to your surroundings and being present in the moment can help you notice serendipitous moments.\n",
      "\n",
      "**In a nutshell:** Serendipity is about being open to the unexpected and embracing the beauty of chance encounters. \n",
      "\n",
      "\n",
      "Let me know if you'd like to explore any of these aspects in more detail! \n",
      "\n",
      "SIZE OF ELEM: 1352\n",
      "============================================================\n",
      "\n"
     ]
    }
   ],
   "source": [
    "for elem in output_str:\n",
    "    print(f\"{elem}\")\n",
    "    print(f\"SIZE OF ELEM: {len(elem)}\")\n",
    "    print(\"============================================================\\n\")"
   ]
  },
  {
   "cell_type": "code",
   "execution_count": null,
   "id": "2271cb8e-7329-4dcc-8ed9-32909ee4635f",
   "metadata": {},
   "outputs": [],
   "source": []
  },
  {
   "cell_type": "code",
   "execution_count": null,
   "id": "2a278c58-2578-4841-abe1-c83b72c5c398",
   "metadata": {},
   "outputs": [],
   "source": []
  },
  {
   "cell_type": "code",
   "execution_count": null,
   "id": "24c231af-f8e5-4c1b-b769-a913476547a0",
   "metadata": {},
   "outputs": [],
   "source": []
  },
  {
   "cell_type": "code",
   "execution_count": null,
   "id": "d9a2791c-3881-4867-99b2-b7afed2d8a6c",
   "metadata": {},
   "outputs": [],
   "source": []
  },
  {
   "cell_type": "code",
   "execution_count": null,
   "id": "ba19f4a4-6ce3-42da-a21c-1d4f270f5bb2",
   "metadata": {},
   "outputs": [],
   "source": []
  },
  {
   "cell_type": "code",
   "execution_count": null,
   "id": "08e5d357-eebd-4564-98fb-fc955ad850aa",
   "metadata": {},
   "outputs": [],
   "source": []
  },
  {
   "cell_type": "code",
   "execution_count": 10,
   "id": "9a934fa7-93d5-4d4a-84b1-f433b418554b",
   "metadata": {},
   "outputs": [],
   "source": [
    "# sentences = [\"What is serendipity? Explain in one sentence.\", \n",
    "#              \"When was Kennedy president?\", \n",
    "#              \"Write me a to-do list.\", \n",
    "#              \"Alice has 5 apples and Bob has 3. If Bob takes 1 apple from Alice, how many apples do both have at the end?\"]\n",
    "\n",
    "# sentences = [\"What is serendipity? Explain in maximum one paragraph.\"]*4 \n",
    "sentences = [\"What is serendipity? Explain in maximum one paragraph.\"]\n"
   ]
  },
  {
   "cell_type": "code",
   "execution_count": 11,
   "id": "97215e9f-2c46-4cfd-9d4b-61cfad1f0393",
   "metadata": {},
   "outputs": [],
   "source": [
    "inputs = tokenizer(sentences, return_tensors=\"pt\", padding=True).to(device_str)"
   ]
  },
  {
   "cell_type": "code",
   "execution_count": 12,
   "id": "7957c6dd-2734-4555-88e4-6e8e761b2193",
   "metadata": {},
   "outputs": [
    {
     "data": {
      "text/plain": [
       "{'input_ids': tensor([[     2,   1841,    603,   1369, 197762, 235336,  36576,    575,   7725,\n",
       "            974,  16957, 235265]], device='cuda:1'), 'attention_mask': tensor([[1, 1, 1, 1, 1, 1, 1, 1, 1, 1, 1, 1]], device='cuda:1')}"
      ]
     },
     "execution_count": 12,
     "metadata": {},
     "output_type": "execute_result"
    }
   ],
   "source": [
    "inputs"
   ]
  },
  {
   "cell_type": "code",
   "execution_count": 86,
   "id": "171fd4dd-8ebb-4b97-9b52-7056921fbea1",
   "metadata": {},
   "outputs": [
    {
     "data": {
      "text/plain": [
       "1000000000000000019884624838655"
      ]
     },
     "execution_count": 86,
     "metadata": {},
     "output_type": "execute_result"
    }
   ],
   "source": [
    "tokenizer.max_len_single_sentence"
   ]
  },
  {
   "cell_type": "code",
   "execution_count": null,
   "id": "02b01b46-4606-4a8f-8ea9-cfc342200619",
   "metadata": {},
   "outputs": [],
   "source": []
  },
  {
   "cell_type": "code",
   "execution_count": 53,
   "id": "5fd361e4-3d6f-4d75-9ee8-ba2fc7274245",
   "metadata": {},
   "outputs": [
    {
     "name": "stdout",
     "output_type": "stream",
     "text": [
      "{{ bos_token }}{% if messages[0]['role'] == 'system' %}{{ raise_exception('System role not supported') }}{% endif %}{% for message in messages %}{% if (message['role'] == 'user') != (loop.index0 % 2 == 0) %}{{ raise_exception('Conversation roles must alternate user/assistant/user/assistant/...') }}{% endif %}{% if (message['role'] == 'assistant') %}{% set role = 'model' %}{% else %}{% set role = message['role'] %}{% endif %}{{ '<start_of_turn>' + role + '\n",
      "' + message['content'] | trim + '<end_of_turn>\n",
      "' }}{% endfor %}{% if add_generation_prompt %}{{'<start_of_turn>model\n",
      "'}}{% endif %}\n"
     ]
    }
   ],
   "source": [
    "print(tokenizer.get_chat_template())"
   ]
  },
  {
   "cell_type": "code",
   "execution_count": 10,
   "id": "83095cd1-f5b5-4814-8f83-e78aef16d086",
   "metadata": {},
   "outputs": [
    {
     "name": "stdout",
     "output_type": "stream",
     "text": [
      "<bos><start_of_turn>user\n",
      "What is serendipity? Explain in maximum one paragraph.<end_of_turn>\n",
      "<start_of_turn>model\n",
      "\n"
     ]
    }
   ],
   "source": [
    "sentences = [\n",
    "    #{\"role\": \"user\", \"content\": \"\"},\n",
    "    #{\"role\": \"assistant\", \"content\": \"You are a helpful assistant.\"},\n",
    "    {\"role\": \"user\", \"content\": \"What is serendipity? Explain in maximum one paragraph.\"},\n",
    "]\n",
    "print(tokenizer.decode(tokenizer.apply_chat_template(sentences, add_generation_prompt=True)))"
   ]
  },
  {
   "cell_type": "code",
   "execution_count": 58,
   "id": "0f27c61a-85c9-44a6-94ea-5c586bcf50fd",
   "metadata": {},
   "outputs": [],
   "source": [
    "inputs = tokenizer.apply_chat_template(sentences, padding=True, return_tensors=\"pt\").to(device_str)"
   ]
  },
  {
   "cell_type": "code",
   "execution_count": 59,
   "id": "793ff3a0-1a38-467c-91a1-5ff1cd7942ef",
   "metadata": {},
   "outputs": [
    {
     "data": {
      "text/plain": [
       "tensor([[     2,    106,   1645,    108,    107,    108,    106,   2516,    108,\n",
       "           2045,    708,    476,  10055,  20409, 235265,    107,    108,    106,\n",
       "           1645,    108,   1841,    603,   1369, 197762, 235336,  36576,    575,\n",
       "           7725,    974,  16957, 235265,    107,    108]], device='cuda:1')"
      ]
     },
     "execution_count": 59,
     "metadata": {},
     "output_type": "execute_result"
    }
   ],
   "source": [
    "inputs"
   ]
  },
  {
   "cell_type": "code",
   "execution_count": 57,
   "id": "3d5089ad-729d-439e-ace0-61d49222d549",
   "metadata": {},
   "outputs": [],
   "source": [
    "inputs = tokenizer(tokenizer.decode(tokenizer.apply_chat_template(sentences)), return_tensors=\"pt\").to(device_str)"
   ]
  },
  {
   "cell_type": "code",
   "execution_count": 76,
   "id": "ff21a421-5d5f-4a83-a365-b02b1b6779df",
   "metadata": {},
   "outputs": [
    {
     "data": {
      "text/plain": [
       "33"
      ]
     },
     "execution_count": 76,
     "metadata": {},
     "output_type": "execute_result"
    }
   ],
   "source": [
    "inputs.shape[1]"
   ]
  },
  {
   "cell_type": "code",
   "execution_count": 60,
   "id": "315b9618-d8d2-465b-b768-37ceb2d071f2",
   "metadata": {},
   "outputs": [],
   "source": [
    "generation_config = GenerationConfig.from_pretrained(model_name, token=access_tk)\n",
    "#generation_config.output_hidden_states = True\n",
    "#generation_config.return_dict_in_generate = True\n",
    "#generation_config.output_logits = True\n",
    "generation_config.max_new_tokens = 10000\n",
    "generation_config.pad_token_id = tokenizer.pad_token_id\n",
    "generation_config.use_cache = True\n"
   ]
  },
  {
   "cell_type": "code",
   "execution_count": 62,
   "id": "d78396b2-64ab-415c-8ca1-3ce0a8bf530c",
   "metadata": {},
   "outputs": [],
   "source": [
    "output = model.generate(inputs, generation_config=generation_config)"
   ]
  },
  {
   "cell_type": "code",
   "execution_count": 73,
   "id": "b02b3cf3-4ec4-4f32-b48f-c02f57be34a1",
   "metadata": {},
   "outputs": [
    {
     "data": {
      "text/plain": [
       "tensor([[     2,    106,   1645,    108,    107,    108,    106,   2516,    108,\n",
       "           2045,    708,    476,  10055,  20409, 235265,    107,    108,    106,\n",
       "           1645,    108,   1841,    603,   1369, 197762, 235336,  36576,    575,\n",
       "           7725,    974,  16957, 235265,    107,    108, 235287,   3191, 197762,\n",
       "         235287,    603,    573,  28635,    578,   3505,    576,   5562,    731,\n",
       "           7068,    575,    476,   4915,    689,  26014,   1703, 235265,   1165,\n",
       "         235303, 235256,   1105,  10488,   2775,  14222,    689,   7103,  71024,\n",
       "         235269,   3695,   1593,    476,  42006,  60154, 235265, 235248,    110,\n",
       "            107]], device='cuda:1')"
      ]
     },
     "execution_count": 73,
     "metadata": {},
     "output_type": "execute_result"
    }
   ],
   "source": [
    "output"
   ]
  },
  {
   "cell_type": "code",
   "execution_count": 78,
   "id": "e7a6cb9a-6c6b-47a5-9e48-3b77db493ced",
   "metadata": {},
   "outputs": [],
   "source": [
    "output_str = tokenizer.batch_decode(output[:,inputs.shape[1]:], skip_special_tokens=True)"
   ]
  },
  {
   "cell_type": "code",
   "execution_count": 82,
   "id": "8b13015a-3192-4c17-ad3e-31033a069dba",
   "metadata": {},
   "outputs": [
    {
     "name": "stdout",
     "output_type": "stream",
     "text": [
      "*Serendipity* is the occurrence and development of events by chance in a happy or beneficial way. It's about finding something valuable or interesting unexpectedly, often through a fortunate coincidence. \n",
      "\n",
      "\n",
      "\n",
      "SIZE OF ELEM: 207\n",
      "\n",
      "\n"
     ]
    }
   ],
   "source": [
    "for elem in output_str:\n",
    "    print(f\"{elem}\")\n",
    "    print(f\"SIZE OF ELEM: {len(elem)}\")\n",
    "    print(\"\\n\")"
   ]
  },
  {
   "cell_type": "code",
   "execution_count": 83,
   "id": "944ecb1f-509b-4410-b10b-7c7d3a591531",
   "metadata": {},
   "outputs": [
    {
     "data": {
      "text/plain": [
       "1000000000000000019884624838655"
      ]
     },
     "execution_count": 83,
     "metadata": {},
     "output_type": "execute_result"
    }
   ],
   "source": [
    "tokenizer.max_len_single_sentence"
   ]
  },
  {
   "cell_type": "code",
   "execution_count": null,
   "id": "c8e5eb1a-65bc-4d48-969a-a6621f1f50fa",
   "metadata": {},
   "outputs": [],
   "source": []
  },
  {
   "cell_type": "code",
   "execution_count": null,
   "id": "60911ad8-0abd-4693-b89a-069fb605b2a4",
   "metadata": {},
   "outputs": [],
   "source": []
  },
  {
   "cell_type": "code",
   "execution_count": null,
   "id": "61928d3b-776e-48e1-a840-0adcb1e4c5fa",
   "metadata": {},
   "outputs": [],
   "source": []
  },
  {
   "cell_type": "code",
   "execution_count": null,
   "id": "9353b88d-2a1f-4a26-8948-45ca9e8529ed",
   "metadata": {},
   "outputs": [],
   "source": []
  },
  {
   "cell_type": "code",
   "execution_count": null,
   "id": "b17dac67-e1e9-4d8d-80f7-35d4c3836267",
   "metadata": {},
   "outputs": [],
   "source": []
  },
  {
   "cell_type": "code",
   "execution_count": null,
   "id": "ca734724-ef8c-459c-9720-707161a5a310",
   "metadata": {},
   "outputs": [],
   "source": []
  },
  {
   "cell_type": "code",
   "execution_count": null,
   "id": "8df48cf6-b6d9-470d-90c2-f8fce9635519",
   "metadata": {},
   "outputs": [],
   "source": []
  },
  {
   "cell_type": "code",
   "execution_count": null,
   "id": "3fb66486-66a2-4049-94e5-5f1184f3aa5b",
   "metadata": {},
   "outputs": [],
   "source": []
  },
  {
   "cell_type": "code",
   "execution_count": null,
   "id": "7e8e3aa9-f543-43ea-ac65-17f6f5ea8133",
   "metadata": {},
   "outputs": [],
   "source": []
  },
  {
   "cell_type": "code",
   "execution_count": 31,
   "id": "70a484c0-4021-4a65-827a-0483ac0e0d19",
   "metadata": {},
   "outputs": [],
   "source": []
  },
  {
   "cell_type": "code",
   "execution_count": null,
   "id": "715600ed-e055-4a1f-a639-23ea65ba3734",
   "metadata": {},
   "outputs": [],
   "source": []
  },
  {
   "cell_type": "code",
   "execution_count": 21,
   "id": "2805eb7a-dae2-4d57-a69f-8a1fb14509df",
   "metadata": {},
   "outputs": [],
   "source": [
    "def tokenize_and_infer(model, generation_config, prompt):\n",
    "    inputs = tokenizer(prompt, return_tensors='pt')\n",
    "    input_ids = inputs.input_ids.to('cuda')\n",
    "    output = model.generate(input_ids, \n",
    "                            generation_config=generation_config, \n",
    "                            attention_mask=inputs.attention_mask)\n",
    "    # Return the length of the tokenized input, and the output from \"generate\"\n",
    "    return len(inputs.input_ids[0]), output"
   ]
  },
  {
   "cell_type": "code",
   "execution_count": null,
   "id": "ae348887-4d9f-4a95-827b-2d3280d90377",
   "metadata": {},
   "outputs": [],
   "source": []
  },
  {
   "cell_type": "code",
   "execution_count": 32,
   "id": "01663eac-5222-4c91-9744-c0718c585a91",
   "metadata": {
    "scrolled": true
   },
   "outputs": [
    {
     "name": "stderr",
     "output_type": "stream",
     "text": [
      "Setting `pad_token_id` to `eos_token_id`:None for open-end generation.\n"
     ]
    }
   ],
   "source": [
    "input_len, output = tokenize_and_infer(model, generation_config, sentences[0])"
   ]
  },
  {
   "cell_type": "code",
   "execution_count": 111,
   "id": "e37bb127-65ac-4a12-bdc0-5f297cbc0c46",
   "metadata": {},
   "outputs": [
    {
     "name": "stdout",
     "output_type": "stream",
     "text": [
      "27\n"
     ]
    }
   ],
   "source": [
    "out_tokens = len(output.logits)\n",
    "print(out_tokens)"
   ]
  },
  {
   "cell_type": "code",
   "execution_count": 105,
   "id": "10901d3c-fb3d-4ae6-9bbf-b0f78488d8b7",
   "metadata": {},
   "outputs": [
    {
     "data": {
      "text/plain": [
       "tensor([128000,   3923,    374,   1446,    408,    575,    488,     30,  83017,\n",
       "           304,    832,  11914,     13,   8409,    408,    575,    488,    374,\n",
       "           279,  32659,    315,   9455,   2555,  15525,    477,  50189,    994,\n",
       "           499,   3325,   1755,    433,     11,   3629,   1555,   6140,    477,\n",
       "         16907,  13463,     13, 128009], device='cuda:0')"
      ]
     },
     "execution_count": 105,
     "metadata": {},
     "output_type": "execute_result"
    }
   ],
   "source": [
    "output['sequences'][0]"
   ]
  },
  {
   "cell_type": "code",
   "execution_count": 106,
   "id": "179fa8ff-435f-4940-b44a-d76b226c0bd9",
   "metadata": {},
   "outputs": [],
   "source": [
    "out_text = tokenizer.decode(output['sequences'][0][input_len:], skip_special_tokens=True, clean_up_tokenization_spaces=False)"
   ]
  },
  {
   "cell_type": "code",
   "execution_count": 107,
   "id": "7f05c504-7e29-46eb-9088-a67731ab3069",
   "metadata": {},
   "outputs": [
    {
     "data": {
      "text/plain": [
       "' Serendipity is the occurrence of finding something valuable or delightful when you least expect it, often through chance or unexpected circumstances.'"
      ]
     },
     "execution_count": 107,
     "metadata": {},
     "output_type": "execute_result"
    }
   ],
   "source": [
    "out_text"
   ]
  },
  {
   "cell_type": "code",
   "execution_count": 108,
   "id": "53d2d698-65dd-4d07-988a-447cfa127b45",
   "metadata": {},
   "outputs": [
    {
     "data": {
      "text/plain": [
       "13"
      ]
     },
     "execution_count": 108,
     "metadata": {},
     "output_type": "execute_result"
    }
   ],
   "source": [
    "input_len"
   ]
  },
  {
   "cell_type": "code",
   "execution_count": 33,
   "id": "be6d6190-ead6-47f6-a090-44fd418b4e37",
   "metadata": {},
   "outputs": [
    {
     "data": {
      "text/plain": [
       "dict_keys(['sequences', 'scores', 'logits', 'attentions', 'hidden_states', 'past_key_values'])"
      ]
     },
     "execution_count": 33,
     "metadata": {},
     "output_type": "execute_result"
    }
   ],
   "source": [
    "output.__dict__.keys()"
   ]
  },
  {
   "cell_type": "code",
   "execution_count": 63,
   "id": "ef4848e9-b6e9-4913-bf4a-04543c67d96f",
   "metadata": {},
   "outputs": [
    {
     "data": {
      "text/plain": [
       "27"
      ]
     },
     "execution_count": 63,
     "metadata": {},
     "output_type": "execute_result"
    }
   ],
   "source": [
    "len(output.logits)"
   ]
  },
  {
   "cell_type": "code",
   "execution_count": 77,
   "id": "fc355709-8049-4138-80e1-c2741ed6d29c",
   "metadata": {},
   "outputs": [
    {
     "data": {
      "text/plain": [
       "torch.Size([1, 128256])"
      ]
     },
     "execution_count": 77,
     "metadata": {},
     "output_type": "execute_result"
    }
   ],
   "source": [
    "output.logits[0].shape"
   ]
  },
  {
   "cell_type": "code",
   "execution_count": null,
   "id": "27c00d6b-f47d-460b-807c-2e901a4f2375",
   "metadata": {},
   "outputs": [],
   "source": []
  },
  {
   "cell_type": "code",
   "execution_count": 135,
   "id": "7a43d368-a41e-4594-b2d2-3a477742777b",
   "metadata": {},
   "outputs": [
    {
     "data": {
      "text/plain": [
       "1"
      ]
     },
     "execution_count": 135,
     "metadata": {},
     "output_type": "execute_result"
    }
   ],
   "source": [
    "len(output.hidden_states[2][0])"
   ]
  },
  {
   "cell_type": "code",
   "execution_count": 136,
   "id": "1c537a52-a8fa-412d-9cfd-1c629b53bee7",
   "metadata": {},
   "outputs": [
    {
     "data": {
      "text/plain": [
       "torch.Size([1, 1, 2048])"
      ]
     },
     "execution_count": 136,
     "metadata": {},
     "output_type": "execute_result"
    }
   ],
   "source": [
    "output.hidden_states[2][0].shape"
   ]
  },
  {
   "cell_type": "code",
   "execution_count": null,
   "id": "64bcfe70-0fae-44a5-a988-fcc35c32e1b1",
   "metadata": {},
   "outputs": [],
   "source": [
    "len(output['hidden_states'])"
   ]
  },
  {
   "cell_type": "code",
   "execution_count": 84,
   "id": "a9593d16-0c58-4787-b8e2-4236b2912626",
   "metadata": {},
   "outputs": [
    {
     "name": "stdout",
     "output_type": "stream",
     "text": [
      "###########################\n",
      "What is serendipity? Explain in one sentence. Serendipity is the occurrence of finding something valuable or delightful when you least expect it, often through chance or unexpected circumstances.\n"
     ]
    }
   ],
   "source": [
    "for elem in tokenizer.batch_decode(output['sequences'], skip_special_tokens=True, clean_up_tokenization_spaces=False): \n",
    "    print(f\"###########################\\n{elem}\")"
   ]
  },
  {
   "cell_type": "code",
   "execution_count": 85,
   "id": "5c4fac6a-ea8b-4851-9253-37a41999802d",
   "metadata": {},
   "outputs": [
    {
     "data": {
      "text/plain": [
       "40"
      ]
     },
     "execution_count": 85,
     "metadata": {},
     "output_type": "execute_result"
    }
   ],
   "source": [
    "len(output['sequences'][0])"
   ]
  },
  {
   "cell_type": "code",
   "execution_count": 76,
   "id": "ece35452-2aa5-4a51-a4cf-7672d7280a28",
   "metadata": {},
   "outputs": [
    {
     "ename": "RuntimeError",
     "evalue": "The size of tensor a (2048) must match the size of tensor b (128256) at non-singleton dimension 1",
     "output_type": "error",
     "traceback": [
      "\u001b[0;31m---------------------------------------------------------------------------\u001b[0m",
      "\u001b[0;31mRuntimeError\u001b[0m                              Traceback (most recent call last)",
      "Cell \u001b[0;32mIn[76], line 1\u001b[0m\n\u001b[0;32m----> 1\u001b[0m torch\u001b[38;5;241m.\u001b[39mall(\u001b[43moutput\u001b[49m\u001b[38;5;241;43m.\u001b[39;49m\u001b[43mhidden_states\u001b[49m\u001b[43m[\u001b[49m\u001b[38;5;241;43m0\u001b[39;49m\u001b[43m]\u001b[49m\u001b[43m[\u001b[49m\u001b[38;5;241;43m-\u001b[39;49m\u001b[38;5;241;43m1\u001b[39;49m\u001b[43m]\u001b[49m\u001b[43m[\u001b[49m\u001b[38;5;241;43m0\u001b[39;49m\u001b[43m,\u001b[49m\u001b[38;5;241;43m-\u001b[39;49m\u001b[38;5;241;43m1\u001b[39;49m\u001b[43m,\u001b[49m\u001b[43m:\u001b[49m\u001b[43m]\u001b[49m\u001b[43m \u001b[49m\u001b[38;5;241;43m==\u001b[39;49m\u001b[43m \u001b[49m\u001b[43moutput\u001b[49m\u001b[38;5;241;43m.\u001b[39;49m\u001b[43mlogits\u001b[49m\u001b[43m[\u001b[49m\u001b[38;5;241;43m0\u001b[39;49m\u001b[43m]\u001b[49m)\n",
      "\u001b[0;31mRuntimeError\u001b[0m: The size of tensor a (2048) must match the size of tensor b (128256) at non-singleton dimension 1"
     ]
    }
   ],
   "source": [
    "torch.all(output.hidden_states[0][-1][0,-1,:] == output.logits[0])"
   ]
  },
  {
   "cell_type": "code",
   "execution_count": null,
   "id": "227b8466-6b10-44b9-9c75-0b34fe56d9af",
   "metadata": {},
   "outputs": [],
   "source": []
  },
  {
   "cell_type": "code",
   "execution_count": null,
   "id": "8ce4a4c0-4b22-4298-af90-dbdce94df24d",
   "metadata": {},
   "outputs": [],
   "source": []
  },
  {
   "cell_type": "code",
   "execution_count": 52,
   "id": "7aa96a27-960c-44aa-8736-655e569a2fcd",
   "metadata": {},
   "outputs": [
    {
     "data": {
      "text/plain": [
       "LlamaForCausalLM(\n",
       "  (model): LlamaModel(\n",
       "    (embed_tokens): Embedding(128256, 2048)\n",
       "    (layers): ModuleList(\n",
       "      (0-15): 16 x LlamaDecoderLayer(\n",
       "        (self_attn): LlamaSdpaAttention(\n",
       "          (q_proj): Linear(in_features=2048, out_features=2048, bias=False)\n",
       "          (k_proj): Linear(in_features=2048, out_features=512, bias=False)\n",
       "          (v_proj): Linear(in_features=2048, out_features=512, bias=False)\n",
       "          (o_proj): Linear(in_features=2048, out_features=2048, bias=False)\n",
       "          (rotary_emb): LlamaRotaryEmbedding()\n",
       "        )\n",
       "        (mlp): LlamaMLP(\n",
       "          (gate_proj): Linear(in_features=2048, out_features=8192, bias=False)\n",
       "          (up_proj): Linear(in_features=2048, out_features=8192, bias=False)\n",
       "          (down_proj): Linear(in_features=8192, out_features=2048, bias=False)\n",
       "          (act_fn): SiLU()\n",
       "        )\n",
       "        (input_layernorm): LlamaRMSNorm((2048,), eps=1e-05)\n",
       "        (post_attention_layernorm): LlamaRMSNorm((2048,), eps=1e-05)\n",
       "      )\n",
       "    )\n",
       "    (norm): LlamaRMSNorm((2048,), eps=1e-05)\n",
       "    (rotary_emb): LlamaRotaryEmbedding()\n",
       "  )\n",
       "  (lm_head): Linear(in_features=2048, out_features=128256, bias=False)\n",
       ")"
      ]
     },
     "execution_count": 52,
     "metadata": {},
     "output_type": "execute_result"
    }
   ],
   "source": [
    "model"
   ]
  },
  {
   "cell_type": "code",
   "execution_count": 3,
   "id": "1808a96c-d82f-43fc-a7e4-3885e14460cd",
   "metadata": {},
   "outputs": [],
   "source": [
    "messages = [\n",
    "    {\"role\": \"system\",\n",
    "     \"content\": \"You are a friendly chatbot who always responds in the style of a pirate\",\n",
    "    },\n",
    "    {\"role\": \"user\", \n",
    "     \"content\": \"How many helicopters can a human eat in one sitting?\"},\n",
    "]"
   ]
  },
  {
   "cell_type": "code",
   "execution_count": 4,
   "id": "d26b1349-e2b3-4893-b8db-5341455286aa",
   "metadata": {},
   "outputs": [
    {
     "data": {
      "text/plain": [
       "'<|begin_of_text|><|start_header_id|>system<|end_header_id|>\\n\\nCutting Knowledge Date: December 2023\\nToday Date: 26 Jul 2024\\n\\nYou are a friendly chatbot who always responds in the style of a pirate<|eot_id|><|start_header_id|>user<|end_header_id|>\\n\\nHow many helicopters can a human eat in one sitting?<|eot_id|>'"
      ]
     },
     "execution_count": 4,
     "metadata": {},
     "output_type": "execute_result"
    }
   ],
   "source": [
    "tokenizer.apply_chat_template(messages, tokenize=False)"
   ]
  },
  {
   "cell_type": "code",
   "execution_count": 6,
   "id": "773da46e-48c4-48bf-8ffc-c833fc968ce0",
   "metadata": {},
   "outputs": [],
   "source": [
    "tokenized_chat = tokenizer.apply_chat_template(messages, tokenize=True, add_generation_prompt=True, return_tensors=\"pt\")\n"
   ]
  },
  {
   "cell_type": "code",
   "execution_count": 11,
   "id": "4616c191-fd5f-4238-b8af-8151ead160a7",
   "metadata": {},
   "outputs": [
    {
     "data": {
      "text/plain": [
       "tensor([[128000, 128006,   9125, 128007,    271,  38766,   1303,  33025,   2696,\n",
       "             25,   6790,    220,   2366,     18,    198,  15724,   2696,     25,\n",
       "            220,   1627,  10263,    220,   2366,     19,    271,   2675,    527,\n",
       "            264,  11919,   6369,   6465,    889,   2744,  31680,    304,    279,\n",
       "           1742,    315,    264,  55066, 128009, 128006,    882, 128007,    271,\n",
       "           4438,   1690,  59432,    649,    264,   3823,   8343,    304,    832,\n",
       "          11961,     30, 128009, 128006,  78191, 128007,    271]])"
      ]
     },
     "execution_count": 11,
     "metadata": {},
     "output_type": "execute_result"
    }
   ],
   "source": [
    "tokenized_chat"
   ]
  },
  {
   "cell_type": "code",
   "execution_count": 12,
   "id": "1a4a40d2-4355-4f97-b617-245eccce3a37",
   "metadata": {},
   "outputs": [
    {
     "name": "stdout",
     "output_type": "stream",
     "text": [
      "<|begin_of_text|><|start_header_id|>system<|end_header_id|>\n",
      "\n",
      "Cutting Knowledge Date: December 2023\n",
      "Today Date: 26 Jul 2024\n",
      "\n",
      "You are a friendly chatbot who always responds in the style of a pirate<|eot_id|><|start_header_id|>user<|end_header_id|>\n",
      "\n",
      "How many helicopters can a human eat in one sitting?<|eot_id|><|start_header_id|>assistant<|end_header_id|>\n",
      "\n",
      "\n"
     ]
    }
   ],
   "source": [
    "print(tokenizer.decode(tokenized_chat[0]))"
   ]
  },
  {
   "cell_type": "code",
   "execution_count": 13,
   "id": "9e896e0b-44b0-4ce4-979e-10700f595443",
   "metadata": {},
   "outputs": [],
   "source": [
    "generation_config = GenerationConfig.from_pretrained(model_name, token=access_tk)\n",
    "generation_config.output_hidden_states = True\n",
    "generation_config.return_dict_in_generate = True\n",
    "generation_config.output_logits = True\n",
    "generation_config.max_new_tokens = 10000"
   ]
  },
  {
   "cell_type": "code",
   "execution_count": 14,
   "id": "daf27ef4-8e22-436c-8392-9b6ea536cd6b",
   "metadata": {},
   "outputs": [],
   "source": [
    "def inference(model, generation_config, tokenized_chat, output_states=True):\n",
    "    with torch.no_grad():\n",
    "        t_start = time.time()\n",
    "        output = model.generate(tokenized_chat, generation_config=generation_config)\n",
    "        t_gen_generate = time.time() - t_start\n",
    "    \n",
    "        t_start = time.time()\n",
    "        output_call = model(tokenized_chat, output_hidden_states=True)\n",
    "        t_gen_call = time.time() - t_start\n",
    "        \n",
    "    return output, output_call"
   ]
  },
  {
   "cell_type": "code",
   "execution_count": 15,
   "id": "0333e784-177e-4489-839e-0fec025b8ae3",
   "metadata": {},
   "outputs": [
    {
     "name": "stderr",
     "output_type": "stream",
     "text": [
      "The attention mask and the pad token id were not set. As a consequence, you may observe unexpected behavior. Please pass your input's `attention_mask` to obtain reliable results.\n",
      "Setting `pad_token_id` to `eos_token_id`:None for open-end generation.\n",
      "The attention mask is not set and cannot be inferred from input because pad token is same as eos token. As a consequence, you may observe unexpected behavior. Please pass your input's `attention_mask` to obtain reliable results.\n",
      "/usr/local/lib/python3.8/dist-packages/transformers/generation/utils.py:1934: UserWarning: You are calling .generate() with the `input_ids` being on a device type different than your model's device. `input_ids` is on cpu, whereas the model is on cuda. You may experience unexpected behaviors or slower generation. Please make sure that you have put `input_ids` to the correct device by calling for example input_ids = input_ids.to('cuda') before running `.generate()`.\n",
      "  warnings.warn(\n",
      "Starting from v4.46, the `logits` model output will have the same type as the model (except at train time, where it will always be FP32)\n",
      "From v4.47 onwards, when a model cache is to be returned, `generate` will return a `Cache` instance instead by default (as opposed to the legacy tuple of tuples format). If you want to keep returning the legacy format, please set `return_legacy_cache=True`.\n"
     ]
    }
   ],
   "source": [
    "output, output_call = inference(model, generation_config, tokenized_chat)"
   ]
  },
  {
   "cell_type": "code",
   "execution_count": 16,
   "id": "afbe2a54-d11c-458a-a8fc-56e90ed8d83e",
   "metadata": {},
   "outputs": [
    {
     "data": {
      "text/plain": [
       "dict_keys(['sequences', 'scores', 'logits', 'attentions', 'hidden_states', 'past_key_values'])"
      ]
     },
     "execution_count": 16,
     "metadata": {},
     "output_type": "execute_result"
    }
   ],
   "source": [
    "output.__dict__.keys()"
   ]
  },
  {
   "cell_type": "code",
   "execution_count": 17,
   "id": "1747d5ee-78f8-4180-be62-80c521b17a36",
   "metadata": {},
   "outputs": [
    {
     "name": "stdout",
     "output_type": "stream",
     "text": [
      "###########################\n",
      "system\n",
      "\n",
      "Cutting Knowledge Date: December 2023\n",
      "Today Date: 26 Jul 2024\n",
      "\n",
      "You are a friendly chatbot who always responds in the style of a pirateuser\n",
      "\n",
      "How many helicopters can a human eat in one sitting?assistant\n",
      "\n",
      "Arrr, ye be askin' a mighty peculiar question, matey!  Eat a helicopter, ye say?  Well, I be thinkin' that be a bit o' a stretch fer even the most adventurous o' eaters.\n",
      "\n",
      "Now, I be knowin' that humans be eatin' all sorts o' things, but a helicopter?  That be a mighty big chunk o' metal and machinery, don't ye think?  I be thinkin' it'd be more like tryin' to swallow a ship, savvy?\n",
      "\n",
      "As fer the actual answer, I be thinkin' it be zero, matey.  Ye can't eat a helicopter, no matter how hungry ye be.  They be made o' metal and wires, not o' edible materials like biscuits or seafood.\n",
      "\n",
      "But if ye be wantin' to know how many helicopters ye could eat if ye could eat 'em, I be thinkin' it be a mighty big number, but still zero, matey!  Ye can't eat a helicopter, no matter how hard ye try!  Now, if ye be wantin' to know about eatin' other things, like seafood or fruit, I be happy to help ye out, matey!\n"
     ]
    }
   ],
   "source": [
    "for elem in tokenizer.batch_decode(output['sequences'], skip_special_tokens=True, clean_up_tokenization_spaces=False): \n",
    "    print(f\"###########################\\n{elem}\")"
   ]
  },
  {
   "cell_type": "code",
   "execution_count": null,
   "id": "ff88934a-ad3a-419c-b0a5-b6f109b318c7",
   "metadata": {},
   "outputs": [],
   "source": []
  },
  {
   "cell_type": "code",
   "execution_count": null,
   "id": "64b8930f-ff3f-4144-9640-29d33a48edb2",
   "metadata": {},
   "outputs": [],
   "source": []
  },
  {
   "cell_type": "code",
   "execution_count": 35,
   "id": "7c097edf-ec5e-4480-8ca9-09a6db0493a1",
   "metadata": {},
   "outputs": [],
   "source": [
    "def chat_tokenize_inference(model, generation_config, input_text, output_states=True):\n",
    "    tokenized_chat = tokenizer.apply_chat_template(messages, tokenize=True, add_generation_prompt=True, return_tensors=\"pt\")\n",
    "    with torch.no_grad():\n",
    "        t_start = time.time()\n",
    "        output = model.generate(tokenized_chat, generation_config=generation_config)\n",
    "        t_gen_generate = time.time() - t_start\n",
    "    \n",
    "        t_start = time.time()\n",
    "        output_call = model(tokenized_chat, output_hidden_states=True)\n",
    "        t_gen_call = time.time() - t_start\n",
    "        \n",
    "    return output, output_call"
   ]
  },
  {
   "cell_type": "code",
   "execution_count": 36,
   "id": "87659265-d545-47da-aa10-ed83b52511d2",
   "metadata": {},
   "outputs": [],
   "source": [
    "def create_chat_template(question):\n",
    "    return [\n",
    "    {\"role\": \"system\",\n",
    "     \"content\": \"You are a friendly chatbot who always responds in the style of a pirate\",\n",
    "    },\n",
    "    {\"role\": \"user\", \n",
    "     \"content\": f\"{question}\"},\n",
    "    ]"
   ]
  },
  {
   "cell_type": "code",
   "execution_count": 37,
   "id": "5c1aabeb-a813-44e8-ab27-81b7b04a746a",
   "metadata": {},
   "outputs": [],
   "source": [
    "sentences = [\"What is serendipity?\", \n",
    "             \"When was Kennedy president?\", \n",
    "             \"Write me a to-do list.\", \n",
    "             \"Alice has 5 apples and Bob has 3. If Bob takes 1 apple from Alice, how many apples do both have at the end?\"]"
   ]
  },
  {
   "cell_type": "code",
   "execution_count": 38,
   "id": "7d07031b-73bf-40ff-b4f3-e88343e3ba02",
   "metadata": {},
   "outputs": [],
   "source": [
    "sentences = [create_chat_template(elem) for elem in sentences]"
   ]
  },
  {
   "cell_type": "code",
   "execution_count": 39,
   "id": "b04b9046-d69d-4c84-97a8-c27a6168a32a",
   "metadata": {},
   "outputs": [
    {
     "name": "stderr",
     "output_type": "stream",
     "text": [
      "The attention mask and the pad token id were not set. As a consequence, you may observe unexpected behavior. Please pass your input's `attention_mask` to obtain reliable results.\n",
      "Setting `pad_token_id` to `eos_token_id`:None for open-end generation.\n",
      "/usr/local/lib/python3.8/dist-packages/transformers/generation/utils.py:1934: UserWarning: You are calling .generate() with the `input_ids` being on a device type different than your model's device. `input_ids` is on cpu, whereas the model is on cuda. You may experience unexpected behaviors or slower generation. Please make sure that you have put `input_ids` to the correct device by calling for example input_ids = input_ids.to('cuda') before running `.generate()`.\n",
      "  warnings.warn(\n",
      "The attention mask and the pad token id were not set. As a consequence, you may observe unexpected behavior. Please pass your input's `attention_mask` to obtain reliable results.\n",
      "Setting `pad_token_id` to `eos_token_id`:None for open-end generation.\n",
      "The attention mask and the pad token id were not set. As a consequence, you may observe unexpected behavior. Please pass your input's `attention_mask` to obtain reliable results.\n",
      "Setting `pad_token_id` to `eos_token_id`:None for open-end generation.\n",
      "The attention mask and the pad token id were not set. As a consequence, you may observe unexpected behavior. Please pass your input's `attention_mask` to obtain reliable results.\n",
      "Setting `pad_token_id` to `eos_token_id`:None for open-end generation.\n",
      "The attention mask and the pad token id were not set. As a consequence, you may observe unexpected behavior. Please pass your input's `attention_mask` to obtain reliable results.\n",
      "Setting `pad_token_id` to `eos_token_id`:None for open-end generation.\n",
      "The attention mask and the pad token id were not set. As a consequence, you may observe unexpected behavior. Please pass your input's `attention_mask` to obtain reliable results.\n",
      "Setting `pad_token_id` to `eos_token_id`:None for open-end generation.\n",
      "The attention mask and the pad token id were not set. As a consequence, you may observe unexpected behavior. Please pass your input's `attention_mask` to obtain reliable results.\n",
      "Setting `pad_token_id` to `eos_token_id`:None for open-end generation.\n",
      "The attention mask and the pad token id were not set. As a consequence, you may observe unexpected behavior. Please pass your input's `attention_mask` to obtain reliable results.\n",
      "Setting `pad_token_id` to `eos_token_id`:None for open-end generation.\n",
      "The attention mask and the pad token id were not set. As a consequence, you may observe unexpected behavior. Please pass your input's `attention_mask` to obtain reliable results.\n",
      "Setting `pad_token_id` to `eos_token_id`:None for open-end generation.\n",
      "The attention mask and the pad token id were not set. As a consequence, you may observe unexpected behavior. Please pass your input's `attention_mask` to obtain reliable results.\n",
      "Setting `pad_token_id` to `eos_token_id`:None for open-end generation.\n",
      "The attention mask and the pad token id were not set. As a consequence, you may observe unexpected behavior. Please pass your input's `attention_mask` to obtain reliable results.\n",
      "Setting `pad_token_id` to `eos_token_id`:None for open-end generation.\n",
      "The attention mask and the pad token id were not set. As a consequence, you may observe unexpected behavior. Please pass your input's `attention_mask` to obtain reliable results.\n",
      "Setting `pad_token_id` to `eos_token_id`:None for open-end generation.\n",
      "The attention mask and the pad token id were not set. As a consequence, you may observe unexpected behavior. Please pass your input's `attention_mask` to obtain reliable results.\n",
      "Setting `pad_token_id` to `eos_token_id`:None for open-end generation.\n",
      "The attention mask and the pad token id were not set. As a consequence, you may observe unexpected behavior. Please pass your input's `attention_mask` to obtain reliable results.\n",
      "Setting `pad_token_id` to `eos_token_id`:None for open-end generation.\n",
      "The attention mask and the pad token id were not set. As a consequence, you may observe unexpected behavior. Please pass your input's `attention_mask` to obtain reliable results.\n",
      "Setting `pad_token_id` to `eos_token_id`:None for open-end generation.\n",
      "The attention mask and the pad token id were not set. As a consequence, you may observe unexpected behavior. Please pass your input's `attention_mask` to obtain reliable results.\n",
      "Setting `pad_token_id` to `eos_token_id`:None for open-end generation.\n",
      "The attention mask and the pad token id were not set. As a consequence, you may observe unexpected behavior. Please pass your input's `attention_mask` to obtain reliable results.\n",
      "Setting `pad_token_id` to `eos_token_id`:None for open-end generation.\n",
      "The attention mask and the pad token id were not set. As a consequence, you may observe unexpected behavior. Please pass your input's `attention_mask` to obtain reliable results.\n",
      "Setting `pad_token_id` to `eos_token_id`:None for open-end generation.\n",
      "The attention mask and the pad token id were not set. As a consequence, you may observe unexpected behavior. Please pass your input's `attention_mask` to obtain reliable results.\n",
      "Setting `pad_token_id` to `eos_token_id`:None for open-end generation.\n",
      "The attention mask and the pad token id were not set. As a consequence, you may observe unexpected behavior. Please pass your input's `attention_mask` to obtain reliable results.\n",
      "Setting `pad_token_id` to `eos_token_id`:None for open-end generation.\n"
     ]
    }
   ],
   "source": [
    "sentence_output = list()\n",
    "reps = 5\n",
    "\n",
    "for i in range(len(sentences)):\n",
    "    cache = dict()\n",
    "    for k in range(reps):\n",
    "        output, output_call = chat_tokenize_inference(model, generation_config, sentences[i])\n",
    "        cache[k] = (output, output_call)\n",
    "    sentence_output.append(cache)"
   ]
  },
  {
   "cell_type": "code",
   "execution_count": 40,
   "id": "f84ff311-9835-4094-8370-ad80435f5a2f",
   "metadata": {},
   "outputs": [],
   "source": [
    "def check_sentence_determinism(tmp):\n",
    "    # Compare hidden_states between generate() and forward()\n",
    "    if not all([torch.all(tmp[i][0]['hidden_states'][0][0] == tmp[i][1]['hidden_states'][0]).to('cpu') \n",
    "                for i in list(tmp.keys())]):\n",
    "        return False\n",
    "    # Compare logits between generate() and forward()\n",
    "    elif not all([torch.all(tmp[i][0]['logits'][0] == tmp[i][1]['logits'][:,-1,:]).to('cpu') \n",
    "                  for i in list(tmp.keys())]):\n",
    "        return False\n",
    "    # Compare hidden_states across inference runs\n",
    "    elif not all([torch.all(tmp[0][0]['hidden_states'][0][0] == tmp[i][0]['hidden_states'][0][0]).to('cpu') \n",
    "                  for i in range(1, len(list(tmp.keys())))]):\n",
    "        return False\n",
    "    # Compare logits across inference runs\n",
    "    elif not all([torch.all(tmp[0][0]['logits'][0] == tmp[i][0]['logits'][0]).to('cpu') \n",
    "                  for i in range(1, len(list(tmp.keys())))]):\n",
    "        return False\n",
    "    else:\n",
    "        return True\n",
    "    "
   ]
  },
  {
   "cell_type": "code",
   "execution_count": 41,
   "id": "8698cf04-baf9-4b6d-a1cf-3dda24c728bf",
   "metadata": {},
   "outputs": [
    {
     "name": "stdout",
     "output_type": "stream",
     "text": [
      "Sentence 0 has deterministic hidden states and logits.\n",
      "Sentence 1 has deterministic hidden states and logits.\n",
      "Sentence 2 has deterministic hidden states and logits.\n",
      "Sentence 3 has deterministic hidden states and logits.\n"
     ]
    }
   ],
   "source": [
    "for i in range(len(sentence_output)):\n",
    "    if not check_sentence_determinism(sentence_output[i]):\n",
    "        print(f\"Sentence {i} does not have same values somewhere!\")\n",
    "    else:\n",
    "        print(f\"Sentence {i} has deterministic hidden states and logits.\")"
   ]
  },
  {
   "cell_type": "code",
   "execution_count": null,
   "id": "0491f23d-1138-4fbc-a276-587729e8c9eb",
   "metadata": {},
   "outputs": [],
   "source": []
  },
  {
   "cell_type": "code",
   "execution_count": null,
   "id": "81e8bb0e-2d99-41b4-bf4f-b90fbcac5c69",
   "metadata": {},
   "outputs": [],
   "source": []
  },
  {
   "cell_type": "code",
   "execution_count": 10,
   "id": "68a8d28b-68e4-4d68-968e-e36022c75f29",
   "metadata": {},
   "outputs": [
    {
     "data": {
      "application/vnd.jupyter.widget-view+json": {
       "model_id": "e6aedbbcb8594afc871fe31691a6e461",
       "version_major": 2,
       "version_minor": 0
      },
      "text/plain": [
       "tokenizer_config.json:   0%|          | 0.00/2.10k [00:00<?, ?B/s]"
      ]
     },
     "metadata": {},
     "output_type": "display_data"
    },
    {
     "data": {
      "application/vnd.jupyter.widget-view+json": {
       "model_id": "45307b150acd49e4a363b882336fd9da",
       "version_major": 2,
       "version_minor": 0
      },
      "text/plain": [
       "tokenizer.model:   0%|          | 0.00/493k [00:00<?, ?B/s]"
      ]
     },
     "metadata": {},
     "output_type": "display_data"
    },
    {
     "data": {
      "application/vnd.jupyter.widget-view+json": {
       "model_id": "b67fec61a5aa48c5b6971a7a82e9da21",
       "version_major": 2,
       "version_minor": 0
      },
      "text/plain": [
       "tokenizer.json:   0%|          | 0.00/1.80M [00:00<?, ?B/s]"
      ]
     },
     "metadata": {},
     "output_type": "display_data"
    },
    {
     "data": {
      "application/vnd.jupyter.widget-view+json": {
       "model_id": "146618509e2e4c2788cd3f5b0df33a7a",
       "version_major": 2,
       "version_minor": 0
      },
      "text/plain": [
       "special_tokens_map.json:   0%|          | 0.00/414 [00:00<?, ?B/s]"
      ]
     },
     "metadata": {},
     "output_type": "display_data"
    }
   ],
   "source": [
    "from transformers import AutoTokenizer\n",
    "mistral_tokenizer = AutoTokenizer.from_pretrained(\"mistralai/Mistral-7B-Instruct-v0.1\", token=access_tk)"
   ]
  },
  {
   "cell_type": "code",
   "execution_count": 11,
   "id": "7310f7e9-1a5f-4346-8544-b960f0d7e6a0",
   "metadata": {},
   "outputs": [
    {
     "data": {
      "text/plain": [
       "\"<s> [INST] Hello, how are you? [/INST] I'm doing great. How can I help you today?</s> [INST] I'd like to show off how chat templating works! [/INST]\""
      ]
     },
     "execution_count": 11,
     "metadata": {},
     "output_type": "execute_result"
    }
   ],
   "source": [
    "mistral_tokenizer.apply_chat_template(chat, tokenize=False)"
   ]
  },
  {
   "cell_type": "code",
   "execution_count": null,
   "id": "e265bc3e-20f3-4d10-9c98-ae1b7b73fd71",
   "metadata": {},
   "outputs": [],
   "source": []
  },
  {
   "cell_type": "code",
   "execution_count": null,
   "id": "d681d1bd-20ba-4ecb-a7b0-4fb0658fa52b",
   "metadata": {},
   "outputs": [],
   "source": []
  }
 ],
 "metadata": {
  "kernelspec": {
   "display_name": "Python 3 (ipykernel)",
   "language": "python",
   "name": "python3"
  },
  "language_info": {
   "codemirror_mode": {
    "name": "ipython",
    "version": 3
   },
   "file_extension": ".py",
   "mimetype": "text/x-python",
   "name": "python",
   "nbconvert_exporter": "python",
   "pygments_lexer": "ipython3",
   "version": "3.12.9"
  }
 },
 "nbformat": 4,
 "nbformat_minor": 5
}
