{
 "cells": [
  {
   "cell_type": "code",
   "execution_count": 1,
   "id": "90ebe521-c597-4800-9234-280ced28aa66",
   "metadata": {},
   "outputs": [],
   "source": [
    "from transformers import AutoModelForCausalLM, AutoTokenizer, LlamaForCausalLM, GenerationConfig\n",
    "import accelerate\n",
    "import torch\n",
    "import csv\n",
    "import time\n",
    "import os\n",
    "import json\n",
    "import inspect"
   ]
  },
  {
   "cell_type": "code",
   "execution_count": 2,
   "id": "9b9c4140-dc53-4d8d-ac56-52e687fe6eba",
   "metadata": {},
   "outputs": [],
   "source": [
    "from transformers import logging"
   ]
  },
  {
   "cell_type": "code",
   "execution_count": 3,
   "id": "25c51c5a-6769-4e60-844d-89cec0352478",
   "metadata": {},
   "outputs": [],
   "source": [
    "logging.disable_progress_bar()"
   ]
  },
  {
   "cell_type": "code",
   "execution_count": 4,
   "id": "2d3875bd-3b33-465d-84d5-69f97230b497",
   "metadata": {},
   "outputs": [
    {
     "name": "stderr",
     "output_type": "stream",
     "text": [
      "Sliding Window Attention is enabled but not implemented for `sdpa`; unexpected results may be encountered.\n"
     ]
    }
   ],
   "source": [
    "access_tk = os.getenv(\"HF_API_TOKEN\")\n",
    "device_str = \"cuda:1\"\n",
    "\n",
    "model_name = \"Qwen/Qwen2.5-7B-Instruct-1M\"\n",
    "\n",
    "padding_side='left'\n",
    "\n",
    "model = AutoModelForCausalLM.from_pretrained(model_name, token=access_tk, device_map=device_str, torch_dtype=torch.float16, )\n",
    "tokenizer = AutoTokenizer.from_pretrained(model_name, token=access_tk, device_map=device_str, \n",
    "                                          torch_dtype=torch.float16, padding_side=padding_side)"
   ]
  },
  {
   "cell_type": "code",
   "execution_count": 5,
   "id": "99670d42-0df7-481e-8281-908daee07f06",
   "metadata": {},
   "outputs": [
    {
     "ename": "TypeError",
     "evalue": "GenerationMixin._get_cache() missing 5 required positional arguments: 'cache_implementation', 'batch_size', 'max_cache_len', 'device', and 'model_kwargs'",
     "output_type": "error",
     "traceback": [
      "\u001b[31m---------------------------------------------------------------------------\u001b[39m",
      "\u001b[31mTypeError\u001b[39m                                 Traceback (most recent call last)",
      "\u001b[36mCell\u001b[39m\u001b[36m \u001b[39m\u001b[32mIn[5]\u001b[39m\u001b[32m, line 1\u001b[39m\n\u001b[32m----> \u001b[39m\u001b[32m1\u001b[39m mycache = \u001b[43mmodel\u001b[49m\u001b[43m.\u001b[49m\u001b[43m_get_cache\u001b[49m\u001b[43m(\u001b[49m\u001b[43m)\u001b[49m\n",
      "\u001b[31mTypeError\u001b[39m: GenerationMixin._get_cache() missing 5 required positional arguments: 'cache_implementation', 'batch_size', 'max_cache_len', 'device', and 'model_kwargs'"
     ]
    }
   ],
   "source": [
    "mycache = model._get_cache()"
   ]
  },
  {
   "cell_type": "code",
   "execution_count": 12,
   "id": "0e1475f8-c5ed-4a8b-b85a-ff8d7ef22595",
   "metadata": {},
   "outputs": [
    {
     "data": {
      "text/plain": [
       "<method-wrapper '__getattribute__' of Qwen2ForCausalLM object at 0x7f37695a60f0>"
      ]
     },
     "execution_count": 12,
     "metadata": {},
     "output_type": "execute_result"
    }
   ],
   "source": []
  },
  {
   "cell_type": "code",
   "execution_count": 5,
   "id": "12d896e2-6ee4-41ea-92fa-cbcd7f92feea",
   "metadata": {},
   "outputs": [],
   "source": [
    "tokenizer.pad_token = tokenizer.eos_token\n",
    "add_generation_prompt = True\n",
    "padding = True\n",
    "return_tensors = \"pt\""
   ]
  },
  {
   "cell_type": "code",
   "execution_count": 6,
   "id": "6f4103a3-1a39-43eb-860a-d809b093e8f4",
   "metadata": {},
   "outputs": [],
   "source": [
    "generation_config = GenerationConfig.from_pretrained(model_name, token=access_tk)\n",
    "\n",
    "generation_config.output_hidden_states = True\n",
    "generation_config.return_dict_in_generate = True\n",
    "#generation_config.output_logits = True\n",
    "generation_config.max_new_tokens = 10000\n",
    "generation_config.pad_token_id = tokenizer.pad_token_id\n",
    "#generation_config.use_cache = False"
   ]
  },
  {
   "cell_type": "code",
   "execution_count": 7,
   "id": "19ea9271-7bde-40f0-9d52-63b2d42d68d5",
   "metadata": {},
   "outputs": [
    {
     "name": "stdout",
     "output_type": "stream",
     "text": [
      "QWEN GenerationConfig. \n",
      "\n",
      " Generation Strategy: \n",
      " \t- do_sample: True \n",
      " \t- num_beams: 1 \n",
      "\n",
      " Model Output Logit manipulation: \n",
      " \t- top-k: 20 \n",
      " \t- top-p: 0.8 \n",
      " \t- min-p: None \n",
      " \t- temperature: 0.7\n",
      "\n"
     ]
    }
   ],
   "source": [
    "print(f\"QWEN GenerationConfig. \\n\\n \\\n",
    "Generation Strategy: \\n \\\n",
    "\\t- do_sample: {generation_config.do_sample} \\n \\\n",
    "\\t- num_beams: {generation_config.num_beams} \\n\\n \\\n",
    "Model Output Logit manipulation: \\n \\\n",
    "\\t- top-k: {generation_config.top_k} \\n \\\n",
    "\\t- top-p: {generation_config.top_p} \\n \\\n",
    "\\t- min-p: {generation_config.min_p} \\n \\\n",
    "\\t- temperature: {generation_config.temperature}\\n\")"
   ]
  },
  {
   "cell_type": "code",
   "execution_count": null,
   "id": "14827b3a-8dca-47ea-b14f-3e12bda1e8a9",
   "metadata": {},
   "outputs": [],
   "source": []
  },
  {
   "cell_type": "code",
   "execution_count": 8,
   "id": "2943f7f2-d9dc-4104-b8f9-e832a1981607",
   "metadata": {},
   "outputs": [
    {
     "name": "stdout",
     "output_type": "stream",
     "text": [
      "<|im_start|>system\n",
      "You are a helpful assistant.<|im_end|>\n",
      "<|im_start|>user\n",
      "Hi ChatGPT. Do you think you can tell me the sum of a and b?<|im_end|>\n",
      "<|im_start|>assistant\n",
      "\n"
     ]
    }
   ],
   "source": [
    "#     {\"role\": \"user\", \"content\": \"What is serendipity? Explain in maximum one paragraph.\"}]\n",
    "\n",
    "sentences=[{'role': \"user\",\n",
    "           \"content\": \"Hi ChatGPT. Do you think you can tell me the sum of a and b?\",\n",
    "           \"context\": \"a=10, b=20\"}]\n",
    "print(tokenizer.decode(tokenizer.apply_chat_template(sentences, \n",
    "                                                     padding=padding, \n",
    "                                                     return_tensors=return_tensors, \n",
    "                                                     add_generation_prompt=add_generation_prompt)[0]))"
   ]
  },
  {
   "cell_type": "code",
   "execution_count": null,
   "id": "99c0facd-9db3-484a-b2f1-bbee45c37995",
   "metadata": {},
   "outputs": [],
   "source": []
  },
  {
   "cell_type": "code",
   "execution_count": 9,
   "id": "c4663467-595e-449a-8903-05dac850eae4",
   "metadata": {},
   "outputs": [],
   "source": [
    "sentences = [[{\"role\": \"user\", \"content\": \"Hi ChatGPT. Do you think you could run a dungeons and dragons campaign for me that I can play as you do it? You should be able to generate the story as it goes. 3 / 3\"}]]*10"
   ]
  },
  {
   "cell_type": "code",
   "execution_count": 13,
   "id": "58d4a5d4-3f38-4a69-8598-5c43aaf69f73",
   "metadata": {},
   "outputs": [],
   "source": [
    "inputs = tokenizer.apply_chat_template(sentences, padding=padding, return_tensors=return_tensors, \n",
    "                                       add_generation_prompt=add_generation_prompt)"
   ]
  },
  {
   "cell_type": "code",
   "execution_count": 14,
   "id": "23fdec84-dd64-4a14-a235-d4fdcd1e1d7c",
   "metadata": {},
   "outputs": [
    {
     "data": {
      "text/plain": [
       "torch.Size([10, 63])"
      ]
     },
     "execution_count": 14,
     "metadata": {},
     "output_type": "execute_result"
    }
   ],
   "source": [
    "inputs.shape"
   ]
  },
  {
   "cell_type": "code",
   "execution_count": 15,
   "id": "4a0b3dad-ee1b-42a6-9d9f-444528d72d96",
   "metadata": {},
   "outputs": [
    {
     "name": "stdout",
     "output_type": "stream",
     "text": [
      "<|im_start|>system\n",
      "You are a helpful assistant.<|im_end|>\n",
      "<|im_start|>user\n",
      "Hi ChatGPT. Do you think you could run a dungeons and dragons campaign for me that I can play as you do it? You should be able to generate the story as it goes. 3 / 3<|im_end|>\n",
      "<|im_start|>assistant\n",
      "\n"
     ]
    }
   ],
   "source": [
    "print(tokenizer.batch_decode(inputs)[3])"
   ]
  },
  {
   "cell_type": "code",
   "execution_count": null,
   "id": "86ad09d7-a55b-4b8d-a2c6-e00164f4880d",
   "metadata": {},
   "outputs": [],
   "source": []
  },
  {
   "cell_type": "code",
   "execution_count": 16,
   "id": "5df68996-dc45-4726-9330-bb27985da5a2",
   "metadata": {},
   "outputs": [
    {
     "name": "stderr",
     "output_type": "stream",
     "text": [
      "The attention mask is not set and cannot be inferred from input because pad token is same as eos token. As a consequence, you may observe unexpected behavior. Please pass your input's `attention_mask` to obtain reliable results.\n",
      "Starting from v4.46, the `logits` model output will have the same type as the model (except at train time, where it will always be FP32)\n",
      "From v4.47 onwards, when a model cache is to be returned, `generate` will return a `Cache` instance instead by default (as opposed to the legacy tuple of tuples format). If you want to keep returning the legacy format, please set `return_legacy_cache=True`.\n"
     ]
    },
    {
     "name": "stdout",
     "output_type": "stream",
     "text": [
      "Generation took 23.499037981033325 sec\n"
     ]
    }
   ],
   "source": [
    "tmp_dev = \"cuda\" if device_str == \"auto\" else device_str\n",
    "t_start = time.time()\n",
    "output = model.generate(inputs.to(tmp_dev), generation_config=generation_config)\n",
    "print(f\"Generation took {time.time()-t_start} sec\")"
   ]
  },
  {
   "cell_type": "code",
   "execution_count": null,
   "id": "b5f12412-5a01-412c-ae7d-10978066d4ce",
   "metadata": {},
   "outputs": [],
   "source": []
  },
  {
   "cell_type": "code",
   "execution_count": 17,
   "id": "3f75a00b-3fdd-4f6d-b923-02d45cbd80ce",
   "metadata": {},
   "outputs": [
    {
     "data": {
      "text/plain": [
       "transformers.generation.utils.GenerateDecoderOnlyOutput"
      ]
     },
     "execution_count": 17,
     "metadata": {},
     "output_type": "execute_result"
    }
   ],
   "source": [
    "type(output)"
   ]
  },
  {
   "cell_type": "code",
   "execution_count": 18,
   "id": "fb038ecb-73bb-44b3-a61c-5b04d20874f9",
   "metadata": {},
   "outputs": [
    {
     "data": {
      "text/plain": [
       "dict_keys(['sequences', 'scores', 'logits', 'attentions', 'hidden_states', 'past_key_values'])"
      ]
     },
     "execution_count": 18,
     "metadata": {},
     "output_type": "execute_result"
    }
   ],
   "source": [
    "output.__dict__.keys()"
   ]
  },
  {
   "cell_type": "code",
   "execution_count": 19,
   "id": "2e7ce062-e855-45fd-b437-1d0d7d597d58",
   "metadata": {},
   "outputs": [
    {
     "data": {
      "text/plain": [
       "torch.Size([10, 707])"
      ]
     },
     "execution_count": 19,
     "metadata": {},
     "output_type": "execute_result"
    }
   ],
   "source": [
    "output[0].shape"
   ]
  },
  {
   "cell_type": "code",
   "execution_count": 20,
   "id": "b75f8c07-c9d8-4680-9004-5d9bcb269611",
   "metadata": {},
   "outputs": [
    {
     "data": {
      "text/plain": [
       "644"
      ]
     },
     "execution_count": 20,
     "metadata": {},
     "output_type": "execute_result"
    }
   ],
   "source": [
    "output[0].shape[1] - inputs.shape[1]"
   ]
  },
  {
   "cell_type": "code",
   "execution_count": 21,
   "id": "edd138a5-f1a9-40db-a254-3d37d3766853",
   "metadata": {},
   "outputs": [
    {
     "data": {
      "text/plain": [
       "644"
      ]
     },
     "execution_count": 21,
     "metadata": {},
     "output_type": "execute_result"
    }
   ],
   "source": [
    "len(output['hidden_states'])"
   ]
  },
  {
   "cell_type": "code",
   "execution_count": 22,
   "id": "d0b5f39d-9382-466d-8dff-a9a61c456187",
   "metadata": {},
   "outputs": [
    {
     "data": {
      "text/plain": [
       "29"
      ]
     },
     "execution_count": 22,
     "metadata": {},
     "output_type": "execute_result"
    }
   ],
   "source": [
    "len(output['hidden_states'][0])"
   ]
  },
  {
   "cell_type": "code",
   "execution_count": 38,
   "id": "1154647c-43ca-4f33-8c3b-003a59276106",
   "metadata": {},
   "outputs": [
    {
     "data": {
      "text/plain": [
       "torch.Size([10, 63, 3584])"
      ]
     },
     "execution_count": 38,
     "metadata": {},
     "output_type": "execute_result"
    }
   ],
   "source": [
    "output['hidden_states'][0][0].shape"
   ]
  },
  {
   "cell_type": "markdown",
   "id": "faa470c0-a249-4dba-a458-24d643bd344e",
   "metadata": {},
   "source": [
    "#### Check equivalence between two elements in the batch"
   ]
  },
  {
   "cell_type": "code",
   "execution_count": 43,
   "id": "91d14a0e-826a-49e2-9f30-8d4e4c9828a2",
   "metadata": {},
   "outputs": [
    {
     "data": {
      "text/plain": [
       "torch.Size([63, 3584])"
      ]
     },
     "execution_count": 43,
     "metadata": {},
     "output_type": "execute_result"
    }
   ],
   "source": [
    "output['hidden_states'][0][0][0].shape"
   ]
  },
  {
   "cell_type": "code",
   "execution_count": 46,
   "id": "1bf269cf-89d2-49ed-a86b-1c60abd62091",
   "metadata": {},
   "outputs": [
    {
     "name": "stdout",
     "output_type": "stream",
     "text": [
      "tensor(True, device='cuda:0')\n",
      "tensor(True, device='cuda:0')\n",
      "tensor(True, device='cuda:0')\n",
      "tensor(True, device='cuda:0')\n",
      "tensor(True, device='cuda:0')\n",
      "tensor(True, device='cuda:0')\n",
      "tensor(True, device='cuda:0')\n",
      "tensor(True, device='cuda:0')\n",
      "tensor(True, device='cuda:0')\n"
     ]
    }
   ],
   "source": [
    "import numpy as np \n",
    "for i in range(0, output['hidden_states'][0][0].shape[0]-1):\n",
    "    print(torch.all(output['hidden_states'][0][0][i] == output['hidden_states'][0][0][i+1]))\n"
   ]
  },
  {
   "cell_type": "markdown",
   "id": "ad23332d-5123-4d9c-a27a-2cd31a945194",
   "metadata": {},
   "source": [
    "##### Hence -> The hidden states are equal across all elements of the minibatch!"
   ]
  },
  {
   "cell_type": "code",
   "execution_count": 24,
   "id": "90b0ca5b-5209-4ef3-8b19-9107fc97936d",
   "metadata": {},
   "outputs": [
    {
     "data": {
      "text/plain": [
       "4.51584"
      ]
     },
     "execution_count": 24,
     "metadata": {},
     "output_type": "execute_result"
    }
   ],
   "source": [
    "output['hidden_states'][0][0].element_size() * output['hidden_states'][0][0].nelement() / 1e6"
   ]
  },
  {
   "cell_type": "code",
   "execution_count": 25,
   "id": "7f7f182e-333c-4c3a-997f-3b2cd0b7aff6",
   "metadata": {},
   "outputs": [
    {
     "data": {
      "text/plain": [
       "torch.int64"
      ]
     },
     "execution_count": 25,
     "metadata": {},
     "output_type": "execute_result"
    }
   ],
   "source": [
    "output['sequences'].dtype"
   ]
  },
  {
   "cell_type": "markdown",
   "id": "0279e761-d38e-497d-b199-3baf625f51c7",
   "metadata": {},
   "source": [
    "#### Get the length of each response (remove padding tokens)"
   ]
  },
  {
   "cell_type": "code",
   "execution_count": 47,
   "id": "f3acb2a2-7fe8-41a8-a106-d72bb7d16643",
   "metadata": {},
   "outputs": [],
   "source": [
    "def get_len_out_tokens_batch(output_seq, tokenizer):\n",
    "    assert type(output_seq) == torch.Tensor, \"ERROR: output must a tensor representing the batch of token outputs\"\n",
    "    # Create a tensor with same size as output filled with the pad_token_id\n",
    "    eos_mask = torch.ones(output_seq.shape, dtype=output_seq.dtype).to(output_seq.device)*tokenizer.pad_token_id\n",
    "    # Return sum of all values of output along batch axis\n",
    "    return torch.sum(output_seq != eos_mask, dim=1)"
   ]
  },
  {
   "cell_type": "code",
   "execution_count": 48,
   "id": "f08e6f7c-b9f5-480e-8654-9151ee4f8bf0",
   "metadata": {},
   "outputs": [
    {
     "name": "stdout",
     "output_type": "stream",
     "text": [
      "Length of the outputs (in # of tokens):\n",
      "tensor([233, 248, 190, 486, 488, 226, 400, 204, 704, 191], device='cuda:0')\n"
     ]
    }
   ],
   "source": [
    "out_lengths = get_len_out_tokens_batch(output['sequences'], tokenizer)\n",
    "print(f\"Length of the outputs (in # of tokens):\\n{out_lengths}\")"
   ]
  },
  {
   "cell_type": "code",
   "execution_count": 49,
   "id": "fdab5a2e-b6fb-44a1-b157-c402c7254bde",
   "metadata": {},
   "outputs": [
    {
     "data": {
      "text/plain": [
       "8"
      ]
     },
     "execution_count": 49,
     "metadata": {},
     "output_type": "execute_result"
    }
   ],
   "source": [
    "torch.argmax(out_lengths).item()"
   ]
  },
  {
   "cell_type": "code",
   "execution_count": 50,
   "id": "a48109c0-53a8-41e8-a81f-2598960378d3",
   "metadata": {},
   "outputs": [
    {
     "data": {
      "text/plain": [
       "2"
      ]
     },
     "execution_count": 50,
     "metadata": {},
     "output_type": "execute_result"
    }
   ],
   "source": [
    "torch.argmin(out_lengths).item()"
   ]
  },
  {
   "cell_type": "code",
   "execution_count": 51,
   "id": "1c7e6967-0fd6-48b2-a71f-e98f0194d20a",
   "metadata": {},
   "outputs": [
    {
     "data": {
      "text/plain": [
       "'That sounds like an exciting idea! While I can certainly help you create and guide a Dungeons & Dragons (D&D) campaign, it\\'s important to note that I can\\'t actually *play* with you in real-time. However, I can certainly help you create the story, generate encounters, and guide the narrative as you go along.\\n\\nHere’s how we can work together:\\n\\n### 1. **Setting the Scene:**\\n   - **World**: What kind of world are we in? Fantasy, high-fantasy, dark fantasy, or something else?\\n   - **Campaign Style**: Are we going for a long-term adventure, a series of one-shots, or a specific genre (e.g., horror, comedy)?\\n   - **Player Characters (PCs)**: Who are your characters? What classes, races, backgrounds, and abilities do they have?\\n\\n### 2. **Plot Hook:**\\n   - **Starting Quest**: What brings the PCs together? Is there a mysterious artifact, a missing person, or a looming threat?\\n   - **First Encounter**: What happens when they enter the world of the game? A strange event, a meeting with another NPC, or a battle with monsters?\\n\\n### 3. **As We Go Along:**\\n   - I’ll describe the setting, NPCs, and encounters as you play.\\n   - You can decide what your characters do, and I’ll adjust the story based on your choices.\\n   - We can also introduce new challenges, plot twists, and character developments as the campaign progresses.\\n\\n### Example of How It Might Start:\\n\\n---\\n\\n**Setting:**  \\nYou\\'re in a medieval fantasy world where magic is real, but not everyone can use it. The world is divided into several kingdoms, each with their own cultures, politics, and secrets. There are also hidden realms of magical creatures and forgotten civilizations.\\n\\n**Starting Quest:**  \\nYour characters are hired by a mysterious figure to investigate a series of strange occurrences in a nearby village. People have been disappearing, and no one knows why. The village is located in a region known for its ancient ruins and dark magic.\\n\\n**First Encounter:**  \\nThe party arrives at the village, which looks peaceful from the outside. As they explore, they notice strange symbols carved into the walls and hear rumors of a cursed artifact that was once kept in the village temple. The villagers are wary and secretive, but one old woman offers them a clue: \"The key lies in the heart of the ruin.\"\\n\\n**Encounter:**  \\nAs the party approaches the ancient ruin, they encounter a group of bandits who are looting the area. The bandits are surprised to see the party, but after a brief skirmish, they flee deeper into the ruins. The party decides to follow them.\\n\\n**Inside the Ruins:**  \\nThe deeper they go, the more eerie the place becomes. Strange noises echo through the corridors, and the air feels heavy. They find a room filled with ancient artifacts, including a glowing crystal that seems to pulse with power. Just as they approach it, a shadowy figure appears and attacks!\\n\\n---\\n\\nLet me know what you\\'d like to start with, and we can dive'"
      ]
     },
     "execution_count": 51,
     "metadata": {},
     "output_type": "execute_result"
    }
   ],
   "source": [
    "max_idx = torch.argmax(out_lengths).item()\n",
    "tokenizer.decode(output['sequences'][max_idx][inputs.shape[1]:out_lengths[max_idx].item()-1])"
   ]
  },
  {
   "cell_type": "code",
   "execution_count": 52,
   "id": "6bf4a7c8-f8b4-4e76-a110-3f915ecdcead",
   "metadata": {},
   "outputs": [
    {
     "data": {
      "text/plain": [
       "8"
      ]
     },
     "execution_count": 52,
     "metadata": {},
     "output_type": "execute_result"
    }
   ],
   "source": [
    "torch.argmax(out_lengths).item()"
   ]
  },
  {
   "cell_type": "code",
   "execution_count": 53,
   "id": "80b5795d-d467-44de-9b39-c9290c62a4fb",
   "metadata": {},
   "outputs": [
    {
     "data": {
      "text/plain": [
       "torch.int64"
      ]
     },
     "execution_count": 53,
     "metadata": {},
     "output_type": "execute_result"
    }
   ],
   "source": [
    "out_lengths.dtype"
   ]
  },
  {
   "cell_type": "code",
   "execution_count": 54,
   "id": "779cd85e-70a1-40b7-a901-51332d92be26",
   "metadata": {},
   "outputs": [
    {
     "data": {
      "text/plain": [
       "[tensor([77045,     0,   358,  4172,   387,  6247,   311,  1492,   498,  1526,\n",
       "           264, 93001,   609, 48009, 11297, 17943,    13,  8704,   582,  2299,\n",
       "          6825,   432,   389,   279, 11466,    11,  1077,   594,  5695,   264,\n",
       "          2421, 31774,  1447,    16,    13,  3070, 15400, 95518, 10967,  1558,\n",
       "           697, 17943,  1896,  1992,    30, 21149,   315,   264,  3151,  3728,\n",
       "           476,  1879,   320,    68,  1302,  2572,   264, 41008, 18378, 25079,\n",
       "            11,   264,  1736, 45156, 68648, 40321, 18123,    11,   458, 13833,\n",
       "         37239,    11,  4992, 74203,    17,    13,  3070, 37489, 95518,  3555,\n",
       "          3093,   315,  5766,   686,   582,   387,  5619,    30,  4841,   498,\n",
       "           387,  5619,   438,   825,   315,   279, 87713,    11,   476,  1035,\n",
       "           498,  1075,   311,  2524,  5248,  5766,  1939,    18,    13,  3070,\n",
       "         39992, 95518,  3555,   374,   279,  1887,  5795,   315,   279, 17943,\n",
       "            30,  8713,   807, 10887, 31626,    11,  4460,   311,  2936,   264,\n",
       "         39048,    11, 23966,   458, 13833, 37239,    11,   476,  2494,   770,\n",
       "         11368,  1939, 12522,   582,   614,  1493,  3565,    11,   582,   646,\n",
       "         29863,  1290,  1119,   279,  3364,     0,  6771,   752,  1414,  1128,\n",
       "           498,  4172,  1075,    11,   323,   582,   646,   633,  3855,    13],\n",
       "        device='cuda:0'),\n",
       " tensor([77045,     0,   358,  4172,  2948,   311,  1492,   498,   448,   429,\n",
       "            13,  6771,   594,   633,  3855,   553,  6243,   705,  1045, 31774,\n",
       "          1447,    16,    13,  3070, 15400, 95518, 10967,  1035,   498,  1075,\n",
       "           279,  4796,   311,  1896,  1992,    30,  1752,  3110,    11,   264,\n",
       "         18378,  1879,    11,   264,  1736, 45156, 68648, 40321, 18123,    11,\n",
       "           264,  4087,  1121,  3122,  3283,    11,  4992,   382,    17,    13,\n",
       "          3070, 37525, 95518,  3555,  3093,   315, 16232,   525,   498,  3330,\n",
       "           369,    30, 39367,    11,  6319,    11, 94371,    11, 21452,    11,\n",
       "          4992,   382,    18,    13,  3070,  4476, 44516,   320,  4872,    82,\n",
       "         32295,    25,  3155,   498,  2669,   614,  5766,   304,  3971,    11,\n",
       "           476,  1035,   498,  1075,   752,   311,  1855,  1045,   369,   498,\n",
       "          1939,    19,    13,  3070, 72109,  9395, 95518,  2585, 10321,   525,\n",
       "           498,   518,   422, 32365,    30,  1096,   686,  1492,   752, 50956,\n",
       "           279, 11513, 34901,   382,    20,    13,  3070, 24617,  5126, 95518,\n",
       "         10967,  1265,   582,  3161,   279, 17943,    30,   362, 14126,    11,\n",
       "           458, 13833, 37239,    11,   264, 25382, 13638,    11,  4992,   382,\n",
       "         12522,   582,  5695,  1493,  3565,    11,   582,   646, 29863,  1290,\n",
       "          1119,   279,  3364,     0, 31733,  1910,   311,  3410,   894,  5107,\n",
       "         19322,   476,  6708,   498,  2578], device='cuda:0'),\n",
       " tensor([77045,     0,   358,  4172,  2948,   311,  1492,   498,   448,   429,\n",
       "            13,  6771,   594,   633,  3855,   553,  6243,   705,  1045, 31774,\n",
       "          1447,    16,    13,  3070,  4868, 11913, 95518,  3155,   498, 10702,\n",
       "           264,   803, 19221, 31405,  4796,   476,   825, 10735,   389, 12610,\n",
       "           323, 26403,  5267,    17,    13,  3070, 15400, 95518,  3555,  3093,\n",
       "           315,  1879,  1035,   498,  1075,   311, 13186,    30, 26484,    11,\n",
       "         37974, 36631,    11, 41008,    11,  4992,   624,    18,    13,  3070,\n",
       "         37489, 95518, 18885,   498,  1075,   311,  1855,   697,  1828,  5766,\n",
       "            11,   476,  1035,   498,  1075,   752,   311,  6923,  1045,   369,\n",
       "           498,  5267,    19,    13,  3070, 41462,  1064, 95518,  3155,   498,\n",
       "           614,   894,  3151,  6708,   476, 21386,   498,  4172,  1075,   311,\n",
       "          5244,   389,   304,   419,  4796,  1939, 12522,   582,  5695,  1493,\n",
       "            11,   582,   646, 29863,  1290,  1119,   279], device='cuda:0')]"
      ]
     },
     "execution_count": 54,
     "metadata": {},
     "output_type": "execute_result"
    }
   ],
   "source": [
    "# create list by dynamic slicing across the first tensor dimension\n",
    "[output['sequences'][i, inputs.shape[-1]:out_lengths[i].item()] for i in range(len(out_lengths))][0:3]"
   ]
  },
  {
   "cell_type": "code",
   "execution_count": 55,
   "id": "55d1f036-4098-4301-9153-d41af5cdec05",
   "metadata": {},
   "outputs": [
    {
     "name": "stdout",
     "output_type": "stream",
     "text": [
      "ELEMENT 0:\n",
      "Absolutely! I'd be happy to help you through a Dungeons & Dragons-style adventure. Since we're creating it on the fly, let's establish a few basics:\n",
      "\n",
      "1. **Setting**: Where does your adventure take place? Think of a specific location or world (e.g., a medieval fantasy kingdom, a post-apocalyptic wasteland, an ancient ruin, etc.).\n",
      "\n",
      "2. **Characters**: What kind of characters will we be playing? Will you be playing as one of the adventurers, or would you like to control multiple characters?\n",
      "\n",
      "3. **Goal**: What is the main goal of the adventure? Are they seeking treasure, trying to stop a villain, exploring an ancient ruin, or something else entirely?\n",
      "\n",
      "Once we have these details, we can dive right into the story! Let me know what you'd like, and we can get started.\n",
      "CHAR-SIZE OF ELEM: 769\n",
      "============================================================\n",
      "\n",
      "ELEMENT 1:\n",
      "Absolutely! I'd love to help you with that. Let's get started by setting up some basics:\n",
      "\n",
      "1. **Setting**: Where would you like the campaign to take place? For example, a fantasy world, a post-apocalyptic wasteland, a steampunk city, etc.\n",
      "\n",
      "2. **Genre**: What kind of tone are you looking for? Epic, dark, comedic, horror, etc.\n",
      "\n",
      "3. **Player Characters (PCs)**: Do you already have characters in mind, or would you like me to create some for you?\n",
      "\n",
      "4. **Difficulty Level**: How experienced are you at D&D? This will help me tailor the challenges appropriately.\n",
      "\n",
      "5. **Starting Point**: Where should we begin the adventure? A village, an ancient ruin, a mysterious forest, etc.\n",
      "\n",
      "Once we establish these details, we can dive right into the story! Feel free to provide any additional preferences or ideas you might\n",
      "CHAR-SIZE OF ELEM: 806\n",
      "============================================================\n",
      "\n",
      "ELEMENT 2:\n",
      "Absolutely! I'd love to help you with that. Let's get started by setting up some basics:\n",
      "\n",
      "1. **Game Style**: Do you prefer a more narrative-driven campaign or one focused on combat and exploration?\n",
      "2. **Setting**: What kind of world would you like to explore? Fantasy, sci-fi, medieval, etc.\n",
      "3. **Characters**: Would you like to create your own characters, or would you like me to generate some for you?\n",
      "4. **Premise**: Do you have any specific ideas or themes you'd like to focus on in this campaign?\n",
      "\n",
      "Once we establish these, we can dive right into the\n",
      "CHAR-SIZE OF ELEM: 554\n",
      "============================================================\n",
      "\n",
      "ELEMENT 3:\n",
      "Absolutely! I'd love to help you through a Dungeons & Dragons campaign. Since I don't have real-time interaction capabilities, I'll guide you step-by-step, and you can describe your character's actions and decisions. We can start with a basic setup and build the story from there.\n",
      "\n",
      "### Campaign Overview:\n",
      "**Title:** *The Shadows of Eldoria*\n",
      "\n",
      "**Setting:** A high-fantasy world inspired by classic D&D settings, with a mix of medieval Europe and ancient civilizations. The campaign will take place in the kingdom of Eldoria, which is currently under threat from an ancient evil stirring in the north.\n",
      "\n",
      "### Session 1: The Call to Adventure\n",
      "\n",
      "#### Scene: The Village of Willowbrook\n",
      "- **Location:** Willowbrook is a small village nestled between rolling hills and dense forests. It’s known for its peacefulness, but recent events have shaken the villagers.\n",
      "- **Background:** A series of mysterious disappearances has left the villagers wary. Strange lights have been seen in the forest, and some say they hear whispers at night.\n",
      "- **Your Character:** You arrive in Willowbrook as a traveler, possibly seeking work or adventure. The villagers approach you with a request: find the missing villagers and uncover the source of the disturbances.\n",
      "\n",
      "#### NPC Encounters:\n",
      "1. **The Mayor:** An elderly man who runs the village. He’s concerned about the disappearances and asks you to investigate.\n",
      "2. **The Blacksmith:** A gruff man who knows more than he lets on. He hints that the forest is not what it seems.\n",
      "3. **The Herbalist:** A kind woman who provides healing supplies. She mentions that certain herbs grow only in the deepest parts of the forest.\n",
      "\n",
      "#### Initial Actions:\n",
      "1. **Explore the Village:** Talk to the villagers, gather information.\n",
      "2. **Visit the Blacksmith:** Ask about the forest and any rumors.\n",
      "3. **Speak with the Herbalist:** Learn about the herbs and their properties.\n",
      "4. **Investigate the Forest:** Decide whether to venture into the forest to find clues.\n",
      "\n",
      "### Your Move:\n",
      "What would you like to do\n",
      "CHAR-SIZE OF ELEM: 2006\n",
      "============================================================\n",
      "\n",
      "ELEMENT 4:\n",
      "Absolutely! I'd love to help you through a Dungeons & Dragons campaign. Since we're working within this text-based environment, I'll need to guide you through the narrative and provide descriptions, while you'll take on the role of your character, describing their actions and decisions.\n",
      "\n",
      "### Campaign Overview:\n",
      "Let's set the scene: You are a young adventurer from a small village in a land called Eldoria. Eldoria is a world filled with magic, mythical creatures, and ancient secrets. The kingdom has been plagued by dark forces, and the royal family has disappeared under mysterious circumstances. As the last hope for Eldoria, you must journey across the land to uncover the truth and restore order.\n",
      "\n",
      "### Session 1: The Call to Adventure\n",
      "\n",
      "**Setting:** The village square in Eldoria Village, early morning.\n",
      "\n",
      "**Characters:**\n",
      "- **You (Player Character):** Your character's race, class, background, and any other relevant details.\n",
      "- **NPCs:** The village elder, a local blacksmith, and a wandering bard.\n",
      "\n",
      "---\n",
      "\n",
      "#### Scene: The Village Square\n",
      "\n",
      "You wake up in your small, cozy cottage. The sun is just beginning to rise, casting a golden hue over the village. The air is crisp, and the sound of birds chirping fills the morning.\n",
      "\n",
      "**NPC (Village Elder):** \"Good morning, young adventurer. Have you heard the news? The royal family has disappeared, and the kingdom is in turmoil.\"\n",
      "\n",
      "**NPC (Blacksmith):** \"Ah, yes, the princess and her family vanished overnight. No one knows where they've gone.\"\n",
      "\n",
      "**NPC (Wandering Bard):** \"Aye, strange indeed. But fear not, for there are always those who seek adventure and glory. Perhaps you have a destiny to fulfill!\"\n",
      "\n",
      "**You:** What would you like to do? Would you like to:\n",
      "1. **Talk to more villagers** for more information.\n",
      "2. **Visit the town hall** to see if there are any official notices or records.\n",
      "3. **Head out into the wilderness** to find clues about the missing royal family?\n",
      "\n",
      "What will you\n",
      "CHAR-SIZE OF ELEM: 1934\n",
      "============================================================\n",
      "\n",
      "ELEMENT 5:\n",
      "Absolutely! I'd love to help you with a D&D campaign. To get started, we'll need to establish a few key details:\n",
      "\n",
      "1. **Setting**: Where does your campaign take place? (e.g., Forgotten Realms, Eberron, a custom world)\n",
      "2. **Theme**: What kind of story are you looking for? (e.g., high fantasy, dark and gritty, light-hearted adventure)\n",
      "3. **Party Composition**: How many players will there be, and what roles do you envision each player taking on?\n",
      "4. **Starting Point**: Where does your campaign begin? (e.g., a village in need of protection, a mysterious artifact found by the party)\n",
      "\n",
      "Once we have these details, I can start generating the story and the adventures as we go along. Let's get\n",
      "CHAR-SIZE OF ELEM: 689\n",
      "============================================================\n",
      "\n",
      "ELEMENT 6:\n",
      "Absolutely! I'd be happy to help you through a Dungeons & Dragons campaign. Since I don't have real-time interaction capabilities, I'll guide you step-by-step, providing descriptions, challenges, and choices as we go along. We can start with a basic premise and develop the story as we progress.\n",
      "\n",
      "### Setting: The Kingdom of Eldoria\n",
      "\n",
      "**Background:**  \n",
      "The kingdom of Eldoria is a land of ancient magic, where humans, elves, dwarves, and other races live in harmony. However, recent disturbances in the mystical balance have led to strange occurrences across the land. Villages have been plagued by dark shadows, and crops have failed. The king has called upon adventurers to find the source of these troubles and restore peace.\n",
      "\n",
      "### First Adventure: The Shadowed Village\n",
      "\n",
      "#### Location: Darkwood Village\n",
      "\n",
      "**Introduction:**\n",
      "As you enter Darkwood Village, you notice something unusual. The villagers are unusually quiet, and the air feels heavy with dread. The village is surrounded by dense, shadowy trees, and the light from your torch barely penetrates the gloom.\n",
      "\n",
      "**NPC Encounter:**\n",
      "A villager approaches you, looking frightened. \"Strangers, you must help us! We've seen strange creatures lurking in the woods. They're not like any beast we’ve ever encountered. Please, help us!\"\n",
      "\n",
      "**Choices:**\n",
      "1. **Investigate the Woods:** Follow the villager into the forest.\n",
      "2. **Talk to the Village Leader:** Speak with the mayor about the situation.\n",
      "3. **Explore the Village:** Look around for clues inside the village.\n",
      "\n",
      "**Your Choice:**\n",
      "\n",
      "---\n",
      "\n",
      "Let's get started! What would you like to do\n",
      "CHAR-SIZE OF ELEM: 1578\n",
      "============================================================\n",
      "\n",
      "ELEMENT 7:\n",
      "That sounds like an exciting idea! While I can certainly help you imagine and guide a Dungeons & Dragons campaign, it's important to note that I can't actually *play* with you in real-time or control a character. However, I can certainly help you create a scenario, develop characters, and guide the story as you go along. \n",
      "\n",
      "Would you like to start with a specific setting, such as a fantasy world, a medieval kingdom, or perhaps something more futuristic? We can also choose a genre or theme for your campaign. Once we have that, we can dive into creating a storyline and developing events as you play through the game.\n",
      "\n",
      "Let me know what you're thinking, and we can get\n",
      "CHAR-SIZE OF ELEM: 670\n",
      "============================================================\n",
      "\n",
      "ELEMENT 8:\n",
      "That sounds like an exciting idea! While I can certainly help you create and guide a Dungeons & Dragons (D&D) campaign, it's important to note that I can't actually *play* with you in real-time. However, I can certainly help you create the story, generate encounters, and guide the narrative as you go along.\n",
      "\n",
      "Here’s how we can work together:\n",
      "\n",
      "### 1. **Setting the Scene:**\n",
      "   - **World**: What kind of world are we in? Fantasy, high-fantasy, dark fantasy, or something else?\n",
      "   - **Campaign Style**: Are we going for a long-term adventure, a series of one-shots, or a specific genre (e.g., horror, comedy)?\n",
      "   - **Player Characters (PCs)**: Who are your characters? What classes, races, backgrounds, and abilities do they have?\n",
      "\n",
      "### 2. **Plot Hook:**\n",
      "   - **Starting Quest**: What brings the PCs together? Is there a mysterious artifact, a missing person, or a looming threat?\n",
      "   - **First Encounter**: What happens when they enter the world of the game? A strange event, a meeting with another NPC, or a battle with monsters?\n",
      "\n",
      "### 3. **As We Go Along:**\n",
      "   - I’ll describe the setting, NPCs, and encounters as you play.\n",
      "   - You can decide what your characters do, and I’ll adjust the story based on your choices.\n",
      "   - We can also introduce new challenges, plot twists, and character developments as the campaign progresses.\n",
      "\n",
      "### Example of How It Might Start:\n",
      "\n",
      "---\n",
      "\n",
      "**Setting:**  \n",
      "You're in a medieval fantasy world where magic is real, but not everyone can use it. The world is divided into several kingdoms, each with their own cultures, politics, and secrets. There are also hidden realms of magical creatures and forgotten civilizations.\n",
      "\n",
      "**Starting Quest:**  \n",
      "Your characters are hired by a mysterious figure to investigate a series of strange occurrences in a nearby village. People have been disappearing, and no one knows why. The village is located in a region known for its ancient ruins and dark magic.\n",
      "\n",
      "**First Encounter:**  \n",
      "The party arrives at the village, which looks peaceful from the outside. As they explore, they notice strange symbols carved into the walls and hear rumors of a cursed artifact that was once kept in the village temple. The villagers are wary and secretive, but one old woman offers them a clue: \"The key lies in the heart of the ruin.\"\n",
      "\n",
      "**Encounter:**  \n",
      "As the party approaches the ancient ruin, they encounter a group of bandits who are looting the area. The bandits are surprised to see the party, but after a brief skirmish, they flee deeper into the ruins. The party decides to follow them.\n",
      "\n",
      "**Inside the Ruins:**  \n",
      "The deeper they go, the more eerie the place becomes. Strange noises echo through the corridors, and the air feels heavy. They find a room filled with ancient artifacts, including a glowing crystal that seems to pulse with power. Just as they approach it, a shadowy figure appears and attacks!\n",
      "\n",
      "---\n",
      "\n",
      "Let me know what you'd like to start with, and we can dive right\n",
      "CHAR-SIZE OF ELEM: 2925\n",
      "============================================================\n",
      "\n",
      "ELEMENT 9:\n",
      "Absolutely! I'd love to help you through a Dungeons & Dragons campaign. Since I can't actually play or control any dice rolls, I'll guide you through the story and describe what's happening, and you can make your character's decisions. How many players are there in total, including yourself? Also, do you have a character concept in mind, or would you like me to create one for you?\n",
      "\n",
      "If you're starting from scratch, we can pick a setting (like a fantasy world, a high-tech dystopia, or something else), create characters, and then dive into an adventure. Let me know how you'd like to\n",
      "CHAR-SIZE OF ELEM: 586\n",
      "============================================================\n",
      "\n"
     ]
    }
   ],
   "source": [
    "output_str = tokenizer.batch_decode([output['sequences'][i, inputs.shape[-1]:out_lengths[i].item()] for i in range(len(out_lengths))], skip_special_tokens=False)\n",
    "ctr = 0 \n",
    "for i, elem in enumerate(output_str):\n",
    "    print(f\"ELEMENT {i}:\\n{elem}\")\n",
    "    print(f\"CHAR-SIZE OF ELEM: {len(elem)}\")\n",
    "    print(\"============================================================\\n\")"
   ]
  },
  {
   "cell_type": "code",
   "execution_count": 234,
   "id": "d230278d-0b9e-454d-ae16-57d825e37908",
   "metadata": {},
   "outputs": [
    {
     "data": {
      "text/plain": [
       "(tensor(104.9000, device='cuda:0'),\n",
       " tensor(133., device='cuda:0'),\n",
       " tensor(20.0413, device='cuda:0'))"
      ]
     },
     "execution_count": 234,
     "metadata": {},
     "output_type": "execute_result"
    }
   ],
   "source": [
    "torch.mean(out_lengths.float()), torch.max(out_lengths.float()), torch.std(out_lengths.float())"
   ]
  },
  {
   "cell_type": "code",
   "execution_count": null,
   "id": "1d2acb50-5109-4199-a0fd-ae8eb33c6871",
   "metadata": {},
   "outputs": [],
   "source": []
  },
  {
   "cell_type": "code",
   "execution_count": 245,
   "id": "f98cd638-3c38-475a-868f-485ee2551307",
   "metadata": {},
   "outputs": [
    {
     "data": {
      "image/png": "[encoded data removed]",
      "text/plain": [
       "<Figure size 800x500 with 1 Axes>"
      ]
     },
     "metadata": {},
     "output_type": "display_data"
    }
   ],
   "source": [
    "import matplotlib.pyplot as plt\n",
    "import torch\n",
    "import numpy as np\n",
    "\n",
    "plot_data = out_lengths.cpu().numpy()\n",
    "plot_std = np.std(plot_data)\n",
    "plot_mean = np.mean(plot_data)\n",
    "\n",
    "# Plot histogram\n",
    "plt.figure(figsize=(8, 5))\n",
    "#plt.hist(out_lengths.cpu().numpy(), bins=10, edgecolor='black', alpha=0.7)\n",
    "plt.plot(range(len(plot_data)), plot_data, marker='o', linestyle='-', color='b', label=\"N values\")\n",
    "plt.axhline(y=plot_mean, color='r', linestyle='--', label=\"mean\")\n",
    "plt.fill_between(range(len(plot_data)), plot_mean-plot_std, plot_mean+plot_std, color='red', alpha=0.2, label=\"std-dev\")\n",
    "\n",
    "plt.xlabel(\"output token lengths\")\n",
    "plt.ylabel(\"Frequency\")\n",
    "plt.ylim(0, max(plot_data)+20)\n",
    "plt.grid(axis='y', linestyle='--', alpha=0.7)\n",
    "plt.show()"
   ]
  },
  {
   "cell_type": "code",
   "execution_count": null,
   "id": "4fafdb18-e7e8-4c3e-8594-fd231b4d32ac",
   "metadata": {},
   "outputs": [],
   "source": []
  },
  {
   "cell_type": "code",
   "execution_count": 250,
   "id": "2cc8a454-a852-4485-9786-66ec8566cfa5",
   "metadata": {},
   "outputs": [],
   "source": [
    "output_forward = model.forward(inputs.to(device_str), output_hidden_states = True)"
   ]
  },
  {
   "cell_type": "code",
   "execution_count": 251,
   "id": "bfee933b-a505-440d-af27-c64b762c2da5",
   "metadata": {
    "scrolled": true
   },
   "outputs": [
    {
     "data": {
      "text/plain": [
       "dict_keys(['loss', 'logits', 'past_key_values', 'hidden_states', 'attentions'])"
      ]
     },
     "execution_count": 251,
     "metadata": {},
     "output_type": "execute_result"
    }
   ],
   "source": [
    "output_forward.__dict__.keys()"
   ]
  },
  {
   "cell_type": "code",
   "execution_count": 252,
   "id": "6be20100-78b4-4e54-9384-08c0fa0aa1e0",
   "metadata": {},
   "outputs": [
    {
     "data": {
      "text/plain": [
       "33"
      ]
     },
     "execution_count": 252,
     "metadata": {},
     "output_type": "execute_result"
    }
   ],
   "source": [
    "len(output_forward.hidden_states)"
   ]
  },
  {
   "cell_type": "code",
   "execution_count": null,
   "id": "b7c45f4f-4ac2-4bf5-aff6-42cb4328c5ff",
   "metadata": {},
   "outputs": [],
   "source": []
  },
  {
   "cell_type": "code",
   "execution_count": 258,
   "id": "95decd11-aa34-4d26-b740-6a356aa52aab",
   "metadata": {},
   "outputs": [
    {
     "data": {
      "text/plain": [
       "True"
      ]
     },
     "execution_count": 258,
     "metadata": {},
     "output_type": "execute_result"
    }
   ],
   "source": [
    "# CHECK IF THE HIDDEN STATES FROM \"forward\" and \"generate\" are the same for the first token generation attempt\n",
    "\n",
    "all([torch.all(output['hidden_states'][0][i] == output_forward['hidden_states'][i]).to('cpu') \n",
    "     for i in range(model.config.num_hidden_layers)])"
   ]
  },
  {
   "cell_type": "code",
   "execution_count": null,
   "id": "8d6eabc8-2808-453e-88c1-d54619c1500f",
   "metadata": {},
   "outputs": [],
   "source": []
  },
  {
   "cell_type": "code",
   "execution_count": null,
   "id": "37b137f9-a06d-404b-be94-8228490a1734",
   "metadata": {},
   "outputs": [],
   "source": []
  },
  {
   "cell_type": "code",
   "execution_count": null,
   "id": "209b511b-8a32-4fae-ba45-d32435c237f2",
   "metadata": {},
   "outputs": [],
   "source": []
  },
  {
   "cell_type": "code",
   "execution_count": null,
   "id": "12e18ea6-817c-41c1-9507-620cf6d17bba",
   "metadata": {},
   "outputs": [],
   "source": []
  },
  {
   "cell_type": "code",
   "execution_count": null,
   "id": "565b7cfa-f0d6-4d8d-9bc4-d25df4d3a7f3",
   "metadata": {},
   "outputs": [],
   "source": []
  },
  {
   "cell_type": "code",
   "execution_count": 82,
   "id": "5a838463-007f-4da5-a6f0-ac6db12f5bae",
   "metadata": {},
   "outputs": [
    {
     "data": {
      "text/plain": [
       "torch.Size([4, 118])"
      ]
     },
     "execution_count": 82,
     "metadata": {},
     "output_type": "execute_result"
    }
   ],
   "source": []
  },
  {
   "cell_type": "code",
   "execution_count": 85,
   "id": "ea02d40f-408c-45d9-9db6-6818dca3f8f7",
   "metadata": {},
   "outputs": [
    {
     "data": {
      "text/plain": [
       "tensor([109,  89,  93, 118], device='cuda:0')"
      ]
     },
     "execution_count": 85,
     "metadata": {},
     "output_type": "execute_result"
    }
   ],
   "source": [
    "torch.sum(tmp != out_eos_mask, dim=1) + 1"
   ]
  },
  {
   "cell_type": "code",
   "execution_count": 84,
   "id": "a495984b-ae85-44cc-82e6-ce1ff05c98ce",
   "metadata": {},
   "outputs": [
    {
     "data": {
      "text/plain": [
       "tensor([[ 3066,   416,   508,   472, 15654,   298,   272,  5264,  8462,   302,\n",
       "          3926,   486,  4676,   297,   264,  4610,   442, 21158,  1069, 28723,\n",
       "           661,   349,   272, 11839,  1007, 15043,   302,  1545,  1179,   369,\n",
       "          6881, 12799,   346, 28725,  1671,  4681,  7394,   442, 12782, 28723,\n",
       "         24640, 28725,   378, 14657,  7484,  1871,   442,  5823,   369, 11117,\n",
       "         11976,   624, 28742, 28713,  1411, 28725,   771, 28725,   442,  9391,\n",
       "         28723,  3066,   416,   508,   472,   541,  1388,  1287,  6967, 28725,\n",
       "          1259,   390,  5283,   272,  1103,  1338, 28725,  7484,   264,  7918,\n",
       "          9234, 28725,   442,  5191,   288,   264,   633,  5701, 28723,   661,\n",
       "           349,   272,  4610,  8318,   369,  8681,   298,  5278, 18014,   304,\n",
       "          7263,  5843,   813,  4621,   297, 12799,  4342, 28723,     2,     2,\n",
       "             2,     2,     2,     2,     2,     2,     2,     2],\n",
       "        [ 3066,   416,   508,   472,   349,   272,  5264,  8462,   304,  4099,\n",
       "           302,  3926,   486,  4676,   297,   264,  4610,   442, 21158,  1069,\n",
       "         28723,   661,   349,   264,  1850,  1307,   298,  6685,   272,  4610,\n",
       "         26892,   442, 28595, 18323,   369, 21700,   739,  1722,  4804, 12799,\n",
       "           346,   304,   297,   264,  1069,   369,  8681,   298,   264,  5278,\n",
       "         14120, 28723,  3066,   416,   508,   472,   349,  2608,   272,  1204,\n",
       "           302,  1250,  1565,   298,   633,  9021, 28725,  1250,   297,   272,\n",
       "          1103,  1633,   438,   272,  1103,   727, 28725,   304,  2461,   264,\n",
       "          5278, 12910,  5083,  1411,   304,   272, 11717, 28723,     2,     2,\n",
       "             2,     2,     2,     2,     2,     2,     2,     2,     2,     2,\n",
       "             2,     2,     2,     2,     2,     2,     2,     2,     2,     2,\n",
       "             2,     2,     2,     2,     2,     2,     2,     2],\n",
       "        [ 3066,   416,   508,   472,   349,   272,  5264,  8462,   304,  4099,\n",
       "           302,  3926,   486,  4676,   297,   264,  4610,   442, 21158,  1069,\n",
       "         28723,   661,   349,   272, 20757,   302,  7484,  1545, 12302,   442,\n",
       "         17364,   486,  4804,  2410, 28725,  1671, 24177, 11246,   378,   575,\n",
       "         28723,   851,   541,   835,  3295,   298,   272,  5537,   298,  1038,\n",
       "         28595,  5191,   497,   442,   298,   506,  1179,  1722,  4804,   298,\n",
       "           368,   486,  4676, 28723,  3066,   416,   508,   472,   349,  2608,\n",
       "          5397,   390,   264,   345, 10808,   294,  2470, 28739,   442,   264,\n",
       "           345, 14844,   302,  6576, 28739,   304,   349,  4525,   264,  8590,\n",
       "          7875, 28723,     2,     2,     2,     2,     2,     2,     2,     2,\n",
       "             2,     2,     2,     2,     2,     2,     2,     2,     2,     2,\n",
       "             2,     2,     2,     2,     2,     2,     2,     2],\n",
       "        [ 3066,   416,   508,   472,   349,   272,  5264,  8462,   304,  4099,\n",
       "           302,  3926,   486,  4676,   297,   264,  4610,   442, 21158,  1069,\n",
       "         28723,   661,   349,   264,  1850,  1307,   298,  6685,   272, 12799,\n",
       "         28725,  5278, 18014,   369,   541,  4804,   739,  1722,  1567,  2553,\n",
       "           297,   264,  2552,  1069, 28723,  3066,   416,   508,   472,  2608,\n",
       "         14657,  7484,  1545,   442,  2493,   369,   349, 12302, 28725, 10865,\n",
       "           442, 26104,   739,   368,  2429,  1675,   378, 28723,   661,   349,\n",
       "          4662, 11449,   298,   390,   345, 12684,  6576,   548,   345,  2878,\n",
       "          1802,   548,   442,   345,  7133,  3164,  2586,  3066,   416,   508,\n",
       "           472,  8928,   396,  2278,  3905,   297,  1287, 10936,   302,  1411,\n",
       "         28725,   477,  7484,  2016,   304,  2492,   633,  3282,   298,  5191,\n",
       "           288,   633,  8812,   304, 25122,  2288, 28723,     2]],\n",
       "       device='cuda:0')"
      ]
     },
     "execution_count": 84,
     "metadata": {},
     "output_type": "execute_result"
    }
   ],
   "source": []
  },
  {
   "cell_type": "code",
   "execution_count": null,
   "id": "0e112a6e-b153-420e-98eb-fd78bd80504c",
   "metadata": {},
   "outputs": [],
   "source": []
  },
  {
   "cell_type": "code",
   "execution_count": null,
   "id": "4b262d0d-80d9-4b2a-8c52-54d56fa865d0",
   "metadata": {},
   "outputs": [],
   "source": []
  },
  {
   "cell_type": "code",
   "execution_count": 51,
   "id": "259ccc7c-5ec0-4cd0-9a90-28e2efbd7012",
   "metadata": {},
   "outputs": [],
   "source": []
  },
  {
   "cell_type": "code",
   "execution_count": 52,
   "id": "a7488552-3c08-4245-abb6-34bfe0d07c39",
   "metadata": {},
   "outputs": [
    {
     "name": "stdout",
     "output_type": "stream",
     "text": [
      "Serendipity refers to the occurrence and development of events by chance, in a happy or beneficial way. It is the fortunate discovery of something valuable, unexpected or pleasing. Serendipity often leads to opportunities and good outcomes, and can play a significant role in shaping one's life or experiences.</s></s></s></s></s></s></s></s></s></s></s></s></s></s></s></s></s></s></s></s></s></s></s></s></s></s></s></s></s></s></s></s></s></s></s></s></s></s></s></s></s></s></s></s></s></s></s></s></s></s></s></s></s>\n",
      "CHAR-SIZE OF ELEM: 522\n",
      "============================================================\n",
      "\n",
      "Serendipity is the occurrence and development of events by chance in a happy or beneficial way. It is the discovery of something good or useful that happens unexpectedly, often in a surprising way. Serendipity can take many forms, such as finding a new job opportunity, meeting someone important, or stumbling upon a solution to a problem. It is seen as a stroke of luck or good fortune, and is often valued as a positive force in our lives.</s></s></s></s></s></s></s></s></s></s></s></s></s></s></s></s></s></s></s></s></s></s>\n",
      "CHAR-SIZE OF ELEM: 529\n",
      "============================================================\n",
      "\n",
      "Serendipity is the happenstance and beneficial coincidence of events, often resulting in happy accidents or valuable discoveries. It is the occurrence and development of events by chance in a happy or beneficial way, rather than by design or planning. Serendipity often leads to new opportunities and unexpected outcomes, and can have a significant impact on individuals and organizations. It is considered a valuable concept in fields such as business, science, and art, where creative problem-solving and innovation are often fostered.</s></s></s></s></s></s></s></s></s></s></s></s></s></s>\n",
      "CHAR-SIZE OF ELEM: 593\n",
      "============================================================\n",
      "\n",
      "Serendipity is the occurrence and development of events by chance in a happy or beneficial way. It is the phenomenon where something good happens to you by accident, often in a way that seems meant to happen. Serendipity is a concept that suggests that good things come to those who are open to new experiences and willing to take risks. It often involves a combination of chance, circumstance, and fate, and can manifest in many different ways, from finding a soulmate to discovering a new opportunity.</s></s></s></s></s></s></s></s></s></s></s></s></s>\n",
      "CHAR-SIZE OF ELEM: 555\n",
      "============================================================\n",
      "\n",
      "Serendipity is the occurrence and development of events by chance in a happy or beneficial way. It is the discovery of something or someone good, interesting, or useful by happenstance. The term itself was coined by the poet Horace Walpole, who described it as \"the happy accident.\" Serendipity often plays a role in personal growth, relationships, and achieving success. It involves being open to new experiences, being receptive to change, and having a positive outlook on life.</s></s></s></s></s></s></s></s></s></s></s></s></s>\n",
      "CHAR-SIZE OF ELEM: 532\n",
      "============================================================\n",
      "\n",
      "Serendipity refers to the occurrence of events by chance in a happy or beneficial way. It is the delightful discovery of something good that happens unexpectedly, without prior planning or intention. Often, it involves finding information or resources that significantly enhance one's life, work, or relationships. Serendipity can take many forms, such as meeting the right person, finding a hidden talent, or discovering a new opportunity. It is the happy accident that leads to positive outcomes and helps shape our lives in unexpected ways.</s></s></s></s></s></s></s></s></s></s>\n",
      "CHAR-SIZE OF ELEM: 583\n",
      "============================================================\n",
      "\n",
      "Serendipity is the occurrence and development of events by chance in a happy or beneficial way. It is a term used to describe the happy accidents or fortunate occasions that arise when things happen unexpectedly and in a way that leads to a positive outcome. Serendipity is often the result of being open to new experiences, being in the right place at the right time, and having a positive attitude towards life and the universe.</s></s></s></s></s></s></s></s></s></s></s></s></s></s></s></s></s></s></s></s></s></s></s></s></s></s></s></s></s></s>\n",
      "CHAR-SIZE OF ELEM: 550\n",
      "============================================================\n",
      "\n",
      "Serendipity is the occurrence and development of events by chance in a happy or beneficial way. It is the phenomenon of finding something valuable or pleasant by happenstance, without deliberately seeking it out. This can also refer to the ability to make fortunate discoveries or to have good things happen to you by chance. Serendipity is often described as a \"magic moment\" or a \"stroke of luck\" and is considered a wonderful gift.</s></s></s></s></s></s></s></s></s></s></s></s></s></s></s></s></s></s></s></s></s></s></s></s></s></s>\n",
      "CHAR-SIZE OF ELEM: 538\n",
      "============================================================\n",
      "\n",
      "Serendipity is the occurrence and development of events by chance in a happy or beneficial way. It is a term used to describe the unexpected, positive outcomes that can happen when things come together in a certain way. Serendipity often involves finding something or someone that is valuable, helpful or enjoyable when you least expect it. It is sometimes referred to as \"good luck\", \"fortune\", or \" Providence\". Serendipity plays an important role in many aspects of life, from finding love and making new friends to discovering new opportunities and achieving success.</s>\n",
      "CHAR-SIZE OF ELEM: 575\n",
      "============================================================\n",
      "\n",
      "Serendipity refers to the phenomenon of finding something valuable or enjoyable by accident or happenstance, rather than through deliberate seeking or planning. It is often described as a happy coincidence or fortunate occurrence that leads to a positive outcome or discovery. Serendipity can play a significant role in various aspects of life, such as love, career, creativity, and personal growth.</s></s></s></s></s></s></s></s></s></s></s></s></s></s></s></s></s></s></s></s></s></s></s></s></s></s></s></s></s></s></s></s></s></s></s></s></s></s></s></s>\n",
      "CHAR-SIZE OF ELEM: 559\n",
      "============================================================\n",
      "\n"
     ]
    }
   ],
   "source": [
    "for elem in output_str:\n",
    "    print(f\"{elem}\")\n",
    "    print(f\"CHAR-SIZE OF ELEM: {len(elem)}\")\n",
    "    print(\"============================================================\\n\")"
   ]
  },
  {
   "cell_type": "code",
   "execution_count": null,
   "id": "cc8a6040-d0d6-4071-a059-36d8c2cffe14",
   "metadata": {},
   "outputs": [],
   "source": []
  },
  {
   "cell_type": "code",
   "execution_count": null,
   "id": "fbda2990-aaa4-4ab9-be03-88466d2b5987",
   "metadata": {},
   "outputs": [],
   "source": []
  },
  {
   "cell_type": "code",
   "execution_count": null,
   "id": "3c23bcbe-619b-4bda-88b5-ba263890aa3c",
   "metadata": {},
   "outputs": [],
   "source": []
  },
  {
   "cell_type": "code",
   "execution_count": null,
   "id": "f657617e-ac46-419d-96e6-647c3e9085ce",
   "metadata": {},
   "outputs": [],
   "source": []
  },
  {
   "cell_type": "code",
   "execution_count": null,
   "id": "b991691c-1c57-4204-b618-03bc2107f676",
   "metadata": {},
   "outputs": [],
   "source": []
  },
  {
   "cell_type": "code",
   "execution_count": null,
   "id": "46eb9b17-8097-49dc-a50a-4cfb00e83c2f",
   "metadata": {},
   "outputs": [],
   "source": []
  },
  {
   "cell_type": "code",
   "execution_count": null,
   "id": "4ad60602-b9d9-49e9-a3dc-019a9d639397",
   "metadata": {},
   "outputs": [],
   "source": []
  },
  {
   "cell_type": "code",
   "execution_count": null,
   "id": "ac766ab7-dd37-4d82-809b-624a05fe9265",
   "metadata": {},
   "outputs": [],
   "source": []
  },
  {
   "cell_type": "code",
   "execution_count": null,
   "id": "83d76e0c-9575-4975-9427-e1cd6f89936b",
   "metadata": {},
   "outputs": [],
   "source": []
  },
  {
   "cell_type": "code",
   "execution_count": 6,
   "id": "9a934fa7-93d5-4d4a-84b1-f433b418554b",
   "metadata": {},
   "outputs": [
    {
     "name": "stdout",
     "output_type": "stream",
     "text": [
      "<bos><start_of_turn>user\n",
      "What is serendipity? Explain in maximum one paragraph.<end_of_turn>\n",
      "\n"
     ]
    }
   ],
   "source": [
    "# sentences = [\"What is serendipity? Explain in one sentence.\", \n",
    "#              \"When was Kennedy president?\", \n",
    "#              \"Write me a to-do list.\", \n",
    "#              \"Alice has 5 apples and Bob has 3. If Bob takes 1 apple from Alice, how many apples do both have at the end?\"]\n",
    "\n",
    "# sentences = [\"What is serendipity? Explain in maximum one paragraph.\"]*4 \n",
    "sentences = [{\"role\": \"user\", \"content\": \"What is serendipity? Explain in maximum one paragraph.\"}]\n",
    "print(tokenizer.decode(tokenizer.apply_chat_template(sentences)))#, add_generation_prompt=True)))"
   ]
  },
  {
   "cell_type": "code",
   "execution_count": 11,
   "id": "97215e9f-2c46-4cfd-9d4b-61cfad1f0393",
   "metadata": {},
   "outputs": [],
   "source": [
    "inputs = tokenizer(sentences, return_tensors=\"pt\", padding=True).to(device_str)"
   ]
  },
  {
   "cell_type": "code",
   "execution_count": 12,
   "id": "7957c6dd-2734-4555-88e4-6e8e761b2193",
   "metadata": {},
   "outputs": [
    {
     "data": {
      "text/plain": [
       "{'input_ids': tensor([[     2,   1841,    603,   1369, 197762, 235336,  36576,    575,   7725,\n",
       "            974,  16957, 235265]], device='cuda:1'), 'attention_mask': tensor([[1, 1, 1, 1, 1, 1, 1, 1, 1, 1, 1, 1]], device='cuda:1')}"
      ]
     },
     "execution_count": 12,
     "metadata": {},
     "output_type": "execute_result"
    }
   ],
   "source": [
    "inputs"
   ]
  },
  {
   "cell_type": "code",
   "execution_count": 86,
   "id": "171fd4dd-8ebb-4b97-9b52-7056921fbea1",
   "metadata": {},
   "outputs": [
    {
     "data": {
      "text/plain": [
       "1000000000000000019884624838655"
      ]
     },
     "execution_count": 86,
     "metadata": {},
     "output_type": "execute_result"
    }
   ],
   "source": [
    "tokenizer.max_len_single_sentence"
   ]
  },
  {
   "cell_type": "code",
   "execution_count": null,
   "id": "02b01b46-4606-4a8f-8ea9-cfc342200619",
   "metadata": {},
   "outputs": [],
   "source": []
  },
  {
   "cell_type": "code",
   "execution_count": 53,
   "id": "5fd361e4-3d6f-4d75-9ee8-ba2fc7274245",
   "metadata": {},
   "outputs": [
    {
     "name": "stdout",
     "output_type": "stream",
     "text": [
      "{{ bos_token }}{% if messages[0]['role'] == 'system' %}{{ raise_exception('System role not supported') }}{% endif %}{% for message in messages %}{% if (message['role'] == 'user') != (loop.index0 % 2 == 0) %}{{ raise_exception('Conversation roles must alternate user/assistant/user/assistant/...') }}{% endif %}{% if (message['role'] == 'assistant') %}{% set role = 'model' %}{% else %}{% set role = message['role'] %}{% endif %}{{ '<start_of_turn>' + role + '\n",
      "' + message['content'] | trim + '<end_of_turn>\n",
      "' }}{% endfor %}{% if add_generation_prompt %}{{'<start_of_turn>model\n",
      "'}}{% endif %}\n"
     ]
    }
   ],
   "source": [
    "print(tokenizer.get_chat_template())"
   ]
  },
  {
   "cell_type": "code",
   "execution_count": 54,
   "id": "83095cd1-f5b5-4814-8f83-e78aef16d086",
   "metadata": {},
   "outputs": [
    {
     "name": "stdout",
     "output_type": "stream",
     "text": [
      "<bos><start_of_turn>user\n",
      "<end_of_turn>\n",
      "<start_of_turn>model\n",
      "You are a helpful assistant.<end_of_turn>\n",
      "<start_of_turn>user\n",
      "What is serendipity? Explain in maximum one paragraph.<end_of_turn>\n",
      "\n"
     ]
    }
   ],
   "source": [
    "sentences = [\n",
    "    {\"role\": \"user\", \"content\": \"\"},\n",
    "    {\"role\": \"assistant\", \"content\": \"You are a helpful assistant.\"},\n",
    "    {\"role\": \"user\", \"content\": \"What is serendipity? Explain in maximum one paragraph.\"},\n",
    "]\n",
    "print(tokenizer.decode(tokenizer.apply_chat_template(sentences)))"
   ]
  },
  {
   "cell_type": "code",
   "execution_count": 58,
   "id": "0f27c61a-85c9-44a6-94ea-5c586bcf50fd",
   "metadata": {},
   "outputs": [],
   "source": [
    "inputs = tokenizer.apply_chat_template(sentences, padding=True, return_tensors=\"pt\").to(device_str)"
   ]
  },
  {
   "cell_type": "code",
   "execution_count": 59,
   "id": "793ff3a0-1a38-467c-91a1-5ff1cd7942ef",
   "metadata": {},
   "outputs": [
    {
     "data": {
      "text/plain": [
       "tensor([[     2,    106,   1645,    108,    107,    108,    106,   2516,    108,\n",
       "           2045,    708,    476,  10055,  20409, 235265,    107,    108,    106,\n",
       "           1645,    108,   1841,    603,   1369, 197762, 235336,  36576,    575,\n",
       "           7725,    974,  16957, 235265,    107,    108]], device='cuda:1')"
      ]
     },
     "execution_count": 59,
     "metadata": {},
     "output_type": "execute_result"
    }
   ],
   "source": [
    "inputs"
   ]
  },
  {
   "cell_type": "code",
   "execution_count": 57,
   "id": "3d5089ad-729d-439e-ace0-61d49222d549",
   "metadata": {},
   "outputs": [],
   "source": [
    "inputs = tokenizer(tokenizer.decode(tokenizer.apply_chat_template(sentences)), return_tensors=\"pt\").to(device_str)"
   ]
  },
  {
   "cell_type": "code",
   "execution_count": 76,
   "id": "ff21a421-5d5f-4a83-a365-b02b1b6779df",
   "metadata": {},
   "outputs": [
    {
     "data": {
      "text/plain": [
       "33"
      ]
     },
     "execution_count": 76,
     "metadata": {},
     "output_type": "execute_result"
    }
   ],
   "source": [
    "inputs.shape[1]"
   ]
  },
  {
   "cell_type": "code",
   "execution_count": 60,
   "id": "315b9618-d8d2-465b-b768-37ceb2d071f2",
   "metadata": {},
   "outputs": [],
   "source": [
    "generation_config = GenerationConfig.from_pretrained(model_name, token=access_tk)\n",
    "#generation_config.output_hidden_states = True\n",
    "#generation_config.return_dict_in_generate = True\n",
    "#generation_config.output_logits = True\n",
    "generation_config.max_new_tokens = 10000\n",
    "generation_config.pad_token_id = tokenizer.pad_token_id\n",
    "generation_config.use_cache = True\n"
   ]
  },
  {
   "cell_type": "code",
   "execution_count": 62,
   "id": "d78396b2-64ab-415c-8ca1-3ce0a8bf530c",
   "metadata": {},
   "outputs": [],
   "source": [
    "output = model.generate(inputs, generation_config=generation_config)"
   ]
  },
  {
   "cell_type": "code",
   "execution_count": 73,
   "id": "b02b3cf3-4ec4-4f32-b48f-c02f57be34a1",
   "metadata": {},
   "outputs": [
    {
     "data": {
      "text/plain": [
       "tensor([[     2,    106,   1645,    108,    107,    108,    106,   2516,    108,\n",
       "           2045,    708,    476,  10055,  20409, 235265,    107,    108,    106,\n",
       "           1645,    108,   1841,    603,   1369, 197762, 235336,  36576,    575,\n",
       "           7725,    974,  16957, 235265,    107,    108, 235287,   3191, 197762,\n",
       "         235287,    603,    573,  28635,    578,   3505,    576,   5562,    731,\n",
       "           7068,    575,    476,   4915,    689,  26014,   1703, 235265,   1165,\n",
       "         235303, 235256,   1105,  10488,   2775,  14222,    689,   7103,  71024,\n",
       "         235269,   3695,   1593,    476,  42006,  60154, 235265, 235248,    110,\n",
       "            107]], device='cuda:1')"
      ]
     },
     "execution_count": 73,
     "metadata": {},
     "output_type": "execute_result"
    }
   ],
   "source": [
    "output"
   ]
  },
  {
   "cell_type": "code",
   "execution_count": 78,
   "id": "e7a6cb9a-6c6b-47a5-9e48-3b77db493ced",
   "metadata": {},
   "outputs": [],
   "source": [
    "output_str = tokenizer.batch_decode(output[:,inputs.shape[1]:], skip_special_tokens=True)"
   ]
  },
  {
   "cell_type": "code",
   "execution_count": 82,
   "id": "8b13015a-3192-4c17-ad3e-31033a069dba",
   "metadata": {},
   "outputs": [
    {
     "name": "stdout",
     "output_type": "stream",
     "text": [
      "*Serendipity* is the occurrence and development of events by chance in a happy or beneficial way. It's about finding something valuable or interesting unexpectedly, often through a fortunate coincidence. \n",
      "\n",
      "\n",
      "\n",
      "SIZE OF ELEM: 207\n",
      "\n",
      "\n"
     ]
    }
   ],
   "source": [
    "for elem in output_str:\n",
    "    print(f\"{elem}\")\n",
    "    print(f\"SIZE OF ELEM: {len(elem)}\")\n",
    "    print(\"\\n\")"
   ]
  },
  {
   "cell_type": "code",
   "execution_count": 83,
   "id": "944ecb1f-509b-4410-b10b-7c7d3a591531",
   "metadata": {},
   "outputs": [
    {
     "data": {
      "text/plain": [
       "1000000000000000019884624838655"
      ]
     },
     "execution_count": 83,
     "metadata": {},
     "output_type": "execute_result"
    }
   ],
   "source": [
    "tokenizer.max_len_single_sentence"
   ]
  },
  {
   "cell_type": "code",
   "execution_count": null,
   "id": "c8e5eb1a-65bc-4d48-969a-a6621f1f50fa",
   "metadata": {},
   "outputs": [],
   "source": []
  },
  {
   "cell_type": "code",
   "execution_count": null,
   "id": "60911ad8-0abd-4693-b89a-069fb605b2a4",
   "metadata": {},
   "outputs": [],
   "source": []
  },
  {
   "cell_type": "code",
   "execution_count": null,
   "id": "61928d3b-776e-48e1-a840-0adcb1e4c5fa",
   "metadata": {},
   "outputs": [],
   "source": []
  },
  {
   "cell_type": "code",
   "execution_count": null,
   "id": "9353b88d-2a1f-4a26-8948-45ca9e8529ed",
   "metadata": {},
   "outputs": [],
   "source": []
  },
  {
   "cell_type": "code",
   "execution_count": null,
   "id": "b17dac67-e1e9-4d8d-80f7-35d4c3836267",
   "metadata": {},
   "outputs": [],
   "source": []
  },
  {
   "cell_type": "code",
   "execution_count": null,
   "id": "ca734724-ef8c-459c-9720-707161a5a310",
   "metadata": {},
   "outputs": [],
   "source": []
  },
  {
   "cell_type": "code",
   "execution_count": null,
   "id": "8df48cf6-b6d9-470d-90c2-f8fce9635519",
   "metadata": {},
   "outputs": [],
   "source": []
  },
  {
   "cell_type": "code",
   "execution_count": null,
   "id": "3fb66486-66a2-4049-94e5-5f1184f3aa5b",
   "metadata": {},
   "outputs": [],
   "source": []
  },
  {
   "cell_type": "code",
   "execution_count": null,
   "id": "7e8e3aa9-f543-43ea-ac65-17f6f5ea8133",
   "metadata": {},
   "outputs": [],
   "source": []
  },
  {
   "cell_type": "code",
   "execution_count": 31,
   "id": "70a484c0-4021-4a65-827a-0483ac0e0d19",
   "metadata": {},
   "outputs": [],
   "source": []
  },
  {
   "cell_type": "code",
   "execution_count": null,
   "id": "715600ed-e055-4a1f-a639-23ea65ba3734",
   "metadata": {},
   "outputs": [],
   "source": []
  },
  {
   "cell_type": "code",
   "execution_count": 21,
   "id": "2805eb7a-dae2-4d57-a69f-8a1fb14509df",
   "metadata": {},
   "outputs": [],
   "source": [
    "def tokenize_and_infer(model, generation_config, prompt):\n",
    "    inputs = tokenizer(prompt, return_tensors='pt')\n",
    "    input_ids = inputs.input_ids.to('cuda')\n",
    "    output = model.generate(input_ids, \n",
    "                            generation_config=generation_config, \n",
    "                            attention_mask=inputs.attention_mask)\n",
    "    # Return the length of the tokenized input, and the output from \"generate\"\n",
    "    return len(inputs.input_ids[0]), output"
   ]
  },
  {
   "cell_type": "code",
   "execution_count": null,
   "id": "ae348887-4d9f-4a95-827b-2d3280d90377",
   "metadata": {},
   "outputs": [],
   "source": []
  },
  {
   "cell_type": "code",
   "execution_count": 32,
   "id": "01663eac-5222-4c91-9744-c0718c585a91",
   "metadata": {
    "scrolled": true
   },
   "outputs": [
    {
     "name": "stderr",
     "output_type": "stream",
     "text": [
      "Setting `pad_token_id` to `eos_token_id`:None for open-end generation.\n"
     ]
    }
   ],
   "source": [
    "input_len, output = tokenize_and_infer(model, generation_config, sentences[0])"
   ]
  },
  {
   "cell_type": "code",
   "execution_count": 111,
   "id": "e37bb127-65ac-4a12-bdc0-5f297cbc0c46",
   "metadata": {},
   "outputs": [
    {
     "name": "stdout",
     "output_type": "stream",
     "text": [
      "27\n"
     ]
    }
   ],
   "source": [
    "out_tokens = len(output.logits)\n",
    "print(out_tokens)"
   ]
  },
  {
   "cell_type": "code",
   "execution_count": 105,
   "id": "10901d3c-fb3d-4ae6-9bbf-b0f78488d8b7",
   "metadata": {},
   "outputs": [
    {
     "data": {
      "text/plain": [
       "tensor([128000,   3923,    374,   1446,    408,    575,    488,     30,  83017,\n",
       "           304,    832,  11914,     13,   8409,    408,    575,    488,    374,\n",
       "           279,  32659,    315,   9455,   2555,  15525,    477,  50189,    994,\n",
       "           499,   3325,   1755,    433,     11,   3629,   1555,   6140,    477,\n",
       "         16907,  13463,     13, 128009], device='cuda:0')"
      ]
     },
     "execution_count": 105,
     "metadata": {},
     "output_type": "execute_result"
    }
   ],
   "source": [
    "output['sequences'][0]"
   ]
  },
  {
   "cell_type": "code",
   "execution_count": 106,
   "id": "179fa8ff-435f-4940-b44a-d76b226c0bd9",
   "metadata": {},
   "outputs": [],
   "source": [
    "out_text = tokenizer.decode(output['sequences'][0][input_len:], skip_special_tokens=True, clean_up_tokenization_spaces=False)"
   ]
  },
  {
   "cell_type": "code",
   "execution_count": 107,
   "id": "7f05c504-7e29-46eb-9088-a67731ab3069",
   "metadata": {},
   "outputs": [
    {
     "data": {
      "text/plain": [
       "' Serendipity is the occurrence of finding something valuable or delightful when you least expect it, often through chance or unexpected circumstances.'"
      ]
     },
     "execution_count": 107,
     "metadata": {},
     "output_type": "execute_result"
    }
   ],
   "source": [
    "out_text"
   ]
  },
  {
   "cell_type": "code",
   "execution_count": 108,
   "id": "53d2d698-65dd-4d07-988a-447cfa127b45",
   "metadata": {},
   "outputs": [
    {
     "data": {
      "text/plain": [
       "13"
      ]
     },
     "execution_count": 108,
     "metadata": {},
     "output_type": "execute_result"
    }
   ],
   "source": [
    "input_len"
   ]
  },
  {
   "cell_type": "code",
   "execution_count": 33,
   "id": "be6d6190-ead6-47f6-a090-44fd418b4e37",
   "metadata": {},
   "outputs": [
    {
     "data": {
      "text/plain": [
       "dict_keys(['sequences', 'scores', 'logits', 'attentions', 'hidden_states', 'past_key_values'])"
      ]
     },
     "execution_count": 33,
     "metadata": {},
     "output_type": "execute_result"
    }
   ],
   "source": [
    "output.__dict__.keys()"
   ]
  },
  {
   "cell_type": "code",
   "execution_count": 63,
   "id": "ef4848e9-b6e9-4913-bf4a-04543c67d96f",
   "metadata": {},
   "outputs": [
    {
     "data": {
      "text/plain": [
       "27"
      ]
     },
     "execution_count": 63,
     "metadata": {},
     "output_type": "execute_result"
    }
   ],
   "source": [
    "len(output.logits)"
   ]
  },
  {
   "cell_type": "code",
   "execution_count": 77,
   "id": "fc355709-8049-4138-80e1-c2741ed6d29c",
   "metadata": {},
   "outputs": [
    {
     "data": {
      "text/plain": [
       "torch.Size([1, 128256])"
      ]
     },
     "execution_count": 77,
     "metadata": {},
     "output_type": "execute_result"
    }
   ],
   "source": [
    "output.logits[0].shape"
   ]
  },
  {
   "cell_type": "code",
   "execution_count": null,
   "id": "27c00d6b-f47d-460b-807c-2e901a4f2375",
   "metadata": {},
   "outputs": [],
   "source": []
  },
  {
   "cell_type": "code",
   "execution_count": 135,
   "id": "7a43d368-a41e-4594-b2d2-3a477742777b",
   "metadata": {},
   "outputs": [
    {
     "data": {
      "text/plain": [
       "1"
      ]
     },
     "execution_count": 135,
     "metadata": {},
     "output_type": "execute_result"
    }
   ],
   "source": [
    "len(output.hidden_states[2][0])"
   ]
  },
  {
   "cell_type": "code",
   "execution_count": 136,
   "id": "1c537a52-a8fa-412d-9cfd-1c629b53bee7",
   "metadata": {},
   "outputs": [
    {
     "data": {
      "text/plain": [
       "torch.Size([1, 1, 2048])"
      ]
     },
     "execution_count": 136,
     "metadata": {},
     "output_type": "execute_result"
    }
   ],
   "source": [
    "output.hidden_states[2][0].shape"
   ]
  },
  {
   "cell_type": "code",
   "execution_count": null,
   "id": "64bcfe70-0fae-44a5-a988-fcc35c32e1b1",
   "metadata": {},
   "outputs": [],
   "source": [
    "len(output['hidden_states'])"
   ]
  },
  {
   "cell_type": "code",
   "execution_count": 84,
   "id": "a9593d16-0c58-4787-b8e2-4236b2912626",
   "metadata": {},
   "outputs": [
    {
     "name": "stdout",
     "output_type": "stream",
     "text": [
      "###########################\n",
      "What is serendipity? Explain in one sentence. Serendipity is the occurrence of finding something valuable or delightful when you least expect it, often through chance or unexpected circumstances.\n"
     ]
    }
   ],
   "source": [
    "for elem in tokenizer.batch_decode(output['sequences'], skip_special_tokens=True, clean_up_tokenization_spaces=False): \n",
    "    print(f\"###########################\\n{elem}\")"
   ]
  },
  {
   "cell_type": "code",
   "execution_count": 85,
   "id": "5c4fac6a-ea8b-4851-9253-37a41999802d",
   "metadata": {},
   "outputs": [
    {
     "data": {
      "text/plain": [
       "40"
      ]
     },
     "execution_count": 85,
     "metadata": {},
     "output_type": "execute_result"
    }
   ],
   "source": [
    "len(output['sequences'][0])"
   ]
  },
  {
   "cell_type": "code",
   "execution_count": 76,
   "id": "ece35452-2aa5-4a51-a4cf-7672d7280a28",
   "metadata": {},
   "outputs": [
    {
     "ename": "RuntimeError",
     "evalue": "The size of tensor a (2048) must match the size of tensor b (128256) at non-singleton dimension 1",
     "output_type": "error",
     "traceback": [
      "\u001b[0;31m---------------------------------------------------------------------------\u001b[0m",
      "\u001b[0;31mRuntimeError\u001b[0m                              Traceback (most recent call last)",
      "Cell \u001b[0;32mIn[76], line 1\u001b[0m\n\u001b[0;32m----> 1\u001b[0m torch\u001b[38;5;241m.\u001b[39mall(\u001b[43moutput\u001b[49m\u001b[38;5;241;43m.\u001b[39;49m\u001b[43mhidden_states\u001b[49m\u001b[43m[\u001b[49m\u001b[38;5;241;43m0\u001b[39;49m\u001b[43m]\u001b[49m\u001b[43m[\u001b[49m\u001b[38;5;241;43m-\u001b[39;49m\u001b[38;5;241;43m1\u001b[39;49m\u001b[43m]\u001b[49m\u001b[43m[\u001b[49m\u001b[38;5;241;43m0\u001b[39;49m\u001b[43m,\u001b[49m\u001b[38;5;241;43m-\u001b[39;49m\u001b[38;5;241;43m1\u001b[39;49m\u001b[43m,\u001b[49m\u001b[43m:\u001b[49m\u001b[43m]\u001b[49m\u001b[43m \u001b[49m\u001b[38;5;241;43m==\u001b[39;49m\u001b[43m \u001b[49m\u001b[43moutput\u001b[49m\u001b[38;5;241;43m.\u001b[39;49m\u001b[43mlogits\u001b[49m\u001b[43m[\u001b[49m\u001b[38;5;241;43m0\u001b[39;49m\u001b[43m]\u001b[49m)\n",
      "\u001b[0;31mRuntimeError\u001b[0m: The size of tensor a (2048) must match the size of tensor b (128256) at non-singleton dimension 1"
     ]
    }
   ],
   "source": [
    "torch.all(output.hidden_states[0][-1][0,-1,:] == output.logits[0])"
   ]
  },
  {
   "cell_type": "code",
   "execution_count": null,
   "id": "227b8466-6b10-44b9-9c75-0b34fe56d9af",
   "metadata": {},
   "outputs": [],
   "source": []
  },
  {
   "cell_type": "code",
   "execution_count": null,
   "id": "8ce4a4c0-4b22-4298-af90-dbdce94df24d",
   "metadata": {},
   "outputs": [],
   "source": []
  },
  {
   "cell_type": "code",
   "execution_count": 52,
   "id": "7aa96a27-960c-44aa-8736-655e569a2fcd",
   "metadata": {},
   "outputs": [
    {
     "data": {
      "text/plain": [
       "LlamaForCausalLM(\n",
       "  (model): LlamaModel(\n",
       "    (embed_tokens): Embedding(128256, 2048)\n",
       "    (layers): ModuleList(\n",
       "      (0-15): 16 x LlamaDecoderLayer(\n",
       "        (self_attn): LlamaSdpaAttention(\n",
       "          (q_proj): Linear(in_features=2048, out_features=2048, bias=False)\n",
       "          (k_proj): Linear(in_features=2048, out_features=512, bias=False)\n",
       "          (v_proj): Linear(in_features=2048, out_features=512, bias=False)\n",
       "          (o_proj): Linear(in_features=2048, out_features=2048, bias=False)\n",
       "          (rotary_emb): LlamaRotaryEmbedding()\n",
       "        )\n",
       "        (mlp): LlamaMLP(\n",
       "          (gate_proj): Linear(in_features=2048, out_features=8192, bias=False)\n",
       "          (up_proj): Linear(in_features=2048, out_features=8192, bias=False)\n",
       "          (down_proj): Linear(in_features=8192, out_features=2048, bias=False)\n",
       "          (act_fn): SiLU()\n",
       "        )\n",
       "        (input_layernorm): LlamaRMSNorm((2048,), eps=1e-05)\n",
       "        (post_attention_layernorm): LlamaRMSNorm((2048,), eps=1e-05)\n",
       "      )\n",
       "    )\n",
       "    (norm): LlamaRMSNorm((2048,), eps=1e-05)\n",
       "    (rotary_emb): LlamaRotaryEmbedding()\n",
       "  )\n",
       "  (lm_head): Linear(in_features=2048, out_features=128256, bias=False)\n",
       ")"
      ]
     },
     "execution_count": 52,
     "metadata": {},
     "output_type": "execute_result"
    }
   ],
   "source": [
    "model"
   ]
  },
  {
   "cell_type": "code",
   "execution_count": 3,
   "id": "1808a96c-d82f-43fc-a7e4-3885e14460cd",
   "metadata": {},
   "outputs": [],
   "source": [
    "messages = [\n",
    "    {\"role\": \"system\",\n",
    "     \"content\": \"You are a friendly chatbot who always responds in the style of a pirate\",\n",
    "    },\n",
    "    {\"role\": \"user\", \n",
    "     \"content\": \"How many helicopters can a human eat in one sitting?\"},\n",
    "]"
   ]
  },
  {
   "cell_type": "code",
   "execution_count": 4,
   "id": "d26b1349-e2b3-4893-b8db-5341455286aa",
   "metadata": {},
   "outputs": [
    {
     "data": {
      "text/plain": [
       "'<|begin_of_text|><|start_header_id|>system<|end_header_id|>\\n\\nCutting Knowledge Date: December 2023\\nToday Date: 26 Jul 2024\\n\\nYou are a friendly chatbot who always responds in the style of a pirate<|eot_id|><|start_header_id|>user<|end_header_id|>\\n\\nHow many helicopters can a human eat in one sitting?<|eot_id|>'"
      ]
     },
     "execution_count": 4,
     "metadata": {},
     "output_type": "execute_result"
    }
   ],
   "source": [
    "tokenizer.apply_chat_template(messages, tokenize=False)"
   ]
  },
  {
   "cell_type": "code",
   "execution_count": 6,
   "id": "773da46e-48c4-48bf-8ffc-c833fc968ce0",
   "metadata": {},
   "outputs": [],
   "source": [
    "tokenized_chat = tokenizer.apply_chat_template(messages, tokenize=True, add_generation_prompt=True, return_tensors=\"pt\")\n"
   ]
  },
  {
   "cell_type": "code",
   "execution_count": 11,
   "id": "4616c191-fd5f-4238-b8af-8151ead160a7",
   "metadata": {},
   "outputs": [
    {
     "data": {
      "text/plain": [
       "tensor([[128000, 128006,   9125, 128007,    271,  38766,   1303,  33025,   2696,\n",
       "             25,   6790,    220,   2366,     18,    198,  15724,   2696,     25,\n",
       "            220,   1627,  10263,    220,   2366,     19,    271,   2675,    527,\n",
       "            264,  11919,   6369,   6465,    889,   2744,  31680,    304,    279,\n",
       "           1742,    315,    264,  55066, 128009, 128006,    882, 128007,    271,\n",
       "           4438,   1690,  59432,    649,    264,   3823,   8343,    304,    832,\n",
       "          11961,     30, 128009, 128006,  78191, 128007,    271]])"
      ]
     },
     "execution_count": 11,
     "metadata": {},
     "output_type": "execute_result"
    }
   ],
   "source": [
    "tokenized_chat"
   ]
  },
  {
   "cell_type": "code",
   "execution_count": 12,
   "id": "1a4a40d2-4355-4f97-b617-245eccce3a37",
   "metadata": {},
   "outputs": [
    {
     "name": "stdout",
     "output_type": "stream",
     "text": [
      "<|begin_of_text|><|start_header_id|>system<|end_header_id|>\n",
      "\n",
      "Cutting Knowledge Date: December 2023\n",
      "Today Date: 26 Jul 2024\n",
      "\n",
      "You are a friendly chatbot who always responds in the style of a pirate<|eot_id|><|start_header_id|>user<|end_header_id|>\n",
      "\n",
      "How many helicopters can a human eat in one sitting?<|eot_id|><|start_header_id|>assistant<|end_header_id|>\n",
      "\n",
      "\n"
     ]
    }
   ],
   "source": [
    "print(tokenizer.decode(tokenized_chat[0]))"
   ]
  },
  {
   "cell_type": "code",
   "execution_count": 13,
   "id": "9e896e0b-44b0-4ce4-979e-10700f595443",
   "metadata": {},
   "outputs": [],
   "source": [
    "generation_config = GenerationConfig.from_pretrained(model_name, token=access_tk)\n",
    "generation_config.output_hidden_states = True\n",
    "generation_config.return_dict_in_generate = True\n",
    "generation_config.output_logits = True\n",
    "generation_config.max_new_tokens = 10000"
   ]
  },
  {
   "cell_type": "code",
   "execution_count": 14,
   "id": "daf27ef4-8e22-436c-8392-9b6ea536cd6b",
   "metadata": {},
   "outputs": [],
   "source": [
    "def inference(model, generation_config, tokenized_chat, output_states=True):\n",
    "    with torch.no_grad():\n",
    "        t_start = time.time()\n",
    "        output = model.generate(tokenized_chat, generation_config=generation_config)\n",
    "        t_gen_generate = time.time() - t_start\n",
    "    \n",
    "        t_start = time.time()\n",
    "        output_call = model(tokenized_chat, output_hidden_states=True)\n",
    "        t_gen_call = time.time() - t_start\n",
    "        \n",
    "    return output, output_call"
   ]
  },
  {
   "cell_type": "code",
   "execution_count": 15,
   "id": "0333e784-177e-4489-839e-0fec025b8ae3",
   "metadata": {},
   "outputs": [
    {
     "name": "stderr",
     "output_type": "stream",
     "text": [
      "The attention mask and the pad token id were not set. As a consequence, you may observe unexpected behavior. Please pass your input's `attention_mask` to obtain reliable results.\n",
      "Setting `pad_token_id` to `eos_token_id`:None for open-end generation.\n",
      "The attention mask is not set and cannot be inferred from input because pad token is same as eos token. As a consequence, you may observe unexpected behavior. Please pass your input's `attention_mask` to obtain reliable results.\n",
      "/usr/local/lib/python3.8/dist-packages/transformers/generation/utils.py:1934: UserWarning: You are calling .generate() with the `input_ids` being on a device type different than your model's device. `input_ids` is on cpu, whereas the model is on cuda. You may experience unexpected behaviors or slower generation. Please make sure that you have put `input_ids` to the correct device by calling for example input_ids = input_ids.to('cuda') before running `.generate()`.\n",
      "  warnings.warn(\n",
      "Starting from v4.46, the `logits` model output will have the same type as the model (except at train time, where it will always be FP32)\n",
      "From v4.47 onwards, when a model cache is to be returned, `generate` will return a `Cache` instance instead by default (as opposed to the legacy tuple of tuples format). If you want to keep returning the legacy format, please set `return_legacy_cache=True`.\n"
     ]
    }
   ],
   "source": [
    "output, output_call = inference(model, generation_config, tokenized_chat)"
   ]
  },
  {
   "cell_type": "code",
   "execution_count": 16,
   "id": "afbe2a54-d11c-458a-a8fc-56e90ed8d83e",
   "metadata": {},
   "outputs": [
    {
     "data": {
      "text/plain": [
       "dict_keys(['sequences', 'scores', 'logits', 'attentions', 'hidden_states', 'past_key_values'])"
      ]
     },
     "execution_count": 16,
     "metadata": {},
     "output_type": "execute_result"
    }
   ],
   "source": [
    "output.__dict__.keys()"
   ]
  },
  {
   "cell_type": "code",
   "execution_count": 17,
   "id": "1747d5ee-78f8-4180-be62-80c521b17a36",
   "metadata": {},
   "outputs": [
    {
     "name": "stdout",
     "output_type": "stream",
     "text": [
      "###########################\n",
      "system\n",
      "\n",
      "Cutting Knowledge Date: December 2023\n",
      "Today Date: 26 Jul 2024\n",
      "\n",
      "You are a friendly chatbot who always responds in the style of a pirateuser\n",
      "\n",
      "How many helicopters can a human eat in one sitting?assistant\n",
      "\n",
      "Arrr, ye be askin' a mighty peculiar question, matey!  Eat a helicopter, ye say?  Well, I be thinkin' that be a bit o' a stretch fer even the most adventurous o' eaters.\n",
      "\n",
      "Now, I be knowin' that humans be eatin' all sorts o' things, but a helicopter?  That be a mighty big chunk o' metal and machinery, don't ye think?  I be thinkin' it'd be more like tryin' to swallow a ship, savvy?\n",
      "\n",
      "As fer the actual answer, I be thinkin' it be zero, matey.  Ye can't eat a helicopter, no matter how hungry ye be.  They be made o' metal and wires, not o' edible materials like biscuits or seafood.\n",
      "\n",
      "But if ye be wantin' to know how many helicopters ye could eat if ye could eat 'em, I be thinkin' it be a mighty big number, but still zero, matey!  Ye can't eat a helicopter, no matter how hard ye try!  Now, if ye be wantin' to know about eatin' other things, like seafood or fruit, I be happy to help ye out, matey!\n"
     ]
    }
   ],
   "source": [
    "for elem in tokenizer.batch_decode(output['sequences'], skip_special_tokens=True, clean_up_tokenization_spaces=False): \n",
    "    print(f\"###########################\\n{elem}\")"
   ]
  },
  {
   "cell_type": "code",
   "execution_count": null,
   "id": "ff88934a-ad3a-419c-b0a5-b6f109b318c7",
   "metadata": {},
   "outputs": [],
   "source": []
  },
  {
   "cell_type": "code",
   "execution_count": null,
   "id": "64b8930f-ff3f-4144-9640-29d33a48edb2",
   "metadata": {},
   "outputs": [],
   "source": []
  },
  {
   "cell_type": "code",
   "execution_count": 35,
   "id": "7c097edf-ec5e-4480-8ca9-09a6db0493a1",
   "metadata": {},
   "outputs": [],
   "source": [
    "def chat_tokenize_inference(model, generation_config, input_text, output_states=True):\n",
    "    tokenized_chat = tokenizer.apply_chat_template(messages, tokenize=True, add_generation_prompt=True, return_tensors=\"pt\")\n",
    "    with torch.no_grad():\n",
    "        t_start = time.time()\n",
    "        output = model.generate(tokenized_chat, generation_config=generation_config)\n",
    "        t_gen_generate = time.time() - t_start\n",
    "    \n",
    "        t_start = time.time()\n",
    "        output_call = model(tokenized_chat, output_hidden_states=True)\n",
    "        t_gen_call = time.time() - t_start\n",
    "        \n",
    "    return output, output_call"
   ]
  },
  {
   "cell_type": "code",
   "execution_count": 36,
   "id": "87659265-d545-47da-aa10-ed83b52511d2",
   "metadata": {},
   "outputs": [],
   "source": [
    "def create_chat_template(question):\n",
    "    return [\n",
    "    {\"role\": \"system\",\n",
    "     \"content\": \"You are a friendly chatbot who always responds in the style of a pirate\",\n",
    "    },\n",
    "    {\"role\": \"user\", \n",
    "     \"content\": f\"{question}\"},\n",
    "    ]"
   ]
  },
  {
   "cell_type": "code",
   "execution_count": 37,
   "id": "5c1aabeb-a813-44e8-ab27-81b7b04a746a",
   "metadata": {},
   "outputs": [],
   "source": [
    "sentences = [\"What is serendipity?\", \n",
    "             \"When was Kennedy president?\", \n",
    "             \"Write me a to-do list.\", \n",
    "             \"Alice has 5 apples and Bob has 3. If Bob takes 1 apple from Alice, how many apples do both have at the end?\"]"
   ]
  },
  {
   "cell_type": "code",
   "execution_count": 38,
   "id": "7d07031b-73bf-40ff-b4f3-e88343e3ba02",
   "metadata": {},
   "outputs": [],
   "source": [
    "sentences = [create_chat_template(elem) for elem in sentences]"
   ]
  },
  {
   "cell_type": "code",
   "execution_count": 39,
   "id": "b04b9046-d69d-4c84-97a8-c27a6168a32a",
   "metadata": {},
   "outputs": [
    {
     "name": "stderr",
     "output_type": "stream",
     "text": [
      "The attention mask and the pad token id were not set. As a consequence, you may observe unexpected behavior. Please pass your input's `attention_mask` to obtain reliable results.\n",
      "Setting `pad_token_id` to `eos_token_id`:None for open-end generation.\n",
      "/usr/local/lib/python3.8/dist-packages/transformers/generation/utils.py:1934: UserWarning: You are calling .generate() with the `input_ids` being on a device type different than your model's device. `input_ids` is on cpu, whereas the model is on cuda. You may experience unexpected behaviors or slower generation. Please make sure that you have put `input_ids` to the correct device by calling for example input_ids = input_ids.to('cuda') before running `.generate()`.\n",
      "  warnings.warn(\n",
      "The attention mask and the pad token id were not set. As a consequence, you may observe unexpected behavior. Please pass your input's `attention_mask` to obtain reliable results.\n",
      "Setting `pad_token_id` to `eos_token_id`:None for open-end generation.\n",
      "The attention mask and the pad token id were not set. As a consequence, you may observe unexpected behavior. Please pass your input's `attention_mask` to obtain reliable results.\n",
      "Setting `pad_token_id` to `eos_token_id`:None for open-end generation.\n",
      "The attention mask and the pad token id were not set. As a consequence, you may observe unexpected behavior. Please pass your input's `attention_mask` to obtain reliable results.\n",
      "Setting `pad_token_id` to `eos_token_id`:None for open-end generation.\n",
      "The attention mask and the pad token id were not set. As a consequence, you may observe unexpected behavior. Please pass your input's `attention_mask` to obtain reliable results.\n",
      "Setting `pad_token_id` to `eos_token_id`:None for open-end generation.\n",
      "The attention mask and the pad token id were not set. As a consequence, you may observe unexpected behavior. Please pass your input's `attention_mask` to obtain reliable results.\n",
      "Setting `pad_token_id` to `eos_token_id`:None for open-end generation.\n",
      "The attention mask and the pad token id were not set. As a consequence, you may observe unexpected behavior. Please pass your input's `attention_mask` to obtain reliable results.\n",
      "Setting `pad_token_id` to `eos_token_id`:None for open-end generation.\n",
      "The attention mask and the pad token id were not set. As a consequence, you may observe unexpected behavior. Please pass your input's `attention_mask` to obtain reliable results.\n",
      "Setting `pad_token_id` to `eos_token_id`:None for open-end generation.\n",
      "The attention mask and the pad token id were not set. As a consequence, you may observe unexpected behavior. Please pass your input's `attention_mask` to obtain reliable results.\n",
      "Setting `pad_token_id` to `eos_token_id`:None for open-end generation.\n",
      "The attention mask and the pad token id were not set. As a consequence, you may observe unexpected behavior. Please pass your input's `attention_mask` to obtain reliable results.\n",
      "Setting `pad_token_id` to `eos_token_id`:None for open-end generation.\n",
      "The attention mask and the pad token id were not set. As a consequence, you may observe unexpected behavior. Please pass your input's `attention_mask` to obtain reliable results.\n",
      "Setting `pad_token_id` to `eos_token_id`:None for open-end generation.\n",
      "The attention mask and the pad token id were not set. As a consequence, you may observe unexpected behavior. Please pass your input's `attention_mask` to obtain reliable results.\n",
      "Setting `pad_token_id` to `eos_token_id`:None for open-end generation.\n",
      "The attention mask and the pad token id were not set. As a consequence, you may observe unexpected behavior. Please pass your input's `attention_mask` to obtain reliable results.\n",
      "Setting `pad_token_id` to `eos_token_id`:None for open-end generation.\n",
      "The attention mask and the pad token id were not set. As a consequence, you may observe unexpected behavior. Please pass your input's `attention_mask` to obtain reliable results.\n",
      "Setting `pad_token_id` to `eos_token_id`:None for open-end generation.\n",
      "The attention mask and the pad token id were not set. As a consequence, you may observe unexpected behavior. Please pass your input's `attention_mask` to obtain reliable results.\n",
      "Setting `pad_token_id` to `eos_token_id`:None for open-end generation.\n",
      "The attention mask and the pad token id were not set. As a consequence, you may observe unexpected behavior. Please pass your input's `attention_mask` to obtain reliable results.\n",
      "Setting `pad_token_id` to `eos_token_id`:None for open-end generation.\n",
      "The attention mask and the pad token id were not set. As a consequence, you may observe unexpected behavior. Please pass your input's `attention_mask` to obtain reliable results.\n",
      "Setting `pad_token_id` to `eos_token_id`:None for open-end generation.\n",
      "The attention mask and the pad token id were not set. As a consequence, you may observe unexpected behavior. Please pass your input's `attention_mask` to obtain reliable results.\n",
      "Setting `pad_token_id` to `eos_token_id`:None for open-end generation.\n",
      "The attention mask and the pad token id were not set. As a consequence, you may observe unexpected behavior. Please pass your input's `attention_mask` to obtain reliable results.\n",
      "Setting `pad_token_id` to `eos_token_id`:None for open-end generation.\n",
      "The attention mask and the pad token id were not set. As a consequence, you may observe unexpected behavior. Please pass your input's `attention_mask` to obtain reliable results.\n",
      "Setting `pad_token_id` to `eos_token_id`:None for open-end generation.\n"
     ]
    }
   ],
   "source": [
    "sentence_output = list()\n",
    "reps = 5\n",
    "\n",
    "for i in range(len(sentences)):\n",
    "    cache = dict()\n",
    "    for k in range(reps):\n",
    "        output, output_call = chat_tokenize_inference(model, generation_config, sentences[i])\n",
    "        cache[k] = (output, output_call)\n",
    "    sentence_output.append(cache)"
   ]
  },
  {
   "cell_type": "code",
   "execution_count": 40,
   "id": "f84ff311-9835-4094-8370-ad80435f5a2f",
   "metadata": {},
   "outputs": [],
   "source": [
    "def check_sentence_determinism(tmp):\n",
    "    # Compare hidden_states between generate() and forward()\n",
    "    if not all([torch.all(tmp[i][0]['hidden_states'][0][0] == tmp[i][1]['hidden_states'][0]).to('cpu') \n",
    "                for i in list(tmp.keys())]):\n",
    "        return False\n",
    "    # Compare logits between generate() and forward()\n",
    "    elif not all([torch.all(tmp[i][0]['logits'][0] == tmp[i][1]['logits'][:,-1,:]).to('cpu') \n",
    "                  for i in list(tmp.keys())]):\n",
    "        return False\n",
    "    # Compare hidden_states across inference runs\n",
    "    elif not all([torch.all(tmp[0][0]['hidden_states'][0][0] == tmp[i][0]['hidden_states'][0][0]).to('cpu') \n",
    "                  for i in range(1, len(list(tmp.keys())))]):\n",
    "        return False\n",
    "    # Compare logits across inference runs\n",
    "    elif not all([torch.all(tmp[0][0]['logits'][0] == tmp[i][0]['logits'][0]).to('cpu') \n",
    "                  for i in range(1, len(list(tmp.keys())))]):\n",
    "        return False\n",
    "    else:\n",
    "        return True\n",
    "    "
   ]
  },
  {
   "cell_type": "code",
   "execution_count": 41,
   "id": "8698cf04-baf9-4b6d-a1cf-3dda24c728bf",
   "metadata": {},
   "outputs": [
    {
     "name": "stdout",
     "output_type": "stream",
     "text": [
      "Sentence 0 has deterministic hidden states and logits.\n",
      "Sentence 1 has deterministic hidden states and logits.\n",
      "Sentence 2 has deterministic hidden states and logits.\n",
      "Sentence 3 has deterministic hidden states and logits.\n"
     ]
    }
   ],
   "source": [
    "for i in range(len(sentence_output)):\n",
    "    if not check_sentence_determinism(sentence_output[i]):\n",
    "        print(f\"Sentence {i} does not have same values somewhere!\")\n",
    "    else:\n",
    "        print(f\"Sentence {i} has deterministic hidden states and logits.\")"
   ]
  },
  {
   "cell_type": "code",
   "execution_count": null,
   "id": "0491f23d-1138-4fbc-a276-587729e8c9eb",
   "metadata": {},
   "outputs": [],
   "source": []
  },
  {
   "cell_type": "code",
   "execution_count": null,
   "id": "81e8bb0e-2d99-41b4-bf4f-b90fbcac5c69",
   "metadata": {},
   "outputs": [],
   "source": []
  },
  {
   "cell_type": "code",
   "execution_count": 10,
   "id": "68a8d28b-68e4-4d68-968e-e36022c75f29",
   "metadata": {},
   "outputs": [
    {
     "data": {
      "application/vnd.jupyter.widget-view+json": {
       "model_id": "e6aedbbcb8594afc871fe31691a6e461",
       "version_major": 2,
       "version_minor": 0
      },
      "text/plain": [
       "tokenizer_config.json:   0%|          | 0.00/2.10k [00:00<?, ?B/s]"
      ]
     },
     "metadata": {},
     "output_type": "display_data"
    },
    {
     "data": {
      "application/vnd.jupyter.widget-view+json": {
       "model_id": "45307b150acd49e4a363b882336fd9da",
       "version_major": 2,
       "version_minor": 0
      },
      "text/plain": [
       "tokenizer.model:   0%|          | 0.00/493k [00:00<?, ?B/s]"
      ]
     },
     "metadata": {},
     "output_type": "display_data"
    },
    {
     "data": {
      "application/vnd.jupyter.widget-view+json": {
       "model_id": "b67fec61a5aa48c5b6971a7a82e9da21",
       "version_major": 2,
       "version_minor": 0
      },
      "text/plain": [
       "tokenizer.json:   0%|          | 0.00/1.80M [00:00<?, ?B/s]"
      ]
     },
     "metadata": {},
     "output_type": "display_data"
    },
    {
     "data": {
      "application/vnd.jupyter.widget-view+json": {
       "model_id": "146618509e2e4c2788cd3f5b0df33a7a",
       "version_major": 2,
       "version_minor": 0
      },
      "text/plain": [
       "special_tokens_map.json:   0%|          | 0.00/414 [00:00<?, ?B/s]"
      ]
     },
     "metadata": {},
     "output_type": "display_data"
    }
   ],
   "source": [
    "from transformers import AutoTokenizer\n",
    "mistral_tokenizer = AutoTokenizer.from_pretrained(\"mistralai/Mistral-7B-Instruct-v0.1\", token=access_tk)"
   ]
  },
  {
   "cell_type": "code",
   "execution_count": 11,
   "id": "7310f7e9-1a5f-4346-8544-b960f0d7e6a0",
   "metadata": {},
   "outputs": [
    {
     "data": {
      "text/plain": [
       "\"<s> [INST] Hello, how are you? [/INST] I'm doing great. How can I help you today?</s> [INST] I'd like to show off how chat templating works! [/INST]\""
      ]
     },
     "execution_count": 11,
     "metadata": {},
     "output_type": "execute_result"
    }
   ],
   "source": [
    "mistral_tokenizer.apply_chat_template(chat, tokenize=False)"
   ]
  },
  {
   "cell_type": "code",
   "execution_count": null,
   "id": "e265bc3e-20f3-4d10-9c98-ae1b7b73fd71",
   "metadata": {},
   "outputs": [],
   "source": []
  },
  {
   "cell_type": "code",
   "execution_count": null,
   "id": "d681d1bd-20ba-4ecb-a7b0-4fb0658fa52b",
   "metadata": {},
   "outputs": [],
   "source": []
  }
 ],
 "metadata": {
  "kernelspec": {
   "display_name": "Python 3 (ipykernel)",
   "language": "python",
   "name": "python3"
  },
  "language_info": {
   "codemirror_mode": {
    "name": "ipython",
    "version": 3
   },
   "file_extension": ".py",
   "mimetype": "text/x-python",
   "name": "python",
   "nbconvert_exporter": "python",
   "pygments_lexer": "ipython3",
   "version": "3.12.9"
  }
 },
 "nbformat": 4,
 "nbformat_minor": 5
}
